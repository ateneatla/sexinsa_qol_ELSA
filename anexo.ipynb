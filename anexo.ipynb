{
 "cells": [
  {
   "cell_type": "markdown",
   "metadata": {},
   "source": [
    "# ANEXO 1: CÓDIGO EN PYTHON PARA REPLICAR, CORREGIR, ADAPTAR..."
   ]
  },
  {
   "cell_type": "markdown",
   "metadata": {},
   "source": [
    "## 1) Instalaciones e Importaciones de Librerías Previas:"
   ]
  },
  {
   "cell_type": "markdown",
   "metadata": {},
   "source": [
    "- Instalamos el módulo necesario para leer la base de datos, que se proporcionan en SPSS"
   ]
  },
  {
   "cell_type": "code",
   "execution_count": 1,
   "metadata": {},
   "outputs": [
    {
     "name": "stdout",
     "output_type": "stream",
     "text": [
      "Requirement already satisfied: pyreadstat in /opt/conda/lib/python3.7/site-packages (0.3.4)\n",
      "Requirement already satisfied: pandas>0.24.0 in /opt/conda/lib/python3.7/site-packages (from pyreadstat) (1.0.3)\n",
      "Requirement already satisfied: python-dateutil>=2.6.1 in /opt/conda/lib/python3.7/site-packages (from pandas>0.24.0->pyreadstat) (2.8.1)\n",
      "Requirement already satisfied: numpy>=1.13.3 in /opt/conda/lib/python3.7/site-packages (from pandas>0.24.0->pyreadstat) (1.18.1)\n",
      "Requirement already satisfied: pytz>=2017.2 in /opt/conda/lib/python3.7/site-packages (from pandas>0.24.0->pyreadstat) (2019.3)\n",
      "Requirement already satisfied: six>=1.5 in /opt/conda/lib/python3.7/site-packages (from python-dateutil>=2.6.1->pandas>0.24.0->pyreadstat) (1.14.0)\n"
     ]
    }
   ],
   "source": [
    "!pip install pyreadstat"
   ]
  },
  {
   "cell_type": "markdown",
   "metadata": {},
   "source": [
    "- Instalamos el módulo necesario para hacer el análisis factorial"
   ]
  },
  {
   "cell_type": "code",
   "execution_count": 2,
   "metadata": {},
   "outputs": [
    {
     "name": "stdout",
     "output_type": "stream",
     "text": [
      "Requirement already satisfied: factor-analyzer==0.3.2 in /opt/conda/lib/python3.7/site-packages (0.3.2)\n",
      "Requirement already satisfied: scipy in /opt/conda/lib/python3.7/site-packages (from factor-analyzer==0.3.2) (1.4.1)\n",
      "Requirement already satisfied: scikit-learn in /opt/conda/lib/python3.7/site-packages (from factor-analyzer==0.3.2) (0.22.2.post1)\n",
      "Requirement already satisfied: pandas in /opt/conda/lib/python3.7/site-packages (from factor-analyzer==0.3.2) (1.0.3)\n",
      "Requirement already satisfied: numpy in /opt/conda/lib/python3.7/site-packages (from factor-analyzer==0.3.2) (1.18.1)\n",
      "Requirement already satisfied: joblib>=0.11 in /opt/conda/lib/python3.7/site-packages (from scikit-learn->factor-analyzer==0.3.2) (0.14.1)\n",
      "Requirement already satisfied: python-dateutil>=2.6.1 in /opt/conda/lib/python3.7/site-packages (from pandas->factor-analyzer==0.3.2) (2.8.1)\n",
      "Requirement already satisfied: pytz>=2017.2 in /opt/conda/lib/python3.7/site-packages (from pandas->factor-analyzer==0.3.2) (2019.3)\n",
      "Requirement already satisfied: six>=1.5 in /opt/conda/lib/python3.7/site-packages (from python-dateutil>=2.6.1->pandas->factor-analyzer==0.3.2) (1.14.0)\n"
     ]
    }
   ],
   "source": [
    "!pip install factor-analyzer==0.3.2"
   ]
  },
  {
   "cell_type": "code",
   "execution_count": 3,
   "metadata": {},
   "outputs": [
    {
     "name": "stdout",
     "output_type": "stream",
     "text": [
      "Requirement already satisfied: semopy in /opt/conda/lib/python3.7/site-packages (1.3.7)\n",
      "Requirement already satisfied: numpy in /opt/conda/lib/python3.7/site-packages (from semopy) (1.18.1)\n",
      "Requirement already satisfied: pandas in /opt/conda/lib/python3.7/site-packages (from semopy) (1.0.3)\n",
      "Requirement already satisfied: scipy in /opt/conda/lib/python3.7/site-packages (from semopy) (1.4.1)\n",
      "Requirement already satisfied: python-dateutil>=2.6.1 in /opt/conda/lib/python3.7/site-packages (from pandas->semopy) (2.8.1)\n",
      "Requirement already satisfied: pytz>=2017.2 in /opt/conda/lib/python3.7/site-packages (from pandas->semopy) (2019.3)\n",
      "Requirement already satisfied: six>=1.5 in /opt/conda/lib/python3.7/site-packages (from python-dateutil>=2.6.1->pandas->semopy) (1.14.0)\n"
     ]
    }
   ],
   "source": [
    "!pip install semopy"
   ]
  },
  {
   "cell_type": "markdown",
   "metadata": {},
   "source": [
    "- Importamos las librerías necesarias:\n",
    "    - pandas con el nombre pd\n",
    "    - numpy con el nombre np\n",
    "    - scipy con el nombre sp"
   ]
  },
  {
   "cell_type": "code",
   "execution_count": 4,
   "metadata": {},
   "outputs": [],
   "source": [
    "import pandas as pd\n",
    "import numpy as np\n",
    "import scipy as sp\n",
    "import sklearn\n",
    "import matplotlib.pyplot as plt\n",
    "from typing import List\n",
    "from factor_analyzer.factor_analyzer import calculate_bartlett_sphericity\n",
    "from factor_analyzer.factor_analyzer import FactorAnalyzer\n",
    "from factor_analyzer.factor_analyzer import calculate_kmo\n",
    "from factor_analyzer import (ConfirmatoryFactorAnalyzer, ModelSpecificationParser)\n",
    "from scipy.stats import chi2, pearsonr\n",
    "from scipy.optimize import minimize\n",
    "from sklearn.base import BaseEstimator, TransformerMixin\n",
    "from factor_analyzer.rotator import Rotator\n",
    "from factor_analyzer.rotator import POSSIBLE_ROTATIONS, OBLIQUE_ROTATIONS\n",
    "from sklearn.utils.extmath import randomized_svd\n",
    "from sklearn.utils import check_array\n",
    "from sklearn.utils.validation import check_is_fitted\n",
    "import sklearn.preprocessing\n",
    "from typing import List\n",
    "from semopy import Model\n",
    "from semopy import Optimizer"
   ]
  },
  {
   "cell_type": "markdown",
   "metadata": {},
   "source": [
    "## 2) Cargamos bases de datos de la ola 6 y la ola 8 de ELSA"
   ]
  },
  {
   "cell_type": "markdown",
   "metadata": {},
   "source": [
    "💛 *medioumfortest*  son bases de datos con el 1% de los sujetos. Se debe sustituir por la bases de datos completa.\n",
    "- Ola 6"
   ]
  },
  {
   "cell_type": "code",
   "execution_count": 5,
   "metadata": {},
   "outputs": [],
   "source": [
    "w6_df: pd.core.frame.DataFrame = pd.read_spss('data/wave_6_elsa_data_v2_mediumfortest.sav', convert_categoricals = False)"
   ]
  },
  {
   "cell_type": "markdown",
   "metadata": {},
   "source": [
    "- Ola 8"
   ]
  },
  {
   "cell_type": "code",
   "execution_count": 6,
   "metadata": {},
   "outputs": [],
   "source": [
    "w8_df: pd.core.frame.DataFrame = pd.read_spss('data/wave_8_elsa_data_eul_v2_mediumfortest.sav', convert_categoricals = False)"
   ]
  },
  {
   "cell_type": "markdown",
   "metadata": {},
   "source": [
    "## 3) Construcción teórica de Cuestionarios"
   ]
  },
  {
   "cell_type": "markdown",
   "metadata": {},
   "source": [
    "Estructura y columnas de la base de datos general que los componen"
   ]
  },
  {
   "cell_type": "markdown",
   "metadata": {},
   "source": [
    "### 3.1) Ola 6"
   ]
  },
  {
   "cell_type": "markdown",
   "metadata": {},
   "source": [
    "- Isolation para la ola 6 -> isolation_w6_df"
   ]
  },
  {
   "cell_type": "markdown",
   "metadata": {},
   "source": [
    "Nomenclatura: \n",
    ">`vip`: persona/s importantes: children, family y friends.\n",
    "\n",
    ">`has_vip`: tiene a esa persona/personas importantes. Es decir, tiene niños, familia, amigos."
   ]
  },
  {
   "cell_type": "code",
   "execution_count": 7,
   "metadata": {},
   "outputs": [],
   "source": [
    "isolation_w6_chd_items = {\n",
    "    'has_vip': ['scchd'],\n",
    "    'kind_of_contact': ['scchdg', 'scchdh', 'scchdi', 'scchdt'],\n",
    "}\n",
    "isolation_w6_fam_items = {\n",
    "    'has_vip': ['scfam'],\n",
    "    'kind_of_contact': ['scfamg', 'scfamh', 'scfami', 'scfamt'],\n",
    "}\n",
    "isolation_w6_frd_items = {\n",
    "    'has_vip': ['scfrd'],\n",
    "    'kind_of_contact': ['scfrdg', 'scfrdh', 'scfrdi', 'scfrdt'],\n",
    "}\n",
    "\n",
    "isolation_w6_org_contact = 'scorg09'\n",
    "isolation_w6_prt_contact = 'scprtr'\n",
    "\n",
    "isolation_w6_relatives = [isolation_w6_chd_items, isolation_w6_fam_items, isolation_w6_frd_items]"
   ]
  },
  {
   "cell_type": "markdown",
   "metadata": {},
   "source": [
    "- Casp-19 para la ola 6 -> casp19_w6"
   ]
  },
  {
   "cell_type": "code",
   "execution_count": 8,
   "metadata": {},
   "outputs": [],
   "source": [
    "casp19_w6_control = ['scqola', 'scqolb', 'scqolc', 'scqold']\n",
    "casp19_w6_autonomy = ['scqole', 'scqolf', 'scqolg', 'scqolh', 'scqoli']\n",
    "casp19_w6_pleasure = [ 'scqolj', 'scqolk', 'scqoll', 'scqolm', 'scqoln']\n",
    "casp19_w6_self_realization = ['scqolo', 'scqolp', 'scqolq', 'scqolr', 'scqols']\n",
    "\n",
    "casp19_w6_scales = [casp19_w6_control, casp19_w6_autonomy, casp19_w6_pleasure, casp19_w6_self_realization]\n",
    "\n",
    "casp19_original_values = [1, 2, 3, 4]\n",
    "casp19_w6_reverse_items_values = [0, 1, 2, 3]\n",
    "casp19_w6_direct_items_values = [3, 2, 1, 0]"
   ]
  },
  {
   "cell_type": "markdown",
   "metadata": {},
   "source": [
    "* Insatisfacción sexual para la ola 6 (mujeres) -> sexdissa_w6_f"
   ]
  },
  {
   "cell_type": "code",
   "execution_count": 9,
   "metadata": {},
   "outputs": [],
   "source": [
    "sexdissa_w6_f_cols = ['q3', 'q9', 'q10', 'q14f', 'q15f', 'q19m19f', 'q28m25f', 'q32m26f']"
   ]
  },
  {
   "cell_type": "markdown",
   "metadata": {},
   "source": [
    "* Insatisfacción sexual para la ola 6 (hombres) -> sexdissa_w6_m"
   ]
  },
  {
   "cell_type": "code",
   "execution_count": 10,
   "metadata": {},
   "outputs": [],
   "source": [
    "sexdissa_w6_m_cols = ['q3', 'q9', 'q10', 'q13m', 'q17m', 'q19m19f', 'q21m', 'q28m25f', 'q32m26f']"
   ]
  },
  {
   "cell_type": "markdown",
   "metadata": {},
   "source": [
    "* Multimorbilidad"
   ]
  },
  {
   "cell_type": "markdown",
   "metadata": {},
   "source": [
    "Si la persona confirma que la enfermedad registrada en el pasado está correctamente registrada (hedac-/hedbd- = yes) y que aún la tiene (hedas-/hedbs- = yes) o bien desmiente que le tuviera (hedac-/hedbd- = No) pero dice tenerla ahora ((hedan-/hedbm- = 3) o la reporta ahora (hedia-/hedib- = 1 \"mentioned\") entonces se imputará un uno sobre esa enfermedad. Si, en suma, hay más de un uno se asignará un uno a la variable de comorbilidad. "
   ]
  },
  {
   "cell_type": "code",
   "execution_count": 11,
   "metadata": {},
   "outputs": [],
   "source": [
    "cvd = ['bp', 'an', 'mi', 'hf', 'hm', 'ar', 'di', 'st', 'ch', '95']\n",
    "chr_ = ['lu', 'as', 'ar', 'os', 'ca', 'pd', 'ps', 'ad', 'de', 'bl'] # ps: psychiatric\n",
    "psy = ['ha', 'an', 'de', 'em', 'sc', 'ps', 'mo', 'ma']\n",
    "\n",
    "lex_diagnosed_fedforward_cvd = 'hedaw' \n",
    "lex_diagnosed_fedforward_chr = 'hedbw'\n",
    "# hedaw- y hedbw- puede que no las necesite\n",
    "\n",
    "lex_what_psy = 'hepsy'\n",
    "\n",
    "lex_confirm_cvd = 'hedac'\n",
    "lex_confirm_chr = 'hedbd'\n",
    "\n",
    "lex_still_has_cvd = 'hedas'\n",
    "lex_still_has_chr = 'hedbs'\n",
    "\n",
    "lex_dispute_cvd = 'hedan'\n",
    "lex_dispute_chr = 'hedbm'\n",
    "       \n",
    "lex_new_cvd = 'hedia'\n",
    "lex_new_chr = 'hedib'"
   ]
  },
  {
   "cell_type": "code",
   "execution_count": 13,
   "metadata": {},
   "outputs": [],
   "source": [
    "diagnosed_fedforward_cvd = [lex_diagnosed_fedforward_cvd + i for i in cvd]\n",
    "diagnosed_fedforward_chr = [lex_diagnosed_fedforward_chr + i for i in chr_]\n",
    "\n",
    "what_psy = [lex_what_psy + i for i in psy]\n",
    "\n",
    "still_has_cvd = [lex_still_has_cvd + i for i in cvd]\n",
    "still_has_chr = [lex_still_has_chr + i for i in chr_]\n",
    "\n",
    "\n",
    "confirm_cvd = [lex_confirm_cvd + i for i in cvd]\n",
    "confirm_chr = [lex_confirm_chr + i for i in chr_]\n",
    "\n",
    "\n",
    "dispute_cvd = [lex_dispute_cvd + i for i in cvd]\n",
    "dispute_chr = [lex_dispute_chr + i for i in chr_]\n",
    "       \n",
    "new_cvd = [lex_new_cvd + i for i in cvd]\n",
    "new_chr = [lex_new_chr + i for i in chr_]"
   ]
  },
  {
   "cell_type": "code",
   "execution_count": null,
   "metadata": {},
   "outputs": [],
   "source": []
  },
  {
   "cell_type": "markdown",
   "metadata": {},
   "source": [
    "### 3.2) Ola 8"
   ]
  },
  {
   "cell_type": "markdown",
   "metadata": {},
   "source": [
    "- Isolation para la ola 8 -> isolation_w8_df"
   ]
  },
  {
   "cell_type": "code",
   "execution_count": 14,
   "metadata": {},
   "outputs": [],
   "source": [
    "isolation_w8_chd_items = {\n",
    "    'has_vip': ['scchd'],\n",
    "    'kind_of_contact': ['scchdh', 'scchdi', 'scchdj', 'scchdk'],\n",
    "}\n",
    "isolation_w8_fam_items = {\n",
    "    'has_vip': ['scfam'],\n",
    "    'kind_of_contact': ['scfamh', 'scfami', 'scfamt', 'scfamk'],\n",
    "}\n",
    "isolation_w8_frd_items = {\n",
    "    'has_vip': ['scfrd'],\n",
    "    'kind_of_contact': ['scfrdh', 'scfrdi', 'scfrdt', 'scfamk'],\n",
    "}\n",
    "\n",
    "isolation_w8_org_contact = 'scorg96'\n",
    "isolation_w8_prt_contact = 'scprt'\n",
    "\n",
    "isolation_w8_relatives = [isolation_w8_chd_items, isolation_w8_fam_items, isolation_w8_frd_items]"
   ]
  },
  {
   "cell_type": "markdown",
   "metadata": {},
   "source": [
    "- Casp-19 para la ola 8 -> casp19_w8"
   ]
  },
  {
   "cell_type": "code",
   "execution_count": 15,
   "metadata": {},
   "outputs": [],
   "source": [
    "casp19_w8_control = ['scqola', 'scqolb', 'scqolc', 'scqold']\n",
    "casp19_w8_autonomy = ['scqole', 'scqolf', 'scqolg', 'scqolh', 'scqoli']\n",
    "casp19_w8_pleasure = [ 'scqolj', 'scqolk', 'scqoll', 'scqolm', 'scqoln']\n",
    "casp19_w8_self_realization = ['scqolo', 'scqolp', 'scqolq', 'scqolr', 'scqols']\n",
    "\n",
    "casp19_w8_scales = [casp19_w6_control, casp19_w6_autonomy, casp19_w6_pleasure, casp19_w6_self_realization]\n",
    "\n",
    "casp19_original_values = [1, 2, 3, 4]\n",
    "casp19_w8_reverse_items_values = [0, 1, 2, 3]\n",
    "casp19_w8_direct_items_values = [3, 2, 1, 0]"
   ]
  },
  {
   "cell_type": "markdown",
   "metadata": {},
   "source": [
    "* Insatisfacción sexual para la ola 8 (mujeres) -> sexdissa_w8_f"
   ]
  },
  {
   "cell_type": "code",
   "execution_count": 16,
   "metadata": {},
   "outputs": [],
   "source": [
    "sexdissa_w8_f_cols = ['sxwdy', 'sxwofy', 'sxhaf', 'sxfpdy', 'sxfway', 'sxwoey', 'sxsosy', 'sxwsty']"
   ]
  },
  {
   "cell_type": "markdown",
   "metadata": {},
   "source": [
    "* Insatisfacción sexual para la ola 8 (hombres) -> sexdissa_w8_m"
   ]
  },
  {
   "cell_type": "code",
   "execution_count": 17,
   "metadata": {},
   "outputs": [],
   "source": [
    "sexdissa_w8_m_cols = ['sxwdy', 'sxwofy', 'sxhsaf', 'sxmwey', 'sxmcoy', 'sxwoey', 'sxsosy', 'sxwsty']"
   ]
  },
  {
   "cell_type": "markdown",
   "metadata": {},
   "source": [
    "* Multimorbilidad"
   ]
  },
  {
   "cell_type": "markdown",
   "metadata": {},
   "source": [
    "Las variables se llaman igual que en la ola 6"
   ]
  },
  {
   "cell_type": "markdown",
   "metadata": {},
   "source": [
    "* Percibed health"
   ]
  },
  {
   "cell_type": "markdown",
   "metadata": {},
   "source": [
    "## 4) Tratamiento de valores perdidos de los primeros cuestionarios:"
   ]
  },
  {
   "cell_type": "markdown",
   "metadata": {},
   "source": [
    "Lo hacemos de esta manera para teneer la mayor cantidad de sujetos posible a la hora de hacer los análisis factoriales "
   ]
  },
  {
   "cell_type": "markdown",
   "metadata": {},
   "source": [
    "### 4.1) Ola 6"
   ]
  },
  {
   "cell_type": "markdown",
   "metadata": {},
   "source": [
    "- **\"-2\": \"schedule not aplicable\"** :  *Cuestionarios, compuestos por sus ítems, que van a ser revisados para eliminar sujetos que no formaban parte de la muestra en estos módulos de ELSA. 1604 sujetos no han recibido este módulo del cuestionario* "
   ]
  },
  {
   "cell_type": "markdown",
   "metadata": {},
   "source": [
    "#### Columnas, pertenecientes a cuestionarios, que van a ser limpiadas"
   ]
  },
  {
   "cell_type": "code",
   "execution_count": 18,
   "metadata": {},
   "outputs": [],
   "source": [
    "isolation_w6_cols = ['scchdg', 'scchdh', 'scchdi', 'scchdt', \n",
    "                     'scfamg', 'scfamh', 'scfami', 'scfamt', \n",
    "                     'scfrdg', 'scfrdh', 'scfrdi', 'scfrdt', \n",
    "                     'scorg09', \n",
    "                     'scprtr']\n",
    "casp19_w6_cols = ['scqola', 'scqolb', 'scqolc', 'scqold', 'scqole', \n",
    "               'scqolf', 'scqolg', 'scqolh', 'scqoli', 'scqolj', \n",
    "               'scqolk', 'scqoll', 'scqolm', 'scqoln', 'scqolo', \n",
    "               'scqolp', 'scqolq', 'scqolr', 'scqols']"
   ]
  },
  {
   "cell_type": "code",
   "execution_count": 19,
   "metadata": {},
   "outputs": [],
   "source": [
    "cols_to_clean_out_of_sample_w6 = isolation_w6_cols + casp19_w6_cols"
   ]
  },
  {
   "cell_type": "markdown",
   "metadata": {},
   "source": [
    "#### sujetos seleccionados para ser eliminados \n",
    "\n",
    "traducción: \n",
    "> Constrúyeme una variable (llamada sbj_out_of_sample) que sea igual a: me localizas en el dataframe w6_df `w6_df.loc` lo que te voy a decir: `[` construye un pandas dataframe `pd.DataFrame` con lo siguiente `(`: mira cuales cumplen `==` que son un elemento del w6_df igual a -2 `)` (eso devuelve un True o False) y hazlo para `for` cada elemento `col` en `in` la variable cols_to_clean_out_of_sample (ya definida). Hazlo si en esta lista `[]` lo hay en ALGUNA (de las columnas)`any()`. Bien, cuando lo tengas localizado `]`, coge el índice `.index()`."
   ]
  },
  {
   "cell_type": "code",
   "execution_count": 20,
   "metadata": {},
   "outputs": [
    {
     "data": {
      "text/plain": [
       "Int64Index([5, 9, 16, 17, 18, 19, 62, 65, 71, 89, 91, 93, 96], dtype='int64')"
      ]
     },
     "execution_count": 20,
     "metadata": {},
     "output_type": "execute_result"
    }
   ],
   "source": [
    "sbj_out_of_sample_w6 = w6_df.loc[pd.DataFrame([(w6_df[col] == -2) for col in cols_to_clean_out_of_sample_w6]).any()].index\n",
    "sbj_out_of_sample_w6 # Resultado: Int64Index([5, 9, 16, 17, 18, 19, 62, 65, 71, 89, 91, 93, 96], dtype='int64')"
   ]
  },
  {
   "cell_type": "markdown",
   "metadata": {},
   "source": [
    "#### Construimos el dataframe sin los sujetos\n",
    "traducción:\n",
    ">Construye una variable (tipo df por cómo se compone) que sea: el dataframe w6_df quitándole `.drop` los sujetos seleccionados."
   ]
  },
  {
   "cell_type": "code",
   "execution_count": 21,
   "metadata": {},
   "outputs": [
    {
     "data": {
      "text/html": [
       "<div>\n",
       "<style scoped>\n",
       "    .dataframe tbody tr th:only-of-type {\n",
       "        vertical-align: middle;\n",
       "    }\n",
       "\n",
       "    .dataframe tbody tr th {\n",
       "        vertical-align: top;\n",
       "    }\n",
       "\n",
       "    .dataframe thead th {\n",
       "        text-align: right;\n",
       "    }\n",
       "</style>\n",
       "<table border=\"1\" class=\"dataframe\">\n",
       "  <thead>\n",
       "    <tr style=\"text-align: right;\">\n",
       "      <th></th>\n",
       "      <th>idauniq</th>\n",
       "      <th>idahhw6</th>\n",
       "      <th>perid</th>\n",
       "      <th>samptyp</th>\n",
       "      <th>w6indout</th>\n",
       "      <th>W6hhout</th>\n",
       "      <th>couple</th>\n",
       "      <th>cpid</th>\n",
       "      <th>chinhh</th>\n",
       "      <th>chouthh</th>\n",
       "      <th>...</th>\n",
       "      <th>w6nssec8</th>\n",
       "      <th>w6nssec5</th>\n",
       "      <th>w6nssec3</th>\n",
       "      <th>W6SIC</th>\n",
       "      <th>w6soc</th>\n",
       "      <th>W6SEC</th>\n",
       "      <th>w6sic2003</th>\n",
       "      <th>w6soc2000</th>\n",
       "      <th>w6nssec13</th>\n",
       "      <th>finstatw6</th>\n",
       "    </tr>\n",
       "  </thead>\n",
       "  <tbody>\n",
       "    <tr>\n",
       "      <th>0</th>\n",
       "      <td>103890.0</td>\n",
       "      <td>11743.0</td>\n",
       "      <td>1.0</td>\n",
       "      <td>1.0</td>\n",
       "      <td>11.0</td>\n",
       "      <td>120.0</td>\n",
       "      <td>1.0</td>\n",
       "      <td>2.0</td>\n",
       "      <td>2.0</td>\n",
       "      <td>1.0</td>\n",
       "      <td>...</td>\n",
       "      <td>2.0</td>\n",
       "      <td>1.0</td>\n",
       "      <td>1.0</td>\n",
       "      <td>0.0</td>\n",
       "      <td>0.0</td>\n",
       "      <td>0.0</td>\n",
       "      <td>-1.0</td>\n",
       "      <td>35.0</td>\n",
       "      <td>4.3</td>\n",
       "      <td>1.0</td>\n",
       "    </tr>\n",
       "    <tr>\n",
       "      <th>1</th>\n",
       "      <td>103895.0</td>\n",
       "      <td>16260.0</td>\n",
       "      <td>1.0</td>\n",
       "      <td>1.0</td>\n",
       "      <td>11.0</td>\n",
       "      <td>110.0</td>\n",
       "      <td>1.0</td>\n",
       "      <td>2.0</td>\n",
       "      <td>1.0</td>\n",
       "      <td>1.0</td>\n",
       "      <td>...</td>\n",
       "      <td>5.0</td>\n",
       "      <td>4.0</td>\n",
       "      <td>3.0</td>\n",
       "      <td>0.0</td>\n",
       "      <td>0.0</td>\n",
       "      <td>0.0</td>\n",
       "      <td>-1.0</td>\n",
       "      <td>92.0</td>\n",
       "      <td>10.0</td>\n",
       "      <td>1.0</td>\n",
       "    </tr>\n",
       "    <tr>\n",
       "      <th>2</th>\n",
       "      <td>103960.0</td>\n",
       "      <td>14747.0</td>\n",
       "      <td>1.0</td>\n",
       "      <td>1.0</td>\n",
       "      <td>11.0</td>\n",
       "      <td>110.0</td>\n",
       "      <td>1.0</td>\n",
       "      <td>2.0</td>\n",
       "      <td>2.0</td>\n",
       "      <td>1.0</td>\n",
       "      <td>...</td>\n",
       "      <td>7.0</td>\n",
       "      <td>5.0</td>\n",
       "      <td>3.0</td>\n",
       "      <td>0.0</td>\n",
       "      <td>0.0</td>\n",
       "      <td>0.0</td>\n",
       "      <td>-1.0</td>\n",
       "      <td>62.0</td>\n",
       "      <td>13.3</td>\n",
       "      <td>1.0</td>\n",
       "    </tr>\n",
       "    <tr>\n",
       "      <th>3</th>\n",
       "      <td>104192.0</td>\n",
       "      <td>15705.0</td>\n",
       "      <td>1.0</td>\n",
       "      <td>1.0</td>\n",
       "      <td>11.0</td>\n",
       "      <td>110.0</td>\n",
       "      <td>1.0</td>\n",
       "      <td>2.0</td>\n",
       "      <td>2.0</td>\n",
       "      <td>1.0</td>\n",
       "      <td>...</td>\n",
       "      <td>4.0</td>\n",
       "      <td>3.0</td>\n",
       "      <td>2.0</td>\n",
       "      <td>0.0</td>\n",
       "      <td>0.0</td>\n",
       "      <td>0.0</td>\n",
       "      <td>-1.0</td>\n",
       "      <td>51.0</td>\n",
       "      <td>9.2</td>\n",
       "      <td>1.0</td>\n",
       "    </tr>\n",
       "    <tr>\n",
       "      <th>4</th>\n",
       "      <td>104194.0</td>\n",
       "      <td>16507.0</td>\n",
       "      <td>1.0</td>\n",
       "      <td>1.0</td>\n",
       "      <td>11.0</td>\n",
       "      <td>110.0</td>\n",
       "      <td>1.0</td>\n",
       "      <td>2.0</td>\n",
       "      <td>2.0</td>\n",
       "      <td>2.0</td>\n",
       "      <td>...</td>\n",
       "      <td>6.0</td>\n",
       "      <td>5.0</td>\n",
       "      <td>3.0</td>\n",
       "      <td>0.0</td>\n",
       "      <td>0.0</td>\n",
       "      <td>0.0</td>\n",
       "      <td>-1.0</td>\n",
       "      <td>41.0</td>\n",
       "      <td>12.6</td>\n",
       "      <td>1.0</td>\n",
       "    </tr>\n",
       "    <tr>\n",
       "      <th>...</th>\n",
       "      <td>...</td>\n",
       "      <td>...</td>\n",
       "      <td>...</td>\n",
       "      <td>...</td>\n",
       "      <td>...</td>\n",
       "      <td>...</td>\n",
       "      <td>...</td>\n",
       "      <td>...</td>\n",
       "      <td>...</td>\n",
       "      <td>...</td>\n",
       "      <td>...</td>\n",
       "      <td>...</td>\n",
       "      <td>...</td>\n",
       "      <td>...</td>\n",
       "      <td>...</td>\n",
       "      <td>...</td>\n",
       "      <td>...</td>\n",
       "      <td>...</td>\n",
       "      <td>...</td>\n",
       "      <td>...</td>\n",
       "      <td>...</td>\n",
       "    </tr>\n",
       "    <tr>\n",
       "      <th>88</th>\n",
       "      <td>165305.0</td>\n",
       "      <td>11882.0</td>\n",
       "      <td>1.0</td>\n",
       "      <td>1.0</td>\n",
       "      <td>11.0</td>\n",
       "      <td>110.0</td>\n",
       "      <td>1.0</td>\n",
       "      <td>2.0</td>\n",
       "      <td>2.0</td>\n",
       "      <td>1.0</td>\n",
       "      <td>...</td>\n",
       "      <td>5.0</td>\n",
       "      <td>4.0</td>\n",
       "      <td>3.0</td>\n",
       "      <td>1.0</td>\n",
       "      <td>1.0</td>\n",
       "      <td>1.0</td>\n",
       "      <td>63.0</td>\n",
       "      <td>91.0</td>\n",
       "      <td>10.0</td>\n",
       "      <td>25.0</td>\n",
       "    </tr>\n",
       "    <tr>\n",
       "      <th>90</th>\n",
       "      <td>165365.0</td>\n",
       "      <td>14517.0</td>\n",
       "      <td>1.0</td>\n",
       "      <td>1.0</td>\n",
       "      <td>11.0</td>\n",
       "      <td>110.0</td>\n",
       "      <td>3.0</td>\n",
       "      <td>-1.0</td>\n",
       "      <td>1.0</td>\n",
       "      <td>2.0</td>\n",
       "      <td>...</td>\n",
       "      <td>6.0</td>\n",
       "      <td>5.0</td>\n",
       "      <td>3.0</td>\n",
       "      <td>1.0</td>\n",
       "      <td>1.0</td>\n",
       "      <td>1.0</td>\n",
       "      <td>80.0</td>\n",
       "      <td>61.0</td>\n",
       "      <td>12.7</td>\n",
       "      <td>25.0</td>\n",
       "    </tr>\n",
       "    <tr>\n",
       "      <th>92</th>\n",
       "      <td>165537.0</td>\n",
       "      <td>11512.0</td>\n",
       "      <td>2.0</td>\n",
       "      <td>1.0</td>\n",
       "      <td>11.0</td>\n",
       "      <td>110.0</td>\n",
       "      <td>1.0</td>\n",
       "      <td>1.0</td>\n",
       "      <td>2.0</td>\n",
       "      <td>1.0</td>\n",
       "      <td>...</td>\n",
       "      <td>1.0</td>\n",
       "      <td>1.0</td>\n",
       "      <td>1.0</td>\n",
       "      <td>0.0</td>\n",
       "      <td>0.0</td>\n",
       "      <td>0.0</td>\n",
       "      <td>-1.0</td>\n",
       "      <td>11.0</td>\n",
       "      <td>2.0</td>\n",
       "      <td>25.0</td>\n",
       "    </tr>\n",
       "    <tr>\n",
       "      <th>94</th>\n",
       "      <td>165858.0</td>\n",
       "      <td>10999.0</td>\n",
       "      <td>3.0</td>\n",
       "      <td>-1.0</td>\n",
       "      <td>11.0</td>\n",
       "      <td>110.0</td>\n",
       "      <td>1.0</td>\n",
       "      <td>1.0</td>\n",
       "      <td>2.0</td>\n",
       "      <td>1.0</td>\n",
       "      <td>...</td>\n",
       "      <td>2.0</td>\n",
       "      <td>1.0</td>\n",
       "      <td>1.0</td>\n",
       "      <td>1.0</td>\n",
       "      <td>1.0</td>\n",
       "      <td>1.0</td>\n",
       "      <td>74.0</td>\n",
       "      <td>35.0</td>\n",
       "      <td>4.3</td>\n",
       "      <td>29.0</td>\n",
       "    </tr>\n",
       "    <tr>\n",
       "      <th>95</th>\n",
       "      <td>166036.0</td>\n",
       "      <td>15735.0</td>\n",
       "      <td>2.0</td>\n",
       "      <td>5.0</td>\n",
       "      <td>11.0</td>\n",
       "      <td>110.0</td>\n",
       "      <td>1.0</td>\n",
       "      <td>1.0</td>\n",
       "      <td>1.0</td>\n",
       "      <td>1.0</td>\n",
       "      <td>...</td>\n",
       "      <td>7.0</td>\n",
       "      <td>5.0</td>\n",
       "      <td>3.0</td>\n",
       "      <td>0.0</td>\n",
       "      <td>0.0</td>\n",
       "      <td>0.0</td>\n",
       "      <td>-1.0</td>\n",
       "      <td>91.0</td>\n",
       "      <td>13.4</td>\n",
       "      <td>27.0</td>\n",
       "    </tr>\n",
       "  </tbody>\n",
       "</table>\n",
       "<p>84 rows × 6189 columns</p>\n",
       "</div>"
      ],
      "text/plain": [
       "     idauniq  idahhw6  perid  samptyp  w6indout  W6hhout  couple  cpid  \\\n",
       "0   103890.0  11743.0    1.0      1.0      11.0    120.0     1.0   2.0   \n",
       "1   103895.0  16260.0    1.0      1.0      11.0    110.0     1.0   2.0   \n",
       "2   103960.0  14747.0    1.0      1.0      11.0    110.0     1.0   2.0   \n",
       "3   104192.0  15705.0    1.0      1.0      11.0    110.0     1.0   2.0   \n",
       "4   104194.0  16507.0    1.0      1.0      11.0    110.0     1.0   2.0   \n",
       "..       ...      ...    ...      ...       ...      ...     ...   ...   \n",
       "88  165305.0  11882.0    1.0      1.0      11.0    110.0     1.0   2.0   \n",
       "90  165365.0  14517.0    1.0      1.0      11.0    110.0     3.0  -1.0   \n",
       "92  165537.0  11512.0    2.0      1.0      11.0    110.0     1.0   1.0   \n",
       "94  165858.0  10999.0    3.0     -1.0      11.0    110.0     1.0   1.0   \n",
       "95  166036.0  15735.0    2.0      5.0      11.0    110.0     1.0   1.0   \n",
       "\n",
       "    chinhh  chouthh  ...  w6nssec8  w6nssec5  w6nssec3  W6SIC  w6soc  W6SEC  \\\n",
       "0      2.0      1.0  ...       2.0       1.0       1.0    0.0    0.0    0.0   \n",
       "1      1.0      1.0  ...       5.0       4.0       3.0    0.0    0.0    0.0   \n",
       "2      2.0      1.0  ...       7.0       5.0       3.0    0.0    0.0    0.0   \n",
       "3      2.0      1.0  ...       4.0       3.0       2.0    0.0    0.0    0.0   \n",
       "4      2.0      2.0  ...       6.0       5.0       3.0    0.0    0.0    0.0   \n",
       "..     ...      ...  ...       ...       ...       ...    ...    ...    ...   \n",
       "88     2.0      1.0  ...       5.0       4.0       3.0    1.0    1.0    1.0   \n",
       "90     1.0      2.0  ...       6.0       5.0       3.0    1.0    1.0    1.0   \n",
       "92     2.0      1.0  ...       1.0       1.0       1.0    0.0    0.0    0.0   \n",
       "94     2.0      1.0  ...       2.0       1.0       1.0    1.0    1.0    1.0   \n",
       "95     1.0      1.0  ...       7.0       5.0       3.0    0.0    0.0    0.0   \n",
       "\n",
       "    w6sic2003  w6soc2000  w6nssec13  finstatw6  \n",
       "0        -1.0       35.0        4.3        1.0  \n",
       "1        -1.0       92.0       10.0        1.0  \n",
       "2        -1.0       62.0       13.3        1.0  \n",
       "3        -1.0       51.0        9.2        1.0  \n",
       "4        -1.0       41.0       12.6        1.0  \n",
       "..        ...        ...        ...        ...  \n",
       "88       63.0       91.0       10.0       25.0  \n",
       "90       80.0       61.0       12.7       25.0  \n",
       "92       -1.0       11.0        2.0       25.0  \n",
       "94       74.0       35.0        4.3       29.0  \n",
       "95       -1.0       91.0       13.4       27.0  \n",
       "\n",
       "[84 rows x 6189 columns]"
      ]
     },
     "execution_count": 21,
     "metadata": {},
     "output_type": "execute_result"
    }
   ],
   "source": [
    "w6_without_sbj_out_of_sample_df =  w6_df.drop(sbj_out_of_sample_w6)\n",
    "w6_without_sbj_out_of_sample_df #del 88 pasa al 90 y luego al 92 porque el 89 y el 91 se eliminaron"
   ]
  },
  {
   "cell_type": "markdown",
   "metadata": {},
   "source": [
    "- **kind_of_contact = \"-1\" \"item not applicable\" y has_vip = \"-9\" \"not answered\"**: *sujetos que van a ser eliminados porque no contestaron a si tenían VIP y el ítem de tipo de contacto no es aplicable*"
   ]
  },
  {
   "cell_type": "markdown",
   "metadata": {},
   "source": [
    "#### Columnas que se van a inspeccionar para ver qué sujetos cumplen las condiciones para ser eliminados:"
   ]
  },
  {
   "cell_type": "code",
   "execution_count": 22,
   "metadata": {},
   "outputs": [],
   "source": [
    "cols_to_clean_didnt_awr_hasvip_w6 = ['scchd', 'scfam', 'scfrd']\n",
    "cols_to_clean_kind_of_contact_not_applicable_w6 = [['scchdg', 'scchdh', 'scchdi', 'scchdt'], \n",
    "                                                ['scfamg', 'scfamh', 'scfami', 'scfamt'], \n",
    "                                                ['scfrdg', 'scfrdh', 'scfrdi', 'scfrdt']]"
   ]
  },
  {
   "cell_type": "markdown",
   "metadata": {},
   "source": [
    "#### Función que vamos a utilizar para eliminar sujetos\n",
    "Traducción: \n",
    "> Define `def` la función (llamada *delete_sbj_didnt_awr_kind_of_contact_not_applicable*) que para cada sujeto devuelva un buleano `bool` (True o False). Hazlo (devolver True) si se cumple que en algún `any` caso el sujeto no contesta (-9) a si tiene personas importantes (vip: friends, children, family) `sbj[has_vip] == -9` y a la vez `and` si alguno `any` de los sujetos tiene en la *columna* un valor de -1, lo haces para cada `[i]` lista de columnas de las *cols_to_clean_kind_of_contact_not_applicable_w6*. Y ahora, hazme todo eso que te he dicho con cada elemento `i` de has_vip y con cada elemento de *cols_to_clean_didnt_awr_hasvip_w6* dándome indice y el elemento de la lista (esto es lo que hace *enumerate*: te asocia cada i de has_vip con cada elemento de la lista a la que se refiere enumerate) "
   ]
  },
  {
   "cell_type": "code",
   "execution_count": 23,
   "metadata": {},
   "outputs": [],
   "source": [
    "def is_sbj_didnt_awr_kind_of_contact_not_applicable(sbj) -> bool:\n",
    "    return any([\n",
    "        sbj[has_vip] == -9 and any([\n",
    "            sbj[col] == -1 for col in cols_to_clean_kind_of_contact_not_applicable_w6[i]])\n",
    "        for i, has_vip in enumerate(cols_to_clean_didnt_awr_hasvip_w6)])"
   ]
  },
  {
   "cell_type": "markdown",
   "metadata": {},
   "source": [
    "reducimos de nuevo el dataframe, sobre el que ya estaba reducido, esta vez para eliminar los nuevos sujetos seleccionados:"
   ]
  },
  {
   "cell_type": "markdown",
   "metadata": {},
   "source": [
    "#### Construimos El data frame is_sbj_didnt_awr_kind_of_contact_not_applicable_w6_df aplicando \n",
    "Traducción: \n",
    "> "
   ]
  },
  {
   "cell_type": "code",
   "execution_count": 24,
   "metadata": {},
   "outputs": [],
   "source": [
    "is_sbj_didnt_awr_kind_of_contact_not_applicable_w6_df = w6_without_sbj_out_of_sample_df.apply(\n",
    "                                                            is_sbj_didnt_awr_kind_of_contact_not_applicable\n",
    "                                                            ,\n",
    "                                                            axis=1)\n",
    "w6_without_sbj_didnt_awr_kind_of_contact_not_applicable_df = w6_without_sbj_out_of_sample_df.loc[\n",
    "    is_sbj_didnt_awr_kind_of_contact_not_applicable_w6_df == False]"
   ]
  },
  {
   "cell_type": "code",
   "execution_count": 25,
   "metadata": {},
   "outputs": [],
   "source": [
    "# w6_without_sbj_didnt_awr_kind_of_contact_not_applicable_df"
   ]
  },
  {
   "cell_type": "markdown",
   "metadata": {},
   "source": [
    "- **has_vip = \"1\" \"yes\" y kind_of_contact = \"-9\" \"not answered\"**: *sujetos que tienen vip pero no contestan a alguna de las preguntas. Tenemos que calcular su puntuación basándonos en el resto de respuestas.*"
   ]
  },
  {
   "cell_type": "code",
   "execution_count": 26,
   "metadata": {},
   "outputs": [],
   "source": [
    "def sustitution_missing_kind_of_contact(sbj,scale: dict) -> [0, 1]: \n",
    "    return 0 if (any([\n",
    "        sbj[scale['kind_of_contact']] == -9 and any([\n",
    "            sbj[col] == 0 for col in kind_of_contact])])) else 1 if any([\n",
    "                sbj[scale['kind_of_contact']] == -9 and all([\n",
    "                    sbj[col] == 1 for col in kind_of_contact])\n",
    "                ]) else 0 #16"
   ]
  },
  {
   "cell_type": "markdown",
   "metadata": {},
   "source": [
    "- **Has_vip = \"2\" \"No\" y kind_of_contact = \"-1\" \"item not applicable\"**: *sujetos que no tienen vip y lógicamente no tienen ningún tipo de contacto con ese vip. Debemos imputar directamente un punto de isolation para esta subescala. El tratamiento se hace directamente en la construcción del cuestionario.* "
   ]
  },
  {
   "cell_type": "markdown",
   "metadata": {},
   "source": [
    "- Eliminamos a los sujetos menores de 50 años"
   ]
  },
  {
   "cell_type": "code",
   "execution_count": null,
   "metadata": {},
   "outputs": [],
   "source": [
    "#18"
   ]
  },
  {
   "cell_type": "markdown",
   "metadata": {},
   "source": [
    "- En CASP-19 no han contestado a alguna de las preguntas (-9) dentro de las subescalas"
   ]
  },
  {
   "cell_type": "code",
   "execution_count": 31,
   "metadata": {},
   "outputs": [],
   "source": [
    "#19"
   ]
  },
  {
   "cell_type": "markdown",
   "metadata": {},
   "source": [
    "#### ( ! )  Base de datos limpiada de valores perdidos de los primeros cuestionarios de ola 6"
   ]
  },
  {
   "cell_type": "code",
   "execution_count": 32,
   "metadata": {},
   "outputs": [],
   "source": [
    "w6_first_cleaned_df = w6_without_sbj_didnt_awr_kind_of_contact_not_applicable_df  #20"
   ]
  },
  {
   "cell_type": "markdown",
   "metadata": {},
   "source": [
    "### 4.2) Ola 8 "
   ]
  },
  {
   "cell_type": "markdown",
   "metadata": {},
   "source": [
    "- **\"-2\": \"Self-completion instrument not completed\"** :  *Cuestionarios, compuestos por sus ítems, que van a ser revisados para eliminar sujetos que no formaban parte de la muestra en estos módulos de ELSA. 1223 sujetos no han recibido este módulo del cuestionario* "
   ]
  },
  {
   "cell_type": "markdown",
   "metadata": {},
   "source": [
    "#### Columnas, pertenecientes a cuestionarios, que van a ser limpiadas"
   ]
  },
  {
   "cell_type": "code",
   "execution_count": 33,
   "metadata": {},
   "outputs": [],
   "source": [
    "isolation_w8_cols = ['scchdh', 'scchdi', 'scchdj', 'scchdk',\n",
    "                     'scfamh', 'scfami', 'scfamj', 'scfamk',\n",
    "                     'scfrdh', 'scfrdi', 'scfrdj', 'scfrdk',\n",
    "                     'scorg96', \n",
    "                     'scprt']\n",
    "casp19_w8_cols = ['scqola', 'scqolb', 'scqolc', 'scqold', 'scqole', \n",
    "               'scqolf', 'scqolg', 'scqolh', 'scqoli', 'scqolj', \n",
    "               'scqolk', 'scqoll', 'scqolm', 'scqoln', 'scqolo', \n",
    "               'scqolp', 'scqolq', 'scqolr', 'scqols']"
   ]
  },
  {
   "cell_type": "code",
   "execution_count": 34,
   "metadata": {},
   "outputs": [],
   "source": [
    "cols_to_clean_out_of_sample_w8 = isolation_w8_cols + casp19_w8_cols"
   ]
  },
  {
   "cell_type": "markdown",
   "metadata": {},
   "source": [
    "#### sujetos seleccionados para ser eliminados \n",
    "\n",
    "traducción: \n",
    "> Constrúyeme una variable (llamada sbj_out_of_sample) que sea igual a: me localizas en el dataframe w8_df `w8_df.loc` lo que te voy a decir: `[` construye un pandas dataframe `pd.DataFrame` con lo siguiente `(`: mira cuales cumplen `==` que son un elemento del w8_df igual a -2 `)` (eso devuelve un True o False) y hazlo para `for` cada elemento `col` en `in` la variable cols_to_clean_out_of_sample_w8 (ya definida). Hazlo si en esta lista `[]` lo hay en ALGUNA (de las columnas)`any()`. Bien, cuando lo tengas localizado `]`, coge el índice `.index()`."
   ]
  },
  {
   "cell_type": "code",
   "execution_count": 35,
   "metadata": {},
   "outputs": [
    {
     "data": {
      "text/plain": [
       "Int64Index([9, 20, 23, 28, 35, 39, 47, 50, 51, 52, 57, 62, 63, 64, 66, 68, 75,\n",
       "            76],\n",
       "           dtype='int64')"
      ]
     },
     "execution_count": 35,
     "metadata": {},
     "output_type": "execute_result"
    }
   ],
   "source": [
    "sbj_out_of_sample_w8 = w8_df.loc[pd.DataFrame([(w8_df[col] == -2) for col in cols_to_clean_out_of_sample_w8]).any()].index\n",
    "sbj_out_of_sample_w8 "
   ]
  },
  {
   "cell_type": "markdown",
   "metadata": {},
   "source": [
    "#### Construimos el dataframe sin los sujetos\n",
    "traducción:\n",
    ">Construye una variable (tipo df por cómo se compone) que sea: el dataframe w8_df quitándole `.drop` los sujetos seleccionados."
   ]
  },
  {
   "cell_type": "code",
   "execution_count": 36,
   "metadata": {},
   "outputs": [
    {
     "data": {
      "text/html": [
       "<div>\n",
       "<style scoped>\n",
       "    .dataframe tbody tr th:only-of-type {\n",
       "        vertical-align: middle;\n",
       "    }\n",
       "\n",
       "    .dataframe tbody tr th {\n",
       "        vertical-align: top;\n",
       "    }\n",
       "\n",
       "    .dataframe thead th {\n",
       "        text-align: right;\n",
       "    }\n",
       "</style>\n",
       "<table border=\"1\" class=\"dataframe\">\n",
       "  <thead>\n",
       "    <tr style=\"text-align: right;\">\n",
       "      <th></th>\n",
       "      <th>idauniq</th>\n",
       "      <th>idahhw8</th>\n",
       "      <th>perid</th>\n",
       "      <th>samptyp</th>\n",
       "      <th>finstat</th>\n",
       "      <th>w8indout</th>\n",
       "      <th>w8hhout</th>\n",
       "      <th>w8scout</th>\n",
       "      <th>w8sscout</th>\n",
       "      <th>w8nurout</th>\n",
       "      <th>...</th>\n",
       "      <th>w8nssec5</th>\n",
       "      <th>w8nssec3</th>\n",
       "      <th>w8soc2000r</th>\n",
       "      <th>w8sic2003r</th>\n",
       "      <th>gor</th>\n",
       "      <th>w8w1lwgt</th>\n",
       "      <th>w8w4lwgt</th>\n",
       "      <th>w8xwgt</th>\n",
       "      <th>w8scwt</th>\n",
       "      <th>w8sscwt</th>\n",
       "    </tr>\n",
       "  </thead>\n",
       "  <tbody>\n",
       "    <tr>\n",
       "      <th>0</th>\n",
       "      <td>117573.0</td>\n",
       "      <td>10116.0</td>\n",
       "      <td>1.0</td>\n",
       "      <td>1.0</td>\n",
       "      <td>1.0</td>\n",
       "      <td>11.0</td>\n",
       "      <td>110.0</td>\n",
       "      <td>1.0</td>\n",
       "      <td>1.0</td>\n",
       "      <td>81.0</td>\n",
       "      <td>...</td>\n",
       "      <td>1.0</td>\n",
       "      <td>1.0</td>\n",
       "      <td>35.0</td>\n",
       "      <td>-1.0</td>\n",
       "      <td>E12000008</td>\n",
       "      <td>1.736654</td>\n",
       "      <td>2.036621</td>\n",
       "      <td>1.362483</td>\n",
       "      <td>1.589579</td>\n",
       "      <td>1.885873</td>\n",
       "    </tr>\n",
       "    <tr>\n",
       "      <th>1</th>\n",
       "      <td>161881.0</td>\n",
       "      <td>10118.0</td>\n",
       "      <td>2.0</td>\n",
       "      <td>1.0</td>\n",
       "      <td>14.0</td>\n",
       "      <td>11.0</td>\n",
       "      <td>110.0</td>\n",
       "      <td>1.0</td>\n",
       "      <td>1.0</td>\n",
       "      <td>81.0</td>\n",
       "      <td>...</td>\n",
       "      <td>5.0</td>\n",
       "      <td>3.0</td>\n",
       "      <td>62.0</td>\n",
       "      <td>-1.0</td>\n",
       "      <td>E12000006</td>\n",
       "      <td>NaN</td>\n",
       "      <td>1.274136</td>\n",
       "      <td>6.554409</td>\n",
       "      <td>6.735195</td>\n",
       "      <td>5.763463</td>\n",
       "    </tr>\n",
       "    <tr>\n",
       "      <th>2</th>\n",
       "      <td>151416.0</td>\n",
       "      <td>10134.0</td>\n",
       "      <td>1.0</td>\n",
       "      <td>1.0</td>\n",
       "      <td>7.0</td>\n",
       "      <td>11.0</td>\n",
       "      <td>110.0</td>\n",
       "      <td>1.0</td>\n",
       "      <td>1.0</td>\n",
       "      <td>81.0</td>\n",
       "      <td>...</td>\n",
       "      <td>4.0</td>\n",
       "      <td>3.0</td>\n",
       "      <td>62.0</td>\n",
       "      <td>-1.0</td>\n",
       "      <td>E12000007</td>\n",
       "      <td>NaN</td>\n",
       "      <td>1.559035</td>\n",
       "      <td>1.590436</td>\n",
       "      <td>1.631708</td>\n",
       "      <td>1.316570</td>\n",
       "    </tr>\n",
       "    <tr>\n",
       "      <th>3</th>\n",
       "      <td>120968.0</td>\n",
       "      <td>10219.0</td>\n",
       "      <td>2.0</td>\n",
       "      <td>1.0</td>\n",
       "      <td>1.0</td>\n",
       "      <td>11.0</td>\n",
       "      <td>110.0</td>\n",
       "      <td>1.0</td>\n",
       "      <td>3.0</td>\n",
       "      <td>81.0</td>\n",
       "      <td>...</td>\n",
       "      <td>5.0</td>\n",
       "      <td>3.0</td>\n",
       "      <td>71.0</td>\n",
       "      <td>-1.0</td>\n",
       "      <td>E12000001</td>\n",
       "      <td>1.030250</td>\n",
       "      <td>0.793539</td>\n",
       "      <td>0.670783</td>\n",
       "      <td>0.627842</td>\n",
       "      <td>NaN</td>\n",
       "    </tr>\n",
       "    <tr>\n",
       "      <th>4</th>\n",
       "      <td>160230.0</td>\n",
       "      <td>10220.0</td>\n",
       "      <td>1.0</td>\n",
       "      <td>1.0</td>\n",
       "      <td>14.0</td>\n",
       "      <td>11.0</td>\n",
       "      <td>110.0</td>\n",
       "      <td>1.0</td>\n",
       "      <td>1.0</td>\n",
       "      <td>-1.0</td>\n",
       "      <td>...</td>\n",
       "      <td>1.0</td>\n",
       "      <td>1.0</td>\n",
       "      <td>32.0</td>\n",
       "      <td>-1.0</td>\n",
       "      <td>E12000005</td>\n",
       "      <td>NaN</td>\n",
       "      <td>1.050260</td>\n",
       "      <td>0.436357</td>\n",
       "      <td>0.410924</td>\n",
       "      <td>0.374231</td>\n",
       "    </tr>\n",
       "  </tbody>\n",
       "</table>\n",
       "<p>5 rows × 6392 columns</p>\n",
       "</div>"
      ],
      "text/plain": [
       "    idauniq  idahhw8  perid  samptyp  finstat  w8indout  w8hhout  w8scout  \\\n",
       "0  117573.0  10116.0    1.0      1.0      1.0      11.0    110.0      1.0   \n",
       "1  161881.0  10118.0    2.0      1.0     14.0      11.0    110.0      1.0   \n",
       "2  151416.0  10134.0    1.0      1.0      7.0      11.0    110.0      1.0   \n",
       "3  120968.0  10219.0    2.0      1.0      1.0      11.0    110.0      1.0   \n",
       "4  160230.0  10220.0    1.0      1.0     14.0      11.0    110.0      1.0   \n",
       "\n",
       "   w8sscout  w8nurout  ...  w8nssec5  w8nssec3  w8soc2000r  w8sic2003r  \\\n",
       "0       1.0      81.0  ...       1.0       1.0        35.0        -1.0   \n",
       "1       1.0      81.0  ...       5.0       3.0        62.0        -1.0   \n",
       "2       1.0      81.0  ...       4.0       3.0        62.0        -1.0   \n",
       "3       3.0      81.0  ...       5.0       3.0        71.0        -1.0   \n",
       "4       1.0      -1.0  ...       1.0       1.0        32.0        -1.0   \n",
       "\n",
       "         gor  w8w1lwgt  w8w4lwgt    w8xwgt    w8scwt   w8sscwt  \n",
       "0  E12000008  1.736654  2.036621  1.362483  1.589579  1.885873  \n",
       "1  E12000006       NaN  1.274136  6.554409  6.735195  5.763463  \n",
       "2  E12000007       NaN  1.559035  1.590436  1.631708  1.316570  \n",
       "3  E12000001  1.030250  0.793539  0.670783  0.627842       NaN  \n",
       "4  E12000005       NaN  1.050260  0.436357  0.410924  0.374231  \n",
       "\n",
       "[5 rows x 6392 columns]"
      ]
     },
     "execution_count": 36,
     "metadata": {},
     "output_type": "execute_result"
    }
   ],
   "source": [
    "w8_without_sbj_out_of_sample_df =  w8_df.drop(sbj_out_of_sample_w8)\n",
    "w8_without_sbj_out_of_sample_df.head()"
   ]
  },
  {
   "cell_type": "markdown",
   "metadata": {},
   "source": [
    "- **kind_of_contact = \"-1\" \"item not applicable\" y has_vip = \"-9\" \"not answered\"**: *sujetos que van a ser eliminados porque no contestaron a si tenían VIP y el ítem de tipo de contacto no es aplicable* "
   ]
  },
  {
   "cell_type": "markdown",
   "metadata": {},
   "source": [
    "#### Columnas que se van a inspeccionar para ver qué sujetos cumplen las condiciones para ser eliminados:"
   ]
  },
  {
   "cell_type": "code",
   "execution_count": null,
   "metadata": {},
   "outputs": [],
   "source": [
    "#23"
   ]
  },
  {
   "cell_type": "code",
   "execution_count": 37,
   "metadata": {},
   "outputs": [],
   "source": [
    "cols_to_clean_didnt_awr_hasvip_w6 = ['scchd', 'scfam', 'scfrd']\n",
    "cols_to_clean_kind_of_contact_not_applicable_w6 = [['scchdg', 'scchdh', 'scchdi', 'scchdt'], \n",
    "                                                ['scfamg', 'scfamh', 'scfami', 'scfamt'], \n",
    "                                                ['scfrdg', 'scfrdh', 'scfrdi', 'scfrdt']]"
   ]
  },
  {
   "cell_type": "markdown",
   "metadata": {},
   "source": [
    "#### Función que vamos a utilizar para eliminar sujetos\n",
    "Traducción: \n",
    "> Define `def` la función (llamada *delete_sbj_didnt_awr_kind_of_contact_not_applicable*) que para cada sujeto devuelva un buleano `bool` (True o False). Hazlo (devolver True) si se cumple que en algún `any` caso el sujeto no contesta (-9) a si tiene personas importantes (vip: friends, children, family) `sbj[has_vip] == -9` y a la vez `and` si alguno `any` de los sujetos tiene en la *columna* un valor de -1, lo haces para cada `[i]` lista de columnas de las *cols_to_clean_kind_of_contact_not_applicable_w6*. Y ahora, hazme todo eso que te he dicho con cada elemento `i` de has_vip y con cada elemento de *cols_to_clean_didnt_awr_hasvip_w6* dándome indice y el elemento de la lista (esto es lo que hace *enumerate*: te asocia cada i de has_vip con cada elemento de la lista a la que se refiere enumerate) "
   ]
  },
  {
   "cell_type": "code",
   "execution_count": 38,
   "metadata": {},
   "outputs": [],
   "source": [
    "def is_sbj_didnt_awr_kind_of_contact_not_applicable(sbj) -> bool:\n",
    "    return any([\n",
    "        sbj[has_vip] == -9 and any([\n",
    "            sbj[col] == -1 for col in cols_to_clean_kind_of_contact_not_applicable_w6[i]])\n",
    "        for i, has_vip in enumerate(cols_to_clean_didnt_awr_hasvip_w6)])"
   ]
  },
  {
   "cell_type": "markdown",
   "metadata": {},
   "source": [
    "reducimos de nuevo el dataframe, sobre el que ya estaba reducido, esta vez para eliminar los nuevos sujetos seleccionados:"
   ]
  },
  {
   "cell_type": "markdown",
   "metadata": {},
   "source": [
    "#### Construimos El data frame is_sbj_didnt_awr_kind_of_contact_not_applicable_w6_df aplicando \n",
    "Traducción: \n",
    "> "
   ]
  },
  {
   "cell_type": "code",
   "execution_count": 39,
   "metadata": {},
   "outputs": [],
   "source": [
    "is_sbj_didnt_awr_kind_of_contact_not_applicable_w6_df = w8_without_sbj_out_of_sample_df.apply(\n",
    "                                                            is_sbj_didnt_awr_kind_of_contact_not_applicable\n",
    "                                                            ,\n",
    "                                                            axis=1)\n",
    "w8_without_sbj_didnt_awr_kind_of_contact_not_applicable = w8_without_sbj_out_of_sample_df.loc[\n",
    "    is_sbj_didnt_awr_kind_of_contact_not_applicable_w6_df == False]"
   ]
  },
  {
   "cell_type": "code",
   "execution_count": 40,
   "metadata": {},
   "outputs": [],
   "source": [
    "# w8_without_sbj_didnt_awr_kind_of_contact_not_applicable"
   ]
  },
  {
   "cell_type": "markdown",
   "metadata": {},
   "source": [
    "- **has_vip = \"1\" \"yes\" y kind_of_contact = \"-9\" \"not answered\"**: *sujetos que tienen vip pero no contestan a alguna de las preguntas. Tenemos que calcular su puntuación basándonos en el resto de respuestas.*"
   ]
  },
  {
   "cell_type": "code",
   "execution_count": 41,
   "metadata": {},
   "outputs": [],
   "source": [
    "def sustitution_missing_kind_of_contact(sbj,scale: dict) -> [0, 1]: \n",
    "    return 0 if (any([\n",
    "        sbj[scale['kind_of_contact']] == -9 and any([\n",
    "            sbj[col] == 0 for col in kind_of_contact])])) else 1 if any([\n",
    "                sbj[scale['kind_of_contact']] == -9 and all([\n",
    "                    sbj[col] == 1 for col in kind_of_contact])\n",
    "                ]) else 0 # TODO: caso no contemplado, mirar que hacer con estos valores kind_of_contact = [-9, 1, -9, 1]"
   ]
  },
  {
   "cell_type": "markdown",
   "metadata": {},
   "source": [
    "- **Has_vip = \"2\" \"No\" y kind_of_contact = \"-1\" \"item not applicable\"**: *sujetos que no tienen vip y lógicamente no tienen ningún tipo de contacto con ese vip. Debemos imputar directamente un punto de isolation para esta subescala. El tratamiento se hace directamente en la construcción del cuestionario.* "
   ]
  },
  {
   "cell_type": "markdown",
   "metadata": {},
   "source": [
    "- Eliminamos a los sujetos menores de 50 años"
   ]
  },
  {
   "cell_type": "code",
   "execution_count": 44,
   "metadata": {},
   "outputs": [],
   "source": [
    "#27"
   ]
  },
  {
   "cell_type": "markdown",
   "metadata": {},
   "source": [
    "- En CASP-19 no han contestado a alguna de las preguntas (-9) dentro de las subescalas"
   ]
  },
  {
   "cell_type": "code",
   "execution_count": 45,
   "metadata": {},
   "outputs": [],
   "source": [
    "#28"
   ]
  },
  {
   "cell_type": "markdown",
   "metadata": {},
   "source": [
    "#### ( ! )  Base de datos limpiada de valores perdidos de los primeros cuestionarios de ola 8"
   ]
  },
  {
   "cell_type": "code",
   "execution_count": 46,
   "metadata": {},
   "outputs": [],
   "source": [
    "w8_first_cleaned_df = w8_without_sbj_didnt_awr_kind_of_contact_not_applicable  # sustituir por la última reducción del dataframe"
   ]
  },
  {
   "cell_type": "markdown",
   "metadata": {},
   "source": [
    " ## 5) Construcción funcional de cuestionarios"
   ]
  },
  {
   "cell_type": "markdown",
   "metadata": {},
   "source": [
    "### 5.1) Ola 6"
   ]
  },
  {
   "cell_type": "markdown",
   "metadata": {},
   "source": [
    "- Isolation para la ola 6 -> isolation_w6_df"
   ]
  },
  {
   "cell_type": "markdown",
   "metadata": {},
   "source": [
    "#### Función que dicotomiza una respuesta likert "
   ]
  },
  {
   "cell_type": "code",
   "execution_count": 48,
   "metadata": {},
   "outputs": [],
   "source": [
    "def dichotomize_item(likert_answer: int) -> [0, 1]: \n",
    "       return 0 if likert_answer in range(1, 3 + 1) \\\n",
    "        else 1 if likert_answer in range(4, 6 + 1) else 0 #29"
   ]
  },
  {
   "cell_type": "markdown",
   "metadata": {},
   "source": [
    "#### Funcion que reduce las subescalas con múltiples items a subescalas con un solo item y además es dicotómica"
   ]
  },
  {
   "cell_type": "code",
   "execution_count": 49,
   "metadata": {},
   "outputs": [],
   "source": [
    "def reduce_scale_to_one_item(sbj, scale: dict) -> [0, 1]: \n",
    "    if sbj[scale['has_vip']][0] == 2:\n",
    "        return 1\n",
    "    else:\n",
    "        relative_inters = [dichotomize_item(sbj[item]) for item in scale['kind_of_contact']]  \n",
    "        relative = 1 if all([relative_inter == 1 for relative_inter in relative_inters]) else 0\n",
    "    return relative"
   ]
  },
  {
   "cell_type": "markdown",
   "metadata": {},
   "source": [
    "#### Funcion que dicotomiza una respuesta simple, dicotómica, a una respuesta dicotomica (añadiendo un \"y si encuentras otra cosa dame un cero\")"
   ]
  },
  {
   "cell_type": "code",
   "execution_count": 52,
   "metadata": {},
   "outputs": [],
   "source": [
    "def reduce_simple_subscale(sbj, item) -> [0, 1]: \n",
    "    return sbj[item] if sbj[item] in [0, 1] else 0 #29"
   ]
  },
  {
   "cell_type": "markdown",
   "metadata": {},
   "source": [
    "Traducción: \n",
    "> Define la función llamada calc_isolation_w6 para cada sujeto `sbj`. El resultado será 0, 1, 2, 3, 4 o 5. \n",
    "> Relatives será el resultado de aplicar la función reduce_scale_to_one_item a cada sujeto `sbj` de cada elemento de isolation_w6_relatives `x` en `for` cada \n",
    "> elemento `x` de `in` isolation_w6_relatives\n",
    "> Isolation será la suma de "
   ]
  },
  {
   "cell_type": "markdown",
   "metadata": {},
   "source": [
    "#### Función que calcula el valor de isolation"
   ]
  },
  {
   "cell_type": "markdown",
   "metadata": {},
   "source": [
    "Traducción:\n",
    "> Definimos `relatives` como _lista que resulta de que apliques esta función_: aplica _reduce_scale_to_one_item_ a cada sujeto `sbj` para cada elemento `x` de _isolation_w6_relatives_ \n",
    "> _isolation_w6_relatives_ es la _scale_ que te estoy dando como parámetro de la función _reduce_scale_to_one_item_ (más arriba)\n",
    "    "
   ]
  },
  {
   "cell_type": "code",
   "execution_count": 54,
   "metadata": {},
   "outputs": [],
   "source": [
    "def calc_items_isolation_w6(sbj):\n",
    "    relatives = [reduce_scale_to_one_item(sbj, x) for x in isolation_w6_relatives] \n",
    "    return relatives + [reduce_simple_subscale(sbj, isolation_w6_org_contact)] + [reduce_simple_subscale(sbj, isolation_w6_prt_contact)]"
   ]
  },
  {
   "cell_type": "code",
   "execution_count": 55,
   "metadata": {},
   "outputs": [],
   "source": [
    "def calc_isolation_w6(sbj) -> [0, 1, 2, 3, 4, 5]:\n",
    "    isolation = sum(calc_items_isolation_w6(sbj))\n",
    "    return isolation"
   ]
  },
  {
   "cell_type": "markdown",
   "metadata": {},
   "source": []
  },
  {
   "cell_type": "code",
   "execution_count": 56,
   "metadata": {},
   "outputs": [],
   "source": [
    "items_isolation_w6_df = w6_first_cleaned_df.loc[(w6_first_cleaned_df['indager'] >= 50)].apply(calc_items_isolation_w6, axis=1, result_type='expand')"
   ]
  },
  {
   "cell_type": "code",
   "execution_count": 57,
   "metadata": {},
   "outputs": [],
   "source": [
    "isolation_w6_df = w6_first_cleaned_df.loc[(w6_first_cleaned_df['indager'] >= 50)].apply(calc_isolation_w6, axis=1)"
   ]
  },
  {
   "cell_type": "code",
   "execution_count": 58,
   "metadata": {},
   "outputs": [
    {
     "data": {
      "text/html": [
       "<div>\n",
       "<style scoped>\n",
       "    .dataframe tbody tr th:only-of-type {\n",
       "        vertical-align: middle;\n",
       "    }\n",
       "\n",
       "    .dataframe tbody tr th {\n",
       "        vertical-align: top;\n",
       "    }\n",
       "\n",
       "    .dataframe thead th {\n",
       "        text-align: right;\n",
       "    }\n",
       "</style>\n",
       "<table border=\"1\" class=\"dataframe\">\n",
       "  <thead>\n",
       "    <tr style=\"text-align: right;\">\n",
       "      <th></th>\n",
       "      <th>0</th>\n",
       "      <th>1</th>\n",
       "      <th>2</th>\n",
       "      <th>3</th>\n",
       "      <th>4</th>\n",
       "    </tr>\n",
       "  </thead>\n",
       "  <tbody>\n",
       "    <tr>\n",
       "      <th>0</th>\n",
       "      <td>0.0</td>\n",
       "      <td>0.0</td>\n",
       "      <td>0.0</td>\n",
       "      <td>0.0</td>\n",
       "      <td>1.0</td>\n",
       "    </tr>\n",
       "    <tr>\n",
       "      <th>1</th>\n",
       "      <td>0.0</td>\n",
       "      <td>0.0</td>\n",
       "      <td>0.0</td>\n",
       "      <td>0.0</td>\n",
       "      <td>1.0</td>\n",
       "    </tr>\n",
       "    <tr>\n",
       "      <th>2</th>\n",
       "      <td>0.0</td>\n",
       "      <td>0.0</td>\n",
       "      <td>0.0</td>\n",
       "      <td>0.0</td>\n",
       "      <td>1.0</td>\n",
       "    </tr>\n",
       "    <tr>\n",
       "      <th>3</th>\n",
       "      <td>0.0</td>\n",
       "      <td>0.0</td>\n",
       "      <td>0.0</td>\n",
       "      <td>0.0</td>\n",
       "      <td>1.0</td>\n",
       "    </tr>\n",
       "    <tr>\n",
       "      <th>4</th>\n",
       "      <td>1.0</td>\n",
       "      <td>1.0</td>\n",
       "      <td>0.0</td>\n",
       "      <td>0.0</td>\n",
       "      <td>1.0</td>\n",
       "    </tr>\n",
       "    <tr>\n",
       "      <th>...</th>\n",
       "      <td>...</td>\n",
       "      <td>...</td>\n",
       "      <td>...</td>\n",
       "      <td>...</td>\n",
       "      <td>...</td>\n",
       "    </tr>\n",
       "    <tr>\n",
       "      <th>88</th>\n",
       "      <td>0.0</td>\n",
       "      <td>0.0</td>\n",
       "      <td>0.0</td>\n",
       "      <td>1.0</td>\n",
       "      <td>1.0</td>\n",
       "    </tr>\n",
       "    <tr>\n",
       "      <th>90</th>\n",
       "      <td>0.0</td>\n",
       "      <td>1.0</td>\n",
       "      <td>0.0</td>\n",
       "      <td>1.0</td>\n",
       "      <td>0.0</td>\n",
       "    </tr>\n",
       "    <tr>\n",
       "      <th>92</th>\n",
       "      <td>0.0</td>\n",
       "      <td>0.0</td>\n",
       "      <td>0.0</td>\n",
       "      <td>0.0</td>\n",
       "      <td>1.0</td>\n",
       "    </tr>\n",
       "    <tr>\n",
       "      <th>94</th>\n",
       "      <td>0.0</td>\n",
       "      <td>1.0</td>\n",
       "      <td>0.0</td>\n",
       "      <td>1.0</td>\n",
       "      <td>1.0</td>\n",
       "    </tr>\n",
       "    <tr>\n",
       "      <th>95</th>\n",
       "      <td>0.0</td>\n",
       "      <td>0.0</td>\n",
       "      <td>0.0</td>\n",
       "      <td>0.0</td>\n",
       "      <td>1.0</td>\n",
       "    </tr>\n",
       "  </tbody>\n",
       "</table>\n",
       "<p>83 rows × 5 columns</p>\n",
       "</div>"
      ],
      "text/plain": [
       "      0    1    2    3    4\n",
       "0   0.0  0.0  0.0  0.0  1.0\n",
       "1   0.0  0.0  0.0  0.0  1.0\n",
       "2   0.0  0.0  0.0  0.0  1.0\n",
       "3   0.0  0.0  0.0  0.0  1.0\n",
       "4   1.0  1.0  0.0  0.0  1.0\n",
       "..  ...  ...  ...  ...  ...\n",
       "88  0.0  0.0  0.0  1.0  1.0\n",
       "90  0.0  1.0  0.0  1.0  0.0\n",
       "92  0.0  0.0  0.0  0.0  1.0\n",
       "94  0.0  1.0  0.0  1.0  1.0\n",
       "95  0.0  0.0  0.0  0.0  1.0\n",
       "\n",
       "[83 rows x 5 columns]"
      ]
     },
     "execution_count": 58,
     "metadata": {},
     "output_type": "execute_result"
    }
   ],
   "source": [
    "items_isolation_w6_df"
   ]
  },
  {
   "cell_type": "code",
   "execution_count": 59,
   "metadata": {},
   "outputs": [
    {
     "data": {
      "text/plain": [
       "0    1.0\n",
       "1    1.0\n",
       "2    1.0\n",
       "3    1.0\n",
       "4    3.0\n",
       "dtype: float64"
      ]
     },
     "execution_count": 59,
     "metadata": {},
     "output_type": "execute_result"
    }
   ],
   "source": [
    "isolation_w6_df.head()"
   ]
  },
  {
   "cell_type": "markdown",
   "metadata": {},
   "source": [
    "- Cuestionario CASP-19 en ola 6"
   ]
  },
  {
   "cell_type": "markdown",
   "metadata": {},
   "source": [
    "#### Especificamos los ítems directos e inversos"
   ]
  },
  {
   "cell_type": "code",
   "execution_count": 60,
   "metadata": {},
   "outputs": [],
   "source": [
    "casp19_w6_reverse_items = [\n",
    "    'scqola', \n",
    "    'scqolb',\n",
    "    'scqold', \n",
    "    'scqolf',\n",
    "    'scqolh', \n",
    "    'scqoli',\n",
    "]\n",
    "casp19_w6_direct_items = [\n",
    "    'scqolc', \n",
    "    'scqole', \n",
    "    'scqolg',\n",
    "    'scqolj',\n",
    "    'scqolk',\n",
    "    'scqoll',\n",
    "    'scqolm',\n",
    "    'scqoln', \n",
    "    'scqolo', \n",
    "    'scqolp',\n",
    "    'scqolq', \n",
    "    'scqolr',\n",
    "    'scqols',\n",
    "]"
   ]
  },
  {
   "cell_type": "markdown",
   "metadata": {},
   "source": [
    "#### Construinmos las funciones que aplicaremos a los sujetos para crear el cuestionario"
   ]
  },
  {
   "cell_type": "markdown",
   "metadata": {},
   "source": [
    "Debe tenerse en cuenta que los valores originales en la base de datos están codificados como 1 = often, 2 = Sometimes, 3 = No often y 4 = Never; y el cuestionario debe ofrecer una puntuación mayor cuanto mayor sea la calidad de vida del sujeto. De tal manera que un ítem inverso como *I feel that what happens to me is out of my control* (calificado como inverso) si es respondido con *often* se le ha asignado un valor de 1 en la base de datos. "
   ]
  },
  {
   "cell_type": "markdown",
   "metadata": {},
   "source": [
    "Traducción\n",
    "> Definimos la función que obtiene las puntuaciones para los ítems inversos cuando ofrecemos un valor `x` que podrá ser un 1, 2, 3 o 4 `:[1, 2, 3, 4]` y obtendremos en su lugar '->' una puntuación para el ítem de 0, 1, 2 o 3 `:`. devolverá `return` ese valor menos uno. "
   ]
  },
  {
   "cell_type": "code",
   "execution_count": 61,
   "metadata": {},
   "outputs": [],
   "source": [
    "def get_reverse_item(x: [1, 2, 3, 4]) -> [0, 1, 2, 3]:\n",
    "    return x - 1"
   ]
  },
  {
   "cell_type": "markdown",
   "metadata": {},
   "source": [
    "Traducción\n",
    "> Definimos la función que obtiene las puntuaciones para los ítems directos cuando ofrecemos un valor `x` que podrá ser un 1, 2, 3 o 4 `:[1, 2, 3, 4]` y obtendremos en su lugar '->' una puntuación para el ítem de 0, 1, 2 o 3 `:`. En este caso devolverá un 0 donde había un 4, un 1 donde había un 3, etc. "
   ]
  },
  {
   "cell_type": "code",
   "execution_count": 62,
   "metadata": {},
   "outputs": [],
   "source": [
    "def get_direct_item(x: [1, 2, 3, 4]) -> [3, 2, 1, 0]:\n",
    "    return (x - 4) * (-1)"
   ]
  },
  {
   "cell_type": "markdown",
   "metadata": {},
   "source": [
    "Traducción\n",
    "> Definimos la función que calculará la puntuación del cuestionario CASP-19 para la ola 6 que dará como resultado un único valor entero comprendido entre cero y 57. \n",
    "Esta función devuelve `return` la suma de dos elementos: El primero se obtiene de aplicar la función get_reverse_ item a cada valor *reverse_item* de cada sujeto para cada valor de item reverso de la lista de items inversos. El segundo elemento de la suma se obtiene de aplicar la función get_direct_item a cada valor *direct_item* de cada sujeto para cada ítem directo de la lista de ítems directos del CASP-19 de la ola 6"
   ]
  },
  {
   "cell_type": "markdown",
   "metadata": {},
   "source": [
    "Función para obtener los tems transformados del cuestionario CASP-19_w6"
   ]
  },
  {
   "cell_type": "code",
   "execution_count": 63,
   "metadata": {},
   "outputs": [],
   "source": [
    "def transform_casp19_items(sbj) -> List[int]:  # int -> [0, 1, 2, 3]\n",
    "    return ([get_reverse_item(sbj[reverse_item]) for reverse_item in casp19_w6_reverse_items] +\n",
    "     [get_direct_item(sbj[direct_item]) for direct_item in casp19_w6_direct_items])"
   ]
  },
  {
   "cell_type": "markdown",
   "metadata": {},
   "source": [
    "Función para calcular el valor del cuestionario CASP-19"
   ]
  },
  {
   "cell_type": "code",
   "execution_count": 64,
   "metadata": {},
   "outputs": [],
   "source": [
    "def calc_casp19_w6(sbj) -> list(range(57)):\n",
    "    return sum([get_reverse_item(sbj[reverse_item]) for reverse_item in casp19_w6_reverse_items] +\n",
    "     [get_direct_item(sbj[direct_item]) for direct_item in casp19_w6_direct_items])"
   ]
  },
  {
   "cell_type": "markdown",
   "metadata": {},
   "source": [
    "#### Obtenemos los items del cuestionario CASP-19"
   ]
  },
  {
   "cell_type": "code",
   "execution_count": 65,
   "metadata": {},
   "outputs": [],
   "source": [
    "items_casp19_w6_df = w6_first_cleaned_df.apply(transform_casp19_items, axis=1, result_type='expand')"
   ]
  },
  {
   "cell_type": "markdown",
   "metadata": {},
   "source": [
    "#### Creamos el cuestionario aplicando las funciones para su creación"
   ]
  },
  {
   "cell_type": "code",
   "execution_count": 66,
   "metadata": {},
   "outputs": [],
   "source": [
    "casp19_w6 = w6_first_cleaned_df.apply(calc_casp19_w6, axis=1)"
   ]
  },
  {
   "cell_type": "code",
   "execution_count": 67,
   "metadata": {},
   "outputs": [
    {
     "data": {
      "text/plain": [
       "0     53.0\n",
       "1     35.0\n",
       "2     49.0\n",
       "3     48.0\n",
       "4     41.0\n",
       "      ... \n",
       "88    40.0\n",
       "90    53.0\n",
       "92    42.0\n",
       "94    45.0\n",
       "95    38.0\n",
       "Length: 84, dtype: float64"
      ]
     },
     "execution_count": 67,
     "metadata": {},
     "output_type": "execute_result"
    }
   ],
   "source": [
    "casp19_w6"
   ]
  },
  {
   "cell_type": "markdown",
   "metadata": {},
   "source": [
    "* Multimorbilidad"
   ]
  },
  {
   "cell_type": "code",
   "execution_count": 70,
   "metadata": {},
   "outputs": [],
   "source": [
    "def calc_morbility_cvd (sbj) -> [0, 1]:\n",
    "    return 1 if ((i == 1 for i in enumerate[confirm_cvd]) and (i == 1 for i in enumerate[still_has_cvd])) or ((i == 2 for i in enumerate[confirm_cvd]) and (i == 3 for i in enumerate[dispute_cvd])) or ((i == 2 for i in enumerate[confirm_cvd]) and (i == 2 for i in enumerate[dispute_cvd])) or (i == 1 for i in enumerate[new_cvdelse]) else 0"
   ]
  },
  {
   "cell_type": "markdown",
   "metadata": {},
   "source": [
    "CVD"
   ]
  },
  {
   "cell_type": "code",
   "execution_count": 71,
   "metadata": {},
   "outputs": [],
   "source": [
    "def calc_morbility_cvd_bp (sbj) -> [0, 1]:\n",
    "    return 1 if (('hedacbp' == 1) and ('hedasbp' == 1)) or (('hedacbp' == 2) and ('hedanbp' == 2)) or (('hedacbp' == 2) and ('hedanbp' == 3)) or ('hediabp' == 1) else 0"
   ]
  },
  {
   "cell_type": "code",
   "execution_count": 72,
   "metadata": {},
   "outputs": [],
   "source": [
    "def calc_morbility_cvd_an (sbj) -> [0, 1]:\n",
    "    return 1 if (('hedacan' == 1) and ('hedasan' == 1)) or (('hedacan' == 2) and ('hedanan' == 2)) or (('hedacan' == 2) and ('hedanan' == 3)) or ('hediaan' == 1) else 0"
   ]
  },
  {
   "cell_type": "code",
   "execution_count": 73,
   "metadata": {},
   "outputs": [],
   "source": [
    "def calc_morbility_cvd_mi (sbj) -> [0, 1]:\n",
    "    return 1 if (('hedacmi' == 1) and ('hedasmi' == 1)) or (('hedacmi' == 2) and ('hedanmi' == 2)) or (('hedacmi' == 2) and ('hedanmi' == 3)) or ('hediami' == 1) else 0"
   ]
  },
  {
   "cell_type": "code",
   "execution_count": 74,
   "metadata": {},
   "outputs": [],
   "source": [
    "def calc_morbility_cvd_hf (sbj) -> [0, 1]:\n",
    "    return 1 if (('hedachf' == 1) and ('hedashf' == 1)) or (('hedachf' == 2) and ('hedanhf' == 2)) or (('hedachf' == 2) and ('hedanhf' == 3)) or ('hediahf' == 1) else 0"
   ]
  },
  {
   "cell_type": "code",
   "execution_count": 75,
   "metadata": {},
   "outputs": [],
   "source": [
    "def calc_morbility_cvd_hm (sbj) -> [0, 1]:\n",
    "    return 1 if (('hedachm' == 1) and ('hedashm' == 1)) or (('hedachm' == 2) and ('hedanhm' == 2)) or (('hedachm' == 2) and ('hedanhm' == 3)) or ('hediahm' == 1) else 0"
   ]
  },
  {
   "cell_type": "code",
   "execution_count": 76,
   "metadata": {},
   "outputs": [],
   "source": [
    "def calc_morbility_cvd_ar (sbj) -> [0, 1]:\n",
    "    return 1 if (('hedacar' == 1) and ('hedasar' == 1)) or (('hedacar' == 2) and ('hedanar' == 2)) or (('hedacar' == 2) and ('hedanar' == 3)) or ('hediaar' == 1) else 0"
   ]
  },
  {
   "cell_type": "code",
   "execution_count": 77,
   "metadata": {},
   "outputs": [],
   "source": [
    "def calc_morbility_cvd_di (sbj) -> [0, 1]:\n",
    "    return 1 if (('hedacdi' == 1) and ('hedasdi' == 1)) or (('hedacdi' == 2) and ('hedandi' == 2)) or (('hedacdi' == 2) and ('hedandi' == 3)) or ('hediadi' == 1) else 0"
   ]
  },
  {
   "cell_type": "code",
   "execution_count": 78,
   "metadata": {},
   "outputs": [],
   "source": [
    "def calc_morbility_cvd_st (sbj) -> [0, 1]:\n",
    "    return 1 if (('hedacst' == 1) and ('hedasst' == 1)) or (('hedacst' == 2) and ('hedanst' == 2)) or (('hedacst' == 2) and ('hedanst' == 3)) or ('hediast' == 1) else 0"
   ]
  },
  {
   "cell_type": "code",
   "execution_count": 79,
   "metadata": {},
   "outputs": [],
   "source": [
    "def calc_morbility_cvd_ch (sbj) -> [0, 1]:\n",
    "    return 1 if (('hedacch' == 1) and ('hedasch' == 1)) or (('hedacch' == 2) and ('hedanch' == 2)) or (('hedacch' == 2) and ('hedanch' == 3)) or ('hediach' == 1) else 0"
   ]
  },
  {
   "cell_type": "code",
   "execution_count": 80,
   "metadata": {},
   "outputs": [],
   "source": [
    "def calc_morbility_cvd_95 (sbj) -> [0, 1]:\n",
    "    return 1 if (('hedac95' == 1) and ('hedas95' == 1)) or (('hedac95' == 2) and ('hedan95' == 2)) or (('hedac95' == 2) and ('hedan95' == 3)) or ('hedia95' == 1) else 0"
   ]
  },
  {
   "cell_type": "markdown",
   "metadata": {},
   "source": [
    "Chronic"
   ]
  },
  {
   "cell_type": "code",
   "execution_count": 81,
   "metadata": {},
   "outputs": [],
   "source": [
    "def calc_morbility_chr_lu (sbj) -> [0, 1]:\n",
    "    return 1 if (('hedaclu' == 1) and ('hedbslu' == 1)) or (('hedaclu' == 2) and ('hedbmlu' == 2)) or (('hedaclu' == 2) and ('hedbmlu' == 3)) or ('hediblu' == 1) else 0"
   ]
  },
  {
   "cell_type": "code",
   "execution_count": 82,
   "metadata": {},
   "outputs": [],
   "source": [
    "def calc_morbility_chr_as (sbj) -> [0, 1]:\n",
    "    return 1 if (('hedacas' == 1) and ('hedbsas' == 1)) or (('hedacas' == 2) and ('hedbmas' == 2)) or (('hedacas' == 2) and ('hedbmas' == 3)) or ('hedibas' == 1) else 0"
   ]
  },
  {
   "cell_type": "code",
   "execution_count": 83,
   "metadata": {},
   "outputs": [],
   "source": [
    "def calc_morbility_chr_ar (sbj) -> [0, 1]:\n",
    "    return 1 if (('hedacar' == 1) and ('hedbsar' == 1)) or (('hedacar' == 2) and ('hedbmar' == 2)) or (('hedacar' == 2) and ('hedbmar' == 3)) or ('hedibar' == 1) else 0"
   ]
  },
  {
   "cell_type": "code",
   "execution_count": 84,
   "metadata": {},
   "outputs": [],
   "source": [
    "def calc_morbility_chr_os (sbj) -> [0, 1]:\n",
    "    return 1 if (('hedacos' == 1) and ('hedbsos' == 1)) or (('hedacos' == 2) and ('hedbmos' == 2)) or (('hedacos' == 2) and ('hedbmos' == 3)) or ('hedibos' == 1) else 0"
   ]
  },
  {
   "cell_type": "code",
   "execution_count": 85,
   "metadata": {},
   "outputs": [],
   "source": [
    "def calc_morbility_chr_ca (sbj) -> [0, 1]:\n",
    "    return 1 if (('hedacca' == 1) and ('hedbsca' == 1)) or (('hedacca' == 2) and ('hedbmca' == 2)) or (('hedacca' == 2) and ('hedbmca' == 3)) or ('hedibca' == 1) else 0"
   ]
  },
  {
   "cell_type": "code",
   "execution_count": 86,
   "metadata": {},
   "outputs": [],
   "source": [
    "def calc_morbility_chr_pd (sbj) -> [0, 1]:\n",
    "    return 1 if (('hedacpd' == 1) and ('hedbspd' == 1)) or (('hedacpd' == 2) and ('hedbmpd' == 2)) or (('hedacpd' == 2) and ('hedbmpd' == 3)) or ('hedibpd' == 1) else 0"
   ]
  },
  {
   "cell_type": "code",
   "execution_count": 87,
   "metadata": {},
   "outputs": [],
   "source": [
    "def calc_morbility_chr_ps (sbj) -> [0, 1]:\n",
    "    return 1 if (('hedacps' == 1) and ('hedbsps' == 1)) or (('hedacps' == 2) and ('hedbmps' == 2)) or (('hedacps' == 2) and ('hedbmps' == 3)) or ('hedibps' == 1) else 0"
   ]
  },
  {
   "cell_type": "code",
   "execution_count": 88,
   "metadata": {},
   "outputs": [],
   "source": [
    "def calc_morbility_chr_ad (sbj) -> [0, 1]:\n",
    "    return 1 if (('hedacad' == 1) and ('hedbsad' == 1)) or (('hedacad' == 2) and ('hedbmad' == 2)) or (('hedacad' == 2) and ('hedbmad' == 3)) or ('hedibad' == 1) else 0"
   ]
  },
  {
   "cell_type": "code",
   "execution_count": 89,
   "metadata": {},
   "outputs": [],
   "source": [
    "def calc_morbility_chr_de (sbj) -> [0, 1]:\n",
    "    return 1 if (('hedacde' == 1) and ('hedbsde' == 1)) or (('hedacde' == 2) and ('hedbmde' == 2)) or (('hedacde' == 2) and ('hedbmde' == 3)) or ('hedibde' == 1) else 0"
   ]
  },
  {
   "cell_type": "code",
   "execution_count": 90,
   "metadata": {},
   "outputs": [],
   "source": [
    "def calc_morbility_chr_bl (sbj) -> [0, 1]:\n",
    "    return 1 if (('hedacbl' == 1) and ('hedbsbl' == 1)) or (('hedacbl' == 2) and ('hedbmbl' == 2)) or (('hedacbl' == 2) and ('hedbmbl' == 3)) or ('hedibbl' == 1) else 0"
   ]
  },
  {
   "cell_type": "code",
   "execution_count": 91,
   "metadata": {},
   "outputs": [],
   "source": [
    "# def calc_morbility_cvd_w6 (sbj, item) -> List[int]\n",
    "#    calc_morbility[col] for col[sbj] in "
   ]
  },
  {
   "cell_type": "code",
   "execution_count": 93,
   "metadata": {},
   "outputs": [
    {
     "data": {
      "text/html": [
       "<div>\n",
       "<style scoped>\n",
       "    .dataframe tbody tr th:only-of-type {\n",
       "        vertical-align: middle;\n",
       "    }\n",
       "\n",
       "    .dataframe tbody tr th {\n",
       "        vertical-align: top;\n",
       "    }\n",
       "\n",
       "    .dataframe thead th {\n",
       "        text-align: right;\n",
       "    }\n",
       "</style>\n",
       "<table border=\"1\" class=\"dataframe\">\n",
       "  <thead>\n",
       "    <tr style=\"text-align: right;\">\n",
       "      <th></th>\n",
       "      <th>0</th>\n",
       "      <th>1</th>\n",
       "      <th>2</th>\n",
       "      <th>3</th>\n",
       "      <th>4</th>\n",
       "      <th>5</th>\n",
       "      <th>6</th>\n",
       "      <th>7</th>\n",
       "      <th>8</th>\n",
       "      <th>9</th>\n",
       "    </tr>\n",
       "  </thead>\n",
       "  <tbody>\n",
       "    <tr>\n",
       "      <th>0</th>\n",
       "      <td>0</td>\n",
       "      <td>0</td>\n",
       "      <td>0</td>\n",
       "      <td>0</td>\n",
       "      <td>0</td>\n",
       "      <td>0</td>\n",
       "      <td>0</td>\n",
       "      <td>0</td>\n",
       "      <td>0</td>\n",
       "      <td>0</td>\n",
       "    </tr>\n",
       "    <tr>\n",
       "      <th>1</th>\n",
       "      <td>0</td>\n",
       "      <td>0</td>\n",
       "      <td>0</td>\n",
       "      <td>0</td>\n",
       "      <td>0</td>\n",
       "      <td>0</td>\n",
       "      <td>0</td>\n",
       "      <td>0</td>\n",
       "      <td>0</td>\n",
       "      <td>0</td>\n",
       "    </tr>\n",
       "    <tr>\n",
       "      <th>2</th>\n",
       "      <td>0</td>\n",
       "      <td>0</td>\n",
       "      <td>0</td>\n",
       "      <td>0</td>\n",
       "      <td>0</td>\n",
       "      <td>0</td>\n",
       "      <td>0</td>\n",
       "      <td>0</td>\n",
       "      <td>0</td>\n",
       "      <td>0</td>\n",
       "    </tr>\n",
       "    <tr>\n",
       "      <th>3</th>\n",
       "      <td>0</td>\n",
       "      <td>0</td>\n",
       "      <td>0</td>\n",
       "      <td>0</td>\n",
       "      <td>0</td>\n",
       "      <td>0</td>\n",
       "      <td>0</td>\n",
       "      <td>0</td>\n",
       "      <td>0</td>\n",
       "      <td>0</td>\n",
       "    </tr>\n",
       "    <tr>\n",
       "      <th>4</th>\n",
       "      <td>0</td>\n",
       "      <td>0</td>\n",
       "      <td>0</td>\n",
       "      <td>0</td>\n",
       "      <td>0</td>\n",
       "      <td>0</td>\n",
       "      <td>0</td>\n",
       "      <td>0</td>\n",
       "      <td>0</td>\n",
       "      <td>0</td>\n",
       "    </tr>\n",
       "    <tr>\n",
       "      <th>...</th>\n",
       "      <td>...</td>\n",
       "      <td>...</td>\n",
       "      <td>...</td>\n",
       "      <td>...</td>\n",
       "      <td>...</td>\n",
       "      <td>...</td>\n",
       "      <td>...</td>\n",
       "      <td>...</td>\n",
       "      <td>...</td>\n",
       "      <td>...</td>\n",
       "    </tr>\n",
       "    <tr>\n",
       "      <th>88</th>\n",
       "      <td>0</td>\n",
       "      <td>0</td>\n",
       "      <td>0</td>\n",
       "      <td>0</td>\n",
       "      <td>0</td>\n",
       "      <td>0</td>\n",
       "      <td>0</td>\n",
       "      <td>0</td>\n",
       "      <td>0</td>\n",
       "      <td>0</td>\n",
       "    </tr>\n",
       "    <tr>\n",
       "      <th>90</th>\n",
       "      <td>0</td>\n",
       "      <td>0</td>\n",
       "      <td>0</td>\n",
       "      <td>0</td>\n",
       "      <td>0</td>\n",
       "      <td>0</td>\n",
       "      <td>0</td>\n",
       "      <td>0</td>\n",
       "      <td>0</td>\n",
       "      <td>0</td>\n",
       "    </tr>\n",
       "    <tr>\n",
       "      <th>92</th>\n",
       "      <td>0</td>\n",
       "      <td>0</td>\n",
       "      <td>0</td>\n",
       "      <td>0</td>\n",
       "      <td>0</td>\n",
       "      <td>0</td>\n",
       "      <td>0</td>\n",
       "      <td>0</td>\n",
       "      <td>0</td>\n",
       "      <td>0</td>\n",
       "    </tr>\n",
       "    <tr>\n",
       "      <th>94</th>\n",
       "      <td>0</td>\n",
       "      <td>0</td>\n",
       "      <td>0</td>\n",
       "      <td>0</td>\n",
       "      <td>0</td>\n",
       "      <td>0</td>\n",
       "      <td>0</td>\n",
       "      <td>0</td>\n",
       "      <td>0</td>\n",
       "      <td>0</td>\n",
       "    </tr>\n",
       "    <tr>\n",
       "      <th>95</th>\n",
       "      <td>0</td>\n",
       "      <td>0</td>\n",
       "      <td>0</td>\n",
       "      <td>0</td>\n",
       "      <td>0</td>\n",
       "      <td>0</td>\n",
       "      <td>0</td>\n",
       "      <td>0</td>\n",
       "      <td>0</td>\n",
       "      <td>0</td>\n",
       "    </tr>\n",
       "  </tbody>\n",
       "</table>\n",
       "<p>84 rows × 10 columns</p>\n",
       "</div>"
      ],
      "text/plain": [
       "    0  1  2  3  4  5  6  7  8  9\n",
       "0   0  0  0  0  0  0  0  0  0  0\n",
       "1   0  0  0  0  0  0  0  0  0  0\n",
       "2   0  0  0  0  0  0  0  0  0  0\n",
       "3   0  0  0  0  0  0  0  0  0  0\n",
       "4   0  0  0  0  0  0  0  0  0  0\n",
       ".. .. .. .. .. .. .. .. .. .. ..\n",
       "88  0  0  0  0  0  0  0  0  0  0\n",
       "90  0  0  0  0  0  0  0  0  0  0\n",
       "92  0  0  0  0  0  0  0  0  0  0\n",
       "94  0  0  0  0  0  0  0  0  0  0\n",
       "95  0  0  0  0  0  0  0  0  0  0\n",
       "\n",
       "[84 rows x 10 columns]"
      ]
     },
     "execution_count": 93,
     "metadata": {},
     "output_type": "execute_result"
    }
   ],
   "source": [
    "morbility_cvd_bp_w6 = w6_first_cleaned_df.apply(calc_morbility_cvd_bp, axis=1)\n",
    "morbility_cvd_an_w6 = w6_first_cleaned_df.apply(calc_morbility_cvd_an, axis=1)\n",
    "morbility_cvd_mi_w6 = w6_first_cleaned_df.apply(calc_morbility_cvd_mi, axis=1)\n",
    "morbility_cvd_hf_w6 = w6_first_cleaned_df.apply(calc_morbility_cvd_hf, axis=1)\n",
    "morbility_cvd_hm_w6 = w6_first_cleaned_df.apply(calc_morbility_cvd_hm, axis=1)\n",
    "morbility_cvd_ar_w6 = w6_first_cleaned_df.apply(calc_morbility_cvd_ar, axis=1)\n",
    "morbility_cvd_di_w6 = w6_first_cleaned_df.apply(calc_morbility_cvd_di, axis=1)\n",
    "morbility_cvd_st_w6 = w6_first_cleaned_df.apply(calc_morbility_cvd_st, axis=1)\n",
    "morbility_cvd_ch_w6 = w6_first_cleaned_df.apply(calc_morbility_cvd_ch, axis=1)\n",
    "morbility_cvd_95_w6 = w6_first_cleaned_df.apply(calc_morbility_cvd_95, axis=1)\n",
    "\n",
    "morbility_cvd_w6_df = pd.DataFrame([morbility_cvd_bp_w6, \n",
    "                             morbility_cvd_an_w6,\n",
    "                             morbility_cvd_mi_w6,\n",
    "                             morbility_cvd_hf_w6,\n",
    "                             morbility_cvd_hm_w6,\n",
    "                             morbility_cvd_ar_w6,\n",
    "                             morbility_cvd_di_w6,\n",
    "                             morbility_cvd_st_w6,\n",
    "                             morbility_cvd_ch_w6,\n",
    "                             morbility_cvd_95_w6]).transpose()\n",
    "\n",
    "morbility_cvd_w6_df"
   ]
  },
  {
   "cell_type": "code",
   "execution_count": 94,
   "metadata": {},
   "outputs": [
    {
     "data": {
      "text/html": [
       "<div>\n",
       "<style scoped>\n",
       "    .dataframe tbody tr th:only-of-type {\n",
       "        vertical-align: middle;\n",
       "    }\n",
       "\n",
       "    .dataframe tbody tr th {\n",
       "        vertical-align: top;\n",
       "    }\n",
       "\n",
       "    .dataframe thead th {\n",
       "        text-align: right;\n",
       "    }\n",
       "</style>\n",
       "<table border=\"1\" class=\"dataframe\">\n",
       "  <thead>\n",
       "    <tr style=\"text-align: right;\">\n",
       "      <th></th>\n",
       "      <th>0</th>\n",
       "      <th>1</th>\n",
       "      <th>2</th>\n",
       "      <th>3</th>\n",
       "      <th>4</th>\n",
       "      <th>5</th>\n",
       "      <th>6</th>\n",
       "      <th>7</th>\n",
       "      <th>8</th>\n",
       "      <th>9</th>\n",
       "    </tr>\n",
       "  </thead>\n",
       "  <tbody>\n",
       "    <tr>\n",
       "      <th>0</th>\n",
       "      <td>0</td>\n",
       "      <td>0</td>\n",
       "      <td>0</td>\n",
       "      <td>0</td>\n",
       "      <td>0</td>\n",
       "      <td>0</td>\n",
       "      <td>0</td>\n",
       "      <td>0</td>\n",
       "      <td>0</td>\n",
       "      <td>0</td>\n",
       "    </tr>\n",
       "    <tr>\n",
       "      <th>1</th>\n",
       "      <td>0</td>\n",
       "      <td>0</td>\n",
       "      <td>0</td>\n",
       "      <td>0</td>\n",
       "      <td>0</td>\n",
       "      <td>0</td>\n",
       "      <td>0</td>\n",
       "      <td>0</td>\n",
       "      <td>0</td>\n",
       "      <td>0</td>\n",
       "    </tr>\n",
       "    <tr>\n",
       "      <th>2</th>\n",
       "      <td>0</td>\n",
       "      <td>0</td>\n",
       "      <td>0</td>\n",
       "      <td>0</td>\n",
       "      <td>0</td>\n",
       "      <td>0</td>\n",
       "      <td>0</td>\n",
       "      <td>0</td>\n",
       "      <td>0</td>\n",
       "      <td>0</td>\n",
       "    </tr>\n",
       "    <tr>\n",
       "      <th>3</th>\n",
       "      <td>0</td>\n",
       "      <td>0</td>\n",
       "      <td>0</td>\n",
       "      <td>0</td>\n",
       "      <td>0</td>\n",
       "      <td>0</td>\n",
       "      <td>0</td>\n",
       "      <td>0</td>\n",
       "      <td>0</td>\n",
       "      <td>0</td>\n",
       "    </tr>\n",
       "    <tr>\n",
       "      <th>4</th>\n",
       "      <td>0</td>\n",
       "      <td>0</td>\n",
       "      <td>0</td>\n",
       "      <td>0</td>\n",
       "      <td>0</td>\n",
       "      <td>0</td>\n",
       "      <td>0</td>\n",
       "      <td>0</td>\n",
       "      <td>0</td>\n",
       "      <td>0</td>\n",
       "    </tr>\n",
       "    <tr>\n",
       "      <th>...</th>\n",
       "      <td>...</td>\n",
       "      <td>...</td>\n",
       "      <td>...</td>\n",
       "      <td>...</td>\n",
       "      <td>...</td>\n",
       "      <td>...</td>\n",
       "      <td>...</td>\n",
       "      <td>...</td>\n",
       "      <td>...</td>\n",
       "      <td>...</td>\n",
       "    </tr>\n",
       "    <tr>\n",
       "      <th>88</th>\n",
       "      <td>0</td>\n",
       "      <td>0</td>\n",
       "      <td>0</td>\n",
       "      <td>0</td>\n",
       "      <td>0</td>\n",
       "      <td>0</td>\n",
       "      <td>0</td>\n",
       "      <td>0</td>\n",
       "      <td>0</td>\n",
       "      <td>0</td>\n",
       "    </tr>\n",
       "    <tr>\n",
       "      <th>90</th>\n",
       "      <td>0</td>\n",
       "      <td>0</td>\n",
       "      <td>0</td>\n",
       "      <td>0</td>\n",
       "      <td>0</td>\n",
       "      <td>0</td>\n",
       "      <td>0</td>\n",
       "      <td>0</td>\n",
       "      <td>0</td>\n",
       "      <td>0</td>\n",
       "    </tr>\n",
       "    <tr>\n",
       "      <th>92</th>\n",
       "      <td>0</td>\n",
       "      <td>0</td>\n",
       "      <td>0</td>\n",
       "      <td>0</td>\n",
       "      <td>0</td>\n",
       "      <td>0</td>\n",
       "      <td>0</td>\n",
       "      <td>0</td>\n",
       "      <td>0</td>\n",
       "      <td>0</td>\n",
       "    </tr>\n",
       "    <tr>\n",
       "      <th>94</th>\n",
       "      <td>0</td>\n",
       "      <td>0</td>\n",
       "      <td>0</td>\n",
       "      <td>0</td>\n",
       "      <td>0</td>\n",
       "      <td>0</td>\n",
       "      <td>0</td>\n",
       "      <td>0</td>\n",
       "      <td>0</td>\n",
       "      <td>0</td>\n",
       "    </tr>\n",
       "    <tr>\n",
       "      <th>95</th>\n",
       "      <td>0</td>\n",
       "      <td>0</td>\n",
       "      <td>0</td>\n",
       "      <td>0</td>\n",
       "      <td>0</td>\n",
       "      <td>0</td>\n",
       "      <td>0</td>\n",
       "      <td>0</td>\n",
       "      <td>0</td>\n",
       "      <td>0</td>\n",
       "    </tr>\n",
       "  </tbody>\n",
       "</table>\n",
       "<p>84 rows × 10 columns</p>\n",
       "</div>"
      ],
      "text/plain": [
       "    0  1  2  3  4  5  6  7  8  9\n",
       "0   0  0  0  0  0  0  0  0  0  0\n",
       "1   0  0  0  0  0  0  0  0  0  0\n",
       "2   0  0  0  0  0  0  0  0  0  0\n",
       "3   0  0  0  0  0  0  0  0  0  0\n",
       "4   0  0  0  0  0  0  0  0  0  0\n",
       ".. .. .. .. .. .. .. .. .. .. ..\n",
       "88  0  0  0  0  0  0  0  0  0  0\n",
       "90  0  0  0  0  0  0  0  0  0  0\n",
       "92  0  0  0  0  0  0  0  0  0  0\n",
       "94  0  0  0  0  0  0  0  0  0  0\n",
       "95  0  0  0  0  0  0  0  0  0  0\n",
       "\n",
       "[84 rows x 10 columns]"
      ]
     },
     "execution_count": 94,
     "metadata": {},
     "output_type": "execute_result"
    }
   ],
   "source": [
    "morbility_chr_lu_w6 = w6_first_cleaned_df.apply(calc_morbility_chr_lu, axis=1)\n",
    "morbility_chr_as_w6 = w6_first_cleaned_df.apply(calc_morbility_chr_as, axis=1)\n",
    "morbility_chr_ar_w6 = w6_first_cleaned_df.apply(calc_morbility_chr_ar, axis=1)\n",
    "morbility_chr_os_w6 = w6_first_cleaned_df.apply(calc_morbility_chr_os, axis=1)\n",
    "morbility_chr_ca_w6 = w6_first_cleaned_df.apply(calc_morbility_chr_ca, axis=1)\n",
    "morbility_chr_pd_w6 = w6_first_cleaned_df.apply(calc_morbility_chr_pd, axis=1)\n",
    "morbility_chr_ps_w6 = w6_first_cleaned_df.apply(calc_morbility_chr_ps, axis=1)\n",
    "morbility_chr_ad_w6 = w6_first_cleaned_df.apply(calc_morbility_chr_ad, axis=1)\n",
    "morbility_chr_de_w6 = w6_first_cleaned_df.apply(calc_morbility_chr_de, axis=1)\n",
    "morbility_chr_bl_w6 = w6_first_cleaned_df.apply(calc_morbility_chr_bl, axis=1)\n",
    "\n",
    "morbility_chr_w6_df = pd.DataFrame([morbility_chr_lu_w6,\n",
    "                             morbility_chr_as_w6,\n",
    "                             morbility_chr_ar_w6,\n",
    "                             morbility_chr_os_w6,\n",
    "                             morbility_chr_ca_w6,\n",
    "                             morbility_chr_pd_w6,\n",
    "                             morbility_chr_ps_w6,\n",
    "                             morbility_chr_ad_w6,\n",
    "                             morbility_chr_de_w6,       \n",
    "                             morbility_chr_bl_w6]).transpose()\n",
    "\n",
    "morbility_chr_w6_df"
   ]
  },
  {
   "cell_type": "code",
   "execution_count": 96,
   "metadata": {},
   "outputs": [],
   "source": [
    "def calc_multimorbility (sbj) -> [0, 1]:\n",
    "    return 1 if sbj.sum() > 1 else 0"
   ]
  },
  {
   "cell_type": "code",
   "execution_count": 103,
   "metadata": {},
   "outputs": [],
   "source": [
    "multimorbility_cvd_w6_df = morbility_cvd_w6_df.apply(calc_multimorbility, axis=1)"
   ]
  },
  {
   "cell_type": "code",
   "execution_count": 104,
   "metadata": {},
   "outputs": [
    {
     "data": {
      "text/plain": [
       "0     0\n",
       "1     0\n",
       "2     0\n",
       "3     0\n",
       "4     0\n",
       "     ..\n",
       "88    0\n",
       "90    0\n",
       "92    0\n",
       "94    0\n",
       "95    0\n",
       "Length: 84, dtype: int64"
      ]
     },
     "execution_count": 104,
     "metadata": {},
     "output_type": "execute_result"
    }
   ],
   "source": [
    "multimorbility_cvd_w6_df"
   ]
  },
  {
   "cell_type": "code",
   "execution_count": 107,
   "metadata": {},
   "outputs": [
    {
     "data": {
      "text/plain": [
       "0"
      ]
     },
     "execution_count": 107,
     "metadata": {},
     "output_type": "execute_result"
    }
   ],
   "source": [
    "sbj = morbility_cvd_w6_df.iloc[0]\n",
    "sbj\n",
    "calc_multimorbility(sbj)"
   ]
  },
  {
   "cell_type": "code",
   "execution_count": 108,
   "metadata": {},
   "outputs": [],
   "source": [
    "multimorbility_chr_w6_df = morbility_chr_w6_df.apply(calc_multimorbility, axis=1)"
   ]
  },
  {
   "cell_type": "code",
   "execution_count": 111,
   "metadata": {},
   "outputs": [
    {
     "data": {
      "text/plain": [
       "0"
      ]
     },
     "execution_count": 111,
     "metadata": {},
     "output_type": "execute_result"
    }
   ],
   "source": [
    "sbj = morbility_chr_w6_df.iloc[0]\n",
    "sbj\n",
    "calc_multimorbility(sbj)"
   ]
  },
  {
   "cell_type": "code",
   "execution_count": null,
   "metadata": {},
   "outputs": [],
   "source": []
  },
  {
   "cell_type": "markdown",
   "metadata": {},
   "source": [
    "### 5.2) Ola 8"
   ]
  },
  {
   "cell_type": "markdown",
   "metadata": {},
   "source": [
    "- Cuestionario CASP-19 en ola 8"
   ]
  },
  {
   "cell_type": "markdown",
   "metadata": {},
   "source": [
    "#### Especificamos los ítems directos e inversos"
   ]
  },
  {
   "cell_type": "code",
   "execution_count": 112,
   "metadata": {},
   "outputs": [],
   "source": [
    "casp19_w8_reverse_items = [\n",
    "    'scqola', \n",
    "    'scqolb',\n",
    "    'scqold', \n",
    "    'scqolf',\n",
    "    'scqolh', \n",
    "    'scqoli',\n",
    "]\n",
    "casp19_w8_direct_items = [\n",
    "    'scqolc', \n",
    "    'scqole', \n",
    "    'scqolg',\n",
    "    'scqolj',\n",
    "    'scqolk',\n",
    "    'scqoll',\n",
    "    'scqolm',\n",
    "    'scqoln', \n",
    "    'scqolo', \n",
    "    'scqolp',\n",
    "    'scqolq', \n",
    "    'scqolr',\n",
    "    'scqols',\n",
    "]"
   ]
  },
  {
   "cell_type": "markdown",
   "metadata": {},
   "source": [
    "#### Construinmos las funciones que aplicaremos a los sujetos para crear el cuestionario"
   ]
  },
  {
   "cell_type": "markdown",
   "metadata": {},
   "source": [
    "Debe tenerse en cuenta que los valores originales en la base de datos están codificados como 1 = often, 2 = Sometimes, 3 = No often y 4 = Never; y el cuestionario debe ofrecer una puntuación mayor cuanto mayor sea la calidad de vida del sujeto. De tal manera que un ítem inverso como *I feel that what happens to me is out of my control* (calificado como inverso) si es respondido con *often* se le ha asignado un valor de 1 en la base de datos. "
   ]
  },
  {
   "cell_type": "markdown",
   "metadata": {},
   "source": [
    "Traducción\n",
    "> Definimos la función que obtiene las puntuaciones para los ítems inversos cuando ofrecemos un valor `x` que podrá ser un 1, 2, 3 o 4 `:[1, 2, 3, 4]` y obtendremos en su lugar '->' una puntuación para el ítem de 0, 1, 2 o 3 `:`. devolverá `return` ese valor menos uno. "
   ]
  },
  {
   "cell_type": "code",
   "execution_count": 113,
   "metadata": {},
   "outputs": [],
   "source": [
    "def get_reverse_item(x: [1, 2, 3, 4]) -> [0, 1, 2, 3]:\n",
    "    return x - 1"
   ]
  },
  {
   "cell_type": "markdown",
   "metadata": {},
   "source": [
    "Traducción\n",
    "> Definimos la función que obtiene las puntuaciones para los ítems directos cuando ofrecemos un valor `x` que podrá ser un 1, 2, 3 o 4 `:[1, 2, 3, 4]` y obtendremos en su lugar '->' una puntuación para el ítem de 0, 1, 2 o 3 `:`. En este caso devolverá un 0 donde había un 4, un 1 donde había un 3, etc. "
   ]
  },
  {
   "cell_type": "code",
   "execution_count": 114,
   "metadata": {},
   "outputs": [],
   "source": [
    "def get_direct_item(x: [1, 2, 3, 4]) -> [3, 2, 1, 0]:\n",
    "    return (x - 4) * (-1)"
   ]
  },
  {
   "cell_type": "markdown",
   "metadata": {},
   "source": [
    "Traducción\n",
    "> Definimos la función que calculará la puntuación del cuestionario CASP-19 para la ola 6 que dará como resultado un único valor entero comprendido entre cero y 57. \n",
    "Esta función devuelve `return` la suma de dos elementos: El primero se obtiene de aplicar la función get_reverse_ item a cada valor *reverse_item* de cada sujeto para cada valor de item reverso de la lista de items inversos. El segundo elemento de la suma se obtiene de aplicar la función get_direct_item a cada valor *direct_item* de cada sujeto para cada ítem directo de la lista de ítems directos del CASP-19 de la ola 6"
   ]
  },
  {
   "cell_type": "markdown",
   "metadata": {},
   "source": [
    "Función para obtener los tems transformados del cuestionario CASP-19_w8"
   ]
  },
  {
   "cell_type": "code",
   "execution_count": 115,
   "metadata": {},
   "outputs": [],
   "source": [
    "def transform_casp19_items(sbj) -> List[int]:  # int -> [0, 1, 2, 3]\n",
    "    return ([get_reverse_item(sbj[reverse_item]) for reverse_item in casp19_w8_reverse_items] +\n",
    "     [get_direct_item(sbj[direct_item]) for direct_item in casp19_w8_direct_items])"
   ]
  },
  {
   "cell_type": "markdown",
   "metadata": {},
   "source": [
    "Función para calcular el valor del cuestionario CASP-19"
   ]
  },
  {
   "cell_type": "code",
   "execution_count": 116,
   "metadata": {},
   "outputs": [],
   "source": [
    "def calc_casp19_w8(sbj) -> list(range(57)):\n",
    "    return sum([get_reverse_item(sbj[reverse_item]) for reverse_item in casp19_w8_reverse_items] +\n",
    "     [get_direct_item(sbj[direct_item]) for direct_item in casp19_w8_direct_items])"
   ]
  },
  {
   "cell_type": "markdown",
   "metadata": {},
   "source": [
    "#### Obtenemos los items del cuestionario CASP-19"
   ]
  },
  {
   "cell_type": "code",
   "execution_count": 117,
   "metadata": {},
   "outputs": [],
   "source": [
    "items_casp19_w8_df = w8_first_cleaned_df.apply(transform_casp19_items, axis=1, result_type='expand')"
   ]
  },
  {
   "cell_type": "markdown",
   "metadata": {},
   "source": [
    "#### Creamos el cuestionario aplicando las funciones para su creación"
   ]
  },
  {
   "cell_type": "code",
   "execution_count": 118,
   "metadata": {},
   "outputs": [],
   "source": [
    "casp19_w8 = w8_first_cleaned_df.apply(calc_casp19_w8, axis=1)"
   ]
  },
  {
   "cell_type": "code",
   "execution_count": 119,
   "metadata": {},
   "outputs": [
    {
     "data": {
      "text/plain": [
       "0     31.0\n",
       "1     28.0\n",
       "2     44.0\n",
       "3     41.0\n",
       "4     54.0\n",
       "5     48.0\n",
       "6     49.0\n",
       "7     40.0\n",
       "8     48.0\n",
       "10    44.0\n",
       "11    39.0\n",
       "12    36.0\n",
       "13    42.0\n",
       "14    44.0\n",
       "15    38.0\n",
       "16    45.0\n",
       "17    46.0\n",
       "18    67.0\n",
       "19    54.0\n",
       "21    36.0\n",
       "22    45.0\n",
       "24    36.0\n",
       "25    44.0\n",
       "26    33.0\n",
       "27    33.0\n",
       "29    26.0\n",
       "30    47.0\n",
       "31    55.0\n",
       "32    48.0\n",
       "33    47.0\n",
       "34    37.0\n",
       "36    37.0\n",
       "37    34.0\n",
       "38    44.0\n",
       "40    38.0\n",
       "41    20.0\n",
       "42    14.0\n",
       "43    45.0\n",
       "44    43.0\n",
       "45    29.0\n",
       "46    54.0\n",
       "48    20.0\n",
       "49    56.0\n",
       "53    46.0\n",
       "54    44.0\n",
       "55    52.0\n",
       "56    54.0\n",
       "58    50.0\n",
       "59    49.0\n",
       "60    44.0\n",
       "61    43.0\n",
       "65    48.0\n",
       "67    26.0\n",
       "69    55.0\n",
       "70    52.0\n",
       "71    33.0\n",
       "72    51.0\n",
       "73    49.0\n",
       "74    55.0\n",
       "dtype: float64"
      ]
     },
     "execution_count": 119,
     "metadata": {},
     "output_type": "execute_result"
    }
   ],
   "source": [
    "casp19_w8"
   ]
  },
  {
   "cell_type": "markdown",
   "metadata": {},
   "source": [
    "* isolation en ola 8"
   ]
  },
  {
   "cell_type": "code",
   "execution_count": null,
   "metadata": {},
   "outputs": [],
   "source": []
  },
  {
   "cell_type": "markdown",
   "metadata": {},
   "source": [
    "## 6) Análisis factoriales de los primeros cuestionarios (*Casp-19* e *Isolation*)"
   ]
  },
  {
   "cell_type": "markdown",
   "metadata": {},
   "source": [
    "### 6.1) Ola 6"
   ]
  },
  {
   "cell_type": "markdown",
   "metadata": {},
   "source": [
    "- Casp-19 "
   ]
  },
  {
   "cell_type": "markdown",
   "metadata": {},
   "source": [
    "#### Exploratorio "
   ]
  },
  {
   "cell_type": "markdown",
   "metadata": {},
   "source": [
    "(Se supone que el exploratorio no hay que hacerlo porque los otros investigadores lo han hecho y está feo no fiarse)"
   ]
  },
  {
   "cell_type": "markdown",
   "metadata": {},
   "source": [
    ">Bartlett’s test of sphericity checks whether or not the observed variables intercorrelate at all using the observed correlation matrix against the identity matrix. If the test found statistically insignificant, you should not employ a factor analysis"
   ]
  },
  {
   "cell_type": "code",
   "execution_count": 122,
   "metadata": {},
   "outputs": [],
   "source": [
    "chi_square_value_casp19_w6, p_value_casp19_w6 = calculate_bartlett_sphericity(items_casp19_w6_df)"
   ]
  },
  {
   "cell_type": "code",
   "execution_count": 123,
   "metadata": {},
   "outputs": [
    {
     "data": {
      "text/plain": [
       "(746.8105997564271, 2.4883092495411275e-73)"
      ]
     },
     "execution_count": 123,
     "metadata": {},
     "output_type": "execute_result"
    }
   ],
   "source": [
    "chi_square_value_casp19_w6, p_value_casp19_w6"
   ]
  },
  {
   "cell_type": "markdown",
   "metadata": {},
   "source": [
    "The test was statistically insignificant, indicating that the observed correlation matrix **is** an identity matrix."
   ]
  },
  {
   "cell_type": "markdown",
   "metadata": {},
   "source": [
    ">Kaiser-Meyer-Olkin (KMO) Test measures the suitability of data for factor analysis. It determines the adequacy for each observed variable and for the complete model. KMO estimates the proportion of variance among all the observed variable. Lower proportion id more suitable for factor analysis. KMO values range between 0 and 1. Value of KMO less than 0.6 is considered inadequate."
   ]
  },
  {
   "cell_type": "code",
   "execution_count": 124,
   "metadata": {},
   "outputs": [],
   "source": [
    "kmo_all_casp19_w6, kmo_model_casp19_w6 = calculate_kmo(items_casp19_w6_df)"
   ]
  },
  {
   "cell_type": "code",
   "execution_count": 125,
   "metadata": {},
   "outputs": [
    {
     "data": {
      "text/plain": [
       "array([0.82159475, 0.7392867 , 0.88810131, 0.55249419, 0.74443638,\n",
       "       0.7186881 , 0.84779565, 0.48329563, 0.63489191, 0.85144943,\n",
       "       0.86488091, 0.84275369, 0.86475129, 0.88357312, 0.88568351,\n",
       "       0.82537091, 0.81250525, 0.89552626, 0.91572772])"
      ]
     },
     "execution_count": 125,
     "metadata": {},
     "output_type": "execute_result"
    }
   ],
   "source": [
    "kmo_all_casp19_w6"
   ]
  },
  {
   "cell_type": "code",
   "execution_count": 126,
   "metadata": {},
   "outputs": [
    {
     "data": {
      "text/plain": [
       "0.8338366336082264"
      ]
     },
     "execution_count": 126,
     "metadata": {},
     "output_type": "execute_result"
    }
   ],
   "source": [
    "kmo_model_casp19_w6"
   ]
  },
  {
   "cell_type": "markdown",
   "metadata": {},
   "source": [
    ">The overall KMO for our data is 0.84, which is excellent. This value indicates that you can proceed with your planned factor analysis"
   ]
  },
  {
   "cell_type": "code",
   "execution_count": 127,
   "metadata": {},
   "outputs": [],
   "source": [
    "fa_casp19_w6 = FactorAnalyzer(bounds=(0.005, 1), impute='drop', is_corr_matrix=False,\n",
    "               method='minres', n_factors=4, rotation='promax',\n",
    "               rotation_kwargs={}, use_smc=True)"
   ]
  },
  {
   "cell_type": "markdown",
   "metadata": {},
   "source": [
    "> Hacemos el análisis factorial con mínimos cuadrados, eliminando los valores perdidos que se encuentren (después del tratamiento no deberían existir) el método de estracción por mínimos cuadrados y con rotación oblicua. Forzamos a cuatro factores ya que así lo determina la teoría."
   ]
  },
  {
   "cell_type": "markdown",
   "metadata": {},
   "source": [
    ">In the social sciences we generally expect some correlation among factors, since behavior is rarely partitioned into neatly packaged units that function independently of one another\n",
    "mucho cuidado a la hora de validar los factores rotados oblicuamente, porque, como explican estos autores, la solución factorial puede llegar a ser específica de la muestra y no generalizable, particularmente con muestras pequeñas o bajas correlaciones entre las variables examinadas.⇦"
   ]
  },
  {
   "cell_type": "code",
   "execution_count": 128,
   "metadata": {},
   "outputs": [
    {
     "data": {
      "text/plain": [
       "FactorAnalyzer(bounds=(0.005, 1), impute='drop', is_corr_matrix=False,\n",
       "               method='minres', n_factors=4, rotation='promax',\n",
       "               rotation_kwargs={}, use_smc=True)"
      ]
     },
     "execution_count": 128,
     "metadata": {},
     "output_type": "execute_result"
    }
   ],
   "source": [
    "fa_casp19_w6.fit(items_casp19_w6_df)"
   ]
  },
  {
   "cell_type": "code",
   "execution_count": 129,
   "metadata": {},
   "outputs": [
    {
     "data": {
      "text/plain": [
       "array([6.77713458, 2.05362092, 1.54672946, 1.10508155, 0.99419259,\n",
       "       0.91232144, 0.77004491, 0.73769287, 0.64665071, 0.57114491,\n",
       "       0.54708843, 0.50092556, 0.4169932 , 0.35541279, 0.3127321 ,\n",
       "       0.23827707, 0.20831298, 0.16309886, 0.14254507])"
      ]
     },
     "execution_count": 129,
     "metadata": {},
     "output_type": "execute_result"
    }
   ],
   "source": [
    "ev_casp19_w6, v_casp19_w6 = fa_casp19_w6.get_eigenvalues()\n",
    "ev_casp19_w6"
   ]
  },
  {
   "cell_type": "code",
   "execution_count": 130,
   "metadata": {},
   "outputs": [
    {
     "data": {
      "image/png": "[encoded data removed]",
      "text/plain": [
       "<Figure size 432x288 with 1 Axes>"
      ]
     },
     "metadata": {
      "needs_background": "light"
     },
     "output_type": "display_data"
    }
   ],
   "source": [
    "plt.scatter(range(1, items_casp19_w6_df.shape[1]+1), ev_casp19_w6)\n",
    "plt.plot(range(1, items_casp19_w6_df.shape[1]+1), ev_casp19_w6)\n",
    "plt.title('Scree Plot')\n",
    "plt.xlabel('Factors')\n",
    "plt.ylabel('Eigenvalue')\n",
    "plt.grid()\n",
    "plt.show()"
   ]
  },
  {
   "cell_type": "code",
   "execution_count": 131,
   "metadata": {},
   "outputs": [
    {
     "data": {
      "text/plain": [
       "array([[-0.00192545,  0.69665507, -0.26359643,  0.21745444],\n",
       "       [-0.08977319,  0.36242678,  0.09475817,  0.05992345],\n",
       "       [ 0.1947104 ,  0.33928349,  0.23588896,  0.19706517],\n",
       "       [-0.14320568, -0.09077698,  0.69995975,  0.09284865],\n",
       "       [ 0.02303273,  0.68136251, -0.28206102,  0.37459844],\n",
       "       [ 0.01090417,  0.04502604,  0.51687614,  0.35122714],\n",
       "       [ 0.15735416,  0.63282256,  0.20759477, -0.03546477],\n",
       "       [-0.06117714,  0.20043778,  0.02751451,  0.21094854],\n",
       "       [ 0.0838818 ,  0.04192303,  0.47282438, -0.11224105],\n",
       "       [ 0.87632929, -0.04989644, -0.11426163, -0.0040306 ],\n",
       "       [ 0.93514202, -0.04876384, -0.04569026, -0.15221051],\n",
       "       [ 0.73470774, -0.12933346,  0.17815383, -0.02821801],\n",
       "       [ 0.34627111,  0.25889686, -0.03177566, -0.08810924],\n",
       "       [ 0.82712054, -0.11317957,  0.01578723,  0.32459176],\n",
       "       [ 0.21628338,  0.61826709,  0.01830686,  0.1735242 ],\n",
       "       [-0.00228811,  0.71702976, -0.02382407, -0.08656513],\n",
       "       [ 0.73554116, -0.13356938,  0.20310937,  0.32380874],\n",
       "       [ 0.56749337,  0.29631358,  0.02177075, -0.07853804],\n",
       "       [ 0.51868341,  0.08509637, -0.18015305, -0.00372496]])"
      ]
     },
     "execution_count": 131,
     "metadata": {},
     "output_type": "execute_result"
    }
   ],
   "source": [
    "fa_casp19_w6.loadings_"
   ]
  },
  {
   "cell_type": "code",
   "execution_count": 132,
   "metadata": {},
   "outputs": [
    {
     "data": {
      "text/plain": [
       "(array([4.26782837, 2.75941635, 1.3614106 , 0.70611435]),\n",
       " array([0.22462255, 0.14523244, 0.07165319, 0.03716391]),\n",
       " array([0.22462255, 0.36985499, 0.44150817, 0.47867209]))"
      ]
     },
     "execution_count": 132,
     "metadata": {},
     "output_type": "execute_result"
    }
   ],
   "source": [
    "fa_casp19_w6.get_factor_variance() #primera fila loadings, segunda proporción de varianza explicada y la tercera varianza acumulada"
   ]
  },
  {
   "cell_type": "markdown",
   "metadata": {},
   "source": [
    "#### Confirmatorio"
   ]
  },
  {
   "cell_type": "markdown",
   "metadata": {},
   "source": [
    "##### Especificación del modelo "
   ]
  },
  {
   "cell_type": "code",
   "execution_count": null,
   "metadata": {},
   "outputs": [],
   "source": []
  },
  {
   "cell_type": "markdown",
   "metadata": {},
   "source": [
    "Estimar los parámetros"
   ]
  },
  {
   "cell_type": "code",
   "execution_count": null,
   "metadata": {},
   "outputs": [],
   "source": []
  },
  {
   "cell_type": "markdown",
   "metadata": {},
   "source": [
    "> El tipo de análisis que viene en el paquete de Factor Analyzer"
   ]
  },
  {
   "cell_type": "code",
   "execution_count": 133,
   "metadata": {},
   "outputs": [],
   "source": [
    "casp_19_w6_dict = {'control': ['scqola', 'scqolb', 'scqolc', 'scqold'],\n",
    "                   'autonomy': ['scqole', 'scqolf', 'scqolg', 'scqolh', 'scqoli'],\n",
    "                   'pleasure': [ 'scqolj', 'scqolk', 'scqoll', 'scqolm', 'scqoln'],\n",
    "                   'self_realization': ['scqolo', 'scqolp', 'scqolq', 'scqolr', 'scqols']}"
   ]
  },
  {
   "cell_type": "code",
   "execution_count": 134,
   "metadata": {},
   "outputs": [],
   "source": [
    "casp_19_w6_spec = ModelSpecificationParser.parse_model_specification_from_dict(items_casp19_w6_df, casp_19_w6_dict)"
   ]
  },
  {
   "cell_type": "code",
   "execution_count": 135,
   "metadata": {},
   "outputs": [],
   "source": [
    "cfa_casp_19_w6_spec = ConfirmatoryFactorAnalyzer(casp_19_w6_spec, disp=False)"
   ]
  },
  {
   "cell_type": "code",
   "execution_count": 136,
   "metadata": {},
   "outputs": [
    {
     "name": "stderr",
     "output_type": "stream",
     "text": [
      "/opt/conda/lib/python3.7/site-packages/factor_analyzer/confirmatory_factor_analyzer.py:733: UserWarning: The optimization routine failed to converge: b'ABNORMAL_TERMINATION_IN_LNSRCH'\n",
      "  'to converge: {}'.format(str(res.message)))\n"
     ]
    },
    {
     "data": {
      "text/plain": [
       "ConfirmatoryFactorAnalyzer(bounds=None, disp=False, impute='median',\n",
       "                           is_cov_matrix=False, max_iter=200, n_obs=84,\n",
       "                           specification=<factor_analyzer.confirmatory_factor_analyzer.ModelSpecification object at 0x7f8f0e01c090>,\n",
       "                           tol=None)"
      ]
     },
     "execution_count": 136,
     "metadata": {},
     "output_type": "execute_result"
    }
   ],
   "source": [
    "cfa_casp_19_w6_spec.fit(items_casp19_w6_df.values)"
   ]
  },
  {
   "cell_type": "code",
   "execution_count": 137,
   "metadata": {},
   "outputs": [
    {
     "data": {
      "text/plain": [
       "array([[0.94492227, 0.        , 0.        , 0.        ],\n",
       "       [1.13459   , 0.        , 0.        , 0.        ],\n",
       "       [0.92230621, 0.        , 0.        , 0.        ],\n",
       "       [0.85529699, 0.        , 0.        , 0.        ],\n",
       "       [0.        , 0.94986215, 0.        , 0.        ],\n",
       "       [0.        , 0.94297686, 0.        , 0.        ],\n",
       "       [0.        , 0.94837738, 0.        , 0.        ],\n",
       "       [0.        , 1.02358932, 0.        , 0.        ],\n",
       "       [0.        , 0.98726218, 0.        , 0.        ],\n",
       "       [0.        , 0.        , 0.99849893, 0.        ],\n",
       "       [0.        , 0.        , 0.99126419, 0.        ],\n",
       "       [0.        , 0.        , 0.9326037 , 0.        ],\n",
       "       [0.        , 0.        , 0.91059808, 0.        ],\n",
       "       [0.        , 0.        , 0.98147499, 0.        ],\n",
       "       [0.        , 0.        , 0.        , 0.96594766],\n",
       "       [0.        , 0.        , 0.        , 0.91232989],\n",
       "       [0.        , 0.        , 0.        , 0.92085726],\n",
       "       [0.        , 0.        , 0.        , 0.97071212],\n",
       "       [0.        , 0.        , 0.        , 1.09568486]])"
      ]
     },
     "execution_count": 137,
     "metadata": {},
     "output_type": "execute_result"
    }
   ],
   "source": [
    "cfa_casp_19_w6_spec.loadings_"
   ]
  },
  {
   "cell_type": "code",
   "execution_count": 138,
   "metadata": {},
   "outputs": [
    {
     "data": {
      "text/plain": [
       "array([[1.        , 0.09173813, 0.07426923, 0.08752234],\n",
       "       [0.09173813, 1.        , 0.0795434 , 0.10128656],\n",
       "       [0.07426923, 0.0795434 , 1.        , 0.10329269],\n",
       "       [0.08752234, 0.10128656, 0.10329269, 1.        ]])"
      ]
     },
     "execution_count": 138,
     "metadata": {},
     "output_type": "execute_result"
    }
   ],
   "source": [
    "cfa_casp_19_w6_spec.factor_varcovs_"
   ]
  },
  {
   "cell_type": "code",
   "execution_count": 139,
   "metadata": {},
   "outputs": [
    {
     "data": {
      "text/plain": [
       "<bound method ConfirmatoryFactorAnalyzer.get_standard_errors of ConfirmatoryFactorAnalyzer(bounds=None, disp=False, impute='median',\n",
       "                           is_cov_matrix=False, max_iter=200, n_obs=84,\n",
       "                           specification=<factor_analyzer.confirmatory_factor_analyzer.ModelSpecification object at 0x7f8f0e01c090>,\n",
       "                           tol=None)>"
      ]
     },
     "execution_count": 139,
     "metadata": {},
     "output_type": "execute_result"
    }
   ],
   "source": [
    "cfa_casp_19_w6_spec.get_standard_errors"
   ]
  },
  {
   "cell_type": "markdown",
   "metadata": {},
   "source": [
    "- Isolation"
   ]
  },
  {
   "cell_type": "code",
   "execution_count": 141,
   "metadata": {},
   "outputs": [],
   "source": [
    "chi_square_value_isolation_w6, p_value_isolation_w6 = calculate_bartlett_sphericity(items_isolation_w6_df)"
   ]
  },
  {
   "cell_type": "code",
   "execution_count": 142,
   "metadata": {},
   "outputs": [
    {
     "data": {
      "text/plain": [
       "(29.604904206772844, 0.00037279506404449625)"
      ]
     },
     "execution_count": 142,
     "metadata": {},
     "output_type": "execute_result"
    }
   ],
   "source": [
    "chi_square_value_isolation_w6, p_value_isolation_w6"
   ]
  },
  {
   "cell_type": "markdown",
   "metadata": {},
   "source": [
    "> P valor bueno"
   ]
  },
  {
   "cell_type": "code",
   "execution_count": 143,
   "metadata": {},
   "outputs": [],
   "source": [
    "kmo_all_isolation_w6, kmo_model_isolation_w6 = calculate_kmo(items_isolation_w6_df)"
   ]
  },
  {
   "cell_type": "code",
   "execution_count": 144,
   "metadata": {},
   "outputs": [
    {
     "data": {
      "text/plain": [
       "array([0.4941642 , 0.62191177, 0.53257936, 0.53486191, 0.51243172])"
      ]
     },
     "execution_count": 144,
     "metadata": {},
     "output_type": "execute_result"
    }
   ],
   "source": [
    "kmo_all_isolation_w6"
   ]
  },
  {
   "cell_type": "code",
   "execution_count": 145,
   "metadata": {},
   "outputs": [
    {
     "data": {
      "text/plain": [
       "0.52668238811417"
      ]
     },
     "execution_count": 145,
     "metadata": {},
     "output_type": "execute_result"
    }
   ],
   "source": [
    "kmo_model_isolation_w6"
   ]
  },
  {
   "cell_type": "markdown",
   "metadata": {},
   "source": [
    ">Kmo bueno"
   ]
  },
  {
   "cell_type": "code",
   "execution_count": 146,
   "metadata": {},
   "outputs": [],
   "source": [
    "fa_isolation_w6 = FactorAnalyzer(bounds=(0.005, 1), impute='drop', is_corr_matrix=False,\n",
    "               method='minres', n_factors=2, rotation='promax',\n",
    "               rotation_kwargs={}, use_smc=True)"
   ]
  },
  {
   "cell_type": "code",
   "execution_count": 147,
   "metadata": {},
   "outputs": [
    {
     "data": {
      "text/plain": [
       "FactorAnalyzer(bounds=(0.005, 1), impute='drop', is_corr_matrix=False,\n",
       "               method='minres', n_factors=2, rotation='promax',\n",
       "               rotation_kwargs={}, use_smc=True)"
      ]
     },
     "execution_count": 147,
     "metadata": {},
     "output_type": "execute_result"
    }
   ],
   "source": [
    "fa_isolation_w6.fit(items_isolation_w6_df)"
   ]
  },
  {
   "cell_type": "code",
   "execution_count": 148,
   "metadata": {},
   "outputs": [],
   "source": [
    "ev_isolation_w6, v_isolation_w6 = fa_isolation_w6.get_eigenvalues()"
   ]
  },
  {
   "cell_type": "code",
   "execution_count": 149,
   "metadata": {},
   "outputs": [
    {
     "data": {
      "text/plain": [
       "(array([1.58589883, 1.18388885, 0.90500555, 0.75294944, 0.57225732]),\n",
       " array([ 1.21352932,  0.64134917,  0.04479153, -0.01007081, -0.0280954 ]))"
      ]
     },
     "execution_count": 149,
     "metadata": {},
     "output_type": "execute_result"
    }
   ],
   "source": [
    "ev_isolation_w6, v_isolation_w6"
   ]
  },
  {
   "cell_type": "markdown",
   "metadata": {},
   "source": [
    "> Duda: dos autovalores tienen valor por encima de 1, ¿Puedo coger un solo factor basándome en la teoría o no es posible?"
   ]
  },
  {
   "cell_type": "code",
   "execution_count": 174,
   "metadata": {},
   "outputs": [
    {
     "name": "stdout",
     "output_type": "stream",
     "text": [
      "/bin/sh: 1: TRANSFORMAR: not found\n"
     ]
    },
    {
     "data": {
      "image/png": "[encoded data removed]",
      "text/plain": [
       "<Figure size 432x288 with 1 Axes>"
      ]
     },
     "metadata": {
      "needs_background": "light"
     },
     "output_type": "display_data"
    }
   ],
   "source": [
    "plt.scatter(range(1, items_isolation_w6_df.shape[1]+1), ev_isolation_w6)\n",
    "plt.plot(range(1, items_isolation_w6_df.shape[1]+1), ev_isolation_w6)\n",
    "plt.title('Scree Plot')\n",
    "plt.xlabel('Factors')\n",
    "plt.ylabel('Eigenvalue')\n",
    "plt.grid()\n",
    "plt.show()"
   ]
  },
  {
   "cell_type": "code",
   "execution_count": 150,
   "metadata": {},
   "outputs": [
    {
     "data": {
      "text/plain": [
       "array([[-0.35217621, -0.03519272],\n",
       "       [-0.09297901,  0.22001189],\n",
       "       [ 0.19196707,  0.67566158],\n",
       "       [-0.03996891,  0.45788017],\n",
       "       [ 0.98654308, -0.03602677]])"
      ]
     },
     "execution_count": 150,
     "metadata": {},
     "output_type": "execute_result"
    }
   ],
   "source": [
    "fa_isolation_w6.loadings_"
   ]
  },
  {
   "cell_type": "code",
   "execution_count": 151,
   "metadata": {},
   "outputs": [
    {
     "data": {
      "text/plain": [
       "(array([1.1443893, 0.7171145]),\n",
       " array([0.22887786, 0.1434229 ]),\n",
       " array([0.22887786, 0.37230076]))"
      ]
     },
     "execution_count": 151,
     "metadata": {},
     "output_type": "execute_result"
    }
   ],
   "source": [
    "fa_isolation_w6.get_factor_variance() # ['loadings', 'proporción de varianza explicada', 'varianza acumulada']"
   ]
  },
  {
   "cell_type": "markdown",
   "metadata": {},
   "source": [
    "#### Confirmatorio"
   ]
  },
  {
   "cell_type": "code",
   "execution_count": null,
   "metadata": {},
   "outputs": [],
   "source": []
  },
  {
   "cell_type": "markdown",
   "metadata": {},
   "source": [
    "### 6.2) Ola 8"
   ]
  },
  {
   "cell_type": "code",
   "execution_count": 152,
   "metadata": {},
   "outputs": [],
   "source": [
    "fa_casp19_w8 = fa_casp19_w6"
   ]
  },
  {
   "cell_type": "code",
   "execution_count": 153,
   "metadata": {},
   "outputs": [],
   "source": [
    "fa_isolation_w8 = fa_isolation_w6"
   ]
  },
  {
   "cell_type": "markdown",
   "metadata": {},
   "source": [
    "## 7) Segundo tratamiento de valores perdidos"
   ]
  },
  {
   "cell_type": "markdown",
   "metadata": {},
   "source": [
    "### 7.1) Ola 6"
   ]
  },
  {
   "cell_type": "code",
   "execution_count": 154,
   "metadata": {},
   "outputs": [],
   "source": [
    "second_cols_to_clean_out_of_sample_w6 = isolation_w6_cols + casp19_w6_cols + sexdissa_w6_m_cols + sexdissa_w6_f_cols"
   ]
  },
  {
   "cell_type": "markdown",
   "metadata": {},
   "source": [
    "- **\"-2\": \"schedule not aplicable\"** : *Cuestionarios, compuestos por sus ítems, que van a ser revisados para eliminar sujetos que no formaban parte de la muestra en estos módulos de ELSA. 1902 mujeres y 1620 hombres no han recibido módulo de sexualidad del cuestionario* "
   ]
  },
  {
   "cell_type": "code",
   "execution_count": 155,
   "metadata": {},
   "outputs": [],
   "source": [
    "second_sbj_out_of_sample_w6 = w6_first_cleaned_df.loc[pd.DataFrame([(w6_first_cleaned_df[col] == -2) for col in second_cols_to_clean_out_of_sample_w6]).any()].index"
   ]
  },
  {
   "cell_type": "code",
   "execution_count": 156,
   "metadata": {},
   "outputs": [
    {
     "data": {
      "text/plain": [
       "Int64Index([0, 35, 38, 39, 45, 52, 56, 61, 66, 70, 86], dtype='int64')"
      ]
     },
     "execution_count": 156,
     "metadata": {},
     "output_type": "execute_result"
    }
   ],
   "source": [
    "second_sbj_out_of_sample_w6"
   ]
  },
  {
   "cell_type": "code",
   "execution_count": 157,
   "metadata": {},
   "outputs": [],
   "source": [
    "w6_without_second_sbj_out_of_sample_df = w6_first_cleaned_df.drop(second_sbj_out_of_sample_w6)\n",
    "#w6_without_second_sbj_out_of_sample_df"
   ]
  },
  {
   "cell_type": "markdown",
   "metadata": {},
   "source": [
    " * -9 Sujetos que no contestan a alguna de las preguntas del cuestionario de satisfacción sexual"
   ]
  },
  {
   "cell_type": "code",
   "execution_count": 158,
   "metadata": {},
   "outputs": [],
   "source": [
    "second_sbj_didnt_awr_w6 = w6_without_second_sbj_out_of_sample_df.loc[pd.DataFrame([(w6_without_second_sbj_out_of_sample_df[col] == -9) for col in second_cols_to_clean_out_of_sample_w6]).any()].index"
   ]
  },
  {
   "cell_type": "code",
   "execution_count": 159,
   "metadata": {},
   "outputs": [],
   "source": [
    "w6_without_second_sbj_didnt_awr_df = w6_without_second_sbj_out_of_sample_df.drop(second_sbj_didnt_awr_w6)\n",
    "# w6_without_second_sbj_didnt_awr_df"
   ]
  },
  {
   "cell_type": "markdown",
   "metadata": {},
   "source": [
    "* -1 (item no aplicable) en sexdissa w6 (Sería conveniente encontrar una manera menos drástica de tratar con los valores perdidos de los items)"
   ]
  },
  {
   "cell_type": "code",
   "execution_count": 160,
   "metadata": {},
   "outputs": [],
   "source": [
    "second_sbj_item_not_applicable_w6 = w6_without_second_sbj_didnt_awr_df.loc[pd.DataFrame([(w6_without_second_sbj_didnt_awr_df[col] == -1) for col in second_cols_to_clean_out_of_sample_w6]).any()].index"
   ]
  },
  {
   "cell_type": "code",
   "execution_count": 161,
   "metadata": {},
   "outputs": [],
   "source": [
    "w6_without_second_sbj_item_not_applicable_df = w6_without_second_sbj_didnt_awr_df.drop(second_sbj_item_not_applicable_w6)"
   ]
  },
  {
   "cell_type": "code",
   "execution_count": 162,
   "metadata": {},
   "outputs": [],
   "source": [
    "w6_second_cleaned_df = w6_without_second_sbj_item_not_applicable_df #sustituir por el nombre del df más reciente tras la limpieza"
   ]
  },
  {
   "cell_type": "markdown",
   "metadata": {},
   "source": [
    "## Test cutres"
   ]
  },
  {
   "cell_type": "code",
   "execution_count": 163,
   "metadata": {},
   "outputs": [
    {
     "data": {
      "text/html": [
       "<div>\n",
       "<style scoped>\n",
       "    .dataframe tbody tr th:only-of-type {\n",
       "        vertical-align: middle;\n",
       "    }\n",
       "\n",
       "    .dataframe tbody tr th {\n",
       "        vertical-align: top;\n",
       "    }\n",
       "\n",
       "    .dataframe thead th {\n",
       "        text-align: right;\n",
       "    }\n",
       "</style>\n",
       "<table border=\"1\" class=\"dataframe\">\n",
       "  <thead>\n",
       "    <tr style=\"text-align: right;\">\n",
       "      <th></th>\n",
       "      <th>q3</th>\n",
       "    </tr>\n",
       "  </thead>\n",
       "  <tbody>\n",
       "  </tbody>\n",
       "</table>\n",
       "</div>"
      ],
      "text/plain": [
       "Empty DataFrame\n",
       "Columns: [q3]\n",
       "Index: []"
      ]
     },
     "execution_count": 163,
     "metadata": {},
     "output_type": "execute_result"
    }
   ],
   "source": [
    "w6_second_cleaned_df.loc[w6_second_cleaned_df['q3'] < 0, ['q3']]"
   ]
  },
  {
   "cell_type": "code",
   "execution_count": 164,
   "metadata": {},
   "outputs": [
    {
     "data": {
      "text/html": [
       "<div>\n",
       "<style scoped>\n",
       "    .dataframe tbody tr th:only-of-type {\n",
       "        vertical-align: middle;\n",
       "    }\n",
       "\n",
       "    .dataframe tbody tr th {\n",
       "        vertical-align: top;\n",
       "    }\n",
       "\n",
       "    .dataframe thead th {\n",
       "        text-align: right;\n",
       "    }\n",
       "</style>\n",
       "<table border=\"1\" class=\"dataframe\">\n",
       "  <thead>\n",
       "    <tr style=\"text-align: right;\">\n",
       "      <th></th>\n",
       "      <th>q9</th>\n",
       "    </tr>\n",
       "  </thead>\n",
       "  <tbody>\n",
       "  </tbody>\n",
       "</table>\n",
       "</div>"
      ],
      "text/plain": [
       "Empty DataFrame\n",
       "Columns: [q9]\n",
       "Index: []"
      ]
     },
     "execution_count": 164,
     "metadata": {},
     "output_type": "execute_result"
    }
   ],
   "source": [
    "w6_second_cleaned_df.loc[w6_second_cleaned_df['q9'] < 0, ['q9']]"
   ]
  },
  {
   "cell_type": "markdown",
   "metadata": {},
   "source": [
    "### 8.1) Ola 6"
   ]
  },
  {
   "cell_type": "markdown",
   "metadata": {},
   "source": [
    "* Insatisfacción sexual para la ola 6 (mujeres)-> sexdissa_w6_f"
   ]
  },
  {
   "cell_type": "code",
   "execution_count": 165,
   "metadata": {},
   "outputs": [
    {
     "data": {
      "text/html": [
       "<div>\n",
       "<style scoped>\n",
       "    .dataframe tbody tr th:only-of-type {\n",
       "        vertical-align: middle;\n",
       "    }\n",
       "\n",
       "    .dataframe tbody tr th {\n",
       "        vertical-align: top;\n",
       "    }\n",
       "\n",
       "    .dataframe thead th {\n",
       "        text-align: right;\n",
       "    }\n",
       "</style>\n",
       "<table border=\"1\" class=\"dataframe\">\n",
       "  <thead>\n",
       "    <tr style=\"text-align: right;\">\n",
       "      <th></th>\n",
       "      <th>q3</th>\n",
       "      <th>q9</th>\n",
       "      <th>q10</th>\n",
       "      <th>q14f</th>\n",
       "      <th>q15f</th>\n",
       "      <th>q19m19f</th>\n",
       "      <th>q28m25f</th>\n",
       "      <th>q32m26f</th>\n",
       "    </tr>\n",
       "  </thead>\n",
       "  <tbody>\n",
       "  </tbody>\n",
       "</table>\n",
       "</div>"
      ],
      "text/plain": [
       "Empty DataFrame\n",
       "Columns: [q3, q9, q10, q14f, q15f, q19m19f, q28m25f, q32m26f]\n",
       "Index: []"
      ]
     },
     "execution_count": 165,
     "metadata": {},
     "output_type": "execute_result"
    }
   ],
   "source": [
    "sexdissa_w6_f= w6_second_cleaned_df.loc[(w6_second_cleaned_df['indsex'] == 2), # <- 1 = men ; 2 = women\n",
    "                   sexdissa_w6_f_cols]\n",
    "sexdissa_w6_f # Mientras haya números en negativo hay valores perdidos incluídos en la base de datos. "
   ]
  },
  {
   "cell_type": "markdown",
   "metadata": {},
   "source": [
    "* Insatisfacción sexual para la ola 6 (hombres)"
   ]
  },
  {
   "cell_type": "code",
   "execution_count": 166,
   "metadata": {},
   "outputs": [
    {
     "data": {
      "text/html": [
       "<div>\n",
       "<style scoped>\n",
       "    .dataframe tbody tr th:only-of-type {\n",
       "        vertical-align: middle;\n",
       "    }\n",
       "\n",
       "    .dataframe tbody tr th {\n",
       "        vertical-align: top;\n",
       "    }\n",
       "\n",
       "    .dataframe thead th {\n",
       "        text-align: right;\n",
       "    }\n",
       "</style>\n",
       "<table border=\"1\" class=\"dataframe\">\n",
       "  <thead>\n",
       "    <tr style=\"text-align: right;\">\n",
       "      <th></th>\n",
       "      <th>q3</th>\n",
       "      <th>q9</th>\n",
       "      <th>q10</th>\n",
       "      <th>q13m</th>\n",
       "      <th>q17m</th>\n",
       "      <th>q19m19f</th>\n",
       "      <th>q21m</th>\n",
       "      <th>q28m25f</th>\n",
       "      <th>q32m26f</th>\n",
       "    </tr>\n",
       "  </thead>\n",
       "  <tbody>\n",
       "  </tbody>\n",
       "</table>\n",
       "</div>"
      ],
      "text/plain": [
       "Empty DataFrame\n",
       "Columns: [q3, q9, q10, q13m, q17m, q19m19f, q21m, q28m25f, q32m26f]\n",
       "Index: []"
      ]
     },
     "execution_count": 166,
     "metadata": {},
     "output_type": "execute_result"
    }
   ],
   "source": [
    "sexdissa_w6_m = w6_second_cleaned_df.loc[(w6_second_cleaned_df['indsex'] == 1), # <- 1 = men ; 2 = women\n",
    "                   sexdissa_w6_m_cols]\n",
    "sexdissa_w6_m"
   ]
  },
  {
   "cell_type": "markdown",
   "metadata": {},
   "source": [
    "### 8.2) Ola 8"
   ]
  },
  {
   "cell_type": "markdown",
   "metadata": {},
   "source": [
    "* insatisfacción sexual "
   ]
  },
  {
   "cell_type": "markdown",
   "metadata": {},
   "source": [
    "## 9) Análisis factoriales de los segundos cuestionarios - datos preliminares hasta construir cuestionario y limpiar valores perdidos"
   ]
  },
  {
   "cell_type": "markdown",
   "metadata": {},
   "source": [
    "### 9.1) Ola 6"
   ]
  },
  {
   "cell_type": "markdown",
   "metadata": {},
   "source": [
    "* sexdissa_w6_m"
   ]
  },
  {
   "cell_type": "code",
   "execution_count": 167,
   "metadata": {},
   "outputs": [
    {
     "name": "stderr",
     "output_type": "stream",
     "text": [
      "/opt/conda/lib/python3.7/site-packages/numpy/lib/function_base.py:393: RuntimeWarning: Mean of empty slice.\n",
      "  avg = a.mean(axis)\n",
      "/opt/conda/lib/python3.7/site-packages/numpy/core/_methods.py:154: RuntimeWarning: invalid value encountered in true_divide\n",
      "  ret, rcount, out=ret, casting='unsafe', subok=False)\n",
      "/opt/conda/lib/python3.7/site-packages/factor_analyzer/utils.py:71: RuntimeWarning: Degrees of freedom <= 0 for slice\n",
      "  r = np.cov(x, rowvar=False, ddof=ddof)\n",
      "/opt/conda/lib/python3.7/site-packages/numpy/lib/function_base.py:2455: RuntimeWarning: divide by zero encountered in true_divide\n",
      "  c *= np.true_divide(1, fact)\n",
      "/opt/conda/lib/python3.7/site-packages/numpy/lib/function_base.py:2455: RuntimeWarning: invalid value encountered in multiply\n",
      "  c *= np.true_divide(1, fact)\n",
      "/opt/conda/lib/python3.7/site-packages/numpy/linalg/linalg.py:2116: RuntimeWarning: invalid value encountered in det\n",
      "  r = _umath_linalg.det(a, signature=signature)\n"
     ]
    }
   ],
   "source": [
    "chi_square_value_sexdissa_w6_m,p_value_sexdissa_w6_m = calculate_bartlett_sphericity(sexdissa_w6_m)"
   ]
  },
  {
   "cell_type": "code",
   "execution_count": 168,
   "metadata": {},
   "outputs": [
    {
     "data": {
      "text/plain": [
       "(nan, nan)"
      ]
     },
     "execution_count": 168,
     "metadata": {},
     "output_type": "execute_result"
    }
   ],
   "source": [
    "chi_square_value_sexdissa_w6_m,p_value_sexdissa_w6_m"
   ]
  },
  {
   "cell_type": "code",
   "execution_count": 169,
   "metadata": {},
   "outputs": [],
   "source": [
    "kmo_all_sexdissa_w6_m, Kmo_model_sexdissa_w6_m = calculate_kmo(sexdissa_w6_m)"
   ]
  },
  {
   "cell_type": "code",
   "execution_count": 170,
   "metadata": {},
   "outputs": [
    {
     "data": {
      "text/plain": [
       "array([nan, nan, nan, nan, nan, nan, nan, nan, nan])"
      ]
     },
     "execution_count": 170,
     "metadata": {},
     "output_type": "execute_result"
    }
   ],
   "source": [
    "kmo_all_sexdissa_w6_m"
   ]
  },
  {
   "cell_type": "code",
   "execution_count": 171,
   "metadata": {},
   "outputs": [
    {
     "data": {
      "text/plain": [
       "nan"
      ]
     },
     "execution_count": 171,
     "metadata": {},
     "output_type": "execute_result"
    }
   ],
   "source": [
    "Kmo_model_sexdissa_w6_m"
   ]
  },
  {
   "cell_type": "code",
   "execution_count": 172,
   "metadata": {},
   "outputs": [],
   "source": [
    "fa_sexdissa_w6_m = FactorAnalyzer(bounds=(0.005, 1), impute='drop', is_corr_matrix=False,\n",
    "               method='minres', n_factors=3, rotation='promax',\n",
    "               rotation_kwargs={}, use_smc=True)"
   ]
  },
  {
   "cell_type": "code",
   "execution_count": 173,
   "metadata": {},
   "outputs": [
    {
     "ename": "ValueError",
     "evalue": "Found array with 0 sample(s) (shape=(0, 9)) while a minimum of 1 is required by FactorAnalyzer.",
     "output_type": "error",
     "traceback": [
      "\u001b[0;31m---------------------------------------------------------------------------\u001b[0m",
      "\u001b[0;31mValueError\u001b[0m                                Traceback (most recent call last)",
      "\u001b[0;32m<ipython-input-173-7c7e224db2b5>\u001b[0m in \u001b[0;36m<module>\u001b[0;34m\u001b[0m\n\u001b[0;32m----> 1\u001b[0;31m \u001b[0mfa_sexinsa_w6_m\u001b[0m\u001b[0;34m.\u001b[0m\u001b[0mfit\u001b[0m\u001b[0;34m(\u001b[0m\u001b[0msexinsa_w6_m\u001b[0m\u001b[0;34m)\u001b[0m\u001b[0;34m\u001b[0m\u001b[0;34m\u001b[0m\u001b[0m\n\u001b[0m",
      "\u001b[0;32m/opt/conda/lib/python3.7/site-packages/factor_analyzer/factor_analyzer.py\u001b[0m in \u001b[0;36mfit\u001b[0;34m(self, X, y)\u001b[0m\n\u001b[1;32m    591\u001b[0m                         \u001b[0mforce_all_finite\u001b[0m\u001b[0;34m=\u001b[0m\u001b[0;34m'allow-nan'\u001b[0m\u001b[0;34m,\u001b[0m\u001b[0;34m\u001b[0m\u001b[0;34m\u001b[0m\u001b[0m\n\u001b[1;32m    592\u001b[0m                         \u001b[0mestimator\u001b[0m\u001b[0;34m=\u001b[0m\u001b[0mself\u001b[0m\u001b[0;34m,\u001b[0m\u001b[0;34m\u001b[0m\u001b[0;34m\u001b[0m\u001b[0m\n\u001b[0;32m--> 593\u001b[0;31m                         copy=True)\n\u001b[0m\u001b[1;32m    594\u001b[0m \u001b[0;34m\u001b[0m\u001b[0m\n\u001b[1;32m    595\u001b[0m         \u001b[0;31m# check to see if there are any null values, and if\u001b[0m\u001b[0;34m\u001b[0m\u001b[0;34m\u001b[0m\u001b[0;34m\u001b[0m\u001b[0m\n",
      "\u001b[0;32m/opt/conda/lib/python3.7/site-packages/sklearn/utils/validation.py\u001b[0m in \u001b[0;36mcheck_array\u001b[0;34m(array, accept_sparse, accept_large_sparse, dtype, order, copy, force_all_finite, ensure_2d, allow_nd, ensure_min_samples, ensure_min_features, warn_on_dtype, estimator)\u001b[0m\n\u001b[1;32m    584\u001b[0m                              \u001b[0;34m\" minimum of %d is required%s.\"\u001b[0m\u001b[0;34m\u001b[0m\u001b[0;34m\u001b[0m\u001b[0m\n\u001b[1;32m    585\u001b[0m                              % (n_samples, array.shape, ensure_min_samples,\n\u001b[0;32m--> 586\u001b[0;31m                                 context))\n\u001b[0m\u001b[1;32m    587\u001b[0m \u001b[0;34m\u001b[0m\u001b[0m\n\u001b[1;32m    588\u001b[0m     \u001b[0;32mif\u001b[0m \u001b[0mensure_min_features\u001b[0m \u001b[0;34m>\u001b[0m \u001b[0;36m0\u001b[0m \u001b[0;32mand\u001b[0m \u001b[0marray\u001b[0m\u001b[0;34m.\u001b[0m\u001b[0mndim\u001b[0m \u001b[0;34m==\u001b[0m \u001b[0;36m2\u001b[0m\u001b[0;34m:\u001b[0m\u001b[0;34m\u001b[0m\u001b[0;34m\u001b[0m\u001b[0m\n",
      "\u001b[0;31mValueError\u001b[0m: Found array with 0 sample(s) (shape=(0, 9)) while a minimum of 1 is required by FactorAnalyzer."
     ]
    }
   ],
   "source": [
    "fa_sexdissa_w6_m.fit(sexdissa_w6_m)"
   ]
  },
  {
   "cell_type": "code",
   "execution_count": null,
   "metadata": {},
   "outputs": [],
   "source": [
    "ev_sexdissa_w6_m, v_sexdissa_w6_m = fa_sexdissa_w6_m.get_eigenvalues()"
   ]
  },
  {
   "cell_type": "code",
   "execution_count": null,
   "metadata": {},
   "outputs": [],
   "source": [
    "plt.scatter(range(1, sexdissa_w6_m.shape[1]+1), ev_sexdissa_w6_m)\n",
    "plt.plot(range(1, sexdissa_w6_m.shape[1]+1), ev_sexdissa_w6_m)\n",
    "plt.title('Scree Plot')\n",
    "plt.xlabel('Factors')\n",
    "plt.ylabel('Eigenvalue')\n",
    "plt.grid()\n",
    "plt.show()"
   ]
  },
  {
   "cell_type": "markdown",
   "metadata": {},
   "source": [
    "* sexdissa_w6_f"
   ]
  },
  {
   "cell_type": "code",
   "execution_count": null,
   "metadata": {},
   "outputs": [],
   "source": [
    "chi_square_value_sexdissa_w6_f, p_value_value_sexdissa_w6_f = calculate_bartlett_sphericity(sexdissa_w6_f)"
   ]
  },
  {
   "cell_type": "code",
   "execution_count": null,
   "metadata": {},
   "outputs": [],
   "source": [
    "chi_square_value_value_sexdissa_w6_f, p_value_value_sexdissa_w6_f"
   ]
  },
  {
   "cell_type": "code",
   "execution_count": null,
   "metadata": {},
   "outputs": [],
   "source": [
    "kmo_all_value_sexdissa_w6_f, kmo_model_value_sexdissa_w6_f = calculate_kmo(sexdissa_w6_f)"
   ]
  },
  {
   "cell_type": "code",
   "execution_count": null,
   "metadata": {},
   "outputs": [],
   "source": [
    "kmo_all_value_sexdissa_w6_f"
   ]
  },
  {
   "cell_type": "code",
   "execution_count": null,
   "metadata": {},
   "outputs": [],
   "source": [
    "kmo_model_value_sexdissa_w6_f"
   ]
  },
  {
   "cell_type": "code",
   "execution_count": null,
   "metadata": {},
   "outputs": [],
   "source": [
    "fa_sexdissa_w6_f= FactorAnalyzer(bounds=(0.005, 1), impute='drop', is_corr_matrix=False,\n",
    "               method='minres', n_factors=3, rotation='promax',\n",
    "               rotation_kwargs={}, use_smc=True)"
   ]
  },
  {
   "cell_type": "code",
   "execution_count": null,
   "metadata": {},
   "outputs": [],
   "source": [
    "fa_sexdissa_w6_f.fit(sexdissa_w6_f)"
   ]
  },
  {
   "cell_type": "code",
   "execution_count": null,
   "metadata": {},
   "outputs": [],
   "source": [
    "ev_sexdissa_w6_f, v_sexdissa_w6_f = fa_sexdissa_w6_f.get_eigenvalues()"
   ]
  },
  {
   "cell_type": "code",
   "execution_count": null,
   "metadata": {},
   "outputs": [],
   "source": [
    "plt.scatter(range(1, sexdissa_w6_f.shape[1]+1), ev_sexdissa_w6_f)\n",
    "plt.plot(range(1, sexdissa_w6_f.shape[1]+1), ev_sexdissa_w6_f)\n",
    "plt.title('Scree Plot')\n",
    "plt.xlabel('Factors')\n",
    "plt.ylabel('Eigenvalue')\n",
    "plt.grid()\n",
    "plt.show()"
   ]
  },
  {
   "cell_type": "markdown",
   "metadata": {},
   "source": [
    "### 9.2) Ola 8"
   ]
  },
  {
   "cell_type": "code",
   "execution_count": null,
   "metadata": {},
   "outputs": [],
   "source": []
  }
 ],
 "metadata": {
  "kernelspec": {
   "display_name": "Python 3",
   "language": "python",
   "name": "python3"
  },
  "language_info": {
   "codemirror_mode": {
    "name": "ipython",
    "version": 3
   },
   "file_extension": ".py",
   "mimetype": "text/x-python",
   "name": "python",
   "nbconvert_exporter": "python",
   "pygments_lexer": "ipython3",
   "version": "3.7.6"
  }
 },
 "nbformat": 4,
 "nbformat_minor": 4
}
