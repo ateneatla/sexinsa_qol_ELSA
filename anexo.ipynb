{
 "cells": [
  {
   "cell_type": "markdown",
   "metadata": {},
   "source": [
    "# ANEXO 1: CÓDIGO EN PYTHON PARA REPLICAR, CORREGIR, ADAPTAR..."
   ]
  },
  {
   "cell_type": "markdown",
   "metadata": {},
   "source": [
    "## 1) Instalaciones e Importaciones de Librerías Previas:"
   ]
  },
  {
   "cell_type": "markdown",
   "metadata": {},
   "source": [
    "- Instalamos el módulo necesario para leer la base de datos, que se proporcionan en SPSS"
   ]
  },
  {
   "cell_type": "code",
   "execution_count": 1,
   "metadata": {},
   "outputs": [
    {
     "name": "stdout",
     "output_type": "stream",
     "text": [
      "Requirement already satisfied: pyreadstat in /opt/conda/lib/python3.7/site-packages (1.0.1)\n",
      "Requirement already satisfied: pandas>0.24.0 in /opt/conda/lib/python3.7/site-packages (from pyreadstat) (1.0.3)\n",
      "Requirement already satisfied: pytz>=2017.2 in /opt/conda/lib/python3.7/site-packages (from pandas>0.24.0->pyreadstat) (2019.3)\n",
      "Requirement already satisfied: python-dateutil>=2.6.1 in /opt/conda/lib/python3.7/site-packages (from pandas>0.24.0->pyreadstat) (2.8.1)\n",
      "Requirement already satisfied: numpy>=1.13.3 in /opt/conda/lib/python3.7/site-packages (from pandas>0.24.0->pyreadstat) (1.18.1)\n",
      "Requirement already satisfied: six>=1.5 in /opt/conda/lib/python3.7/site-packages (from python-dateutil>=2.6.1->pandas>0.24.0->pyreadstat) (1.14.0)\n"
     ]
    }
   ],
   "source": [
    "!pip install pyreadstat"
   ]
  },
  {
   "cell_type": "markdown",
   "metadata": {},
   "source": [
    "- Instalamos el módulo necesario para hacer el análisis factorial"
   ]
  },
  {
   "cell_type": "code",
   "execution_count": 2,
   "metadata": {},
   "outputs": [
    {
     "name": "stdout",
     "output_type": "stream",
     "text": [
      "Requirement already satisfied: factor-analyzer==0.3.2 in /opt/conda/lib/python3.7/site-packages (0.3.2)\n",
      "Requirement already satisfied: numpy in /opt/conda/lib/python3.7/site-packages (from factor-analyzer==0.3.2) (1.18.1)\n",
      "Requirement already satisfied: scipy in /opt/conda/lib/python3.7/site-packages (from factor-analyzer==0.3.2) (1.4.1)\n",
      "Requirement already satisfied: scikit-learn in /opt/conda/lib/python3.7/site-packages (from factor-analyzer==0.3.2) (0.22.2.post1)\n",
      "Requirement already satisfied: pandas in /opt/conda/lib/python3.7/site-packages (from factor-analyzer==0.3.2) (1.0.3)\n",
      "Requirement already satisfied: joblib>=0.11 in /opt/conda/lib/python3.7/site-packages (from scikit-learn->factor-analyzer==0.3.2) (0.14.1)\n",
      "Requirement already satisfied: pytz>=2017.2 in /opt/conda/lib/python3.7/site-packages (from pandas->factor-analyzer==0.3.2) (2019.3)\n",
      "Requirement already satisfied: python-dateutil>=2.6.1 in /opt/conda/lib/python3.7/site-packages (from pandas->factor-analyzer==0.3.2) (2.8.1)\n",
      "Requirement already satisfied: six>=1.5 in /opt/conda/lib/python3.7/site-packages (from python-dateutil>=2.6.1->pandas->factor-analyzer==0.3.2) (1.14.0)\n"
     ]
    }
   ],
   "source": [
    "!pip install factor-analyzer==0.3.2"
   ]
  },
  {
   "cell_type": "code",
   "execution_count": 3,
   "metadata": {},
   "outputs": [
    {
     "name": "stdout",
     "output_type": "stream",
     "text": [
      "Requirement already satisfied: semopy in /opt/conda/lib/python3.7/site-packages (1.3.7)\n",
      "Requirement already satisfied: pandas in /opt/conda/lib/python3.7/site-packages (from semopy) (1.0.3)\n",
      "Requirement already satisfied: numpy in /opt/conda/lib/python3.7/site-packages (from semopy) (1.18.1)\n",
      "Requirement already satisfied: scipy in /opt/conda/lib/python3.7/site-packages (from semopy) (1.4.1)\n",
      "Requirement already satisfied: python-dateutil>=2.6.1 in /opt/conda/lib/python3.7/site-packages (from pandas->semopy) (2.8.1)\n",
      "Requirement already satisfied: pytz>=2017.2 in /opt/conda/lib/python3.7/site-packages (from pandas->semopy) (2019.3)\n",
      "Requirement already satisfied: six>=1.5 in /opt/conda/lib/python3.7/site-packages (from python-dateutil>=2.6.1->pandas->semopy) (1.14.0)\n"
     ]
    }
   ],
   "source": [
    "!pip install semopy"
   ]
  },
  {
   "cell_type": "code",
   "execution_count": 4,
   "metadata": {},
   "outputs": [
    {
     "name": "stdout",
     "output_type": "stream",
     "text": [
      "Requirement already satisfied: graphviz in /opt/conda/lib/python3.7/site-packages (0.14.1)\n",
      "Note: you may need to restart the kernel to use updated packages.\n"
     ]
    }
   ],
   "source": [
    "pip install graphviz"
   ]
  },
  {
   "cell_type": "markdown",
   "metadata": {},
   "source": [
    "- Importamos las librerías necesarias:"
   ]
  },
  {
   "cell_type": "code",
   "execution_count": 5,
   "metadata": {},
   "outputs": [],
   "source": [
    "import pandas as pd\n",
    "import numpy as np\n",
    "import scipy as sp\n",
    "import sklearn\n",
    "import matplotlib.pyplot as plt\n",
    "from sklearn import preprocessing\n",
    "from sklearn.preprocessing import MinMaxScaler\n",
    "from sklearn.linear_model import LinearRegression\n",
    "from typing import List\n",
    "from factor_analyzer.factor_analyzer import calculate_bartlett_sphericity\n",
    "from factor_analyzer.factor_analyzer import FactorAnalyzer\n",
    "from factor_analyzer.factor_analyzer import calculate_kmo\n",
    "from factor_analyzer import (ConfirmatoryFactorAnalyzer, ModelSpecificationParser)\n",
    "from scipy.stats import chi2, pearsonr\n",
    "from scipy.optimize import minimize\n",
    "from sklearn.base import BaseEstimator, TransformerMixin\n",
    "from factor_analyzer.rotator import Rotator\n",
    "from factor_analyzer.rotator import POSSIBLE_ROTATIONS, OBLIQUE_ROTATIONS\n",
    "from sklearn.utils.extmath import randomized_svd\n",
    "from sklearn.utils import check_array\n",
    "from sklearn.utils.validation import check_is_fitted\n",
    "from typing import List\n",
    "from semopy import Model\n",
    "from semopy import Optimizer\n",
    "from semopy.inspector import inspect\n",
    "from semopy.stats import calculate_p_values\n",
    "from semopy import calc_aic\n",
    "from semopy import calc_likelihood\n",
    "from semopy import gather_statistics\n",
    "from semopy.model_generator import generate_model\n",
    "import statsmodels.api as sm           \n",
    "import statsmodels.formula.api as smf\n",
    "from matplotlib import pyplot             # Permite la generación de gráficos\n",
    "from mpl_toolkits.mplot3d import Axes3D"
   ]
  },
  {
   "cell_type": "code",
   "execution_count": 6,
   "metadata": {},
   "outputs": [],
   "source": [
    "import graphviz as gv"
   ]
  },
  {
   "cell_type": "code",
   "execution_count": 7,
   "metadata": {},
   "outputs": [],
   "source": [
    "import semopy.visualization as sv"
   ]
  },
  {
   "cell_type": "markdown",
   "metadata": {},
   "source": [
    "## 2) Cargamos bases de datos de la ola 6 y la ola 8 de ELSA"
   ]
  },
  {
   "cell_type": "markdown",
   "metadata": {},
   "source": [
    "- Ola 6"
   ]
  },
  {
   "cell_type": "code",
   "execution_count": 8,
   "metadata": {},
   "outputs": [],
   "source": [
    "w6_df: pd.core.frame.DataFrame = pd.read_spss('data/wave_6_elsa_data_v2.sav', convert_categoricals = False)"
   ]
  },
  {
   "cell_type": "markdown",
   "metadata": {},
   "source": [
    "- Ola 8"
   ]
  },
  {
   "cell_type": "code",
   "execution_count": 9,
   "metadata": {},
   "outputs": [],
   "source": [
    "w8_df: pd.core.frame.DataFrame = pd.read_spss('data/wave_8_elsa_data_eul_v2.sav', convert_categoricals = False)"
   ]
  },
  {
   "cell_type": "markdown",
   "metadata": {},
   "source": [
    "Hacemos que las filas se llamen como el número de identificación único _indaunic_ de los sujetos"
   ]
  },
  {
   "cell_type": "code",
   "execution_count": 10,
   "metadata": {},
   "outputs": [],
   "source": [
    "w6_df = w6_df.set_index('idauniq')"
   ]
  },
  {
   "cell_type": "code",
   "execution_count": 11,
   "metadata": {},
   "outputs": [],
   "source": [
    "w8_df = w8_df.set_index('idauniq')"
   ]
  },
  {
   "cell_type": "markdown",
   "metadata": {},
   "source": [
    "## 3) Construcción teórica de Cuestionarios"
   ]
  },
  {
   "cell_type": "markdown",
   "metadata": {},
   "source": [
    "Estructura y columnas de la base de datos general que los componen"
   ]
  },
  {
   "cell_type": "markdown",
   "metadata": {},
   "source": [
    "### 3.1) Ola 6"
   ]
  },
  {
   "cell_type": "markdown",
   "metadata": {},
   "source": [
    "- Casp-19 para la ola 6 -> casp19_w6"
   ]
  },
  {
   "cell_type": "code",
   "execution_count": 12,
   "metadata": {},
   "outputs": [],
   "source": [
    "casp19_w6_control = ['scqola', 'scqolb', 'scqolc', 'scqold']\n",
    "casp19_w6_autonomy = ['scqole', 'scqolf', 'scqolg', 'scqolh', 'scqoli']\n",
    "casp19_w6_pleasure = [ 'scqolj', 'scqolk', 'scqoll', 'scqolm', 'scqoln']\n",
    "casp19_w6_self_realization = ['scqolo', 'scqolp', 'scqolq', 'scqolr', 'scqols']\n",
    "\n",
    "casp19_w6_scales = [casp19_w6_control, casp19_w6_autonomy, casp19_w6_pleasure, casp19_w6_self_realization]\n",
    "\n",
    "casp19_original_values = [1, 2, 3, 4]\n",
    "casp19_reverse_items_values = [0, 1, 2, 3]\n",
    "casp19_direct_items_values = [3, 2, 1, 0]"
   ]
  },
  {
   "cell_type": "markdown",
   "metadata": {},
   "source": [
    "* Insatisfacción sexual para la ola 6 "
   ]
  },
  {
   "cell_type": "code",
   "execution_count": 13,
   "metadata": {},
   "outputs": [],
   "source": [
    "sexdissa_w6_f_cols = ['q3', 'q9', 'q10', 'q14f', 'q15f', 'q19m19f', 'q28m25f', 'q32m26f']\n",
    "sexdissa_w6_m_cols = ['q3', 'q9', 'q10', 'q13m', 'q17m', 'q19m19f', 'q21m', 'q28m25f', 'q32m26f']\n",
    "\n",
    "sexdissa_item_to_transform = ['q10'] # female and male\n",
    "sexdissa_direct_items_f = ['q3', 'q9', 'q14f', 'q15f', 'q19m19f', 'q28m25f', 'q32m26f'] # female\n",
    "sexdissa_direct_items_m =  ['q3', 'q9', 'q13m', 'q17m', 'q19m19f', 'q21m', 'q28m25f', 'q32m26f'] # male\n",
    "sexdissa_w6_q10_original_values = [1, 2, 3]\n",
    "sexdissa_w6_q10_transformed_values = [5, 0, 5]"
   ]
  },
  {
   "cell_type": "markdown",
   "metadata": {},
   "source": [
    "- Isolation para la ola 6 -> isolation_w6_df"
   ]
  },
  {
   "cell_type": "markdown",
   "metadata": {},
   "source": [
    "Nomenclatura: \n",
    ">`vip`: persona/s importantes: children, family y friends.\n",
    "\n",
    ">`has_vip`: tiene a esa persona/personas importantes. Es decir, tiene niños, familia, amigos."
   ]
  },
  {
   "cell_type": "code",
   "execution_count": 14,
   "metadata": {},
   "outputs": [],
   "source": [
    "isolation_w6_chd_items = {\n",
    "    'has_vip': ['scchd'],\n",
    "    'kind_of_contact': ['scchdg', 'scchdh', 'scchdi', 'scchdt'],\n",
    "}\n",
    "isolation_w6_fam_items = {\n",
    "    'has_vip': ['scfam'],\n",
    "    'kind_of_contact': ['scfamg', 'scfamh', 'scfami', 'scfamt'],\n",
    "}\n",
    "isolation_w6_frd_items = {\n",
    "    'has_vip': ['scfrd'],\n",
    "    'kind_of_contact': ['scfrdg', 'scfrdh', 'scfrdi', 'scfrdt'],\n",
    "}\n",
    "\n",
    "isolation_w6_org_contact = 'scorg09'\n",
    "isolation_w6_prt_contact = 'scprtr'\n",
    "\n",
    "isolation_w6_relatives = [isolation_w6_chd_items, isolation_w6_fam_items, isolation_w6_frd_items]"
   ]
  },
  {
   "cell_type": "markdown",
   "metadata": {},
   "source": [
    "* multimorbidity"
   ]
  },
  {
   "cell_type": "markdown",
   "metadata": {},
   "source": [
    "Si la persona confirma que la enfermedad registrada en el pasado está correctamente registrada (hedac-/hedbd- = yes) y que aún la tiene (hedas-/hedbs- = yes) o bien desmiente que le tuviera (hedac-/hedbd- = No) pero dice tenerla ahora ((hedan-/hedbm- = 3) o la reporta ahora (hedia-/hedib- = 1 \"mentioned\") entonces se imputará un uno sobre esa enfermedad. Si, en suma, hay más de un uno se asignará un uno a la variable de comorbilidad. "
   ]
  },
  {
   "cell_type": "code",
   "execution_count": 15,
   "metadata": {},
   "outputs": [],
   "source": [
    "cvd = ['bp', 'an', 'mi', 'hf', 'hm', 'ar', 'di', 'st', 'ch', '95']\n",
    "chr_ = ['lu', 'as', 'ar', 'os', 'ca', 'pd', 'ps', 'ad', 'de', 'bl'] # ps: psychiatric\n",
    "psy = ['ha', 'an', 'de', 'em', 'sc', 'ps', 'mo', 'ma']\n",
    "\n",
    "lex_diagnosed_fedforward_cvd = 'hedaw' \n",
    "lex_diagnosed_fedforward_chr = 'hedbw'\n",
    "# hedaw- y hedbw- puede que no las necesite\n",
    "\n",
    "lex_what_psy = 'hepsy'\n",
    "\n",
    "lex_confirm_cvd = 'hedac'\n",
    "lex_confirm_chr = 'hedbd'\n",
    "\n",
    "lex_still_has_cvd = 'hedas'\n",
    "lex_still_has_chr = 'hedbs'\n",
    "\n",
    "lex_dispute_cvd = 'hedan'\n",
    "lex_dispute_chr = 'hedbm'\n",
    "       \n",
    "lex_new_cvd = 'hedia'\n",
    "lex_new_chr = 'hedib'"
   ]
  },
  {
   "cell_type": "code",
   "execution_count": 16,
   "metadata": {},
   "outputs": [],
   "source": [
    "diagnosed_fedforward_cvd = [lex_diagnosed_fedforward_cvd + i for i in cvd]\n",
    "diagnosed_fedforward_chr = [lex_diagnosed_fedforward_chr + i for i in chr_]\n",
    "\n",
    "what_psy = [lex_what_psy + i for i in psy]\n",
    "\n",
    "still_has_cvd = [lex_still_has_cvd + i for i in cvd]\n",
    "still_has_chr = [lex_still_has_chr + i for i in chr_]\n",
    "\n",
    "\n",
    "confirm_cvd = [lex_confirm_cvd + i for i in cvd]\n",
    "confirm_chr = [lex_confirm_chr + i for i in chr_]\n",
    "\n",
    "\n",
    "dispute_cvd = [lex_dispute_cvd + i for i in cvd]\n",
    "dispute_chr = [lex_dispute_chr + i for i in chr_]\n",
    "       \n",
    "new_cvd = [lex_new_cvd + i for i in cvd]\n",
    "new_chr = [lex_new_chr + i for i in chr_]"
   ]
  },
  {
   "cell_type": "markdown",
   "metadata": {},
   "source": [
    "### 3.2) Ola 8"
   ]
  },
  {
   "cell_type": "markdown",
   "metadata": {},
   "source": [
    "- Casp-19 para la ola 8 -> casp19_w8"
   ]
  },
  {
   "cell_type": "code",
   "execution_count": 17,
   "metadata": {},
   "outputs": [],
   "source": [
    "casp19_w8_control = ['scqola', 'scqolb', 'scqolc', 'scqold']\n",
    "casp19_w8_autonomy = ['scqole', 'scqolf', 'scqolg', 'scqolh', 'scqoli']\n",
    "casp19_w8_pleasure = [ 'scqolj', 'scqolk', 'scqoll', 'scqolm', 'scqoln']\n",
    "casp19_w8_self_realization = ['scqolo', 'scqolp', 'scqolq', 'scqolr', 'scqols']\n",
    "\n",
    "casp19_w8_scales = [casp19_w6_control, casp19_w6_autonomy, casp19_w6_pleasure, casp19_w6_self_realization]\n",
    "\n",
    "casp19_original_values = [1, 2, 3, 4]\n",
    "casp19_reverse_items_values = [0, 1, 2, 3]\n",
    "casp19_w8_direct_items_values = [3, 2, 1, 0]"
   ]
  },
  {
   "cell_type": "markdown",
   "metadata": {},
   "source": [
    "## 4) Tratamiento de valores perdidos de los primeros cuestionarios:"
   ]
  },
  {
   "cell_type": "markdown",
   "metadata": {},
   "source": [
    "Lo hacemos de esta manera para teneer la mayor cantidad de sujetos posible a la hora de hacer los análisis factoriales "
   ]
  },
  {
   "cell_type": "markdown",
   "metadata": {},
   "source": [
    "### 4.1) Ola 6"
   ]
  },
  {
   "cell_type": "markdown",
   "metadata": {},
   "source": [
    "- Casp19 e Isolation: **\"-2\": \"schedule not aplicable\"** :  *Cuestionarios, compuestos por sus ítems, que van a ser revisados para eliminar sujetos que no formaban parte de la muestra en estos módulos de ELSA. 1604 sujetos no han recibido este módulo del cuestionario* "
   ]
  },
  {
   "cell_type": "markdown",
   "metadata": {},
   "source": [
    "#### Columnas, pertenecientes a cuestionarios, que van a ser limpiadas"
   ]
  },
  {
   "cell_type": "code",
   "execution_count": 18,
   "metadata": {},
   "outputs": [],
   "source": [
    "isolation_w6_cols = ['scchdg', 'scchdh', 'scchdi', 'scchdt', \n",
    "                     'scfamg', 'scfamh', 'scfami', 'scfamt', \n",
    "                     'scfrdg', 'scfrdh', 'scfrdi', 'scfrdt', \n",
    "                     'scorg09', \n",
    "                     'scprtr']\n",
    "casp19_w6_cols = ['scqola', 'scqolb', 'scqolc', 'scqold', 'scqole', \n",
    "               'scqolf', 'scqolg', 'scqolh', 'scqoli', 'scqolj', \n",
    "               'scqolk', 'scqoll', 'scqolm', 'scqoln', 'scqolo', \n",
    "               'scqolp', 'scqolq', 'scqolr', 'scqols']"
   ]
  },
  {
   "cell_type": "code",
   "execution_count": 19,
   "metadata": {},
   "outputs": [],
   "source": [
    "cols_to_clean_out_of_sample_w6 = isolation_w6_cols + casp19_w6_cols"
   ]
  },
  {
   "cell_type": "markdown",
   "metadata": {},
   "source": [
    "#### sujetos seleccionados para ser eliminados \n",
    "\n",
    "traducción: \n",
    "> Constrúyeme una variable (llamada sbj_out_of_sample) que sea igual a: me localizas en el dataframe w6_df `w6_df.loc` lo que te voy a decir: `[` construye un pandas dataframe `pd.DataFrame` con lo siguiente `(`: mira cuales cumplen `==` que son un elemento del w6_df igual a -2 `)` (eso devuelve un True o False) y hazlo para `for` cada elemento `col` en `in` la variable cols_to_clean_out_of_sample (ya definida). Hazlo si en esta lista `[]` lo hay en ALGUNA (de las columnas)`any()`. Bien, cuando lo tengas localizado `]`, coge el índice `.index()`."
   ]
  },
  {
   "cell_type": "code",
   "execution_count": 20,
   "metadata": {},
   "outputs": [
    {
     "data": {
      "text/plain": [
       "Float64Index([100021.0, 100023.0, 100025.0, 100032.0, 100052.0, 100055.0,\n",
       "              100058.0, 100061.0, 100066.0, 100091.0,\n",
       "              ...\n",
       "              166144.0, 166145.0, 166151.0, 166156.0, 166159.0, 166162.0,\n",
       "              166163.0, 700108.0, 702643.0, 703440.0],\n",
       "             dtype='float64', name='idauniq', length=1604)"
      ]
     },
     "execution_count": 20,
     "metadata": {},
     "output_type": "execute_result"
    }
   ],
   "source": [
    "sbj_out_of_sample_w6 = w6_df.loc[pd.DataFrame([(w6_df[col] == -2) for col in cols_to_clean_out_of_sample_w6]).any()].index\n",
    "sbj_out_of_sample_w6 # Resultado: Int64Index([5, 9, 16, 17, 18, 19, 62, 65, 71, 89, 91, 93, 96], dtype='int64')"
   ]
  },
  {
   "cell_type": "markdown",
   "metadata": {},
   "source": [
    "#### Construimos el dataframe sin los sujetos\n",
    "traducción:\n",
    ">Construye una variable (tipo df por cómo se compone) que sea: el dataframe w6_df quitándole `.drop` los sujetos seleccionados."
   ]
  },
  {
   "cell_type": "code",
   "execution_count": 21,
   "metadata": {},
   "outputs": [
    {
     "data": {
      "text/html": [
       "<div>\n",
       "<style scoped>\n",
       "    .dataframe tbody tr th:only-of-type {\n",
       "        vertical-align: middle;\n",
       "    }\n",
       "\n",
       "    .dataframe tbody tr th {\n",
       "        vertical-align: top;\n",
       "    }\n",
       "\n",
       "    .dataframe thead th {\n",
       "        text-align: right;\n",
       "    }\n",
       "</style>\n",
       "<table border=\"1\" class=\"dataframe\">\n",
       "  <thead>\n",
       "    <tr style=\"text-align: right;\">\n",
       "      <th></th>\n",
       "      <th>idahhw6</th>\n",
       "      <th>perid</th>\n",
       "      <th>samptyp</th>\n",
       "      <th>w6indout</th>\n",
       "      <th>W6hhout</th>\n",
       "      <th>couple</th>\n",
       "      <th>cpid</th>\n",
       "      <th>chinhh</th>\n",
       "      <th>chouthh</th>\n",
       "      <th>gcinhh</th>\n",
       "      <th>...</th>\n",
       "      <th>w6nssec8</th>\n",
       "      <th>w6nssec5</th>\n",
       "      <th>w6nssec3</th>\n",
       "      <th>W6SIC</th>\n",
       "      <th>w6soc</th>\n",
       "      <th>W6SEC</th>\n",
       "      <th>w6sic2003</th>\n",
       "      <th>w6soc2000</th>\n",
       "      <th>w6nssec13</th>\n",
       "      <th>finstatw6</th>\n",
       "    </tr>\n",
       "    <tr>\n",
       "      <th>idauniq</th>\n",
       "      <th></th>\n",
       "      <th></th>\n",
       "      <th></th>\n",
       "      <th></th>\n",
       "      <th></th>\n",
       "      <th></th>\n",
       "      <th></th>\n",
       "      <th></th>\n",
       "      <th></th>\n",
       "      <th></th>\n",
       "      <th></th>\n",
       "      <th></th>\n",
       "      <th></th>\n",
       "      <th></th>\n",
       "      <th></th>\n",
       "      <th></th>\n",
       "      <th></th>\n",
       "      <th></th>\n",
       "      <th></th>\n",
       "      <th></th>\n",
       "      <th></th>\n",
       "    </tr>\n",
       "  </thead>\n",
       "  <tbody>\n",
       "    <tr>\n",
       "      <th>100006.0</th>\n",
       "      <td>10656.0</td>\n",
       "      <td>3.0</td>\n",
       "      <td>3.0</td>\n",
       "      <td>11.0</td>\n",
       "      <td>110.0</td>\n",
       "      <td>1.0</td>\n",
       "      <td>1.0</td>\n",
       "      <td>2.0</td>\n",
       "      <td>1.0</td>\n",
       "      <td>2.0</td>\n",
       "      <td>...</td>\n",
       "      <td>6.0</td>\n",
       "      <td>5.0</td>\n",
       "      <td>3.0</td>\n",
       "      <td>1.0</td>\n",
       "      <td>1.0</td>\n",
       "      <td>1.0</td>\n",
       "      <td>89.0</td>\n",
       "      <td>82.0</td>\n",
       "      <td>12.3</td>\n",
       "      <td>5.0</td>\n",
       "    </tr>\n",
       "    <tr>\n",
       "      <th>100007.0</th>\n",
       "      <td>15127.0</td>\n",
       "      <td>4.0</td>\n",
       "      <td>3.0</td>\n",
       "      <td>11.0</td>\n",
       "      <td>110.0</td>\n",
       "      <td>2.0</td>\n",
       "      <td>1.0</td>\n",
       "      <td>2.0</td>\n",
       "      <td>1.0</td>\n",
       "      <td>2.0</td>\n",
       "      <td>...</td>\n",
       "      <td>3.0</td>\n",
       "      <td>2.0</td>\n",
       "      <td>2.0</td>\n",
       "      <td>0.0</td>\n",
       "      <td>0.0</td>\n",
       "      <td>0.0</td>\n",
       "      <td>-1.0</td>\n",
       "      <td>41.0</td>\n",
       "      <td>7.1</td>\n",
       "      <td>5.0</td>\n",
       "    </tr>\n",
       "    <tr>\n",
       "      <th>100009.0</th>\n",
       "      <td>11311.0</td>\n",
       "      <td>3.0</td>\n",
       "      <td>3.0</td>\n",
       "      <td>11.0</td>\n",
       "      <td>110.0</td>\n",
       "      <td>2.0</td>\n",
       "      <td>1.0</td>\n",
       "      <td>2.0</td>\n",
       "      <td>1.0</td>\n",
       "      <td>2.0</td>\n",
       "      <td>...</td>\n",
       "      <td>7.0</td>\n",
       "      <td>5.0</td>\n",
       "      <td>3.0</td>\n",
       "      <td>0.0</td>\n",
       "      <td>0.0</td>\n",
       "      <td>0.0</td>\n",
       "      <td>-1.0</td>\n",
       "      <td>81.0</td>\n",
       "      <td>13.4</td>\n",
       "      <td>5.0</td>\n",
       "    </tr>\n",
       "    <tr>\n",
       "      <th>100026.0</th>\n",
       "      <td>14166.0</td>\n",
       "      <td>4.0</td>\n",
       "      <td>3.0</td>\n",
       "      <td>11.0</td>\n",
       "      <td>110.0</td>\n",
       "      <td>2.0</td>\n",
       "      <td>2.0</td>\n",
       "      <td>2.0</td>\n",
       "      <td>1.0</td>\n",
       "      <td>2.0</td>\n",
       "      <td>...</td>\n",
       "      <td>4.0</td>\n",
       "      <td>3.0</td>\n",
       "      <td>2.0</td>\n",
       "      <td>0.0</td>\n",
       "      <td>0.0</td>\n",
       "      <td>0.0</td>\n",
       "      <td>-1.0</td>\n",
       "      <td>52.0</td>\n",
       "      <td>8.1</td>\n",
       "      <td>5.0</td>\n",
       "    </tr>\n",
       "    <tr>\n",
       "      <th>100039.0</th>\n",
       "      <td>12254.0</td>\n",
       "      <td>3.0</td>\n",
       "      <td>3.0</td>\n",
       "      <td>11.0</td>\n",
       "      <td>110.0</td>\n",
       "      <td>1.0</td>\n",
       "      <td>1.0</td>\n",
       "      <td>2.0</td>\n",
       "      <td>1.0</td>\n",
       "      <td>2.0</td>\n",
       "      <td>...</td>\n",
       "      <td>4.0</td>\n",
       "      <td>3.0</td>\n",
       "      <td>2.0</td>\n",
       "      <td>0.0</td>\n",
       "      <td>0.0</td>\n",
       "      <td>0.0</td>\n",
       "      <td>-1.0</td>\n",
       "      <td>12.0</td>\n",
       "      <td>9.1</td>\n",
       "      <td>5.0</td>\n",
       "    </tr>\n",
       "    <tr>\n",
       "      <th>...</th>\n",
       "      <td>...</td>\n",
       "      <td>...</td>\n",
       "      <td>...</td>\n",
       "      <td>...</td>\n",
       "      <td>...</td>\n",
       "      <td>...</td>\n",
       "      <td>...</td>\n",
       "      <td>...</td>\n",
       "      <td>...</td>\n",
       "      <td>...</td>\n",
       "      <td>...</td>\n",
       "      <td>...</td>\n",
       "      <td>...</td>\n",
       "      <td>...</td>\n",
       "      <td>...</td>\n",
       "      <td>...</td>\n",
       "      <td>...</td>\n",
       "      <td>...</td>\n",
       "      <td>...</td>\n",
       "      <td>...</td>\n",
       "      <td>...</td>\n",
       "    </tr>\n",
       "    <tr>\n",
       "      <th>701951.0</th>\n",
       "      <td>14705.0</td>\n",
       "      <td>1.0</td>\n",
       "      <td>1.0</td>\n",
       "      <td>11.0</td>\n",
       "      <td>120.0</td>\n",
       "      <td>1.0</td>\n",
       "      <td>2.0</td>\n",
       "      <td>2.0</td>\n",
       "      <td>1.0</td>\n",
       "      <td>2.0</td>\n",
       "      <td>...</td>\n",
       "      <td>7.0</td>\n",
       "      <td>5.0</td>\n",
       "      <td>3.0</td>\n",
       "      <td>0.0</td>\n",
       "      <td>0.0</td>\n",
       "      <td>0.0</td>\n",
       "      <td>-1.0</td>\n",
       "      <td>-3.0</td>\n",
       "      <td>13.4</td>\n",
       "      <td>7.0</td>\n",
       "    </tr>\n",
       "    <tr>\n",
       "      <th>704339.0</th>\n",
       "      <td>16697.0</td>\n",
       "      <td>2.0</td>\n",
       "      <td>1.0</td>\n",
       "      <td>11.0</td>\n",
       "      <td>110.0</td>\n",
       "      <td>3.0</td>\n",
       "      <td>-1.0</td>\n",
       "      <td>2.0</td>\n",
       "      <td>2.0</td>\n",
       "      <td>2.0</td>\n",
       "      <td>...</td>\n",
       "      <td>6.0</td>\n",
       "      <td>5.0</td>\n",
       "      <td>3.0</td>\n",
       "      <td>0.0</td>\n",
       "      <td>0.0</td>\n",
       "      <td>0.0</td>\n",
       "      <td>-1.0</td>\n",
       "      <td>81.0</td>\n",
       "      <td>12.4</td>\n",
       "      <td>7.0</td>\n",
       "    </tr>\n",
       "    <tr>\n",
       "      <th>705145.0</th>\n",
       "      <td>11528.0</td>\n",
       "      <td>2.0</td>\n",
       "      <td>3.0</td>\n",
       "      <td>11.0</td>\n",
       "      <td>110.0</td>\n",
       "      <td>2.0</td>\n",
       "      <td>1.0</td>\n",
       "      <td>2.0</td>\n",
       "      <td>2.0</td>\n",
       "      <td>2.0</td>\n",
       "      <td>...</td>\n",
       "      <td>2.0</td>\n",
       "      <td>1.0</td>\n",
       "      <td>1.0</td>\n",
       "      <td>0.0</td>\n",
       "      <td>0.0</td>\n",
       "      <td>0.0</td>\n",
       "      <td>-1.0</td>\n",
       "      <td>34.0</td>\n",
       "      <td>4.3</td>\n",
       "      <td>13.0</td>\n",
       "    </tr>\n",
       "    <tr>\n",
       "      <th>705927.0</th>\n",
       "      <td>14304.0</td>\n",
       "      <td>2.0</td>\n",
       "      <td>3.0</td>\n",
       "      <td>11.0</td>\n",
       "      <td>110.0</td>\n",
       "      <td>2.0</td>\n",
       "      <td>1.0</td>\n",
       "      <td>2.0</td>\n",
       "      <td>1.0</td>\n",
       "      <td>2.0</td>\n",
       "      <td>...</td>\n",
       "      <td>5.0</td>\n",
       "      <td>4.0</td>\n",
       "      <td>3.0</td>\n",
       "      <td>0.0</td>\n",
       "      <td>0.0</td>\n",
       "      <td>0.0</td>\n",
       "      <td>-1.0</td>\n",
       "      <td>42.0</td>\n",
       "      <td>10.0</td>\n",
       "      <td>21.0</td>\n",
       "    </tr>\n",
       "    <tr>\n",
       "      <th>706571.0</th>\n",
       "      <td>14346.0</td>\n",
       "      <td>3.0</td>\n",
       "      <td>3.0</td>\n",
       "      <td>11.0</td>\n",
       "      <td>110.0</td>\n",
       "      <td>2.0</td>\n",
       "      <td>1.0</td>\n",
       "      <td>2.0</td>\n",
       "      <td>2.0</td>\n",
       "      <td>2.0</td>\n",
       "      <td>...</td>\n",
       "      <td>1.0</td>\n",
       "      <td>1.0</td>\n",
       "      <td>1.0</td>\n",
       "      <td>1.0</td>\n",
       "      <td>1.0</td>\n",
       "      <td>1.0</td>\n",
       "      <td>75.0</td>\n",
       "      <td>23.0</td>\n",
       "      <td>3.1</td>\n",
       "      <td>21.0</td>\n",
       "    </tr>\n",
       "  </tbody>\n",
       "</table>\n",
       "<p>8997 rows × 6188 columns</p>\n",
       "</div>"
      ],
      "text/plain": [
       "          idahhw6  perid  samptyp  w6indout  W6hhout  couple  cpid  chinhh  \\\n",
       "idauniq                                                                      \n",
       "100006.0  10656.0    3.0      3.0      11.0    110.0     1.0   1.0     2.0   \n",
       "100007.0  15127.0    4.0      3.0      11.0    110.0     2.0   1.0     2.0   \n",
       "100009.0  11311.0    3.0      3.0      11.0    110.0     2.0   1.0     2.0   \n",
       "100026.0  14166.0    4.0      3.0      11.0    110.0     2.0   2.0     2.0   \n",
       "100039.0  12254.0    3.0      3.0      11.0    110.0     1.0   1.0     2.0   \n",
       "...           ...    ...      ...       ...      ...     ...   ...     ...   \n",
       "701951.0  14705.0    1.0      1.0      11.0    120.0     1.0   2.0     2.0   \n",
       "704339.0  16697.0    2.0      1.0      11.0    110.0     3.0  -1.0     2.0   \n",
       "705145.0  11528.0    2.0      3.0      11.0    110.0     2.0   1.0     2.0   \n",
       "705927.0  14304.0    2.0      3.0      11.0    110.0     2.0   1.0     2.0   \n",
       "706571.0  14346.0    3.0      3.0      11.0    110.0     2.0   1.0     2.0   \n",
       "\n",
       "          chouthh  gcinhh  ...  w6nssec8  w6nssec5  w6nssec3  W6SIC  w6soc  \\\n",
       "idauniq                    ...                                               \n",
       "100006.0      1.0     2.0  ...       6.0       5.0       3.0    1.0    1.0   \n",
       "100007.0      1.0     2.0  ...       3.0       2.0       2.0    0.0    0.0   \n",
       "100009.0      1.0     2.0  ...       7.0       5.0       3.0    0.0    0.0   \n",
       "100026.0      1.0     2.0  ...       4.0       3.0       2.0    0.0    0.0   \n",
       "100039.0      1.0     2.0  ...       4.0       3.0       2.0    0.0    0.0   \n",
       "...           ...     ...  ...       ...       ...       ...    ...    ...   \n",
       "701951.0      1.0     2.0  ...       7.0       5.0       3.0    0.0    0.0   \n",
       "704339.0      2.0     2.0  ...       6.0       5.0       3.0    0.0    0.0   \n",
       "705145.0      2.0     2.0  ...       2.0       1.0       1.0    0.0    0.0   \n",
       "705927.0      1.0     2.0  ...       5.0       4.0       3.0    0.0    0.0   \n",
       "706571.0      2.0     2.0  ...       1.0       1.0       1.0    1.0    1.0   \n",
       "\n",
       "          W6SEC  w6sic2003  w6soc2000  w6nssec13  finstatw6  \n",
       "idauniq                                                      \n",
       "100006.0    1.0       89.0       82.0       12.3        5.0  \n",
       "100007.0    0.0       -1.0       41.0        7.1        5.0  \n",
       "100009.0    0.0       -1.0       81.0       13.4        5.0  \n",
       "100026.0    0.0       -1.0       52.0        8.1        5.0  \n",
       "100039.0    0.0       -1.0       12.0        9.1        5.0  \n",
       "...         ...        ...        ...        ...        ...  \n",
       "701951.0    0.0       -1.0       -3.0       13.4        7.0  \n",
       "704339.0    0.0       -1.0       81.0       12.4        7.0  \n",
       "705145.0    0.0       -1.0       34.0        4.3       13.0  \n",
       "705927.0    0.0       -1.0       42.0       10.0       21.0  \n",
       "706571.0    1.0       75.0       23.0        3.1       21.0  \n",
       "\n",
       "[8997 rows x 6188 columns]"
      ]
     },
     "execution_count": 21,
     "metadata": {},
     "output_type": "execute_result"
    }
   ],
   "source": [
    "w6_without_sbj_out_of_sample_df =  w6_df.drop(sbj_out_of_sample_w6)\n",
    "w6_without_sbj_out_of_sample_df #del 88 pasa al 90 y luego al 92 porque el 89 y el 91 se eliminaron"
   ]
  },
  {
   "cell_type": "markdown",
   "metadata": {},
   "source": [
    "- Isolation: **kind_of_contact = \"-1\" \"item not applicable\" y has_vip = \"-9\" \"not answered\"**: *sujetos que van a ser eliminados porque no contestaron a si tenían VIP y el ítem de tipo de contacto no es aplicable*"
   ]
  },
  {
   "cell_type": "markdown",
   "metadata": {},
   "source": [
    "#### Columnas que se van a inspeccionar para ver qué sujetos cumplen las condiciones para ser eliminados:"
   ]
  },
  {
   "cell_type": "code",
   "execution_count": 22,
   "metadata": {},
   "outputs": [],
   "source": [
    "cols_to_clean_didnt_awr_hasvip_w6 = ['scchd', 'scfam', 'scfrd']\n",
    "cols_to_clean_kind_of_contact_not_applicable_w6 = [['scchdg', 'scchdh', 'scchdi', 'scchdt'], \n",
    "                                                ['scfamg', 'scfamh', 'scfami', 'scfamt'], \n",
    "                                                ['scfrdg', 'scfrdh', 'scfrdi', 'scfrdt']]"
   ]
  },
  {
   "cell_type": "markdown",
   "metadata": {},
   "source": [
    "#### Función que vamos a utilizar para eliminar sujetos\n",
    "Traducción: \n",
    "> Define `def` la función (llamada *delete_sbj_didnt_awr_kind_of_contact_not_applicable*) que para cada sujeto devuelva un buleano `bool` (True o False). Hazlo (devolver True) si se cumple que en algún `any` caso el sujeto no contesta (-9) a si tiene personas importantes (vip: friends, children, family) `sbj[has_vip] == -9` y a la vez `and` si alguno `any` de los sujetos tiene en la *columna* un valor de -1, lo haces para cada `[i]` lista de columnas de las *cols_to_clean_kind_of_contact_not_applicable_w6*. Y ahora, hazme todo eso que te he dicho con cada elemento `i` de has_vip y con cada elemento de *cols_to_clean_didnt_awr_hasvip_w6* dándome indice y el elemento de la lista (esto es lo que hace *enumerate*: te asocia cada i de has_vip con cada elemento de la lista a la que se refiere enumerate) "
   ]
  },
  {
   "cell_type": "code",
   "execution_count": 23,
   "metadata": {},
   "outputs": [],
   "source": [
    "def is_sbj_didnt_awr_kind_of_contact_not_applicable(sbj) -> bool:\n",
    "    return any([\n",
    "        sbj[has_vip] == -9 and any([\n",
    "            sbj[col] == -1 for col in cols_to_clean_kind_of_contact_not_applicable_w6[i]])\n",
    "        for i, has_vip in enumerate(cols_to_clean_didnt_awr_hasvip_w6)])"
   ]
  },
  {
   "cell_type": "markdown",
   "metadata": {},
   "source": [
    "reducimos de nuevo el dataframe, sobre el que ya estaba reducido, esta vez para eliminar los nuevos sujetos seleccionados:"
   ]
  },
  {
   "cell_type": "markdown",
   "metadata": {},
   "source": [
    "#### Construimos El data frame is_sbj_didnt_awr_kind_of_contact_not_applicable_w6_df aplicando \n",
    "Traducción: \n",
    "> "
   ]
  },
  {
   "cell_type": "code",
   "execution_count": 24,
   "metadata": {},
   "outputs": [],
   "source": [
    "is_sbj_didnt_awr_kind_of_contact_not_applicable_w6_df = w6_without_sbj_out_of_sample_df.apply(\n",
    "                                                            is_sbj_didnt_awr_kind_of_contact_not_applicable\n",
    "                                                            ,\n",
    "                                                            axis=1)\n",
    "w6_without_sbj_didnt_awr_kind_of_contact_not_applicable_df = w6_without_sbj_out_of_sample_df.loc[\n",
    "    is_sbj_didnt_awr_kind_of_contact_not_applicable_w6_df == False]"
   ]
  },
  {
   "cell_type": "code",
   "execution_count": 25,
   "metadata": {},
   "outputs": [],
   "source": [
    "# w6_without_sbj_didnt_awr_kind_of_contact_not_applicable_df"
   ]
  },
  {
   "cell_type": "markdown",
   "metadata": {},
   "source": [
    "- Isolation: **has_vip = \"1\" \"yes\" y kind_of_contact = \"-9\" \"not answered\"**: *sujetos que tienen vip pero no contestan a alguna de las preguntas. Tenemos que calcular su puntuación basándonos en el resto de respuestas.*"
   ]
  },
  {
   "cell_type": "code",
   "execution_count": 26,
   "metadata": {},
   "outputs": [],
   "source": [
    "def sustitution_missing_kind_of_contact(sbj,scale: dict) -> [0, 1]: \n",
    "    return 0 if (any([\n",
    "        sbj[scale['kind_of_contact']] == -9 and any([\n",
    "            sbj[col] == 0 for col in kind_of_contact])])) else 1 if any([\n",
    "                sbj[scale['kind_of_contact']] == -9 and all([\n",
    "                    sbj[col] == 1 for col in kind_of_contact])\n",
    "                ]) else 0 #16"
   ]
  },
  {
   "cell_type": "markdown",
   "metadata": {},
   "source": [
    "- Isolation: **Has_vip = \"2\" \"No\" y kind_of_contact = \"-1\" \"item not applicable\"**: *sujetos que no tienen vip y lógicamente no tienen ningún tipo de contacto con ese vip. Debemos imputar directamente un punto de isolation para esta subescala. El tratamiento se hace directamente en la construcción del cuestionario.* "
   ]
  },
  {
   "cell_type": "markdown",
   "metadata": {},
   "source": [
    "- Eliminamos a los sujetos menores de 50 años"
   ]
  },
  {
   "cell_type": "code",
   "execution_count": 27,
   "metadata": {},
   "outputs": [],
   "source": [
    "#18"
   ]
  },
  {
   "cell_type": "markdown",
   "metadata": {},
   "source": [
    "- En CASP-19 no han contestado a alguna de las preguntas (-9) dentro de las subescalas"
   ]
  },
  {
   "cell_type": "code",
   "execution_count": 28,
   "metadata": {},
   "outputs": [],
   "source": [
    "#19"
   ]
  },
  {
   "cell_type": "markdown",
   "metadata": {},
   "source": [
    "#### ( ! )  Base de datos limpiada de valores perdidos de los primeros cuestionarios de ola 6"
   ]
  },
  {
   "cell_type": "code",
   "execution_count": 29,
   "metadata": {},
   "outputs": [],
   "source": [
    "w6_first_cleaned_df = w6_without_sbj_didnt_awr_kind_of_contact_not_applicable_df  #20"
   ]
  },
  {
   "cell_type": "code",
   "execution_count": 30,
   "metadata": {},
   "outputs": [
    {
     "data": {
      "text/plain": [
       "8907"
      ]
     },
     "execution_count": 30,
     "metadata": {},
     "output_type": "execute_result"
    }
   ],
   "source": [
    "len(w6_first_cleaned_df)"
   ]
  },
  {
   "cell_type": "markdown",
   "metadata": {},
   "source": [
    "### 4.2) Ola 8 "
   ]
  },
  {
   "cell_type": "markdown",
   "metadata": {},
   "source": [
    "- Casp-19: **\"-2\": \"Self-completion instrument not completed\"** :  *Cuestionarios, compuestos por sus ítems, que van a ser revisados para eliminar sujetos que no formaban parte de la muestra en estos módulos de ELSA. 1223 sujetos no han recibido este módulo del cuestionario* "
   ]
  },
  {
   "cell_type": "markdown",
   "metadata": {},
   "source": [
    "#### Columnas, pertenecientes al cuestionario, que van a ser limpiadas"
   ]
  },
  {
   "cell_type": "code",
   "execution_count": 31,
   "metadata": {},
   "outputs": [],
   "source": [
    "casp19_w8_cols = ['scqola', 'scqolb', 'scqolc', 'scqold', 'scqole', \n",
    "               'scqolf', 'scqolg', 'scqolh', 'scqoli', 'scqolj', \n",
    "               'scqolk', 'scqoll', 'scqolm', 'scqoln', 'scqolo', \n",
    "               'scqolp', 'scqolq', 'scqolr', 'scqols']"
   ]
  },
  {
   "cell_type": "code",
   "execution_count": 32,
   "metadata": {},
   "outputs": [],
   "source": [
    "cols_to_clean_out_of_sample_w8 = casp19_w8_cols"
   ]
  },
  {
   "cell_type": "markdown",
   "metadata": {},
   "source": [
    "#### sujetos seleccionados para ser eliminados \n",
    "\n",
    "traducción: \n",
    "> Constrúyeme una variable (llamada sbj_out_of_sample) que sea igual a: me localizas en el dataframe w8_df `w8_df.loc` lo que te voy a decir: `[` construye un pandas dataframe `pd.DataFrame` con lo siguiente `(`: mira cuales cumplen `==` que son un elemento del w8_df igual a -2 `)` (eso devuelve un True o False) y hazlo para `for` cada elemento `col` en `in` la variable cols_to_clean_out_of_sample_w8 (ya definida). Hazlo si en esta lista `[]` lo hay en ALGUNA (de las columnas)`any()`. Bien, cuando lo tengas localizado `]`, coge el índice `.index()`."
   ]
  },
  {
   "cell_type": "code",
   "execution_count": 33,
   "metadata": {},
   "outputs": [
    {
     "data": {
      "text/plain": [
       "Float64Index([105658.0, 118789.0, 105715.0, 111858.0, 116830.0, 118101.0,\n",
       "              120723.0, 165673.0, 165830.0, 161939.0,\n",
       "              ...\n",
       "              108444.0, 161899.0, 165057.0, 165179.0, 160035.0, 106557.0,\n",
       "              166060.0, 106604.0, 116937.0, 119087.0],\n",
       "             dtype='float64', name='idauniq', length=1223)"
      ]
     },
     "execution_count": 33,
     "metadata": {},
     "output_type": "execute_result"
    }
   ],
   "source": [
    "sbj_out_of_sample_w8 = w8_df.loc[pd.DataFrame([(w8_df[col] == -2) for col in cols_to_clean_out_of_sample_w8]).any()].index\n",
    "sbj_out_of_sample_w8 "
   ]
  },
  {
   "cell_type": "markdown",
   "metadata": {},
   "source": [
    "#### Construimos el dataframe sin los sujetos\n",
    "traducción:\n",
    ">Construye una variable (tipo df por cómo se compone) que sea: el dataframe w8_df quitándole `.drop` los sujetos seleccionados."
   ]
  },
  {
   "cell_type": "code",
   "execution_count": 34,
   "metadata": {},
   "outputs": [
    {
     "data": {
      "text/html": [
       "<div>\n",
       "<style scoped>\n",
       "    .dataframe tbody tr th:only-of-type {\n",
       "        vertical-align: middle;\n",
       "    }\n",
       "\n",
       "    .dataframe tbody tr th {\n",
       "        vertical-align: top;\n",
       "    }\n",
       "\n",
       "    .dataframe thead th {\n",
       "        text-align: right;\n",
       "    }\n",
       "</style>\n",
       "<table border=\"1\" class=\"dataframe\">\n",
       "  <thead>\n",
       "    <tr style=\"text-align: right;\">\n",
       "      <th></th>\n",
       "      <th>idahhw8</th>\n",
       "      <th>perid</th>\n",
       "      <th>samptyp</th>\n",
       "      <th>finstat</th>\n",
       "      <th>w8indout</th>\n",
       "      <th>w8hhout</th>\n",
       "      <th>w8scout</th>\n",
       "      <th>w8sscout</th>\n",
       "      <th>w8nurout</th>\n",
       "      <th>w8bsout</th>\n",
       "      <th>...</th>\n",
       "      <th>w8nssec5</th>\n",
       "      <th>w8nssec3</th>\n",
       "      <th>w8soc2000r</th>\n",
       "      <th>w8sic2003r</th>\n",
       "      <th>gor</th>\n",
       "      <th>w8w1lwgt</th>\n",
       "      <th>w8w4lwgt</th>\n",
       "      <th>w8xwgt</th>\n",
       "      <th>w8scwt</th>\n",
       "      <th>w8sscwt</th>\n",
       "    </tr>\n",
       "    <tr>\n",
       "      <th>idauniq</th>\n",
       "      <th></th>\n",
       "      <th></th>\n",
       "      <th></th>\n",
       "      <th></th>\n",
       "      <th></th>\n",
       "      <th></th>\n",
       "      <th></th>\n",
       "      <th></th>\n",
       "      <th></th>\n",
       "      <th></th>\n",
       "      <th></th>\n",
       "      <th></th>\n",
       "      <th></th>\n",
       "      <th></th>\n",
       "      <th></th>\n",
       "      <th></th>\n",
       "      <th></th>\n",
       "      <th></th>\n",
       "      <th></th>\n",
       "      <th></th>\n",
       "      <th></th>\n",
       "    </tr>\n",
       "  </thead>\n",
       "  <tbody>\n",
       "    <tr>\n",
       "      <th>103727.0</th>\n",
       "      <td>10002.0</td>\n",
       "      <td>2.0</td>\n",
       "      <td>1.0</td>\n",
       "      <td>1.0</td>\n",
       "      <td>11.0</td>\n",
       "      <td>110.0</td>\n",
       "      <td>1.0</td>\n",
       "      <td>1.0</td>\n",
       "      <td>81.0</td>\n",
       "      <td>1.0</td>\n",
       "      <td>...</td>\n",
       "      <td>4.0</td>\n",
       "      <td>3.0</td>\n",
       "      <td>51.0</td>\n",
       "      <td>-1.0</td>\n",
       "      <td>E12000001</td>\n",
       "      <td>0.726805</td>\n",
       "      <td>0.707588</td>\n",
       "      <td>0.460668</td>\n",
       "      <td>0.418755</td>\n",
       "      <td>0.366849</td>\n",
       "    </tr>\n",
       "    <tr>\n",
       "      <th>108340.0</th>\n",
       "      <td>10002.0</td>\n",
       "      <td>1.0</td>\n",
       "      <td>1.0</td>\n",
       "      <td>1.0</td>\n",
       "      <td>11.0</td>\n",
       "      <td>110.0</td>\n",
       "      <td>1.0</td>\n",
       "      <td>1.0</td>\n",
       "      <td>81.0</td>\n",
       "      <td>1.0</td>\n",
       "      <td>...</td>\n",
       "      <td>3.0</td>\n",
       "      <td>2.0</td>\n",
       "      <td>51.0</td>\n",
       "      <td>-1.0</td>\n",
       "      <td>E12000001</td>\n",
       "      <td>0.667511</td>\n",
       "      <td>0.558893</td>\n",
       "      <td>0.472017</td>\n",
       "      <td>0.436436</td>\n",
       "      <td>0.378744</td>\n",
       "    </tr>\n",
       "    <tr>\n",
       "      <th>104135.0</th>\n",
       "      <td>10003.0</td>\n",
       "      <td>1.0</td>\n",
       "      <td>1.0</td>\n",
       "      <td>1.0</td>\n",
       "      <td>11.0</td>\n",
       "      <td>110.0</td>\n",
       "      <td>1.0</td>\n",
       "      <td>1.0</td>\n",
       "      <td>81.0</td>\n",
       "      <td>1.0</td>\n",
       "      <td>...</td>\n",
       "      <td>1.0</td>\n",
       "      <td>1.0</td>\n",
       "      <td>21.0</td>\n",
       "      <td>-1.0</td>\n",
       "      <td>E12000002</td>\n",
       "      <td>1.243204</td>\n",
       "      <td>1.097153</td>\n",
       "      <td>1.004807</td>\n",
       "      <td>1.088989</td>\n",
       "      <td>0.969467</td>\n",
       "    </tr>\n",
       "    <tr>\n",
       "      <th>151543.0</th>\n",
       "      <td>10004.0</td>\n",
       "      <td>2.0</td>\n",
       "      <td>1.0</td>\n",
       "      <td>7.0</td>\n",
       "      <td>11.0</td>\n",
       "      <td>110.0</td>\n",
       "      <td>1.0</td>\n",
       "      <td>1.0</td>\n",
       "      <td>81.0</td>\n",
       "      <td>1.0</td>\n",
       "      <td>...</td>\n",
       "      <td>1.0</td>\n",
       "      <td>1.0</td>\n",
       "      <td>23.0</td>\n",
       "      <td>80.0</td>\n",
       "      <td>E12000005</td>\n",
       "      <td>NaN</td>\n",
       "      <td>0.739323</td>\n",
       "      <td>0.515670</td>\n",
       "      <td>0.484590</td>\n",
       "      <td>0.450215</td>\n",
       "    </tr>\n",
       "    <tr>\n",
       "      <th>151605.0</th>\n",
       "      <td>10004.0</td>\n",
       "      <td>1.0</td>\n",
       "      <td>5.0</td>\n",
       "      <td>11.0</td>\n",
       "      <td>11.0</td>\n",
       "      <td>110.0</td>\n",
       "      <td>1.0</td>\n",
       "      <td>3.0</td>\n",
       "      <td>-1.0</td>\n",
       "      <td>-1.0</td>\n",
       "      <td>...</td>\n",
       "      <td>1.0</td>\n",
       "      <td>1.0</td>\n",
       "      <td>21.0</td>\n",
       "      <td>-1.0</td>\n",
       "      <td>E12000005</td>\n",
       "      <td>NaN</td>\n",
       "      <td>NaN</td>\n",
       "      <td>NaN</td>\n",
       "      <td>NaN</td>\n",
       "      <td>NaN</td>\n",
       "    </tr>\n",
       "  </tbody>\n",
       "</table>\n",
       "<p>5 rows × 6391 columns</p>\n",
       "</div>"
      ],
      "text/plain": [
       "          idahhw8  perid  samptyp  finstat  w8indout  w8hhout  w8scout  \\\n",
       "idauniq                                                                  \n",
       "103727.0  10002.0    2.0      1.0      1.0      11.0    110.0      1.0   \n",
       "108340.0  10002.0    1.0      1.0      1.0      11.0    110.0      1.0   \n",
       "104135.0  10003.0    1.0      1.0      1.0      11.0    110.0      1.0   \n",
       "151543.0  10004.0    2.0      1.0      7.0      11.0    110.0      1.0   \n",
       "151605.0  10004.0    1.0      5.0     11.0      11.0    110.0      1.0   \n",
       "\n",
       "          w8sscout  w8nurout  w8bsout  ...  w8nssec5  w8nssec3  w8soc2000r  \\\n",
       "idauniq                                ...                                   \n",
       "103727.0       1.0      81.0      1.0  ...       4.0       3.0        51.0   \n",
       "108340.0       1.0      81.0      1.0  ...       3.0       2.0        51.0   \n",
       "104135.0       1.0      81.0      1.0  ...       1.0       1.0        21.0   \n",
       "151543.0       1.0      81.0      1.0  ...       1.0       1.0        23.0   \n",
       "151605.0       3.0      -1.0     -1.0  ...       1.0       1.0        21.0   \n",
       "\n",
       "          w8sic2003r        gor  w8w1lwgt  w8w4lwgt    w8xwgt    w8scwt  \\\n",
       "idauniq                                                                   \n",
       "103727.0        -1.0  E12000001  0.726805  0.707588  0.460668  0.418755   \n",
       "108340.0        -1.0  E12000001  0.667511  0.558893  0.472017  0.436436   \n",
       "104135.0        -1.0  E12000002  1.243204  1.097153  1.004807  1.088989   \n",
       "151543.0        80.0  E12000005       NaN  0.739323  0.515670  0.484590   \n",
       "151605.0        -1.0  E12000005       NaN       NaN       NaN       NaN   \n",
       "\n",
       "           w8sscwt  \n",
       "idauniq             \n",
       "103727.0  0.366849  \n",
       "108340.0  0.378744  \n",
       "104135.0  0.969467  \n",
       "151543.0  0.450215  \n",
       "151605.0       NaN  \n",
       "\n",
       "[5 rows x 6391 columns]"
      ]
     },
     "execution_count": 34,
     "metadata": {},
     "output_type": "execute_result"
    }
   ],
   "source": [
    "w8_without_sbj_out_of_sample_df =  w8_df.drop(sbj_out_of_sample_w8)\n",
    "w8_without_sbj_out_of_sample_df.head()"
   ]
  },
  {
   "cell_type": "markdown",
   "metadata": {},
   "source": [
    "- Eliminamos a los sujetos menores de 50 años"
   ]
  },
  {
   "cell_type": "code",
   "execution_count": 35,
   "metadata": {},
   "outputs": [],
   "source": [
    "#27"
   ]
  },
  {
   "cell_type": "markdown",
   "metadata": {},
   "source": [
    "- En CASP-19 no han contestado a alguna de las preguntas (-9) dentro de las subescalas"
   ]
  },
  {
   "cell_type": "code",
   "execution_count": 36,
   "metadata": {},
   "outputs": [],
   "source": [
    "#28"
   ]
  },
  {
   "cell_type": "markdown",
   "metadata": {},
   "source": [
    "#### ( ! )  Base de datos limpiada de valores perdidos de los primeros cuestionarios de ola 8"
   ]
  },
  {
   "cell_type": "code",
   "execution_count": 37,
   "metadata": {},
   "outputs": [],
   "source": [
    "w8_first_cleaned_df = w8_without_sbj_out_of_sample_df  # sustituir por la última reducción del dataframe"
   ]
  },
  {
   "cell_type": "code",
   "execution_count": 38,
   "metadata": {},
   "outputs": [
    {
     "data": {
      "text/plain": [
       "7222"
      ]
     },
     "execution_count": 38,
     "metadata": {},
     "output_type": "execute_result"
    }
   ],
   "source": [
    "len(w8_first_cleaned_df)"
   ]
  },
  {
   "cell_type": "markdown",
   "metadata": {},
   "source": [
    " ## 5) Construcción funcional de los cuestionarios Casp-19, isolation y multimorbidity."
   ]
  },
  {
   "cell_type": "markdown",
   "metadata": {},
   "source": [
    "### 5.1) Ola 6"
   ]
  },
  {
   "cell_type": "markdown",
   "metadata": {},
   "source": [
    "- Cuestionario CASP-19 en ola 6"
   ]
  },
  {
   "cell_type": "markdown",
   "metadata": {},
   "source": [
    "#### Especificamos los ítems directos e inversos"
   ]
  },
  {
   "cell_type": "code",
   "execution_count": 39,
   "metadata": {},
   "outputs": [],
   "source": [
    "casp19_reverse_items = [\n",
    "    'scqola', \n",
    "    'scqolb',\n",
    "    'scqold', \n",
    "    'scqolf',\n",
    "    'scqolh', \n",
    "    'scqoli',\n",
    "]\n",
    "casp19_direct_items = [\n",
    "    'scqolc', \n",
    "    'scqole', \n",
    "    'scqolg',\n",
    "    'scqolj',\n",
    "    'scqolk',\n",
    "    'scqoll',\n",
    "    'scqolm',\n",
    "    'scqoln', \n",
    "    'scqolo', \n",
    "    'scqolp',\n",
    "    'scqolq', \n",
    "    'scqolr',\n",
    "    'scqols',\n",
    "]"
   ]
  },
  {
   "cell_type": "markdown",
   "metadata": {},
   "source": [
    "#### Construinmos las funciones que aplicaremos a los sujetos para crear el cuestionario"
   ]
  },
  {
   "cell_type": "markdown",
   "metadata": {},
   "source": [
    "Debe tenerse en cuenta que los valores originales en la base de datos están codificados como 1 = often, 2 = Sometimes, 3 = No often y 4 = Never; y el cuestionario debe ofrecer una puntuación mayor cuanto mayor sea la calidad de vida del sujeto. De tal manera que un ítem inverso como *I feel that what happens to me is out of my control* (calificado como inverso) si es respondido con *often* se le ha asignado un valor de 1 en la base de datos. "
   ]
  },
  {
   "cell_type": "markdown",
   "metadata": {},
   "source": [
    "Traducción\n",
    "> Definimos la función que obtiene las puntuaciones para los ítems inversos cuando ofrecemos un valor `x` que podrá ser un 1, 2, 3 o 4 `:[1, 2, 3, 4]` y obtendremos en su lugar '->' una puntuación para el ítem de 0, 1, 2 o 3 `:`. devolverá `return` ese valor menos uno. "
   ]
  },
  {
   "cell_type": "code",
   "execution_count": 40,
   "metadata": {},
   "outputs": [],
   "source": [
    "def get_reverse_item(x: [1, 2, 3, 4]) -> [0, 1, 2, 3]:\n",
    "    return x - 1"
   ]
  },
  {
   "cell_type": "markdown",
   "metadata": {},
   "source": [
    "Traducción\n",
    "> Definimos la función que obtiene las puntuaciones para los ítems directos cuando ofrecemos un valor `x` que podrá ser un 1, 2, 3 o 4 `:[1, 2, 3, 4]` y obtendremos en su lugar '->' una puntuación para el ítem de 0, 1, 2 o 3 `:`. En este caso devolverá un 0 donde había un 4, un 1 donde había un 3, etc. "
   ]
  },
  {
   "cell_type": "code",
   "execution_count": 41,
   "metadata": {},
   "outputs": [],
   "source": [
    "def get_direct_item(x: [1, 2, 3, 4]) -> [3, 2, 1, 0]:\n",
    "    return (x - 4) * (-1)"
   ]
  },
  {
   "cell_type": "markdown",
   "metadata": {},
   "source": [
    "Traducción\n",
    "> Definimos la función que calculará la puntuación del cuestionario CASP-19 para la ola 6 que dará como resultado un único valor entero comprendido entre cero y 57. \n",
    "Esta función devuelve `return` la suma de dos elementos: El primero se obtiene de aplicar la función get_reverse_ item a cada valor *reverse_item* de cada sujeto para cada valor de item reverso de la lista de items inversos. El segundo elemento de la suma se obtiene de aplicar la función get_direct_item a cada valor *direct_item* de cada sujeto para cada ítem directo de la lista de ítems directos del CASP-19 de la ola 6"
   ]
  },
  {
   "cell_type": "markdown",
   "metadata": {},
   "source": [
    "Función para obtener los tems transformados del cuestionario CASP-19_w6"
   ]
  },
  {
   "cell_type": "code",
   "execution_count": 42,
   "metadata": {},
   "outputs": [],
   "source": [
    "def transform_casp19_items(sbj) -> List[int]:  # int -> [0, 1, 2, 3]\n",
    "    return ([get_reverse_item(sbj[reverse_item]) for reverse_item in casp19_reverse_items] +\n",
    "     [get_direct_item(sbj[direct_item]) for direct_item in casp19_direct_items])"
   ]
  },
  {
   "cell_type": "markdown",
   "metadata": {},
   "source": [
    "Función para calcular el valor del cuestionario CASP-19"
   ]
  },
  {
   "cell_type": "code",
   "execution_count": 43,
   "metadata": {},
   "outputs": [],
   "source": [
    "def calc_casp19(sbj) -> list(range(57)):\n",
    "    return sum([get_reverse_item(sbj[reverse_item]) for reverse_item in casp19_reverse_items] +\n",
    "     [get_direct_item(sbj[direct_item]) for direct_item in casp19_direct_items])"
   ]
  },
  {
   "cell_type": "markdown",
   "metadata": {},
   "source": [
    "#### Obtenemos los items del cuestionario CASP-19"
   ]
  },
  {
   "cell_type": "code",
   "execution_count": 44,
   "metadata": {},
   "outputs": [],
   "source": [
    "items_casp19_w6_df = w6_first_cleaned_df.apply(transform_casp19_items, axis=1, result_type='expand')"
   ]
  },
  {
   "cell_type": "markdown",
   "metadata": {},
   "source": [
    "#### Creamos el cuestionario aplicando las funciones para su creación"
   ]
  },
  {
   "cell_type": "code",
   "execution_count": 45,
   "metadata": {},
   "outputs": [],
   "source": [
    "casp19_w6 = w6_first_cleaned_df.apply(calc_casp19, axis=1)"
   ]
  },
  {
   "cell_type": "code",
   "execution_count": 46,
   "metadata": {},
   "outputs": [
    {
     "data": {
      "text/plain": [
       "idauniq\n",
       "100006.0    37.0\n",
       "100007.0    50.0\n",
       "100009.0    42.0\n",
       "100026.0    42.0\n",
       "100039.0    21.0\n",
       "            ... \n",
       "701951.0    40.0\n",
       "704339.0    42.0\n",
       "705145.0    38.0\n",
       "705927.0    41.0\n",
       "706571.0    54.0\n",
       "Length: 8907, dtype: float64"
      ]
     },
     "execution_count": 46,
     "metadata": {},
     "output_type": "execute_result"
    }
   ],
   "source": [
    "casp19_w6"
   ]
  },
  {
   "cell_type": "markdown",
   "metadata": {},
   "source": [
    "- Isolation para la ola 6 -> isolation_w6_df   "
   ]
  },
  {
   "cell_type": "code",
   "execution_count": 47,
   "metadata": {},
   "outputs": [],
   "source": [
    "#59"
   ]
  },
  {
   "cell_type": "markdown",
   "metadata": {},
   "source": [
    "#### Función que dicotomiza una respuesta likert "
   ]
  },
  {
   "cell_type": "code",
   "execution_count": 48,
   "metadata": {},
   "outputs": [],
   "source": [
    "def dichotomize_item(likert_answer: int) -> [0, 1]: \n",
    "       return 0 if likert_answer in range(1, 3 + 1) \\\n",
    "        else 1 if likert_answer in range(4, 6 + 1) else 0 #29"
   ]
  },
  {
   "cell_type": "markdown",
   "metadata": {},
   "source": [
    "#### Funcion que reduce las subescalas con múltiples items a subescalas con un solo item y además es dicotómica"
   ]
  },
  {
   "cell_type": "code",
   "execution_count": 49,
   "metadata": {},
   "outputs": [],
   "source": [
    "def reduce_scale_to_one_item(sbj, scale: dict) -> [0, 1]: \n",
    "    if sbj[scale['has_vip']][0] == 2: #17\n",
    "        return 1\n",
    "    else:\n",
    "        relative_inters = [dichotomize_item(sbj[item]) for item in scale['kind_of_contact']]  \n",
    "        relative = 1 if all([relative_inter == 1 for relative_inter in relative_inters]) else 0\n",
    "    return relative"
   ]
  },
  {
   "cell_type": "markdown",
   "metadata": {},
   "source": [
    "#### Funcion que dicotomiza una respuesta simple, dicotómica, a una respuesta dicotomica (añadiendo un \"y si encuentras otra cosa dame un cero\")"
   ]
  },
  {
   "cell_type": "code",
   "execution_count": 50,
   "metadata": {},
   "outputs": [],
   "source": [
    "def reduce_simple_subscale(sbj, item) -> [0, 1]: \n",
    "    return sbj[item] if sbj[item] in [0, 1] else 0 #29"
   ]
  },
  {
   "cell_type": "markdown",
   "metadata": {},
   "source": [
    "Traducción: \n",
    "> Define la función llamada calc_isolation_w6 para cada sujeto `sbj`. El resultado será 0, 1, 2, 3, 4 o 5. \n",
    "> Relatives será el resultado de aplicar la función reduce_scale_to_one_item a cada sujeto `sbj` de cada elemento de isolation_w6_relatives `x` en `for` cada \n",
    "> elemento `x` de `in` isolation_w6_relatives\n",
    "> Isolation será la suma de "
   ]
  },
  {
   "cell_type": "markdown",
   "metadata": {},
   "source": [
    "#### Función que calcula el valor de isolation"
   ]
  },
  {
   "cell_type": "markdown",
   "metadata": {},
   "source": [
    "Traducción:\n",
    "> Definimos `relatives` como _lista que resulta de que apliques esta función_: aplica _reduce_scale_to_one_item_ a cada sujeto `sbj` para cada elemento `x` de _isolation_w6_relatives_ \n",
    "> _isolation_w6_relatives_ es la _scale_ que te estoy dando como parámetro de la función _reduce_scale_to_one_item_ (más arriba)\n",
    "    "
   ]
  },
  {
   "cell_type": "code",
   "execution_count": 51,
   "metadata": {},
   "outputs": [],
   "source": [
    "def calc_items_isolation_w6(sbj):\n",
    "    relatives = [reduce_scale_to_one_item(sbj, x) for x in isolation_w6_relatives] \n",
    "    return relatives + [reduce_simple_subscale(sbj, isolation_w6_org_contact)] + [reduce_simple_subscale(sbj, isolation_w6_prt_contact)]"
   ]
  },
  {
   "cell_type": "code",
   "execution_count": 52,
   "metadata": {},
   "outputs": [],
   "source": [
    "def calc_isolation_w6(sbj) -> [0, 1, 2, 3, 4, 5]:\n",
    "    isolation = sum(calc_items_isolation_w6(sbj))\n",
    "    return isolation"
   ]
  },
  {
   "cell_type": "markdown",
   "metadata": {},
   "source": []
  },
  {
   "cell_type": "code",
   "execution_count": 53,
   "metadata": {},
   "outputs": [],
   "source": [
    "items_isolation_w6_df = w6_first_cleaned_df.loc[(w6_first_cleaned_df['indager'] >= 50)].apply(calc_items_isolation_w6, axis=1, result_type='expand')"
   ]
  },
  {
   "cell_type": "code",
   "execution_count": 54,
   "metadata": {},
   "outputs": [],
   "source": [
    "isolation_w6_df = w6_first_cleaned_df.loc[(w6_first_cleaned_df['indager'] >= 50)].apply(calc_isolation_w6, axis=1)"
   ]
  },
  {
   "cell_type": "code",
   "execution_count": 55,
   "metadata": {},
   "outputs": [
    {
     "data": {
      "text/html": [
       "<div>\n",
       "<style scoped>\n",
       "    .dataframe tbody tr th:only-of-type {\n",
       "        vertical-align: middle;\n",
       "    }\n",
       "\n",
       "    .dataframe tbody tr th {\n",
       "        vertical-align: top;\n",
       "    }\n",
       "\n",
       "    .dataframe thead th {\n",
       "        text-align: right;\n",
       "    }\n",
       "</style>\n",
       "<table border=\"1\" class=\"dataframe\">\n",
       "  <thead>\n",
       "    <tr style=\"text-align: right;\">\n",
       "      <th></th>\n",
       "      <th>0</th>\n",
       "      <th>1</th>\n",
       "      <th>2</th>\n",
       "      <th>3</th>\n",
       "      <th>4</th>\n",
       "    </tr>\n",
       "    <tr>\n",
       "      <th>idauniq</th>\n",
       "      <th></th>\n",
       "      <th></th>\n",
       "      <th></th>\n",
       "      <th></th>\n",
       "      <th></th>\n",
       "    </tr>\n",
       "  </thead>\n",
       "  <tbody>\n",
       "    <tr>\n",
       "      <th>100006.0</th>\n",
       "      <td>1.0</td>\n",
       "      <td>1.0</td>\n",
       "      <td>0.0</td>\n",
       "      <td>0.0</td>\n",
       "      <td>1.0</td>\n",
       "    </tr>\n",
       "    <tr>\n",
       "      <th>100007.0</th>\n",
       "      <td>0.0</td>\n",
       "      <td>0.0</td>\n",
       "      <td>0.0</td>\n",
       "      <td>0.0</td>\n",
       "      <td>1.0</td>\n",
       "    </tr>\n",
       "    <tr>\n",
       "      <th>100009.0</th>\n",
       "      <td>1.0</td>\n",
       "      <td>0.0</td>\n",
       "      <td>0.0</td>\n",
       "      <td>0.0</td>\n",
       "      <td>1.0</td>\n",
       "    </tr>\n",
       "    <tr>\n",
       "      <th>100026.0</th>\n",
       "      <td>1.0</td>\n",
       "      <td>1.0</td>\n",
       "      <td>0.0</td>\n",
       "      <td>0.0</td>\n",
       "      <td>1.0</td>\n",
       "    </tr>\n",
       "    <tr>\n",
       "      <th>100039.0</th>\n",
       "      <td>0.0</td>\n",
       "      <td>1.0</td>\n",
       "      <td>0.0</td>\n",
       "      <td>1.0</td>\n",
       "      <td>1.0</td>\n",
       "    </tr>\n",
       "    <tr>\n",
       "      <th>...</th>\n",
       "      <td>...</td>\n",
       "      <td>...</td>\n",
       "      <td>...</td>\n",
       "      <td>...</td>\n",
       "      <td>...</td>\n",
       "    </tr>\n",
       "    <tr>\n",
       "      <th>701951.0</th>\n",
       "      <td>1.0</td>\n",
       "      <td>0.0</td>\n",
       "      <td>0.0</td>\n",
       "      <td>0.0</td>\n",
       "      <td>1.0</td>\n",
       "    </tr>\n",
       "    <tr>\n",
       "      <th>704339.0</th>\n",
       "      <td>1.0</td>\n",
       "      <td>0.0</td>\n",
       "      <td>0.0</td>\n",
       "      <td>0.0</td>\n",
       "      <td>0.0</td>\n",
       "    </tr>\n",
       "    <tr>\n",
       "      <th>705145.0</th>\n",
       "      <td>1.0</td>\n",
       "      <td>0.0</td>\n",
       "      <td>0.0</td>\n",
       "      <td>0.0</td>\n",
       "      <td>1.0</td>\n",
       "    </tr>\n",
       "    <tr>\n",
       "      <th>705927.0</th>\n",
       "      <td>0.0</td>\n",
       "      <td>0.0</td>\n",
       "      <td>0.0</td>\n",
       "      <td>0.0</td>\n",
       "      <td>1.0</td>\n",
       "    </tr>\n",
       "    <tr>\n",
       "      <th>706571.0</th>\n",
       "      <td>1.0</td>\n",
       "      <td>0.0</td>\n",
       "      <td>0.0</td>\n",
       "      <td>0.0</td>\n",
       "      <td>1.0</td>\n",
       "    </tr>\n",
       "  </tbody>\n",
       "</table>\n",
       "<p>8634 rows × 5 columns</p>\n",
       "</div>"
      ],
      "text/plain": [
       "            0    1    2    3    4\n",
       "idauniq                          \n",
       "100006.0  1.0  1.0  0.0  0.0  1.0\n",
       "100007.0  0.0  0.0  0.0  0.0  1.0\n",
       "100009.0  1.0  0.0  0.0  0.0  1.0\n",
       "100026.0  1.0  1.0  0.0  0.0  1.0\n",
       "100039.0  0.0  1.0  0.0  1.0  1.0\n",
       "...       ...  ...  ...  ...  ...\n",
       "701951.0  1.0  0.0  0.0  0.0  1.0\n",
       "704339.0  1.0  0.0  0.0  0.0  0.0\n",
       "705145.0  1.0  0.0  0.0  0.0  1.0\n",
       "705927.0  0.0  0.0  0.0  0.0  1.0\n",
       "706571.0  1.0  0.0  0.0  0.0  1.0\n",
       "\n",
       "[8634 rows x 5 columns]"
      ]
     },
     "execution_count": 55,
     "metadata": {},
     "output_type": "execute_result"
    }
   ],
   "source": [
    "items_isolation_w6_df"
   ]
  },
  {
   "cell_type": "code",
   "execution_count": 56,
   "metadata": {},
   "outputs": [
    {
     "data": {
      "text/plain": [
       "idauniq\n",
       "100006.0    3.0\n",
       "100007.0    1.0\n",
       "100009.0    2.0\n",
       "100026.0    3.0\n",
       "100039.0    3.0\n",
       "dtype: float64"
      ]
     },
     "execution_count": 56,
     "metadata": {},
     "output_type": "execute_result"
    }
   ],
   "source": [
    "isolation_w6_df.head()"
   ]
  },
  {
   "cell_type": "markdown",
   "metadata": {},
   "source": [
    "* multimorbidity"
   ]
  },
  {
   "cell_type": "code",
   "execution_count": 57,
   "metadata": {},
   "outputs": [],
   "source": [
    "def calc_morbidity_cvd (sbj) -> [0, 1]:\n",
    "    return 1 if ((i == 1 for i in enumerate[confirm_cvd]) and (i == 1 for i in enumerate[still_has_cvd])) or ((i == 2 for i in enumerate[confirm_cvd]) and (i == 3 for i in enumerate[dispute_cvd])) or ((i == 2 for i in enumerate[confirm_cvd]) and (i == 2 for i in enumerate[dispute_cvd])) or (i == 1 for i in enumerate[new_cvdelse]) else 0"
   ]
  },
  {
   "cell_type": "markdown",
   "metadata": {},
   "source": [
    "CVD"
   ]
  },
  {
   "cell_type": "code",
   "execution_count": 58,
   "metadata": {},
   "outputs": [],
   "source": [
    "def calc_morbidity_cvd_bp (sbj) -> [0, 1]:\n",
    "    return 1 if (('hedacbp' == 1) and ('hedasbp' == 1)) or (('hedacbp' == 2) and ('hedanbp' == 2)) or (('hedacbp' == 2) and ('hedanbp' == 3)) or ('hediabp' == 1) else 0"
   ]
  },
  {
   "cell_type": "code",
   "execution_count": 59,
   "metadata": {},
   "outputs": [],
   "source": [
    "def calc_morbidity_cvd_an (sbj) -> [0, 1]:\n",
    "    return 1 if (('hedacan' == 1) and ('hedasan' == 1)) or (('hedacan' == 2) and ('hedanan' == 2)) or (('hedacan' == 2) and ('hedanan' == 3)) or ('hediaan' == 1) else 0"
   ]
  },
  {
   "cell_type": "code",
   "execution_count": 60,
   "metadata": {},
   "outputs": [],
   "source": [
    "def calc_morbidity_cvd_mi (sbj) -> [0, 1]:\n",
    "    return 1 if (('hedacmi' == 1) and ('hedasmi' == 1)) or (('hedacmi' == 2) and ('hedanmi' == 2)) or (('hedacmi' == 2) and ('hedanmi' == 3)) or ('hediami' == 1) else 0"
   ]
  },
  {
   "cell_type": "code",
   "execution_count": 61,
   "metadata": {},
   "outputs": [],
   "source": [
    "def calc_morbidity_cvd_hf (sbj) -> [0, 1]:\n",
    "    return 1 if (('hedachf' == 1) and ('hedashf' == 1)) or (('hedachf' == 2) and ('hedanhf' == 2)) or (('hedachf' == 2) and ('hedanhf' == 3)) or ('hediahf' == 1) else 0"
   ]
  },
  {
   "cell_type": "code",
   "execution_count": 62,
   "metadata": {},
   "outputs": [],
   "source": [
    "def calc_morbidity_cvd_hm (sbj) -> [0, 1]:\n",
    "    return 1 if (('hedachm' == 1) and ('hedashm' == 1)) or (('hedachm' == 2) and ('hedanhm' == 2)) or (('hedachm' == 2) and ('hedanhm' == 3)) or ('hediahm' == 1) else 0"
   ]
  },
  {
   "cell_type": "code",
   "execution_count": 63,
   "metadata": {},
   "outputs": [],
   "source": [
    "def calc_morbidity_cvd_ar (sbj) -> [0, 1]:\n",
    "    return 1 if (('hedacar' == 1) and ('hedasar' == 1)) or (('hedacar' == 2) and ('hedanar' == 2)) or (('hedacar' == 2) and ('hedanar' == 3)) or ('hediaar' == 1) else 0"
   ]
  },
  {
   "cell_type": "code",
   "execution_count": 64,
   "metadata": {},
   "outputs": [],
   "source": [
    "def calc_morbidity_cvd_di (sbj) -> [0, 1]:\n",
    "    return 1 if (('hedacdi' == 1) and ('hedasdi' == 1)) or (('hedacdi' == 2) and ('hedandi' == 2)) or (('hedacdi' == 2) and ('hedandi' == 3)) or ('hediadi' == 1) else 0"
   ]
  },
  {
   "cell_type": "code",
   "execution_count": 65,
   "metadata": {},
   "outputs": [],
   "source": [
    "def calc_morbidity_cvd_st (sbj) -> [0, 1]:\n",
    "    return 1 if (('hedacst' == 1) and ('hedasst' == 1)) or (('hedacst' == 2) and ('hedanst' == 2)) or (('hedacst' == 2) and ('hedanst' == 3)) or ('hediast' == 1) else 0"
   ]
  },
  {
   "cell_type": "code",
   "execution_count": 66,
   "metadata": {},
   "outputs": [],
   "source": [
    "def calc_morbidity_cvd_ch (sbj) -> [0, 1]:\n",
    "    return 1 if (('hedacch' == 1) and ('hedasch' == 1)) or (('hedacch' == 2) and ('hedanch' == 2)) or (('hedacch' == 2) and ('hedanch' == 3)) or ('hediach' == 1) else 0"
   ]
  },
  {
   "cell_type": "code",
   "execution_count": 67,
   "metadata": {},
   "outputs": [],
   "source": [
    "def calc_morbidity_cvd_95 (sbj) -> [0, 1]:\n",
    "    return 1 if (('hedac95' == 1) and ('hedas95' == 1)) or (('hedac95' == 2) and ('hedan95' == 2)) or (('hedac95' == 2) and ('hedan95' == 3)) or ('hedia95' == 1) else 0"
   ]
  },
  {
   "cell_type": "markdown",
   "metadata": {},
   "source": [
    "Chronic"
   ]
  },
  {
   "cell_type": "code",
   "execution_count": 68,
   "metadata": {},
   "outputs": [],
   "source": [
    "def calc_morbidity_chr_lu (sbj) -> [0, 1]:\n",
    "    return 1 if (('hedaclu' == 1) and ('hedbslu' == 1)) or (('hedaclu' == 2) and ('hedbmlu' == 2)) or (('hedaclu' == 2) and ('hedbmlu' == 3)) or ('hediblu' == 1) else 0"
   ]
  },
  {
   "cell_type": "code",
   "execution_count": 69,
   "metadata": {},
   "outputs": [],
   "source": [
    "def calc_morbidity_chr_as (sbj) -> [0, 1]:\n",
    "    return 1 if (('hedacas' == 1) and ('hedbsas' == 1)) or (('hedacas' == 2) and ('hedbmas' == 2)) or (('hedacas' == 2) and ('hedbmas' == 3)) or ('hedibas' == 1) else 0"
   ]
  },
  {
   "cell_type": "code",
   "execution_count": 70,
   "metadata": {},
   "outputs": [],
   "source": [
    "def calc_morbidity_chr_ar (sbj) -> [0, 1]:\n",
    "    return 1 if (('hedacar' == 1) and ('hedbsar' == 1)) or (('hedacar' == 2) and ('hedbmar' == 2)) or (('hedacar' == 2) and ('hedbmar' == 3)) or ('hedibar' == 1) else 0"
   ]
  },
  {
   "cell_type": "code",
   "execution_count": 71,
   "metadata": {},
   "outputs": [],
   "source": [
    "def calc_morbidity_chr_os (sbj) -> [0, 1]:\n",
    "    return 1 if (('hedacos' == 1) and ('hedbsos' == 1)) or (('hedacos' == 2) and ('hedbmos' == 2)) or (('hedacos' == 2) and ('hedbmos' == 3)) or ('hedibos' == 1) else 0"
   ]
  },
  {
   "cell_type": "code",
   "execution_count": 72,
   "metadata": {},
   "outputs": [],
   "source": [
    "def calc_morbidity_chr_ca (sbj) -> [0, 1]:\n",
    "    return 1 if (('hedacca' == 1) and ('hedbsca' == 1)) or (('hedacca' == 2) and ('hedbmca' == 2)) or (('hedacca' == 2) and ('hedbmca' == 3)) or ('hedibca' == 1) else 0"
   ]
  },
  {
   "cell_type": "code",
   "execution_count": 73,
   "metadata": {},
   "outputs": [],
   "source": [
    "def calc_morbidity_chr_pd (sbj) -> [0, 1]:\n",
    "    return 1 if (('hedacpd' == 1) and ('hedbspd' == 1)) or (('hedacpd' == 2) and ('hedbmpd' == 2)) or (('hedacpd' == 2) and ('hedbmpd' == 3)) or ('hedibpd' == 1) else 0"
   ]
  },
  {
   "cell_type": "code",
   "execution_count": 74,
   "metadata": {},
   "outputs": [],
   "source": [
    "def calc_morbidity_chr_ps (sbj) -> [0, 1]:\n",
    "    return 1 if (('hedacps' == 1) and ('hedbsps' == 1)) or (('hedacps' == 2) and ('hedbmps' == 2)) or (('hedacps' == 2) and ('hedbmps' == 3)) or ('hedibps' == 1) else 0"
   ]
  },
  {
   "cell_type": "code",
   "execution_count": 75,
   "metadata": {},
   "outputs": [],
   "source": [
    "def calc_morbidity_chr_ad (sbj) -> [0, 1]:\n",
    "    return 1 if (('hedacad' == 1) and ('hedbsad' == 1)) or (('hedacad' == 2) and ('hedbmad' == 2)) or (('hedacad' == 2) and ('hedbmad' == 3)) or ('hedibad' == 1) else 0"
   ]
  },
  {
   "cell_type": "code",
   "execution_count": 76,
   "metadata": {},
   "outputs": [],
   "source": [
    "def calc_morbidity_chr_de (sbj) -> [0, 1]:\n",
    "    return 1 if (('hedacde' == 1) and ('hedbsde' == 1)) or (('hedacde' == 2) and ('hedbmde' == 2)) or (('hedacde' == 2) and ('hedbmde' == 3)) or ('hedibde' == 1) else 0"
   ]
  },
  {
   "cell_type": "code",
   "execution_count": 77,
   "metadata": {},
   "outputs": [],
   "source": [
    "def calc_morbidity_chr_bl (sbj) -> [0, 1]:\n",
    "    return 1 if (('hedacbl' == 1) and ('hedbsbl' == 1)) or (('hedacbl' == 2) and ('hedbmbl' == 2)) or (('hedacbl' == 2) and ('hedbmbl' == 3)) or ('hedibbl' == 1) else 0"
   ]
  },
  {
   "cell_type": "code",
   "execution_count": 78,
   "metadata": {},
   "outputs": [],
   "source": [
    "# def calc_morbidity_cvd_w6 (sbj, item) -> List[int]\n",
    "#    calc_morbidity[col] for col[sbj] in "
   ]
  },
  {
   "cell_type": "code",
   "execution_count": 79,
   "metadata": {},
   "outputs": [
    {
     "data": {
      "text/html": [
       "<div>\n",
       "<style scoped>\n",
       "    .dataframe tbody tr th:only-of-type {\n",
       "        vertical-align: middle;\n",
       "    }\n",
       "\n",
       "    .dataframe tbody tr th {\n",
       "        vertical-align: top;\n",
       "    }\n",
       "\n",
       "    .dataframe thead th {\n",
       "        text-align: right;\n",
       "    }\n",
       "</style>\n",
       "<table border=\"1\" class=\"dataframe\">\n",
       "  <thead>\n",
       "    <tr style=\"text-align: right;\">\n",
       "      <th></th>\n",
       "      <th>0</th>\n",
       "      <th>1</th>\n",
       "      <th>2</th>\n",
       "      <th>3</th>\n",
       "      <th>4</th>\n",
       "      <th>5</th>\n",
       "      <th>6</th>\n",
       "      <th>7</th>\n",
       "      <th>8</th>\n",
       "      <th>9</th>\n",
       "    </tr>\n",
       "    <tr>\n",
       "      <th>idauniq</th>\n",
       "      <th></th>\n",
       "      <th></th>\n",
       "      <th></th>\n",
       "      <th></th>\n",
       "      <th></th>\n",
       "      <th></th>\n",
       "      <th></th>\n",
       "      <th></th>\n",
       "      <th></th>\n",
       "      <th></th>\n",
       "    </tr>\n",
       "  </thead>\n",
       "  <tbody>\n",
       "    <tr>\n",
       "      <th>100006.0</th>\n",
       "      <td>0</td>\n",
       "      <td>0</td>\n",
       "      <td>0</td>\n",
       "      <td>0</td>\n",
       "      <td>0</td>\n",
       "      <td>0</td>\n",
       "      <td>0</td>\n",
       "      <td>0</td>\n",
       "      <td>0</td>\n",
       "      <td>0</td>\n",
       "    </tr>\n",
       "    <tr>\n",
       "      <th>100007.0</th>\n",
       "      <td>0</td>\n",
       "      <td>0</td>\n",
       "      <td>0</td>\n",
       "      <td>0</td>\n",
       "      <td>0</td>\n",
       "      <td>0</td>\n",
       "      <td>0</td>\n",
       "      <td>0</td>\n",
       "      <td>0</td>\n",
       "      <td>0</td>\n",
       "    </tr>\n",
       "    <tr>\n",
       "      <th>100009.0</th>\n",
       "      <td>0</td>\n",
       "      <td>0</td>\n",
       "      <td>0</td>\n",
       "      <td>0</td>\n",
       "      <td>0</td>\n",
       "      <td>0</td>\n",
       "      <td>0</td>\n",
       "      <td>0</td>\n",
       "      <td>0</td>\n",
       "      <td>0</td>\n",
       "    </tr>\n",
       "    <tr>\n",
       "      <th>100026.0</th>\n",
       "      <td>0</td>\n",
       "      <td>0</td>\n",
       "      <td>0</td>\n",
       "      <td>0</td>\n",
       "      <td>0</td>\n",
       "      <td>0</td>\n",
       "      <td>0</td>\n",
       "      <td>0</td>\n",
       "      <td>0</td>\n",
       "      <td>0</td>\n",
       "    </tr>\n",
       "    <tr>\n",
       "      <th>100039.0</th>\n",
       "      <td>0</td>\n",
       "      <td>0</td>\n",
       "      <td>0</td>\n",
       "      <td>0</td>\n",
       "      <td>0</td>\n",
       "      <td>0</td>\n",
       "      <td>0</td>\n",
       "      <td>0</td>\n",
       "      <td>0</td>\n",
       "      <td>0</td>\n",
       "    </tr>\n",
       "    <tr>\n",
       "      <th>...</th>\n",
       "      <td>...</td>\n",
       "      <td>...</td>\n",
       "      <td>...</td>\n",
       "      <td>...</td>\n",
       "      <td>...</td>\n",
       "      <td>...</td>\n",
       "      <td>...</td>\n",
       "      <td>...</td>\n",
       "      <td>...</td>\n",
       "      <td>...</td>\n",
       "    </tr>\n",
       "    <tr>\n",
       "      <th>701951.0</th>\n",
       "      <td>0</td>\n",
       "      <td>0</td>\n",
       "      <td>0</td>\n",
       "      <td>0</td>\n",
       "      <td>0</td>\n",
       "      <td>0</td>\n",
       "      <td>0</td>\n",
       "      <td>0</td>\n",
       "      <td>0</td>\n",
       "      <td>0</td>\n",
       "    </tr>\n",
       "    <tr>\n",
       "      <th>704339.0</th>\n",
       "      <td>0</td>\n",
       "      <td>0</td>\n",
       "      <td>0</td>\n",
       "      <td>0</td>\n",
       "      <td>0</td>\n",
       "      <td>0</td>\n",
       "      <td>0</td>\n",
       "      <td>0</td>\n",
       "      <td>0</td>\n",
       "      <td>0</td>\n",
       "    </tr>\n",
       "    <tr>\n",
       "      <th>705145.0</th>\n",
       "      <td>0</td>\n",
       "      <td>0</td>\n",
       "      <td>0</td>\n",
       "      <td>0</td>\n",
       "      <td>0</td>\n",
       "      <td>0</td>\n",
       "      <td>0</td>\n",
       "      <td>0</td>\n",
       "      <td>0</td>\n",
       "      <td>0</td>\n",
       "    </tr>\n",
       "    <tr>\n",
       "      <th>705927.0</th>\n",
       "      <td>0</td>\n",
       "      <td>0</td>\n",
       "      <td>0</td>\n",
       "      <td>0</td>\n",
       "      <td>0</td>\n",
       "      <td>0</td>\n",
       "      <td>0</td>\n",
       "      <td>0</td>\n",
       "      <td>0</td>\n",
       "      <td>0</td>\n",
       "    </tr>\n",
       "    <tr>\n",
       "      <th>706571.0</th>\n",
       "      <td>0</td>\n",
       "      <td>0</td>\n",
       "      <td>0</td>\n",
       "      <td>0</td>\n",
       "      <td>0</td>\n",
       "      <td>0</td>\n",
       "      <td>0</td>\n",
       "      <td>0</td>\n",
       "      <td>0</td>\n",
       "      <td>0</td>\n",
       "    </tr>\n",
       "  </tbody>\n",
       "</table>\n",
       "<p>8907 rows × 10 columns</p>\n",
       "</div>"
      ],
      "text/plain": [
       "          0  1  2  3  4  5  6  7  8  9\n",
       "idauniq                               \n",
       "100006.0  0  0  0  0  0  0  0  0  0  0\n",
       "100007.0  0  0  0  0  0  0  0  0  0  0\n",
       "100009.0  0  0  0  0  0  0  0  0  0  0\n",
       "100026.0  0  0  0  0  0  0  0  0  0  0\n",
       "100039.0  0  0  0  0  0  0  0  0  0  0\n",
       "...      .. .. .. .. .. .. .. .. .. ..\n",
       "701951.0  0  0  0  0  0  0  0  0  0  0\n",
       "704339.0  0  0  0  0  0  0  0  0  0  0\n",
       "705145.0  0  0  0  0  0  0  0  0  0  0\n",
       "705927.0  0  0  0  0  0  0  0  0  0  0\n",
       "706571.0  0  0  0  0  0  0  0  0  0  0\n",
       "\n",
       "[8907 rows x 10 columns]"
      ]
     },
     "execution_count": 79,
     "metadata": {},
     "output_type": "execute_result"
    }
   ],
   "source": [
    "morbidity_cvd_bp_w6 = w6_first_cleaned_df.apply(calc_morbidity_cvd_bp, axis=1)\n",
    "morbidity_cvd_an_w6 = w6_first_cleaned_df.apply(calc_morbidity_cvd_an, axis=1)\n",
    "morbidity_cvd_mi_w6 = w6_first_cleaned_df.apply(calc_morbidity_cvd_mi, axis=1)\n",
    "morbidity_cvd_hf_w6 = w6_first_cleaned_df.apply(calc_morbidity_cvd_hf, axis=1)\n",
    "morbidity_cvd_hm_w6 = w6_first_cleaned_df.apply(calc_morbidity_cvd_hm, axis=1)\n",
    "morbidity_cvd_ar_w6 = w6_first_cleaned_df.apply(calc_morbidity_cvd_ar, axis=1)\n",
    "morbidity_cvd_di_w6 = w6_first_cleaned_df.apply(calc_morbidity_cvd_di, axis=1)\n",
    "morbidity_cvd_st_w6 = w6_first_cleaned_df.apply(calc_morbidity_cvd_st, axis=1)\n",
    "morbidity_cvd_ch_w6 = w6_first_cleaned_df.apply(calc_morbidity_cvd_ch, axis=1)\n",
    "morbidity_cvd_95_w6 = w6_first_cleaned_df.apply(calc_morbidity_cvd_95, axis=1)\n",
    "\n",
    "morbidity_cvd_w6_df = pd.DataFrame([morbidity_cvd_bp_w6, \n",
    "                             morbidity_cvd_an_w6,\n",
    "                             morbidity_cvd_mi_w6,\n",
    "                             morbidity_cvd_hf_w6,\n",
    "                             morbidity_cvd_hm_w6,\n",
    "                             morbidity_cvd_ar_w6,\n",
    "                             morbidity_cvd_di_w6,\n",
    "                             morbidity_cvd_st_w6,\n",
    "                             morbidity_cvd_ch_w6,\n",
    "                             morbidity_cvd_95_w6]).transpose()\n",
    "\n",
    "morbidity_cvd_w6_df"
   ]
  },
  {
   "cell_type": "code",
   "execution_count": 80,
   "metadata": {},
   "outputs": [
    {
     "data": {
      "text/html": [
       "<div>\n",
       "<style scoped>\n",
       "    .dataframe tbody tr th:only-of-type {\n",
       "        vertical-align: middle;\n",
       "    }\n",
       "\n",
       "    .dataframe tbody tr th {\n",
       "        vertical-align: top;\n",
       "    }\n",
       "\n",
       "    .dataframe thead th {\n",
       "        text-align: right;\n",
       "    }\n",
       "</style>\n",
       "<table border=\"1\" class=\"dataframe\">\n",
       "  <thead>\n",
       "    <tr style=\"text-align: right;\">\n",
       "      <th></th>\n",
       "      <th>0</th>\n",
       "      <th>1</th>\n",
       "      <th>2</th>\n",
       "      <th>3</th>\n",
       "      <th>4</th>\n",
       "      <th>5</th>\n",
       "      <th>6</th>\n",
       "      <th>7</th>\n",
       "      <th>8</th>\n",
       "      <th>9</th>\n",
       "    </tr>\n",
       "    <tr>\n",
       "      <th>idauniq</th>\n",
       "      <th></th>\n",
       "      <th></th>\n",
       "      <th></th>\n",
       "      <th></th>\n",
       "      <th></th>\n",
       "      <th></th>\n",
       "      <th></th>\n",
       "      <th></th>\n",
       "      <th></th>\n",
       "      <th></th>\n",
       "    </tr>\n",
       "  </thead>\n",
       "  <tbody>\n",
       "    <tr>\n",
       "      <th>100006.0</th>\n",
       "      <td>0</td>\n",
       "      <td>0</td>\n",
       "      <td>0</td>\n",
       "      <td>0</td>\n",
       "      <td>0</td>\n",
       "      <td>0</td>\n",
       "      <td>0</td>\n",
       "      <td>0</td>\n",
       "      <td>0</td>\n",
       "      <td>0</td>\n",
       "    </tr>\n",
       "    <tr>\n",
       "      <th>100007.0</th>\n",
       "      <td>0</td>\n",
       "      <td>0</td>\n",
       "      <td>0</td>\n",
       "      <td>0</td>\n",
       "      <td>0</td>\n",
       "      <td>0</td>\n",
       "      <td>0</td>\n",
       "      <td>0</td>\n",
       "      <td>0</td>\n",
       "      <td>0</td>\n",
       "    </tr>\n",
       "    <tr>\n",
       "      <th>100009.0</th>\n",
       "      <td>0</td>\n",
       "      <td>0</td>\n",
       "      <td>0</td>\n",
       "      <td>0</td>\n",
       "      <td>0</td>\n",
       "      <td>0</td>\n",
       "      <td>0</td>\n",
       "      <td>0</td>\n",
       "      <td>0</td>\n",
       "      <td>0</td>\n",
       "    </tr>\n",
       "    <tr>\n",
       "      <th>100026.0</th>\n",
       "      <td>0</td>\n",
       "      <td>0</td>\n",
       "      <td>0</td>\n",
       "      <td>0</td>\n",
       "      <td>0</td>\n",
       "      <td>0</td>\n",
       "      <td>0</td>\n",
       "      <td>0</td>\n",
       "      <td>0</td>\n",
       "      <td>0</td>\n",
       "    </tr>\n",
       "    <tr>\n",
       "      <th>100039.0</th>\n",
       "      <td>0</td>\n",
       "      <td>0</td>\n",
       "      <td>0</td>\n",
       "      <td>0</td>\n",
       "      <td>0</td>\n",
       "      <td>0</td>\n",
       "      <td>0</td>\n",
       "      <td>0</td>\n",
       "      <td>0</td>\n",
       "      <td>0</td>\n",
       "    </tr>\n",
       "    <tr>\n",
       "      <th>...</th>\n",
       "      <td>...</td>\n",
       "      <td>...</td>\n",
       "      <td>...</td>\n",
       "      <td>...</td>\n",
       "      <td>...</td>\n",
       "      <td>...</td>\n",
       "      <td>...</td>\n",
       "      <td>...</td>\n",
       "      <td>...</td>\n",
       "      <td>...</td>\n",
       "    </tr>\n",
       "    <tr>\n",
       "      <th>701951.0</th>\n",
       "      <td>0</td>\n",
       "      <td>0</td>\n",
       "      <td>0</td>\n",
       "      <td>0</td>\n",
       "      <td>0</td>\n",
       "      <td>0</td>\n",
       "      <td>0</td>\n",
       "      <td>0</td>\n",
       "      <td>0</td>\n",
       "      <td>0</td>\n",
       "    </tr>\n",
       "    <tr>\n",
       "      <th>704339.0</th>\n",
       "      <td>0</td>\n",
       "      <td>0</td>\n",
       "      <td>0</td>\n",
       "      <td>0</td>\n",
       "      <td>0</td>\n",
       "      <td>0</td>\n",
       "      <td>0</td>\n",
       "      <td>0</td>\n",
       "      <td>0</td>\n",
       "      <td>0</td>\n",
       "    </tr>\n",
       "    <tr>\n",
       "      <th>705145.0</th>\n",
       "      <td>0</td>\n",
       "      <td>0</td>\n",
       "      <td>0</td>\n",
       "      <td>0</td>\n",
       "      <td>0</td>\n",
       "      <td>0</td>\n",
       "      <td>0</td>\n",
       "      <td>0</td>\n",
       "      <td>0</td>\n",
       "      <td>0</td>\n",
       "    </tr>\n",
       "    <tr>\n",
       "      <th>705927.0</th>\n",
       "      <td>0</td>\n",
       "      <td>0</td>\n",
       "      <td>0</td>\n",
       "      <td>0</td>\n",
       "      <td>0</td>\n",
       "      <td>0</td>\n",
       "      <td>0</td>\n",
       "      <td>0</td>\n",
       "      <td>0</td>\n",
       "      <td>0</td>\n",
       "    </tr>\n",
       "    <tr>\n",
       "      <th>706571.0</th>\n",
       "      <td>0</td>\n",
       "      <td>0</td>\n",
       "      <td>0</td>\n",
       "      <td>0</td>\n",
       "      <td>0</td>\n",
       "      <td>0</td>\n",
       "      <td>0</td>\n",
       "      <td>0</td>\n",
       "      <td>0</td>\n",
       "      <td>0</td>\n",
       "    </tr>\n",
       "  </tbody>\n",
       "</table>\n",
       "<p>8907 rows × 10 columns</p>\n",
       "</div>"
      ],
      "text/plain": [
       "          0  1  2  3  4  5  6  7  8  9\n",
       "idauniq                               \n",
       "100006.0  0  0  0  0  0  0  0  0  0  0\n",
       "100007.0  0  0  0  0  0  0  0  0  0  0\n",
       "100009.0  0  0  0  0  0  0  0  0  0  0\n",
       "100026.0  0  0  0  0  0  0  0  0  0  0\n",
       "100039.0  0  0  0  0  0  0  0  0  0  0\n",
       "...      .. .. .. .. .. .. .. .. .. ..\n",
       "701951.0  0  0  0  0  0  0  0  0  0  0\n",
       "704339.0  0  0  0  0  0  0  0  0  0  0\n",
       "705145.0  0  0  0  0  0  0  0  0  0  0\n",
       "705927.0  0  0  0  0  0  0  0  0  0  0\n",
       "706571.0  0  0  0  0  0  0  0  0  0  0\n",
       "\n",
       "[8907 rows x 10 columns]"
      ]
     },
     "execution_count": 80,
     "metadata": {},
     "output_type": "execute_result"
    }
   ],
   "source": [
    "morbidity_chr_lu_w6 = w6_first_cleaned_df.apply(calc_morbidity_chr_lu, axis=1)\n",
    "morbidity_chr_as_w6 = w6_first_cleaned_df.apply(calc_morbidity_chr_as, axis=1)\n",
    "morbidity_chr_ar_w6 = w6_first_cleaned_df.apply(calc_morbidity_chr_ar, axis=1)\n",
    "morbidity_chr_os_w6 = w6_first_cleaned_df.apply(calc_morbidity_chr_os, axis=1)\n",
    "morbidity_chr_ca_w6 = w6_first_cleaned_df.apply(calc_morbidity_chr_ca, axis=1)\n",
    "morbidity_chr_pd_w6 = w6_first_cleaned_df.apply(calc_morbidity_chr_pd, axis=1)\n",
    "morbidity_chr_ps_w6 = w6_first_cleaned_df.apply(calc_morbidity_chr_ps, axis=1)\n",
    "morbidity_chr_ad_w6 = w6_first_cleaned_df.apply(calc_morbidity_chr_ad, axis=1)\n",
    "morbidity_chr_de_w6 = w6_first_cleaned_df.apply(calc_morbidity_chr_de, axis=1)\n",
    "morbidity_chr_bl_w6 = w6_first_cleaned_df.apply(calc_morbidity_chr_bl, axis=1)\n",
    "\n",
    "morbidity_chr_w6_df = pd.DataFrame([morbidity_chr_lu_w6,\n",
    "                             morbidity_chr_as_w6,\n",
    "                             morbidity_chr_ar_w6,\n",
    "                             morbidity_chr_os_w6,\n",
    "                             morbidity_chr_ca_w6,\n",
    "                             morbidity_chr_pd_w6,\n",
    "                             morbidity_chr_ps_w6,\n",
    "                             morbidity_chr_ad_w6,\n",
    "                             morbidity_chr_de_w6,       \n",
    "                             morbidity_chr_bl_w6]).transpose()\n",
    "\n",
    "morbidity_chr_w6_df"
   ]
  },
  {
   "cell_type": "code",
   "execution_count": 81,
   "metadata": {},
   "outputs": [],
   "source": [
    "def calc_multimorbidity (sbj) -> [0, 1]:\n",
    "    return 1 if sbj.sum() > 1 else 0"
   ]
  },
  {
   "cell_type": "code",
   "execution_count": 82,
   "metadata": {},
   "outputs": [],
   "source": [
    "multimorbidity_cvd_w6_df = morbidity_cvd_w6_df.apply(calc_multimorbidity, axis=1)"
   ]
  },
  {
   "cell_type": "code",
   "execution_count": 83,
   "metadata": {},
   "outputs": [
    {
     "data": {
      "text/plain": [
       "idauniq\n",
       "100006.0    0\n",
       "100007.0    0\n",
       "100009.0    0\n",
       "100026.0    0\n",
       "100039.0    0\n",
       "           ..\n",
       "701951.0    0\n",
       "704339.0    0\n",
       "705145.0    0\n",
       "705927.0    0\n",
       "706571.0    0\n",
       "Length: 8907, dtype: int64"
      ]
     },
     "execution_count": 83,
     "metadata": {},
     "output_type": "execute_result"
    }
   ],
   "source": [
    "multimorbidity_cvd_w6_df"
   ]
  },
  {
   "cell_type": "code",
   "execution_count": 84,
   "metadata": {},
   "outputs": [
    {
     "data": {
      "text/plain": [
       "0"
      ]
     },
     "execution_count": 84,
     "metadata": {},
     "output_type": "execute_result"
    }
   ],
   "source": [
    "sbj = morbidity_cvd_w6_df.iloc[0]\n",
    "sbj\n",
    "calc_multimorbidity(sbj)"
   ]
  },
  {
   "cell_type": "code",
   "execution_count": 85,
   "metadata": {},
   "outputs": [],
   "source": [
    "multimorbidity_chr_w6_df = morbidity_chr_w6_df.apply(calc_multimorbidity, axis=1)"
   ]
  },
  {
   "cell_type": "code",
   "execution_count": 86,
   "metadata": {},
   "outputs": [
    {
     "data": {
      "text/plain": [
       "0"
      ]
     },
     "execution_count": 86,
     "metadata": {},
     "output_type": "execute_result"
    }
   ],
   "source": [
    "sbj = morbidity_chr_w6_df.iloc[0]\n",
    "sbj\n",
    "calc_multimorbidity(sbj)"
   ]
  },
  {
   "cell_type": "markdown",
   "metadata": {},
   "source": [
    "### 5.2) Ola 8"
   ]
  },
  {
   "cell_type": "markdown",
   "metadata": {},
   "source": [
    "- Cuestionario CASP-19 en ola 8"
   ]
  },
  {
   "cell_type": "code",
   "execution_count": 87,
   "metadata": {},
   "outputs": [],
   "source": [
    "items_casp19_w8_df = w8_first_cleaned_df.apply(transform_casp19_items, axis=1, result_type='expand')"
   ]
  },
  {
   "cell_type": "code",
   "execution_count": 88,
   "metadata": {},
   "outputs": [],
   "source": [
    "casp19_w8 = w8_first_cleaned_df.apply(calc_casp19, axis=1)"
   ]
  },
  {
   "cell_type": "code",
   "execution_count": 89,
   "metadata": {},
   "outputs": [
    {
     "data": {
      "text/plain": [
       "idauniq\n",
       "103727.0    53.0\n",
       "108340.0    39.0\n",
       "104135.0    46.0\n",
       "151543.0    37.0\n",
       "151605.0    31.0\n",
       "            ... \n",
       "166001.0    50.0\n",
       "108182.0    36.0\n",
       "120052.0    39.0\n",
       "167345.0    38.0\n",
       "167714.0    34.0\n",
       "Length: 7222, dtype: float64"
      ]
     },
     "execution_count": 89,
     "metadata": {},
     "output_type": "execute_result"
    }
   ],
   "source": [
    "casp19_w8"
   ]
  },
  {
   "cell_type": "markdown",
   "metadata": {},
   "source": [
    "## 6) Análisis factoriales de los primeros cuestionarios (*Casp-19* e *Isolation*)"
   ]
  },
  {
   "cell_type": "markdown",
   "metadata": {},
   "source": [
    "### 6.1) Ola 6"
   ]
  },
  {
   "cell_type": "markdown",
   "metadata": {},
   "source": [
    "- Casp-19 "
   ]
  },
  {
   "cell_type": "markdown",
   "metadata": {},
   "source": [
    "#### Confirmatorio con Semopy"
   ]
  },
  {
   "cell_type": "markdown",
   "metadata": {},
   "source": [
    "##### Especificación del modelo "
   ]
  },
  {
   "cell_type": "code",
   "execution_count": 90,
   "metadata": {},
   "outputs": [],
   "source": [
    "casp19_mod = \"\"\" control ~~ autonomy \n",
    "                 control ~~ pleasure\n",
    "                 control ~~ self_realization\n",
    "                 autonomy ~~ pleasure\n",
    "                 autonomy ~~ self_realization \n",
    "                 pleasure ~~ self_realization\n",
    "    \n",
    "                 control =~ scqola + scqolb + scqolc + scqold \n",
    "                 autonomy =~ scqole + scqolf + scqolg + scqolh + scqoli\n",
    "                 pleasure =~ scqolj + scqolk + scqoll + scqolm + scqoln\n",
    "                 self_realization =~ scqolo + scqolp + scqolq + scqolr + scqols\n",
    "             \"\"\""
   ]
  },
  {
   "cell_type": "code",
   "execution_count": 91,
   "metadata": {},
   "outputs": [],
   "source": [
    "casp19_sem_w6 = Model(casp19_mod)"
   ]
  },
  {
   "cell_type": "code",
   "execution_count": 92,
   "metadata": {},
   "outputs": [],
   "source": [
    "casp19_sem_w6.load_dataset(w6_first_cleaned_df)"
   ]
  },
  {
   "cell_type": "markdown",
   "metadata": {},
   "source": [
    "Estimar los parámetros"
   ]
  },
  {
   "cell_type": "code",
   "execution_count": 93,
   "metadata": {},
   "outputs": [],
   "source": [
    "opt_casp19_sem_w6 = Optimizer(casp19_sem_w6)\n",
    "casp19_sem_w6_objective_function_value = opt_casp19_sem_w6.optimize()\n",
    "# opt_casp19_sem_w6.optimize(objective='ULS')\n",
    "# opt_casp19_sem_w6.optimize(objective='GLS')\n",
    "# opt_casp19_sem_w6.optimize(objective='MLW')"
   ]
  },
  {
   "cell_type": "code",
   "execution_count": 94,
   "metadata": {},
   "outputs": [
    {
     "data": {
      "text/html": [
       "<div>\n",
       "<style scoped>\n",
       "    .dataframe tbody tr th:only-of-type {\n",
       "        vertical-align: middle;\n",
       "    }\n",
       "\n",
       "    .dataframe tbody tr th {\n",
       "        vertical-align: top;\n",
       "    }\n",
       "\n",
       "    .dataframe thead th {\n",
       "        text-align: right;\n",
       "    }\n",
       "</style>\n",
       "<table border=\"1\" class=\"dataframe\">\n",
       "  <thead>\n",
       "    <tr style=\"text-align: right;\">\n",
       "      <th></th>\n",
       "      <th>lval</th>\n",
       "      <th>op</th>\n",
       "      <th>rval</th>\n",
       "      <th>Value</th>\n",
       "      <th>SE</th>\n",
       "      <th>Z-score</th>\n",
       "      <th>P-value</th>\n",
       "    </tr>\n",
       "  </thead>\n",
       "  <tbody>\n",
       "    <tr>\n",
       "      <th>3</th>\n",
       "      <td>autonomy</td>\n",
       "      <td>=~</td>\n",
       "      <td>scqolf</td>\n",
       "      <td>1.303593</td>\n",
       "      <td>0.029778</td>\n",
       "      <td>43.777632</td>\n",
       "      <td>0.0</td>\n",
       "    </tr>\n",
       "    <tr>\n",
       "      <th>4</th>\n",
       "      <td>autonomy</td>\n",
       "      <td>=~</td>\n",
       "      <td>scqolg</td>\n",
       "      <td>1.079789</td>\n",
       "      <td>0.025196</td>\n",
       "      <td>42.855173</td>\n",
       "      <td>0.0</td>\n",
       "    </tr>\n",
       "    <tr>\n",
       "      <th>5</th>\n",
       "      <td>autonomy</td>\n",
       "      <td>=~</td>\n",
       "      <td>scqolh</td>\n",
       "      <td>1.150588</td>\n",
       "      <td>0.027965</td>\n",
       "      <td>41.143708</td>\n",
       "      <td>0.0</td>\n",
       "    </tr>\n",
       "    <tr>\n",
       "      <th>6</th>\n",
       "      <td>autonomy</td>\n",
       "      <td>=~</td>\n",
       "      <td>scqoli</td>\n",
       "      <td>1.098699</td>\n",
       "      <td>0.027488</td>\n",
       "      <td>39.969879</td>\n",
       "      <td>0.0</td>\n",
       "    </tr>\n",
       "    <tr>\n",
       "      <th>0</th>\n",
       "      <td>control</td>\n",
       "      <td>=~</td>\n",
       "      <td>scqolb</td>\n",
       "      <td>1.319804</td>\n",
       "      <td>0.026575</td>\n",
       "      <td>49.663974</td>\n",
       "      <td>0.0</td>\n",
       "    </tr>\n",
       "    <tr>\n",
       "      <th>1</th>\n",
       "      <td>control</td>\n",
       "      <td>=~</td>\n",
       "      <td>scqolc</td>\n",
       "      <td>0.907978</td>\n",
       "      <td>0.025658</td>\n",
       "      <td>35.388206</td>\n",
       "      <td>0.0</td>\n",
       "    </tr>\n",
       "    <tr>\n",
       "      <th>2</th>\n",
       "      <td>control</td>\n",
       "      <td>=~</td>\n",
       "      <td>scqold</td>\n",
       "      <td>1.405542</td>\n",
       "      <td>0.027860</td>\n",
       "      <td>50.449686</td>\n",
       "      <td>0.0</td>\n",
       "    </tr>\n",
       "    <tr>\n",
       "      <th>7</th>\n",
       "      <td>pleasure</td>\n",
       "      <td>=~</td>\n",
       "      <td>scqolk</td>\n",
       "      <td>1.141631</td>\n",
       "      <td>0.017604</td>\n",
       "      <td>64.852406</td>\n",
       "      <td>0.0</td>\n",
       "    </tr>\n",
       "    <tr>\n",
       "      <th>8</th>\n",
       "      <td>pleasure</td>\n",
       "      <td>=~</td>\n",
       "      <td>scqoll</td>\n",
       "      <td>0.778321</td>\n",
       "      <td>0.012560</td>\n",
       "      <td>61.967530</td>\n",
       "      <td>0.0</td>\n",
       "    </tr>\n",
       "    <tr>\n",
       "      <th>9</th>\n",
       "      <td>pleasure</td>\n",
       "      <td>=~</td>\n",
       "      <td>scqolm</td>\n",
       "      <td>0.733906</td>\n",
       "      <td>0.011816</td>\n",
       "      <td>62.108619</td>\n",
       "      <td>0.0</td>\n",
       "    </tr>\n",
       "    <tr>\n",
       "      <th>10</th>\n",
       "      <td>pleasure</td>\n",
       "      <td>=~</td>\n",
       "      <td>scqoln</td>\n",
       "      <td>0.922605</td>\n",
       "      <td>0.014254</td>\n",
       "      <td>64.723926</td>\n",
       "      <td>0.0</td>\n",
       "    </tr>\n",
       "    <tr>\n",
       "      <th>11</th>\n",
       "      <td>self_realization</td>\n",
       "      <td>=~</td>\n",
       "      <td>scqolp</td>\n",
       "      <td>1.032036</td>\n",
       "      <td>0.015047</td>\n",
       "      <td>68.587602</td>\n",
       "      <td>0.0</td>\n",
       "    </tr>\n",
       "    <tr>\n",
       "      <th>12</th>\n",
       "      <td>self_realization</td>\n",
       "      <td>=~</td>\n",
       "      <td>scqolq</td>\n",
       "      <td>0.930363</td>\n",
       "      <td>0.013450</td>\n",
       "      <td>69.172410</td>\n",
       "      <td>0.0</td>\n",
       "    </tr>\n",
       "    <tr>\n",
       "      <th>13</th>\n",
       "      <td>self_realization</td>\n",
       "      <td>=~</td>\n",
       "      <td>scqolr</td>\n",
       "      <td>1.158623</td>\n",
       "      <td>0.014657</td>\n",
       "      <td>79.050335</td>\n",
       "      <td>0.0</td>\n",
       "    </tr>\n",
       "    <tr>\n",
       "      <th>14</th>\n",
       "      <td>self_realization</td>\n",
       "      <td>=~</td>\n",
       "      <td>scqols</td>\n",
       "      <td>1.064147</td>\n",
       "      <td>0.013876</td>\n",
       "      <td>76.687798</td>\n",
       "      <td>0.0</td>\n",
       "    </tr>\n",
       "    <tr>\n",
       "      <th>15</th>\n",
       "      <td>autonomy</td>\n",
       "      <td>~~</td>\n",
       "      <td>autonomy</td>\n",
       "      <td>0.606417</td>\n",
       "      <td>0.022805</td>\n",
       "      <td>26.590915</td>\n",
       "      <td>0.0</td>\n",
       "    </tr>\n",
       "    <tr>\n",
       "      <th>16</th>\n",
       "      <td>autonomy</td>\n",
       "      <td>~~</td>\n",
       "      <td>pleasure</td>\n",
       "      <td>0.569133</td>\n",
       "      <td>0.015474</td>\n",
       "      <td>36.779740</td>\n",
       "      <td>0.0</td>\n",
       "    </tr>\n",
       "    <tr>\n",
       "      <th>17</th>\n",
       "      <td>autonomy</td>\n",
       "      <td>~~</td>\n",
       "      <td>self_realization</td>\n",
       "      <td>0.605197</td>\n",
       "      <td>0.016503</td>\n",
       "      <td>36.672437</td>\n",
       "      <td>0.0</td>\n",
       "    </tr>\n",
       "    <tr>\n",
       "      <th>18</th>\n",
       "      <td>control</td>\n",
       "      <td>~~</td>\n",
       "      <td>autonomy</td>\n",
       "      <td>0.599116</td>\n",
       "      <td>0.017091</td>\n",
       "      <td>35.053830</td>\n",
       "      <td>0.0</td>\n",
       "    </tr>\n",
       "    <tr>\n",
       "      <th>19</th>\n",
       "      <td>control</td>\n",
       "      <td>~~</td>\n",
       "      <td>control</td>\n",
       "      <td>0.754670</td>\n",
       "      <td>0.025745</td>\n",
       "      <td>29.313228</td>\n",
       "      <td>0.0</td>\n",
       "    </tr>\n",
       "    <tr>\n",
       "      <th>20</th>\n",
       "      <td>control</td>\n",
       "      <td>~~</td>\n",
       "      <td>pleasure</td>\n",
       "      <td>0.404372</td>\n",
       "      <td>0.013358</td>\n",
       "      <td>30.272939</td>\n",
       "      <td>0.0</td>\n",
       "    </tr>\n",
       "    <tr>\n",
       "      <th>21</th>\n",
       "      <td>control</td>\n",
       "      <td>~~</td>\n",
       "      <td>self_realization</td>\n",
       "      <td>0.386863</td>\n",
       "      <td>0.014002</td>\n",
       "      <td>27.628180</td>\n",
       "      <td>0.0</td>\n",
       "    </tr>\n",
       "    <tr>\n",
       "      <th>22</th>\n",
       "      <td>pleasure</td>\n",
       "      <td>~~</td>\n",
       "      <td>pleasure</td>\n",
       "      <td>0.841923</td>\n",
       "      <td>0.021886</td>\n",
       "      <td>38.468102</td>\n",
       "      <td>0.0</td>\n",
       "    </tr>\n",
       "    <tr>\n",
       "      <th>23</th>\n",
       "      <td>pleasure</td>\n",
       "      <td>~~</td>\n",
       "      <td>self_realization</td>\n",
       "      <td>0.859045</td>\n",
       "      <td>0.018335</td>\n",
       "      <td>46.853538</td>\n",
       "      <td>0.0</td>\n",
       "    </tr>\n",
       "    <tr>\n",
       "      <th>25</th>\n",
       "      <td>scqola</td>\n",
       "      <td>~~</td>\n",
       "      <td>scqola</td>\n",
       "      <td>1.198884</td>\n",
       "      <td>0.021245</td>\n",
       "      <td>56.431418</td>\n",
       "      <td>0.0</td>\n",
       "    </tr>\n",
       "    <tr>\n",
       "      <th>26</th>\n",
       "      <td>scqolb</td>\n",
       "      <td>~~</td>\n",
       "      <td>scqolb</td>\n",
       "      <td>1.349851</td>\n",
       "      <td>0.026697</td>\n",
       "      <td>50.561496</td>\n",
       "      <td>0.0</td>\n",
       "    </tr>\n",
       "    <tr>\n",
       "      <th>27</th>\n",
       "      <td>scqolc</td>\n",
       "      <td>~~</td>\n",
       "      <td>scqolc</td>\n",
       "      <td>2.438290</td>\n",
       "      <td>0.038933</td>\n",
       "      <td>62.628573</td>\n",
       "      <td>0.0</td>\n",
       "    </tr>\n",
       "    <tr>\n",
       "      <th>28</th>\n",
       "      <td>scqold</td>\n",
       "      <td>~~</td>\n",
       "      <td>scqold</td>\n",
       "      <td>1.373416</td>\n",
       "      <td>0.028230</td>\n",
       "      <td>48.651736</td>\n",
       "      <td>0.0</td>\n",
       "    </tr>\n",
       "    <tr>\n",
       "      <th>29</th>\n",
       "      <td>scqole</td>\n",
       "      <td>~~</td>\n",
       "      <td>scqole</td>\n",
       "      <td>1.365008</td>\n",
       "      <td>0.022004</td>\n",
       "      <td>62.035847</td>\n",
       "      <td>0.0</td>\n",
       "    </tr>\n",
       "    <tr>\n",
       "      <th>30</th>\n",
       "      <td>scqolf</td>\n",
       "      <td>~~</td>\n",
       "      <td>scqolf</td>\n",
       "      <td>1.809647</td>\n",
       "      <td>0.029923</td>\n",
       "      <td>60.476452</td>\n",
       "      <td>0.0</td>\n",
       "    </tr>\n",
       "    <tr>\n",
       "      <th>31</th>\n",
       "      <td>scqolg</td>\n",
       "      <td>~~</td>\n",
       "      <td>scqolg</td>\n",
       "      <td>1.367791</td>\n",
       "      <td>0.022370</td>\n",
       "      <td>61.143905</td>\n",
       "      <td>0.0</td>\n",
       "    </tr>\n",
       "    <tr>\n",
       "      <th>32</th>\n",
       "      <td>scqolh</td>\n",
       "      <td>~~</td>\n",
       "      <td>scqolh</td>\n",
       "      <td>1.844457</td>\n",
       "      <td>0.029680</td>\n",
       "      <td>62.143870</td>\n",
       "      <td>0.0</td>\n",
       "    </tr>\n",
       "    <tr>\n",
       "      <th>33</th>\n",
       "      <td>scqoli</td>\n",
       "      <td>~~</td>\n",
       "      <td>scqoli</td>\n",
       "      <td>1.883990</td>\n",
       "      <td>0.030050</td>\n",
       "      <td>62.695252</td>\n",
       "      <td>0.0</td>\n",
       "    </tr>\n",
       "    <tr>\n",
       "      <th>34</th>\n",
       "      <td>scqolj</td>\n",
       "      <td>~~</td>\n",
       "      <td>scqolj</td>\n",
       "      <td>0.727913</td>\n",
       "      <td>0.012791</td>\n",
       "      <td>56.909807</td>\n",
       "      <td>0.0</td>\n",
       "    </tr>\n",
       "    <tr>\n",
       "      <th>35</th>\n",
       "      <td>scqolk</td>\n",
       "      <td>~~</td>\n",
       "      <td>scqolk</td>\n",
       "      <td>1.038779</td>\n",
       "      <td>0.017975</td>\n",
       "      <td>57.789542</td>\n",
       "      <td>0.0</td>\n",
       "    </tr>\n",
       "    <tr>\n",
       "      <th>36</th>\n",
       "      <td>scqoll</td>\n",
       "      <td>~~</td>\n",
       "      <td>scqoll</td>\n",
       "      <td>0.575471</td>\n",
       "      <td>0.009710</td>\n",
       "      <td>59.268353</td>\n",
       "      <td>0.0</td>\n",
       "    </tr>\n",
       "    <tr>\n",
       "      <th>37</th>\n",
       "      <td>scqolm</td>\n",
       "      <td>~~</td>\n",
       "      <td>scqolm</td>\n",
       "      <td>0.507379</td>\n",
       "      <td>0.008570</td>\n",
       "      <td>59.203552</td>\n",
       "      <td>0.0</td>\n",
       "    </tr>\n",
       "    <tr>\n",
       "      <th>38</th>\n",
       "      <td>scqoln</td>\n",
       "      <td>~~</td>\n",
       "      <td>scqoln</td>\n",
       "      <td>0.683872</td>\n",
       "      <td>0.011819</td>\n",
       "      <td>57.863044</td>\n",
       "      <td>0.0</td>\n",
       "    </tr>\n",
       "    <tr>\n",
       "      <th>39</th>\n",
       "      <td>scqolo</td>\n",
       "      <td>~~</td>\n",
       "      <td>scqolo</td>\n",
       "      <td>0.699296</td>\n",
       "      <td>0.012655</td>\n",
       "      <td>55.260420</td>\n",
       "      <td>0.0</td>\n",
       "    </tr>\n",
       "    <tr>\n",
       "      <th>40</th>\n",
       "      <td>scqolp</td>\n",
       "      <td>~~</td>\n",
       "      <td>scqolp</td>\n",
       "      <td>1.157176</td>\n",
       "      <td>0.019480</td>\n",
       "      <td>59.403307</td>\n",
       "      <td>0.0</td>\n",
       "    </tr>\n",
       "    <tr>\n",
       "      <th>41</th>\n",
       "      <td>scqolq</td>\n",
       "      <td>~~</td>\n",
       "      <td>scqolq</td>\n",
       "      <td>0.913215</td>\n",
       "      <td>0.015431</td>\n",
       "      <td>59.181884</td>\n",
       "      <td>0.0</td>\n",
       "    </tr>\n",
       "    <tr>\n",
       "      <th>42</th>\n",
       "      <td>scqolr</td>\n",
       "      <td>~~</td>\n",
       "      <td>scqolr</td>\n",
       "      <td>0.834048</td>\n",
       "      <td>0.015505</td>\n",
       "      <td>53.792496</td>\n",
       "      <td>0.0</td>\n",
       "    </tr>\n",
       "    <tr>\n",
       "      <th>43</th>\n",
       "      <td>scqols</td>\n",
       "      <td>~~</td>\n",
       "      <td>scqols</td>\n",
       "      <td>0.805190</td>\n",
       "      <td>0.014520</td>\n",
       "      <td>55.453445</td>\n",
       "      <td>0.0</td>\n",
       "    </tr>\n",
       "    <tr>\n",
       "      <th>24</th>\n",
       "      <td>self_realization</td>\n",
       "      <td>~~</td>\n",
       "      <td>self_realization</td>\n",
       "      <td>1.083160</td>\n",
       "      <td>0.025572</td>\n",
       "      <td>42.357061</td>\n",
       "      <td>0.0</td>\n",
       "    </tr>\n",
       "  </tbody>\n",
       "</table>\n",
       "</div>"
      ],
      "text/plain": [
       "                lval  op              rval     Value        SE    Z-score  \\\n",
       "3           autonomy  =~            scqolf  1.303593  0.029778  43.777632   \n",
       "4           autonomy  =~            scqolg  1.079789  0.025196  42.855173   \n",
       "5           autonomy  =~            scqolh  1.150588  0.027965  41.143708   \n",
       "6           autonomy  =~            scqoli  1.098699  0.027488  39.969879   \n",
       "0            control  =~            scqolb  1.319804  0.026575  49.663974   \n",
       "1            control  =~            scqolc  0.907978  0.025658  35.388206   \n",
       "2            control  =~            scqold  1.405542  0.027860  50.449686   \n",
       "7           pleasure  =~            scqolk  1.141631  0.017604  64.852406   \n",
       "8           pleasure  =~            scqoll  0.778321  0.012560  61.967530   \n",
       "9           pleasure  =~            scqolm  0.733906  0.011816  62.108619   \n",
       "10          pleasure  =~            scqoln  0.922605  0.014254  64.723926   \n",
       "11  self_realization  =~            scqolp  1.032036  0.015047  68.587602   \n",
       "12  self_realization  =~            scqolq  0.930363  0.013450  69.172410   \n",
       "13  self_realization  =~            scqolr  1.158623  0.014657  79.050335   \n",
       "14  self_realization  =~            scqols  1.064147  0.013876  76.687798   \n",
       "15          autonomy  ~~          autonomy  0.606417  0.022805  26.590915   \n",
       "16          autonomy  ~~          pleasure  0.569133  0.015474  36.779740   \n",
       "17          autonomy  ~~  self_realization  0.605197  0.016503  36.672437   \n",
       "18           control  ~~          autonomy  0.599116  0.017091  35.053830   \n",
       "19           control  ~~           control  0.754670  0.025745  29.313228   \n",
       "20           control  ~~          pleasure  0.404372  0.013358  30.272939   \n",
       "21           control  ~~  self_realization  0.386863  0.014002  27.628180   \n",
       "22          pleasure  ~~          pleasure  0.841923  0.021886  38.468102   \n",
       "23          pleasure  ~~  self_realization  0.859045  0.018335  46.853538   \n",
       "25            scqola  ~~            scqola  1.198884  0.021245  56.431418   \n",
       "26            scqolb  ~~            scqolb  1.349851  0.026697  50.561496   \n",
       "27            scqolc  ~~            scqolc  2.438290  0.038933  62.628573   \n",
       "28            scqold  ~~            scqold  1.373416  0.028230  48.651736   \n",
       "29            scqole  ~~            scqole  1.365008  0.022004  62.035847   \n",
       "30            scqolf  ~~            scqolf  1.809647  0.029923  60.476452   \n",
       "31            scqolg  ~~            scqolg  1.367791  0.022370  61.143905   \n",
       "32            scqolh  ~~            scqolh  1.844457  0.029680  62.143870   \n",
       "33            scqoli  ~~            scqoli  1.883990  0.030050  62.695252   \n",
       "34            scqolj  ~~            scqolj  0.727913  0.012791  56.909807   \n",
       "35            scqolk  ~~            scqolk  1.038779  0.017975  57.789542   \n",
       "36            scqoll  ~~            scqoll  0.575471  0.009710  59.268353   \n",
       "37            scqolm  ~~            scqolm  0.507379  0.008570  59.203552   \n",
       "38            scqoln  ~~            scqoln  0.683872  0.011819  57.863044   \n",
       "39            scqolo  ~~            scqolo  0.699296  0.012655  55.260420   \n",
       "40            scqolp  ~~            scqolp  1.157176  0.019480  59.403307   \n",
       "41            scqolq  ~~            scqolq  0.913215  0.015431  59.181884   \n",
       "42            scqolr  ~~            scqolr  0.834048  0.015505  53.792496   \n",
       "43            scqols  ~~            scqols  0.805190  0.014520  55.453445   \n",
       "24  self_realization  ~~  self_realization  1.083160  0.025572  42.357061   \n",
       "\n",
       "    P-value  \n",
       "3       0.0  \n",
       "4       0.0  \n",
       "5       0.0  \n",
       "6       0.0  \n",
       "0       0.0  \n",
       "1       0.0  \n",
       "2       0.0  \n",
       "7       0.0  \n",
       "8       0.0  \n",
       "9       0.0  \n",
       "10      0.0  \n",
       "11      0.0  \n",
       "12      0.0  \n",
       "13      0.0  \n",
       "14      0.0  \n",
       "15      0.0  \n",
       "16      0.0  \n",
       "17      0.0  \n",
       "18      0.0  \n",
       "19      0.0  \n",
       "20      0.0  \n",
       "21      0.0  \n",
       "22      0.0  \n",
       "23      0.0  \n",
       "25      0.0  \n",
       "26      0.0  \n",
       "27      0.0  \n",
       "28      0.0  \n",
       "29      0.0  \n",
       "30      0.0  \n",
       "31      0.0  \n",
       "32      0.0  \n",
       "33      0.0  \n",
       "34      0.0  \n",
       "35      0.0  \n",
       "36      0.0  \n",
       "37      0.0  \n",
       "38      0.0  \n",
       "39      0.0  \n",
       "40      0.0  \n",
       "41      0.0  \n",
       "42      0.0  \n",
       "43      0.0  \n",
       "24      0.0  "
      ]
     },
     "execution_count": 94,
     "metadata": {},
     "output_type": "execute_result"
    }
   ],
   "source": [
    "inspect(opt_casp19_sem_w6)"
   ]
  },
  {
   "cell_type": "code",
   "execution_count": 95,
   "metadata": {},
   "outputs": [
    {
     "data": {
      "text/plain": [
       "-267115.4584458056"
      ]
     },
     "execution_count": 95,
     "metadata": {},
     "output_type": "execute_result"
    }
   ],
   "source": [
    "ll_casp19 = calc_likelihood(opt_casp19_sem_w6, dist='normal')\n",
    "ll_casp19"
   ]
  },
  {
   "cell_type": "markdown",
   "metadata": {},
   "source": [
    "#### Calculamos todos índices de ajuste que permite el programa"
   ]
  },
  {
   "cell_type": "code",
   "execution_count": 96,
   "metadata": {},
   "outputs": [],
   "source": [
    "fits = gather_statistics(opt_casp19_sem_w6)"
   ]
  },
  {
   "cell_type": "code",
   "execution_count": 97,
   "metadata": {},
   "outputs": [
    {
     "data": {
      "text/plain": [
       "SEMStatistics(dof=146.0, ml=-267115.4584458056, fit_val=1.1151242837798199, chi2=(9932.411995626855, 0.0), dof_baseline=171.0, chi2_baseline=75007.72461975443, rmsea=0.08675489215247854, cfi=0.8692298193787658, gfi=0.8675814784946696, agfi=0.8449070741273185, nfi=0.8675814784946696, tli=0.8468376651628009, aic=534318.9168916112, bic=534631.0789732022, params=[ParametersStatistics(value=1.319803872618536, se=0.026574672843040957, zscore=49.663974430243485, pvalue=0.0), ParametersStatistics(value=0.9079777032608266, se=0.025657635715745756, zscore=35.388206196575794, pvalue=0.0), ParametersStatistics(value=1.405542330774886, se=0.027860278993800437, zscore=50.44968612974775, pvalue=0.0), ParametersStatistics(value=1.3035929443041585, se=0.029777602654913086, zscore=43.777632449712925, pvalue=0.0), ParametersStatistics(value=1.0797886980316977, se=0.025196227669855947, zscore=42.85517308929032, pvalue=0.0), ParametersStatistics(value=1.1505877344385889, se=0.027965095478094573, zscore=41.14370842390707, pvalue=0.0), ParametersStatistics(value=1.098698568426448, se=0.027488163306453862, zscore=39.96987925812119, pvalue=0.0), ParametersStatistics(value=1.1416306181331843, se=0.01760351987117659, zscore=64.85240602009371, pvalue=0.0), ParametersStatistics(value=0.7783207497794418, se=0.012560138287619387, zscore=61.96753028465222, pvalue=0.0), ParametersStatistics(value=0.733906347530542, se=0.01181649753735462, zscore=62.10861933905453, pvalue=0.0), ParametersStatistics(value=0.9226048996191519, se=0.014254464345540636, zscore=64.72392628650796, pvalue=0.0), ParametersStatistics(value=1.032035580221103, se=0.015046969839106816, zscore=68.58760210114016, pvalue=0.0), ParametersStatistics(value=0.9303625625656486, se=0.013449908145365867, zscore=69.1724101340447, pvalue=0.0), ParametersStatistics(value=1.1586225137823216, se=0.014656769234458756, zscore=79.05033470673025, pvalue=0.0), ParametersStatistics(value=1.0641469815160736, se=0.013876353423097018, zscore=76.68779750652115, pvalue=0.0), ParametersStatistics(value=0.6064173101425497, se=0.022805431891937917, zscore=26.590915400744375, pvalue=0.0), ParametersStatistics(value=0.5691328765279696, se=0.015474086448876821, zscore=36.77974001059688, pvalue=0.0), ParametersStatistics(value=0.6051967393869506, se=0.016502768637297074, zscore=36.6724367681253, pvalue=0.0), ParametersStatistics(value=0.5991155196046454, se=0.01709130005357627, zscore=35.0538295911685, pvalue=0.0), ParametersStatistics(value=0.75467005098597, se=0.025745033982183554, zscore=29.31322799880219, pvalue=0.0), ParametersStatistics(value=0.404372359648045, se=0.01335755224713987, zscore=30.27293864445536, pvalue=0.0), ParametersStatistics(value=0.38686250052205906, se=0.01400246061770028, zscore=27.628179864716376, pvalue=0.0), ParametersStatistics(value=0.841923005644389, se=0.021886262944031204, zscore=38.4681024695232, pvalue=0.0), ParametersStatistics(value=0.8590450934498146, se=0.01833468985712673, zscore=46.85353829800665, pvalue=0.0), ParametersStatistics(value=1.0831596568292847, se=0.02557211569331577, zscore=42.35706070538591, pvalue=0.0), ParametersStatistics(value=1.1988839326416498, se=0.021244972709953347, zscore=56.43141786779218, pvalue=0.0), ParametersStatistics(value=1.3498512229476325, se=0.02669721667129994, zscore=50.56149633561573, pvalue=0.0), ParametersStatistics(value=2.4382897848062806, se=0.03893254605464517, zscore=62.6285725398309, pvalue=0.0), ParametersStatistics(value=1.3734163415585157, se=0.02822954466703238, zscore=48.65173553839839, pvalue=0.0), ParametersStatistics(value=1.3650077720676679, se=0.022003532477595115, zscore=62.03584689847133, pvalue=0.0), ParametersStatistics(value=1.809647294160495, se=0.029923172429070694, zscore=60.47645176625478, pvalue=0.0), ParametersStatistics(value=1.3677906483700986, se=0.022370024407692334, zscore=61.14390504815969, pvalue=0.0), ParametersStatistics(value=1.8444573738645242, se=0.029680439624784376, zscore=62.14386973777111, pvalue=0.0), ParametersStatistics(value=1.8839903885912392, se=0.030049969117303076, zscore=62.69525207078244, pvalue=0.0), ParametersStatistics(value=0.7279125364518243, se=0.01279063448626749, zscore=56.90980671650253, pvalue=0.0), ParametersStatistics(value=1.0387794942906121, se=0.01797521584328989, zscore=57.78954218347241, pvalue=0.0), ParametersStatistics(value=0.5754713432543701, se=0.00970958886652309, zscore=59.26835328519657, pvalue=0.0), ParametersStatistics(value=0.5073790505554587, se=0.008570077828966955, zscore=59.203552245617715, pvalue=0.0), ParametersStatistics(value=0.6838718990170417, se=0.01181880264154644, zscore=57.86304414248996, pvalue=0.0), ParametersStatistics(value=0.6992957204452666, se=0.01265454948664408, zscore=55.26042006695378, pvalue=0.0), ParametersStatistics(value=1.1571757156883042, se=0.019479988238776606, zscore=59.40330668811403, pvalue=0.0), ParametersStatistics(value=0.9132151840071995, se=0.015430654115038796, zscore=59.181884133997485, pvalue=0.0), ParametersStatistics(value=0.8340479177666841, se=0.015504912109846766, zscore=53.79249568162398, pvalue=0.0), ParametersStatistics(value=0.805190386651961, se=0.014520114815769807, zscore=55.453444880616054, pvalue=0.0)])"
      ]
     },
     "execution_count": 97,
     "metadata": {},
     "output_type": "execute_result"
    }
   ],
   "source": [
    "fits"
   ]
  },
  {
   "cell_type": "code",
   "execution_count": 98,
   "metadata": {},
   "outputs": [],
   "source": [
    "# https://github.com/LobbyBoy-Dray/semopy-visualization/blob/master/visualization.py"
   ]
  },
  {
   "cell_type": "markdown",
   "metadata": {},
   "source": [
    "CONFIRMATORIO con Factor Analyzer"
   ]
  },
  {
   "cell_type": "markdown",
   "metadata": {},
   "source": [
    "> El tipo de análisis que viene en el paquete de Factor Analyzer"
   ]
  },
  {
   "cell_type": "code",
   "execution_count": 99,
   "metadata": {},
   "outputs": [],
   "source": [
    "casp_19_w6_dict = {'control': ['scqola', 'scqolb', 'scqolc', 'scqold'],\n",
    "                   'autonomy': ['scqole', 'scqolf', 'scqolg', 'scqolh', 'scqoli'],\n",
    "                   'pleasure': ['scqolj', 'scqolk', 'scqoll', 'scqolm', 'scqoln'],\n",
    "                   'self_realization': ['scqolo', 'scqolp', 'scqolq', 'scqolr', 'scqols']}"
   ]
  },
  {
   "cell_type": "code",
   "execution_count": 100,
   "metadata": {},
   "outputs": [],
   "source": [
    "casp_19_w6_spec = ModelSpecificationParser.parse_model_specification_from_dict(items_casp19_w6_df, casp_19_w6_dict)"
   ]
  },
  {
   "cell_type": "code",
   "execution_count": 101,
   "metadata": {},
   "outputs": [],
   "source": [
    "cfa_casp_19_w6_spec = ConfirmatoryFactorAnalyzer(casp_19_w6_spec, disp=False)"
   ]
  },
  {
   "cell_type": "code",
   "execution_count": 102,
   "metadata": {},
   "outputs": [
    {
     "name": "stderr",
     "output_type": "stream",
     "text": [
      "/opt/conda/lib/python3.7/site-packages/factor_analyzer/confirmatory_factor_analyzer.py:733: UserWarning: The optimization routine failed to converge: b'ABNORMAL_TERMINATION_IN_LNSRCH'\n",
      "  'to converge: {}'.format(str(res.message)))\n"
     ]
    },
    {
     "data": {
      "text/plain": [
       "ConfirmatoryFactorAnalyzer(bounds=None, disp=False, impute='median',\n",
       "                           is_cov_matrix=False, max_iter=200, n_obs=8907,\n",
       "                           specification=<factor_analyzer.confirmatory_factor_analyzer.ModelSpecification object at 0x7f359581b990>,\n",
       "                           tol=None)"
      ]
     },
     "execution_count": 102,
     "metadata": {},
     "output_type": "execute_result"
    }
   ],
   "source": [
    "cfa_casp_19_w6_spec.fit(items_casp19_w6_df.values)"
   ]
  },
  {
   "cell_type": "code",
   "execution_count": 103,
   "metadata": {},
   "outputs": [
    {
     "data": {
      "text/plain": [
       "array([[0.84349004, 0.        , 0.        , 0.        ],\n",
       "       [1.13408331, 0.        , 0.        , 0.        ],\n",
       "       [1.17702364, 0.        , 0.        , 0.        ],\n",
       "       [1.01284849, 0.        , 0.        , 0.        ],\n",
       "       [0.        , 0.53690809, 0.        , 0.        ],\n",
       "       [0.        , 0.53907098, 0.        , 0.        ],\n",
       "       [0.        , 1.19322162, 0.        , 0.        ],\n",
       "       [0.        , 1.05535425, 0.        , 0.        ],\n",
       "       [0.        , 0.98448034, 0.        , 0.        ],\n",
       "       [0.        , 0.        , 1.00957839, 0.        ],\n",
       "       [0.        , 0.        , 1.13097334, 0.        ],\n",
       "       [0.        , 0.        , 0.76297606, 0.        ],\n",
       "       [0.        , 0.        , 0.6866051 , 0.        ],\n",
       "       [0.        , 0.        , 0.89717389, 0.        ],\n",
       "       [0.        , 0.        , 0.        , 0.94397065],\n",
       "       [0.        , 0.        , 0.        , 1.00741227],\n",
       "       [0.        , 0.        , 0.        , 0.88895329],\n",
       "       [0.        , 0.        , 0.        , 1.13883025],\n",
       "       [0.        , 0.        , 0.        , 1.03947398]])"
      ]
     },
     "execution_count": 103,
     "metadata": {},
     "output_type": "execute_result"
    }
   ],
   "source": [
    "cfa_casp_19_w6_spec.loadings_"
   ]
  },
  {
   "cell_type": "code",
   "execution_count": 104,
   "metadata": {},
   "outputs": [
    {
     "data": {
      "text/plain": [
       "array([[ 1.        ,  0.02384487, -0.25420099, -0.26618183],\n",
       "       [ 0.02384487,  1.        ,  0.2557429 ,  0.40512594],\n",
       "       [-0.25420099,  0.2557429 ,  1.        ,  0.81279944],\n",
       "       [-0.26618183,  0.40512594,  0.81279944,  1.        ]])"
      ]
     },
     "execution_count": 104,
     "metadata": {},
     "output_type": "execute_result"
    }
   ],
   "source": [
    "cfa_casp_19_w6_spec.factor_varcovs_"
   ]
  },
  {
   "cell_type": "code",
   "execution_count": 105,
   "metadata": {},
   "outputs": [
    {
     "data": {
      "text/plain": [
       "<bound method ConfirmatoryFactorAnalyzer.get_standard_errors of ConfirmatoryFactorAnalyzer(bounds=None, disp=False, impute='median',\n",
       "                           is_cov_matrix=False, max_iter=200, n_obs=8907,\n",
       "                           specification=<factor_analyzer.confirmatory_factor_analyzer.ModelSpecification object at 0x7f359581b990>,\n",
       "                           tol=None)>"
      ]
     },
     "execution_count": 105,
     "metadata": {},
     "output_type": "execute_result"
    }
   ],
   "source": [
    "cfa_casp_19_w6_spec.get_standard_errors"
   ]
  },
  {
   "cell_type": "markdown",
   "metadata": {},
   "source": [
    "### 6.2) Ola 8"
   ]
  },
  {
   "cell_type": "markdown",
   "metadata": {},
   "source": [
    "* Casp-19"
   ]
  },
  {
   "cell_type": "code",
   "execution_count": 106,
   "metadata": {},
   "outputs": [],
   "source": [
    "#42"
   ]
  },
  {
   "cell_type": "code",
   "execution_count": 107,
   "metadata": {},
   "outputs": [],
   "source": [
    "casp19_sem_w8 = Model(casp19_mod)"
   ]
  },
  {
   "cell_type": "code",
   "execution_count": 108,
   "metadata": {},
   "outputs": [],
   "source": [
    "casp19_sem_w8.load_dataset(w8_first_cleaned_df)"
   ]
  },
  {
   "cell_type": "markdown",
   "metadata": {},
   "source": [
    "Estimar los parámetros"
   ]
  },
  {
   "cell_type": "code",
   "execution_count": 109,
   "metadata": {},
   "outputs": [],
   "source": [
    "opt_casp19_sem_w8 = Optimizer(casp19_sem_w8)\n",
    "casp19_sem_w8_objective_function_value = opt_casp19_sem_w8.optimize()\n",
    "# opt_casp19_sem_w6.optimize(objective='ULS')\n",
    "# opt_casp19_sem_w6.optimize(objective='GLS')\n",
    "# opt_casp19_sem_w6.optimize(objective='MLW')"
   ]
  },
  {
   "cell_type": "code",
   "execution_count": 110,
   "metadata": {},
   "outputs": [
    {
     "data": {
      "text/html": [
       "<div>\n",
       "<style scoped>\n",
       "    .dataframe tbody tr th:only-of-type {\n",
       "        vertical-align: middle;\n",
       "    }\n",
       "\n",
       "    .dataframe tbody tr th {\n",
       "        vertical-align: top;\n",
       "    }\n",
       "\n",
       "    .dataframe thead th {\n",
       "        text-align: right;\n",
       "    }\n",
       "</style>\n",
       "<table border=\"1\" class=\"dataframe\">\n",
       "  <thead>\n",
       "    <tr style=\"text-align: right;\">\n",
       "      <th></th>\n",
       "      <th>lval</th>\n",
       "      <th>op</th>\n",
       "      <th>rval</th>\n",
       "      <th>Value</th>\n",
       "      <th>SE</th>\n",
       "      <th>Z-score</th>\n",
       "      <th>P-value</th>\n",
       "    </tr>\n",
       "  </thead>\n",
       "  <tbody>\n",
       "    <tr>\n",
       "      <th>3</th>\n",
       "      <td>autonomy</td>\n",
       "      <td>=~</td>\n",
       "      <td>scqolf</td>\n",
       "      <td>1.991579</td>\n",
       "      <td>0.087234</td>\n",
       "      <td>22.830223</td>\n",
       "      <td>0.000000e+00</td>\n",
       "    </tr>\n",
       "    <tr>\n",
       "      <th>4</th>\n",
       "      <td>autonomy</td>\n",
       "      <td>=~</td>\n",
       "      <td>scqolg</td>\n",
       "      <td>1.098033</td>\n",
       "      <td>0.055003</td>\n",
       "      <td>19.963077</td>\n",
       "      <td>0.000000e+00</td>\n",
       "    </tr>\n",
       "    <tr>\n",
       "      <th>5</th>\n",
       "      <td>autonomy</td>\n",
       "      <td>=~</td>\n",
       "      <td>scqolh</td>\n",
       "      <td>1.873112</td>\n",
       "      <td>0.083890</td>\n",
       "      <td>22.328271</td>\n",
       "      <td>0.000000e+00</td>\n",
       "    </tr>\n",
       "    <tr>\n",
       "      <th>6</th>\n",
       "      <td>autonomy</td>\n",
       "      <td>=~</td>\n",
       "      <td>scqoli</td>\n",
       "      <td>1.739664</td>\n",
       "      <td>0.079368</td>\n",
       "      <td>21.919077</td>\n",
       "      <td>0.000000e+00</td>\n",
       "    </tr>\n",
       "    <tr>\n",
       "      <th>0</th>\n",
       "      <td>control</td>\n",
       "      <td>=~</td>\n",
       "      <td>scqolb</td>\n",
       "      <td>1.285505</td>\n",
       "      <td>0.027674</td>\n",
       "      <td>46.451443</td>\n",
       "      <td>0.000000e+00</td>\n",
       "    </tr>\n",
       "    <tr>\n",
       "      <th>1</th>\n",
       "      <td>control</td>\n",
       "      <td>=~</td>\n",
       "      <td>scqolc</td>\n",
       "      <td>0.186763</td>\n",
       "      <td>0.021191</td>\n",
       "      <td>8.813329</td>\n",
       "      <td>0.000000e+00</td>\n",
       "    </tr>\n",
       "    <tr>\n",
       "      <th>2</th>\n",
       "      <td>control</td>\n",
       "      <td>=~</td>\n",
       "      <td>scqold</td>\n",
       "      <td>1.148450</td>\n",
       "      <td>0.025624</td>\n",
       "      <td>44.819341</td>\n",
       "      <td>0.000000e+00</td>\n",
       "    </tr>\n",
       "    <tr>\n",
       "      <th>7</th>\n",
       "      <td>pleasure</td>\n",
       "      <td>=~</td>\n",
       "      <td>scqolk</td>\n",
       "      <td>1.156670</td>\n",
       "      <td>0.016832</td>\n",
       "      <td>68.718467</td>\n",
       "      <td>0.000000e+00</td>\n",
       "    </tr>\n",
       "    <tr>\n",
       "      <th>8</th>\n",
       "      <td>pleasure</td>\n",
       "      <td>=~</td>\n",
       "      <td>scqoll</td>\n",
       "      <td>0.804036</td>\n",
       "      <td>0.012168</td>\n",
       "      <td>66.075749</td>\n",
       "      <td>0.000000e+00</td>\n",
       "    </tr>\n",
       "    <tr>\n",
       "      <th>9</th>\n",
       "      <td>pleasure</td>\n",
       "      <td>=~</td>\n",
       "      <td>scqolm</td>\n",
       "      <td>0.690261</td>\n",
       "      <td>0.012889</td>\n",
       "      <td>53.553212</td>\n",
       "      <td>0.000000e+00</td>\n",
       "    </tr>\n",
       "    <tr>\n",
       "      <th>10</th>\n",
       "      <td>pleasure</td>\n",
       "      <td>=~</td>\n",
       "      <td>scqoln</td>\n",
       "      <td>0.920017</td>\n",
       "      <td>0.014915</td>\n",
       "      <td>61.683042</td>\n",
       "      <td>0.000000e+00</td>\n",
       "    </tr>\n",
       "    <tr>\n",
       "      <th>11</th>\n",
       "      <td>self_realization</td>\n",
       "      <td>=~</td>\n",
       "      <td>scqolp</td>\n",
       "      <td>0.933269</td>\n",
       "      <td>0.018608</td>\n",
       "      <td>50.155357</td>\n",
       "      <td>0.000000e+00</td>\n",
       "    </tr>\n",
       "    <tr>\n",
       "      <th>12</th>\n",
       "      <td>self_realization</td>\n",
       "      <td>=~</td>\n",
       "      <td>scqolq</td>\n",
       "      <td>0.945732</td>\n",
       "      <td>0.015884</td>\n",
       "      <td>59.538773</td>\n",
       "      <td>0.000000e+00</td>\n",
       "    </tr>\n",
       "    <tr>\n",
       "      <th>13</th>\n",
       "      <td>self_realization</td>\n",
       "      <td>=~</td>\n",
       "      <td>scqolr</td>\n",
       "      <td>1.139103</td>\n",
       "      <td>0.017789</td>\n",
       "      <td>64.033222</td>\n",
       "      <td>0.000000e+00</td>\n",
       "    </tr>\n",
       "    <tr>\n",
       "      <th>14</th>\n",
       "      <td>self_realization</td>\n",
       "      <td>=~</td>\n",
       "      <td>scqols</td>\n",
       "      <td>1.155300</td>\n",
       "      <td>0.017154</td>\n",
       "      <td>67.348819</td>\n",
       "      <td>0.000000e+00</td>\n",
       "    </tr>\n",
       "    <tr>\n",
       "      <th>15</th>\n",
       "      <td>autonomy</td>\n",
       "      <td>~~</td>\n",
       "      <td>autonomy</td>\n",
       "      <td>0.091925</td>\n",
       "      <td>0.007159</td>\n",
       "      <td>12.840119</td>\n",
       "      <td>0.000000e+00</td>\n",
       "    </tr>\n",
       "    <tr>\n",
       "      <th>16</th>\n",
       "      <td>autonomy</td>\n",
       "      <td>~~</td>\n",
       "      <td>pleasure</td>\n",
       "      <td>0.106943</td>\n",
       "      <td>0.005245</td>\n",
       "      <td>20.388916</td>\n",
       "      <td>0.000000e+00</td>\n",
       "    </tr>\n",
       "    <tr>\n",
       "      <th>17</th>\n",
       "      <td>autonomy</td>\n",
       "      <td>~~</td>\n",
       "      <td>self_realization</td>\n",
       "      <td>0.096021</td>\n",
       "      <td>0.005351</td>\n",
       "      <td>17.944276</td>\n",
       "      <td>0.000000e+00</td>\n",
       "    </tr>\n",
       "    <tr>\n",
       "      <th>18</th>\n",
       "      <td>control</td>\n",
       "      <td>~~</td>\n",
       "      <td>autonomy</td>\n",
       "      <td>0.192153</td>\n",
       "      <td>0.008728</td>\n",
       "      <td>22.014552</td>\n",
       "      <td>0.000000e+00</td>\n",
       "    </tr>\n",
       "    <tr>\n",
       "      <th>19</th>\n",
       "      <td>control</td>\n",
       "      <td>~~</td>\n",
       "      <td>control</td>\n",
       "      <td>0.508962</td>\n",
       "      <td>0.018858</td>\n",
       "      <td>26.988667</td>\n",
       "      <td>0.000000e+00</td>\n",
       "    </tr>\n",
       "    <tr>\n",
       "      <th>20</th>\n",
       "      <td>control</td>\n",
       "      <td>~~</td>\n",
       "      <td>pleasure</td>\n",
       "      <td>0.044464</td>\n",
       "      <td>0.006489</td>\n",
       "      <td>6.852332</td>\n",
       "      <td>7.265522e-12</td>\n",
       "    </tr>\n",
       "    <tr>\n",
       "      <th>21</th>\n",
       "      <td>control</td>\n",
       "      <td>~~</td>\n",
       "      <td>self_realization</td>\n",
       "      <td>-0.017532</td>\n",
       "      <td>0.007538</td>\n",
       "      <td>-2.325840</td>\n",
       "      <td>2.002710e-02</td>\n",
       "    </tr>\n",
       "    <tr>\n",
       "      <th>22</th>\n",
       "      <td>pleasure</td>\n",
       "      <td>~~</td>\n",
       "      <td>pleasure</td>\n",
       "      <td>0.377354</td>\n",
       "      <td>0.009965</td>\n",
       "      <td>37.866943</td>\n",
       "      <td>0.000000e+00</td>\n",
       "    </tr>\n",
       "    <tr>\n",
       "      <th>23</th>\n",
       "      <td>pleasure</td>\n",
       "      <td>~~</td>\n",
       "      <td>self_realization</td>\n",
       "      <td>0.382608</td>\n",
       "      <td>0.009294</td>\n",
       "      <td>41.165129</td>\n",
       "      <td>0.000000e+00</td>\n",
       "    </tr>\n",
       "    <tr>\n",
       "      <th>25</th>\n",
       "      <td>scqola</td>\n",
       "      <td>~~</td>\n",
       "      <td>scqola</td>\n",
       "      <td>0.736208</td>\n",
       "      <td>0.015049</td>\n",
       "      <td>48.921510</td>\n",
       "      <td>0.000000e+00</td>\n",
       "    </tr>\n",
       "    <tr>\n",
       "      <th>26</th>\n",
       "      <td>scqolb</td>\n",
       "      <td>~~</td>\n",
       "      <td>scqolb</td>\n",
       "      <td>0.633304</td>\n",
       "      <td>0.016526</td>\n",
       "      <td>38.322285</td>\n",
       "      <td>0.000000e+00</td>\n",
       "    </tr>\n",
       "    <tr>\n",
       "      <th>27</th>\n",
       "      <td>scqolc</td>\n",
       "      <td>~~</td>\n",
       "      <td>scqolc</td>\n",
       "      <td>1.281271</td>\n",
       "      <td>0.021399</td>\n",
       "      <td>59.876310</td>\n",
       "      <td>0.000000e+00</td>\n",
       "    </tr>\n",
       "    <tr>\n",
       "      <th>28</th>\n",
       "      <td>scqold</td>\n",
       "      <td>~~</td>\n",
       "      <td>scqold</td>\n",
       "      <td>0.696134</td>\n",
       "      <td>0.015727</td>\n",
       "      <td>44.263343</td>\n",
       "      <td>0.000000e+00</td>\n",
       "    </tr>\n",
       "    <tr>\n",
       "      <th>29</th>\n",
       "      <td>scqole</td>\n",
       "      <td>~~</td>\n",
       "      <td>scqole</td>\n",
       "      <td>0.790003</td>\n",
       "      <td>0.013473</td>\n",
       "      <td>58.635268</td>\n",
       "      <td>0.000000e+00</td>\n",
       "    </tr>\n",
       "    <tr>\n",
       "      <th>30</th>\n",
       "      <td>scqolf</td>\n",
       "      <td>~~</td>\n",
       "      <td>scqolf</td>\n",
       "      <td>1.144788</td>\n",
       "      <td>0.020873</td>\n",
       "      <td>54.845148</td>\n",
       "      <td>0.000000e+00</td>\n",
       "    </tr>\n",
       "    <tr>\n",
       "      <th>31</th>\n",
       "      <td>scqolg</td>\n",
       "      <td>~~</td>\n",
       "      <td>scqolg</td>\n",
       "      <td>0.752632</td>\n",
       "      <td>0.012941</td>\n",
       "      <td>58.157985</td>\n",
       "      <td>0.000000e+00</td>\n",
       "    </tr>\n",
       "    <tr>\n",
       "      <th>32</th>\n",
       "      <td>scqolh</td>\n",
       "      <td>~~</td>\n",
       "      <td>scqolh</td>\n",
       "      <td>1.186852</td>\n",
       "      <td>0.021248</td>\n",
       "      <td>55.857768</td>\n",
       "      <td>0.000000e+00</td>\n",
       "    </tr>\n",
       "    <tr>\n",
       "      <th>33</th>\n",
       "      <td>scqoli</td>\n",
       "      <td>~~</td>\n",
       "      <td>scqoli</td>\n",
       "      <td>1.153839</td>\n",
       "      <td>0.020430</td>\n",
       "      <td>56.478537</td>\n",
       "      <td>0.000000e+00</td>\n",
       "    </tr>\n",
       "    <tr>\n",
       "      <th>34</th>\n",
       "      <td>scqolj</td>\n",
       "      <td>~~</td>\n",
       "      <td>scqolj</td>\n",
       "      <td>0.244559</td>\n",
       "      <td>0.005032</td>\n",
       "      <td>48.599630</td>\n",
       "      <td>0.000000e+00</td>\n",
       "    </tr>\n",
       "    <tr>\n",
       "      <th>35</th>\n",
       "      <td>scqolk</td>\n",
       "      <td>~~</td>\n",
       "      <td>scqolk</td>\n",
       "      <td>0.319063</td>\n",
       "      <td>0.006606</td>\n",
       "      <td>48.301486</td>\n",
       "      <td>0.000000e+00</td>\n",
       "    </tr>\n",
       "    <tr>\n",
       "      <th>36</th>\n",
       "      <td>scqoll</td>\n",
       "      <td>~~</td>\n",
       "      <td>scqoll</td>\n",
       "      <td>0.182245</td>\n",
       "      <td>0.003634</td>\n",
       "      <td>50.148925</td>\n",
       "      <td>0.000000e+00</td>\n",
       "    </tr>\n",
       "    <tr>\n",
       "      <th>37</th>\n",
       "      <td>scqolm</td>\n",
       "      <td>~~</td>\n",
       "      <td>scqolm</td>\n",
       "      <td>0.274393</td>\n",
       "      <td>0.004964</td>\n",
       "      <td>55.276316</td>\n",
       "      <td>0.000000e+00</td>\n",
       "    </tr>\n",
       "    <tr>\n",
       "      <th>38</th>\n",
       "      <td>scqoln</td>\n",
       "      <td>~~</td>\n",
       "      <td>scqoln</td>\n",
       "      <td>0.309439</td>\n",
       "      <td>0.005899</td>\n",
       "      <td>52.460102</td>\n",
       "      <td>0.000000e+00</td>\n",
       "    </tr>\n",
       "    <tr>\n",
       "      <th>39</th>\n",
       "      <td>scqolo</td>\n",
       "      <td>~~</td>\n",
       "      <td>scqolo</td>\n",
       "      <td>0.474516</td>\n",
       "      <td>0.009080</td>\n",
       "      <td>52.262217</td>\n",
       "      <td>0.000000e+00</td>\n",
       "    </tr>\n",
       "    <tr>\n",
       "      <th>40</th>\n",
       "      <td>scqolp</td>\n",
       "      <td>~~</td>\n",
       "      <td>scqolp</td>\n",
       "      <td>0.737311</td>\n",
       "      <td>0.013228</td>\n",
       "      <td>55.736983</td>\n",
       "      <td>0.000000e+00</td>\n",
       "    </tr>\n",
       "    <tr>\n",
       "      <th>41</th>\n",
       "      <td>scqolq</td>\n",
       "      <td>~~</td>\n",
       "      <td>scqolq</td>\n",
       "      <td>0.403529</td>\n",
       "      <td>0.007783</td>\n",
       "      <td>51.849605</td>\n",
       "      <td>0.000000e+00</td>\n",
       "    </tr>\n",
       "    <tr>\n",
       "      <th>42</th>\n",
       "      <td>scqolr</td>\n",
       "      <td>~~</td>\n",
       "      <td>scqolr</td>\n",
       "      <td>0.412870</td>\n",
       "      <td>0.008544</td>\n",
       "      <td>48.323555</td>\n",
       "      <td>0.000000e+00</td>\n",
       "    </tr>\n",
       "    <tr>\n",
       "      <th>43</th>\n",
       "      <td>scqols</td>\n",
       "      <td>~~</td>\n",
       "      <td>scqols</td>\n",
       "      <td>0.311992</td>\n",
       "      <td>0.007087</td>\n",
       "      <td>44.025394</td>\n",
       "      <td>0.000000e+00</td>\n",
       "    </tr>\n",
       "    <tr>\n",
       "      <th>24</th>\n",
       "      <td>self_realization</td>\n",
       "      <td>~~</td>\n",
       "      <td>self_realization</td>\n",
       "      <td>0.525603</td>\n",
       "      <td>0.015321</td>\n",
       "      <td>34.306676</td>\n",
       "      <td>0.000000e+00</td>\n",
       "    </tr>\n",
       "  </tbody>\n",
       "</table>\n",
       "</div>"
      ],
      "text/plain": [
       "                lval  op              rval     Value        SE    Z-score  \\\n",
       "3           autonomy  =~            scqolf  1.991579  0.087234  22.830223   \n",
       "4           autonomy  =~            scqolg  1.098033  0.055003  19.963077   \n",
       "5           autonomy  =~            scqolh  1.873112  0.083890  22.328271   \n",
       "6           autonomy  =~            scqoli  1.739664  0.079368  21.919077   \n",
       "0            control  =~            scqolb  1.285505  0.027674  46.451443   \n",
       "1            control  =~            scqolc  0.186763  0.021191   8.813329   \n",
       "2            control  =~            scqold  1.148450  0.025624  44.819341   \n",
       "7           pleasure  =~            scqolk  1.156670  0.016832  68.718467   \n",
       "8           pleasure  =~            scqoll  0.804036  0.012168  66.075749   \n",
       "9           pleasure  =~            scqolm  0.690261  0.012889  53.553212   \n",
       "10          pleasure  =~            scqoln  0.920017  0.014915  61.683042   \n",
       "11  self_realization  =~            scqolp  0.933269  0.018608  50.155357   \n",
       "12  self_realization  =~            scqolq  0.945732  0.015884  59.538773   \n",
       "13  self_realization  =~            scqolr  1.139103  0.017789  64.033222   \n",
       "14  self_realization  =~            scqols  1.155300  0.017154  67.348819   \n",
       "15          autonomy  ~~          autonomy  0.091925  0.007159  12.840119   \n",
       "16          autonomy  ~~          pleasure  0.106943  0.005245  20.388916   \n",
       "17          autonomy  ~~  self_realization  0.096021  0.005351  17.944276   \n",
       "18           control  ~~          autonomy  0.192153  0.008728  22.014552   \n",
       "19           control  ~~           control  0.508962  0.018858  26.988667   \n",
       "20           control  ~~          pleasure  0.044464  0.006489   6.852332   \n",
       "21           control  ~~  self_realization -0.017532  0.007538  -2.325840   \n",
       "22          pleasure  ~~          pleasure  0.377354  0.009965  37.866943   \n",
       "23          pleasure  ~~  self_realization  0.382608  0.009294  41.165129   \n",
       "25            scqola  ~~            scqola  0.736208  0.015049  48.921510   \n",
       "26            scqolb  ~~            scqolb  0.633304  0.016526  38.322285   \n",
       "27            scqolc  ~~            scqolc  1.281271  0.021399  59.876310   \n",
       "28            scqold  ~~            scqold  0.696134  0.015727  44.263343   \n",
       "29            scqole  ~~            scqole  0.790003  0.013473  58.635268   \n",
       "30            scqolf  ~~            scqolf  1.144788  0.020873  54.845148   \n",
       "31            scqolg  ~~            scqolg  0.752632  0.012941  58.157985   \n",
       "32            scqolh  ~~            scqolh  1.186852  0.021248  55.857768   \n",
       "33            scqoli  ~~            scqoli  1.153839  0.020430  56.478537   \n",
       "34            scqolj  ~~            scqolj  0.244559  0.005032  48.599630   \n",
       "35            scqolk  ~~            scqolk  0.319063  0.006606  48.301486   \n",
       "36            scqoll  ~~            scqoll  0.182245  0.003634  50.148925   \n",
       "37            scqolm  ~~            scqolm  0.274393  0.004964  55.276316   \n",
       "38            scqoln  ~~            scqoln  0.309439  0.005899  52.460102   \n",
       "39            scqolo  ~~            scqolo  0.474516  0.009080  52.262217   \n",
       "40            scqolp  ~~            scqolp  0.737311  0.013228  55.736983   \n",
       "41            scqolq  ~~            scqolq  0.403529  0.007783  51.849605   \n",
       "42            scqolr  ~~            scqolr  0.412870  0.008544  48.323555   \n",
       "43            scqols  ~~            scqols  0.311992  0.007087  44.025394   \n",
       "24  self_realization  ~~  self_realization  0.525603  0.015321  34.306676   \n",
       "\n",
       "         P-value  \n",
       "3   0.000000e+00  \n",
       "4   0.000000e+00  \n",
       "5   0.000000e+00  \n",
       "6   0.000000e+00  \n",
       "0   0.000000e+00  \n",
       "1   0.000000e+00  \n",
       "2   0.000000e+00  \n",
       "7   0.000000e+00  \n",
       "8   0.000000e+00  \n",
       "9   0.000000e+00  \n",
       "10  0.000000e+00  \n",
       "11  0.000000e+00  \n",
       "12  0.000000e+00  \n",
       "13  0.000000e+00  \n",
       "14  0.000000e+00  \n",
       "15  0.000000e+00  \n",
       "16  0.000000e+00  \n",
       "17  0.000000e+00  \n",
       "18  0.000000e+00  \n",
       "19  0.000000e+00  \n",
       "20  7.265522e-12  \n",
       "21  2.002710e-02  \n",
       "22  0.000000e+00  \n",
       "23  0.000000e+00  \n",
       "25  0.000000e+00  \n",
       "26  0.000000e+00  \n",
       "27  0.000000e+00  \n",
       "28  0.000000e+00  \n",
       "29  0.000000e+00  \n",
       "30  0.000000e+00  \n",
       "31  0.000000e+00  \n",
       "32  0.000000e+00  \n",
       "33  0.000000e+00  \n",
       "34  0.000000e+00  \n",
       "35  0.000000e+00  \n",
       "36  0.000000e+00  \n",
       "37  0.000000e+00  \n",
       "38  0.000000e+00  \n",
       "39  0.000000e+00  \n",
       "40  0.000000e+00  \n",
       "41  0.000000e+00  \n",
       "42  0.000000e+00  \n",
       "43  0.000000e+00  \n",
       "24  0.000000e+00  "
      ]
     },
     "execution_count": 110,
     "metadata": {},
     "output_type": "execute_result"
    }
   ],
   "source": [
    "inspect(opt_casp19_sem_w8)"
   ]
  },
  {
   "cell_type": "code",
   "execution_count": 111,
   "metadata": {},
   "outputs": [],
   "source": [
    "ll = calc_likelihood(opt_casp19_sem_w8)\n",
    "aic = calc_aic(opt_casp19_sem_w8)"
   ]
  },
  {
   "cell_type": "code",
   "execution_count": 112,
   "metadata": {},
   "outputs": [
    {
     "data": {
      "text/plain": [
       "-169698.44315218963"
      ]
     },
     "execution_count": 112,
     "metadata": {},
     "output_type": "execute_result"
    }
   ],
   "source": [
    "ll"
   ]
  },
  {
   "cell_type": "code",
   "execution_count": 113,
   "metadata": {},
   "outputs": [
    {
     "data": {
      "text/plain": [
       "339484.88630437927"
      ]
     },
     "execution_count": 113,
     "metadata": {},
     "output_type": "execute_result"
    }
   ],
   "source": [
    "aic"
   ]
  },
  {
   "cell_type": "code",
   "execution_count": 114,
   "metadata": {},
   "outputs": [],
   "source": [
    "fits = gather_statistics(opt_casp19_sem_w8)"
   ]
  },
  {
   "cell_type": "code",
   "execution_count": 115,
   "metadata": {},
   "outputs": [
    {
     "data": {
      "text/plain": [
       "SEMStatistics(dof=146.0, ml=-169698.44315218963, fit_val=1.9044303377735963, chi2=(13753.795899400911, 0.0), dof_baseline=171.0, chi2_baseline=59898.871796125124, rmsea=0.11361058418582874, cfi=0.7721700859215325, gfi=0.7703830558576455, agfi=0.7310650859702561, nfi=0.7703830558576457, tli=0.7331581143327538, aic=339484.88630437927, bic=339787.8213412601, params=[ParametersStatistics(value=1.2855050238423744, se=0.027674167505606626, zscore=46.45144333738268, pvalue=0.0), ParametersStatistics(value=0.18676334357771635, se=0.021191009040732588, zscore=8.813329427112853, pvalue=0.0), ParametersStatistics(value=1.1484497876234807, se=0.02562397731956787, zscore=44.819341402618335, pvalue=0.0), ParametersStatistics(value=1.991578649928007, se=0.0872343046776943, zscore=22.830223239165917, pvalue=0.0), ParametersStatistics(value=1.098033066970517, se=0.055003196259142295, zscore=19.963077450577167, pvalue=0.0), ParametersStatistics(value=1.8731120462890851, se=0.08388970409556223, zscore=22.32827098940553, pvalue=0.0), ParametersStatistics(value=1.7396641001192432, se=0.07936758033191728, zscore=21.919076943280917, pvalue=0.0), ParametersStatistics(value=1.1566700828449277, se=0.016832012256043482, zscore=68.71846723857455, pvalue=0.0), ParametersStatistics(value=0.8040357146547249, se=0.012168393549272323, zscore=66.07574872828886, pvalue=0.0), ParametersStatistics(value=0.6902608366644438, se=0.012889251816368885, zscore=53.55321212161316, pvalue=0.0), ParametersStatistics(value=0.9200166240260724, se=0.014915227854709145, zscore=61.683041850005324, pvalue=0.0), ParametersStatistics(value=0.9332688894155102, se=0.018607561441184705, zscore=50.15535712808242, pvalue=0.0), ParametersStatistics(value=0.9457315971569875, se=0.01588429765315545, zscore=59.53877330607547, pvalue=0.0), ParametersStatistics(value=1.1391030446120978, se=0.017789250704030753, zscore=64.0332222812489, pvalue=0.0), ParametersStatistics(value=1.155299993653526, se=0.017153975629073944, zscore=67.34881863934105, pvalue=0.0), ParametersStatistics(value=0.09192515987705598, se=0.007159214217605365, zscore=12.840118631757223, pvalue=0.0), ParametersStatistics(value=0.10694290276821117, se=0.005245149031821694, zscore=20.388915948624607, pvalue=0.0), ParametersStatistics(value=0.09602094020332876, se=0.005351062502851272, zscore=17.944275577835327, pvalue=0.0), ParametersStatistics(value=0.19215323753990168, se=0.00872846465011884, zscore=22.014551839339912, pvalue=0.0), ParametersStatistics(value=0.5089623757318115, se=0.01885837401776778, zscore=26.988666956403247, pvalue=0.0), ParametersStatistics(value=0.04446413433043342, se=0.006488905623411162, zscore=6.852331795851682, pvalue=7.2655215177519494e-12), ParametersStatistics(value=-0.017531671596279556, se=0.007537781424830319, zscore=-2.3258397406168307, pvalue=0.02002710170262345), ParametersStatistics(value=0.37735402094652987, se=0.009965262336861671, zscore=37.86694300187403, pvalue=0.0), ParametersStatistics(value=0.3826080749223508, se=0.00929447045557488, zscore=41.16512895596919, pvalue=0.0), ParametersStatistics(value=0.525602662154065, se=0.015320710646933772, zscore=34.30667638285764, pvalue=0.0), ParametersStatistics(value=0.7362076381037429, se=0.015048751244889202, zscore=48.921510235266155, pvalue=0.0), ParametersStatistics(value=0.6333039009143994, se=0.01652573442391549, zscore=38.32228478509136, pvalue=0.0), ParametersStatistics(value=1.2812711727393749, se=0.021398632984263668, zscore=59.876309557798955, pvalue=0.0), ParametersStatistics(value=0.6961343924752971, se=0.015727108251831313, zscore=44.26334334857609, pvalue=0.0), ParametersStatistics(value=0.79000313625665, se=0.013473173469608721, zscore=58.635267925557066, pvalue=0.0), ParametersStatistics(value=1.1447884111771103, se=0.0208731026794736, zscore=54.84514826097409, pvalue=0.0), ParametersStatistics(value=0.7526322655063273, se=0.012941168207618549, zscore=58.15798491863276, pvalue=0.0), ParametersStatistics(value=1.1868520613009803, se=0.021247753240234334, zscore=55.857767540227385, pvalue=0.0), ParametersStatistics(value=1.1538389865143739, se=0.020429689685620492, zscore=56.47853708076775, pvalue=0.0), ParametersStatistics(value=0.24455856172597892, se=0.0050321074655199855, zscore=48.59963014563883, pvalue=0.0), ParametersStatistics(value=0.3190633569456239, se=0.006605663304465695, zscore=48.301486495931854, pvalue=0.0), ParametersStatistics(value=0.1822447592272111, se=0.0036340710809962817, zscore=50.148925300354804, pvalue=0.0), ParametersStatistics(value=0.27439323075606165, se=0.004964028931523861, zscore=55.276315768077495, pvalue=0.0), ParametersStatistics(value=0.3094385730261281, se=0.005898550678433943, zscore=52.460102462970355, pvalue=0.0), ParametersStatistics(value=0.4745158914320764, se=0.00907952093466591, zscore=52.26221678371784, pvalue=0.0), ParametersStatistics(value=0.7373106566498415, se=0.013228391932176599, zscore=55.73698302668807, pvalue=0.0), ParametersStatistics(value=0.403528572875895, se=0.007782674019073311, zscore=51.849604883244716, pvalue=0.0), ParametersStatistics(value=0.412869925148365, se=0.008543864868867407, zscore=48.323555140072386, pvalue=0.0), ParametersStatistics(value=0.31199228879634466, se=0.007086643850167884, zscore=44.025394156773956, pvalue=0.0)])"
      ]
     },
     "execution_count": 115,
     "metadata": {},
     "output_type": "execute_result"
    }
   ],
   "source": [
    "fits"
   ]
  },
  {
   "cell_type": "markdown",
   "metadata": {},
   "source": [
    "## 7) Segundo tratamiento de valores perdidos"
   ]
  },
  {
   "cell_type": "markdown",
   "metadata": {},
   "source": [
    "### 7.1) Ola 6"
   ]
  },
  {
   "cell_type": "code",
   "execution_count": 116,
   "metadata": {},
   "outputs": [],
   "source": [
    "second_cols_to_clean_out_of_sample_w6 = isolation_w6_cols + casp19_w6_cols + sexdissa_w6_m_cols + sexdissa_w6_f_cols"
   ]
  },
  {
   "cell_type": "markdown",
   "metadata": {},
   "source": [
    "- Casp-19, Isolation, sexual dissatisfaction for female and male and multimorbidity: **\"-2\": \"schedule not aplicable\"** : *Cuestionarios, compuestos por sus ítems, que van a ser revisados para eliminar sujetos que no formaban parte de la muestra en estos módulos de ELSA. 1902 mujeres y 1620 hombres no han recibido módulo de sexualidad del cuestionario* "
   ]
  },
  {
   "cell_type": "code",
   "execution_count": 117,
   "metadata": {},
   "outputs": [],
   "source": [
    "second_sbj_out_of_sample_w6 = w6_first_cleaned_df.loc[pd.DataFrame([(w6_first_cleaned_df[col] == -2) for col in second_cols_to_clean_out_of_sample_w6]).any()].index"
   ]
  },
  {
   "cell_type": "code",
   "execution_count": 118,
   "metadata": {},
   "outputs": [
    {
     "data": {
      "text/plain": [
       "Float64Index([100006.0, 100007.0, 100026.0, 100049.0, 100063.0, 100073.0,\n",
       "              100098.0, 100099.0, 101109.0, 101546.0,\n",
       "              ...\n",
       "              166141.0, 166146.0, 166150.0, 166153.0, 166167.0, 166169.0,\n",
       "              166172.0, 701951.0, 704339.0, 706571.0],\n",
       "             dtype='float64', name='idauniq', length=1959)"
      ]
     },
     "execution_count": 118,
     "metadata": {},
     "output_type": "execute_result"
    }
   ],
   "source": [
    "second_sbj_out_of_sample_w6"
   ]
  },
  {
   "cell_type": "code",
   "execution_count": 119,
   "metadata": {},
   "outputs": [],
   "source": [
    "w6_without_second_sbj_out_of_sample_df = w6_first_cleaned_df.drop(second_sbj_out_of_sample_w6)\n",
    "#w6_without_second_sbj_out_of_sample_df"
   ]
  },
  {
   "cell_type": "markdown",
   "metadata": {},
   "source": [
    " * Sexdissa: -9 Sujetos que no contestan a si han mantenido relaciones en el úiltimo año"
   ]
  },
  {
   "cell_type": "code",
   "execution_count": 120,
   "metadata": {},
   "outputs": [],
   "source": [
    "sbj_didnt_awr_q5 = w6_without_second_sbj_out_of_sample_df.loc[pd.DataFrame([w6_without_second_sbj_out_of_sample_df['q5'] == -9]).any()].index"
   ]
  },
  {
   "cell_type": "code",
   "execution_count": 121,
   "metadata": {},
   "outputs": [],
   "source": [
    "w6_without_sbj_didnt_awr_q5_df = w6_without_second_sbj_out_of_sample_df.drop(sbj_didnt_awr_q5)"
   ]
  },
  {
   "cell_type": "code",
   "execution_count": 122,
   "metadata": {},
   "outputs": [
    {
     "data": {
      "text/html": [
       "<div>\n",
       "<style scoped>\n",
       "    .dataframe tbody tr th:only-of-type {\n",
       "        vertical-align: middle;\n",
       "    }\n",
       "\n",
       "    .dataframe tbody tr th {\n",
       "        vertical-align: top;\n",
       "    }\n",
       "\n",
       "    .dataframe thead th {\n",
       "        text-align: right;\n",
       "    }\n",
       "</style>\n",
       "<table border=\"1\" class=\"dataframe\">\n",
       "  <thead>\n",
       "    <tr style=\"text-align: right;\">\n",
       "      <th></th>\n",
       "      <th>idahhw6</th>\n",
       "      <th>perid</th>\n",
       "      <th>samptyp</th>\n",
       "      <th>w6indout</th>\n",
       "      <th>W6hhout</th>\n",
       "      <th>couple</th>\n",
       "      <th>cpid</th>\n",
       "      <th>chinhh</th>\n",
       "      <th>chouthh</th>\n",
       "      <th>gcinhh</th>\n",
       "      <th>...</th>\n",
       "      <th>w6nssec8</th>\n",
       "      <th>w6nssec5</th>\n",
       "      <th>w6nssec3</th>\n",
       "      <th>W6SIC</th>\n",
       "      <th>w6soc</th>\n",
       "      <th>W6SEC</th>\n",
       "      <th>w6sic2003</th>\n",
       "      <th>w6soc2000</th>\n",
       "      <th>w6nssec13</th>\n",
       "      <th>finstatw6</th>\n",
       "    </tr>\n",
       "    <tr>\n",
       "      <th>idauniq</th>\n",
       "      <th></th>\n",
       "      <th></th>\n",
       "      <th></th>\n",
       "      <th></th>\n",
       "      <th></th>\n",
       "      <th></th>\n",
       "      <th></th>\n",
       "      <th></th>\n",
       "      <th></th>\n",
       "      <th></th>\n",
       "      <th></th>\n",
       "      <th></th>\n",
       "      <th></th>\n",
       "      <th></th>\n",
       "      <th></th>\n",
       "      <th></th>\n",
       "      <th></th>\n",
       "      <th></th>\n",
       "      <th></th>\n",
       "      <th></th>\n",
       "      <th></th>\n",
       "    </tr>\n",
       "  </thead>\n",
       "  <tbody>\n",
       "    <tr>\n",
       "      <th>100009.0</th>\n",
       "      <td>11311.0</td>\n",
       "      <td>3.0</td>\n",
       "      <td>3.0</td>\n",
       "      <td>11.0</td>\n",
       "      <td>110.0</td>\n",
       "      <td>2.0</td>\n",
       "      <td>1.0</td>\n",
       "      <td>2.0</td>\n",
       "      <td>1.0</td>\n",
       "      <td>2.0</td>\n",
       "      <td>...</td>\n",
       "      <td>7.0</td>\n",
       "      <td>5.0</td>\n",
       "      <td>3.0</td>\n",
       "      <td>0.0</td>\n",
       "      <td>0.0</td>\n",
       "      <td>0.0</td>\n",
       "      <td>-1.0</td>\n",
       "      <td>81.0</td>\n",
       "      <td>13.4</td>\n",
       "      <td>5.0</td>\n",
       "    </tr>\n",
       "    <tr>\n",
       "      <th>100039.0</th>\n",
       "      <td>12254.0</td>\n",
       "      <td>3.0</td>\n",
       "      <td>3.0</td>\n",
       "      <td>11.0</td>\n",
       "      <td>110.0</td>\n",
       "      <td>1.0</td>\n",
       "      <td>1.0</td>\n",
       "      <td>2.0</td>\n",
       "      <td>1.0</td>\n",
       "      <td>2.0</td>\n",
       "      <td>...</td>\n",
       "      <td>4.0</td>\n",
       "      <td>3.0</td>\n",
       "      <td>2.0</td>\n",
       "      <td>0.0</td>\n",
       "      <td>0.0</td>\n",
       "      <td>0.0</td>\n",
       "      <td>-1.0</td>\n",
       "      <td>12.0</td>\n",
       "      <td>9.1</td>\n",
       "      <td>5.0</td>\n",
       "    </tr>\n",
       "    <tr>\n",
       "      <th>100048.0</th>\n",
       "      <td>16304.0</td>\n",
       "      <td>6.0</td>\n",
       "      <td>3.0</td>\n",
       "      <td>11.0</td>\n",
       "      <td>110.0</td>\n",
       "      <td>2.0</td>\n",
       "      <td>1.0</td>\n",
       "      <td>1.0</td>\n",
       "      <td>1.0</td>\n",
       "      <td>2.0</td>\n",
       "      <td>...</td>\n",
       "      <td>6.0</td>\n",
       "      <td>5.0</td>\n",
       "      <td>3.0</td>\n",
       "      <td>1.0</td>\n",
       "      <td>1.0</td>\n",
       "      <td>1.0</td>\n",
       "      <td>55.0</td>\n",
       "      <td>92.0</td>\n",
       "      <td>12.2</td>\n",
       "      <td>5.0</td>\n",
       "    </tr>\n",
       "    <tr>\n",
       "      <th>100050.0</th>\n",
       "      <td>10912.0</td>\n",
       "      <td>3.0</td>\n",
       "      <td>3.0</td>\n",
       "      <td>11.0</td>\n",
       "      <td>110.0</td>\n",
       "      <td>1.0</td>\n",
       "      <td>1.0</td>\n",
       "      <td>1.0</td>\n",
       "      <td>1.0</td>\n",
       "      <td>2.0</td>\n",
       "      <td>...</td>\n",
       "      <td>3.0</td>\n",
       "      <td>2.0</td>\n",
       "      <td>2.0</td>\n",
       "      <td>1.0</td>\n",
       "      <td>1.0</td>\n",
       "      <td>1.0</td>\n",
       "      <td>75.0</td>\n",
       "      <td>41.0</td>\n",
       "      <td>7.1</td>\n",
       "      <td>5.0</td>\n",
       "    </tr>\n",
       "    <tr>\n",
       "      <th>100054.0</th>\n",
       "      <td>13376.0</td>\n",
       "      <td>3.0</td>\n",
       "      <td>3.0</td>\n",
       "      <td>11.0</td>\n",
       "      <td>110.0</td>\n",
       "      <td>1.0</td>\n",
       "      <td>2.0</td>\n",
       "      <td>2.0</td>\n",
       "      <td>1.0</td>\n",
       "      <td>2.0</td>\n",
       "      <td>...</td>\n",
       "      <td>6.0</td>\n",
       "      <td>5.0</td>\n",
       "      <td>3.0</td>\n",
       "      <td>0.0</td>\n",
       "      <td>0.0</td>\n",
       "      <td>0.0</td>\n",
       "      <td>-1.0</td>\n",
       "      <td>81.0</td>\n",
       "      <td>12.3</td>\n",
       "      <td>5.0</td>\n",
       "    </tr>\n",
       "    <tr>\n",
       "      <th>...</th>\n",
       "      <td>...</td>\n",
       "      <td>...</td>\n",
       "      <td>...</td>\n",
       "      <td>...</td>\n",
       "      <td>...</td>\n",
       "      <td>...</td>\n",
       "      <td>...</td>\n",
       "      <td>...</td>\n",
       "      <td>...</td>\n",
       "      <td>...</td>\n",
       "      <td>...</td>\n",
       "      <td>...</td>\n",
       "      <td>...</td>\n",
       "      <td>...</td>\n",
       "      <td>...</td>\n",
       "      <td>...</td>\n",
       "      <td>...</td>\n",
       "      <td>...</td>\n",
       "      <td>...</td>\n",
       "      <td>...</td>\n",
       "      <td>...</td>\n",
       "    </tr>\n",
       "    <tr>\n",
       "      <th>700754.0</th>\n",
       "      <td>13534.0</td>\n",
       "      <td>2.0</td>\n",
       "      <td>1.0</td>\n",
       "      <td>11.0</td>\n",
       "      <td>110.0</td>\n",
       "      <td>3.0</td>\n",
       "      <td>-1.0</td>\n",
       "      <td>2.0</td>\n",
       "      <td>2.0</td>\n",
       "      <td>2.0</td>\n",
       "      <td>...</td>\n",
       "      <td>2.0</td>\n",
       "      <td>1.0</td>\n",
       "      <td>1.0</td>\n",
       "      <td>0.0</td>\n",
       "      <td>0.0</td>\n",
       "      <td>0.0</td>\n",
       "      <td>-1.0</td>\n",
       "      <td>-3.0</td>\n",
       "      <td>4.1</td>\n",
       "      <td>7.0</td>\n",
       "    </tr>\n",
       "    <tr>\n",
       "      <th>701435.0</th>\n",
       "      <td>14994.0</td>\n",
       "      <td>2.0</td>\n",
       "      <td>2.0</td>\n",
       "      <td>11.0</td>\n",
       "      <td>110.0</td>\n",
       "      <td>1.0</td>\n",
       "      <td>1.0</td>\n",
       "      <td>2.0</td>\n",
       "      <td>1.0</td>\n",
       "      <td>2.0</td>\n",
       "      <td>...</td>\n",
       "      <td>2.0</td>\n",
       "      <td>1.0</td>\n",
       "      <td>1.0</td>\n",
       "      <td>1.0</td>\n",
       "      <td>1.0</td>\n",
       "      <td>1.0</td>\n",
       "      <td>74.0</td>\n",
       "      <td>35.0</td>\n",
       "      <td>4.3</td>\n",
       "      <td>8.0</td>\n",
       "    </tr>\n",
       "    <tr>\n",
       "      <th>701668.0</th>\n",
       "      <td>14994.0</td>\n",
       "      <td>1.0</td>\n",
       "      <td>1.0</td>\n",
       "      <td>11.0</td>\n",
       "      <td>110.0</td>\n",
       "      <td>1.0</td>\n",
       "      <td>2.0</td>\n",
       "      <td>2.0</td>\n",
       "      <td>1.0</td>\n",
       "      <td>2.0</td>\n",
       "      <td>...</td>\n",
       "      <td>1.0</td>\n",
       "      <td>1.0</td>\n",
       "      <td>1.0</td>\n",
       "      <td>0.0</td>\n",
       "      <td>0.0</td>\n",
       "      <td>0.0</td>\n",
       "      <td>-1.0</td>\n",
       "      <td>-3.0</td>\n",
       "      <td>3.2</td>\n",
       "      <td>7.0</td>\n",
       "    </tr>\n",
       "    <tr>\n",
       "      <th>705145.0</th>\n",
       "      <td>11528.0</td>\n",
       "      <td>2.0</td>\n",
       "      <td>3.0</td>\n",
       "      <td>11.0</td>\n",
       "      <td>110.0</td>\n",
       "      <td>2.0</td>\n",
       "      <td>1.0</td>\n",
       "      <td>2.0</td>\n",
       "      <td>2.0</td>\n",
       "      <td>2.0</td>\n",
       "      <td>...</td>\n",
       "      <td>2.0</td>\n",
       "      <td>1.0</td>\n",
       "      <td>1.0</td>\n",
       "      <td>0.0</td>\n",
       "      <td>0.0</td>\n",
       "      <td>0.0</td>\n",
       "      <td>-1.0</td>\n",
       "      <td>34.0</td>\n",
       "      <td>4.3</td>\n",
       "      <td>13.0</td>\n",
       "    </tr>\n",
       "    <tr>\n",
       "      <th>705927.0</th>\n",
       "      <td>14304.0</td>\n",
       "      <td>2.0</td>\n",
       "      <td>3.0</td>\n",
       "      <td>11.0</td>\n",
       "      <td>110.0</td>\n",
       "      <td>2.0</td>\n",
       "      <td>1.0</td>\n",
       "      <td>2.0</td>\n",
       "      <td>1.0</td>\n",
       "      <td>2.0</td>\n",
       "      <td>...</td>\n",
       "      <td>5.0</td>\n",
       "      <td>4.0</td>\n",
       "      <td>3.0</td>\n",
       "      <td>0.0</td>\n",
       "      <td>0.0</td>\n",
       "      <td>0.0</td>\n",
       "      <td>-1.0</td>\n",
       "      <td>42.0</td>\n",
       "      <td>10.0</td>\n",
       "      <td>21.0</td>\n",
       "    </tr>\n",
       "  </tbody>\n",
       "</table>\n",
       "<p>6908 rows × 6188 columns</p>\n",
       "</div>"
      ],
      "text/plain": [
       "          idahhw6  perid  samptyp  w6indout  W6hhout  couple  cpid  chinhh  \\\n",
       "idauniq                                                                      \n",
       "100009.0  11311.0    3.0      3.0      11.0    110.0     2.0   1.0     2.0   \n",
       "100039.0  12254.0    3.0      3.0      11.0    110.0     1.0   1.0     2.0   \n",
       "100048.0  16304.0    6.0      3.0      11.0    110.0     2.0   1.0     1.0   \n",
       "100050.0  10912.0    3.0      3.0      11.0    110.0     1.0   1.0     1.0   \n",
       "100054.0  13376.0    3.0      3.0      11.0    110.0     1.0   2.0     2.0   \n",
       "...           ...    ...      ...       ...      ...     ...   ...     ...   \n",
       "700754.0  13534.0    2.0      1.0      11.0    110.0     3.0  -1.0     2.0   \n",
       "701435.0  14994.0    2.0      2.0      11.0    110.0     1.0   1.0     2.0   \n",
       "701668.0  14994.0    1.0      1.0      11.0    110.0     1.0   2.0     2.0   \n",
       "705145.0  11528.0    2.0      3.0      11.0    110.0     2.0   1.0     2.0   \n",
       "705927.0  14304.0    2.0      3.0      11.0    110.0     2.0   1.0     2.0   \n",
       "\n",
       "          chouthh  gcinhh  ...  w6nssec8  w6nssec5  w6nssec3  W6SIC  w6soc  \\\n",
       "idauniq                    ...                                               \n",
       "100009.0      1.0     2.0  ...       7.0       5.0       3.0    0.0    0.0   \n",
       "100039.0      1.0     2.0  ...       4.0       3.0       2.0    0.0    0.0   \n",
       "100048.0      1.0     2.0  ...       6.0       5.0       3.0    1.0    1.0   \n",
       "100050.0      1.0     2.0  ...       3.0       2.0       2.0    1.0    1.0   \n",
       "100054.0      1.0     2.0  ...       6.0       5.0       3.0    0.0    0.0   \n",
       "...           ...     ...  ...       ...       ...       ...    ...    ...   \n",
       "700754.0      2.0     2.0  ...       2.0       1.0       1.0    0.0    0.0   \n",
       "701435.0      1.0     2.0  ...       2.0       1.0       1.0    1.0    1.0   \n",
       "701668.0      1.0     2.0  ...       1.0       1.0       1.0    0.0    0.0   \n",
       "705145.0      2.0     2.0  ...       2.0       1.0       1.0    0.0    0.0   \n",
       "705927.0      1.0     2.0  ...       5.0       4.0       3.0    0.0    0.0   \n",
       "\n",
       "          W6SEC  w6sic2003  w6soc2000  w6nssec13  finstatw6  \n",
       "idauniq                                                      \n",
       "100009.0    0.0       -1.0       81.0       13.4        5.0  \n",
       "100039.0    0.0       -1.0       12.0        9.1        5.0  \n",
       "100048.0    1.0       55.0       92.0       12.2        5.0  \n",
       "100050.0    1.0       75.0       41.0        7.1        5.0  \n",
       "100054.0    0.0       -1.0       81.0       12.3        5.0  \n",
       "...         ...        ...        ...        ...        ...  \n",
       "700754.0    0.0       -1.0       -3.0        4.1        7.0  \n",
       "701435.0    1.0       74.0       35.0        4.3        8.0  \n",
       "701668.0    0.0       -1.0       -3.0        3.2        7.0  \n",
       "705145.0    0.0       -1.0       34.0        4.3       13.0  \n",
       "705927.0    0.0       -1.0       42.0       10.0       21.0  \n",
       "\n",
       "[6908 rows x 6188 columns]"
      ]
     },
     "execution_count": 122,
     "metadata": {},
     "output_type": "execute_result"
    }
   ],
   "source": [
    "w6_without_sbj_didnt_awr_q5_df"
   ]
  },
  {
   "cell_type": "markdown",
   "metadata": {},
   "source": [
    " * -9 Sujetos que no contestan a alguna de las preguntas del cuestionario de satisfacción sexual -> Se eliminan"
   ]
  },
  {
   "cell_type": "code",
   "execution_count": 123,
   "metadata": {},
   "outputs": [],
   "source": [
    "second_sbj_didnt_awr_w6 = w6_without_sbj_didnt_awr_q5_df.loc[\n",
    "    pd.DataFrame([(w6_without_second_sbj_out_of_sample_df[col] == -9) for col in second_cols_to_clean_out_of_sample_w6]).any()].index"
   ]
  },
  {
   "cell_type": "code",
   "execution_count": 124,
   "metadata": {},
   "outputs": [],
   "source": [
    "w6_without_second_sbj_didnt_awr_df = w6_without_sbj_didnt_awr_q5_df.drop(second_sbj_didnt_awr_w6)\n",
    "# w6_without_second_sbj_didnt_awr_df"
   ]
  },
  {
   "cell_type": "code",
   "execution_count": 125,
   "metadata": {},
   "outputs": [
    {
     "data": {
      "text/plain": [
       "4770"
      ]
     },
     "execution_count": 125,
     "metadata": {},
     "output_type": "execute_result"
    }
   ],
   "source": [
    "len(w6_without_second_sbj_didnt_awr_df)"
   ]
  },
  {
   "cell_type": "markdown",
   "metadata": {},
   "source": [
    "* sexdissa: q5 = 2, se eliminan por no haber mantenido relaciones sexuales en el último año"
   ]
  },
  {
   "cell_type": "code",
   "execution_count": 126,
   "metadata": {},
   "outputs": [],
   "source": [
    "sbj_awr_no_q5 = w6_without_second_sbj_didnt_awr_df.loc[pd.DataFrame([w6_without_second_sbj_didnt_awr_df['q5'] == 2]).any()].index"
   ]
  },
  {
   "cell_type": "code",
   "execution_count": 127,
   "metadata": {},
   "outputs": [],
   "source": [
    "w6_without_sbj_awr_no_q5_df = w6_without_second_sbj_didnt_awr_df.drop(sbj_awr_no_q5)"
   ]
  },
  {
   "cell_type": "code",
   "execution_count": 128,
   "metadata": {},
   "outputs": [
    {
     "data": {
      "text/html": [
       "<div>\n",
       "<style scoped>\n",
       "    .dataframe tbody tr th:only-of-type {\n",
       "        vertical-align: middle;\n",
       "    }\n",
       "\n",
       "    .dataframe tbody tr th {\n",
       "        vertical-align: top;\n",
       "    }\n",
       "\n",
       "    .dataframe thead th {\n",
       "        text-align: right;\n",
       "    }\n",
       "</style>\n",
       "<table border=\"1\" class=\"dataframe\">\n",
       "  <thead>\n",
       "    <tr style=\"text-align: right;\">\n",
       "      <th></th>\n",
       "      <th>idahhw6</th>\n",
       "      <th>perid</th>\n",
       "      <th>samptyp</th>\n",
       "      <th>w6indout</th>\n",
       "      <th>W6hhout</th>\n",
       "      <th>couple</th>\n",
       "      <th>cpid</th>\n",
       "      <th>chinhh</th>\n",
       "      <th>chouthh</th>\n",
       "      <th>gcinhh</th>\n",
       "      <th>...</th>\n",
       "      <th>w6nssec8</th>\n",
       "      <th>w6nssec5</th>\n",
       "      <th>w6nssec3</th>\n",
       "      <th>W6SIC</th>\n",
       "      <th>w6soc</th>\n",
       "      <th>W6SEC</th>\n",
       "      <th>w6sic2003</th>\n",
       "      <th>w6soc2000</th>\n",
       "      <th>w6nssec13</th>\n",
       "      <th>finstatw6</th>\n",
       "    </tr>\n",
       "    <tr>\n",
       "      <th>idauniq</th>\n",
       "      <th></th>\n",
       "      <th></th>\n",
       "      <th></th>\n",
       "      <th></th>\n",
       "      <th></th>\n",
       "      <th></th>\n",
       "      <th></th>\n",
       "      <th></th>\n",
       "      <th></th>\n",
       "      <th></th>\n",
       "      <th></th>\n",
       "      <th></th>\n",
       "      <th></th>\n",
       "      <th></th>\n",
       "      <th></th>\n",
       "      <th></th>\n",
       "      <th></th>\n",
       "      <th></th>\n",
       "      <th></th>\n",
       "      <th></th>\n",
       "      <th></th>\n",
       "    </tr>\n",
       "  </thead>\n",
       "  <tbody>\n",
       "    <tr>\n",
       "      <th>100009.0</th>\n",
       "      <td>11311.0</td>\n",
       "      <td>3.0</td>\n",
       "      <td>3.0</td>\n",
       "      <td>11.0</td>\n",
       "      <td>110.0</td>\n",
       "      <td>2.0</td>\n",
       "      <td>1.0</td>\n",
       "      <td>2.0</td>\n",
       "      <td>1.0</td>\n",
       "      <td>2.0</td>\n",
       "      <td>...</td>\n",
       "      <td>7.0</td>\n",
       "      <td>5.0</td>\n",
       "      <td>3.0</td>\n",
       "      <td>0.0</td>\n",
       "      <td>0.0</td>\n",
       "      <td>0.0</td>\n",
       "      <td>-1.0</td>\n",
       "      <td>81.0</td>\n",
       "      <td>13.4</td>\n",
       "      <td>5.0</td>\n",
       "    </tr>\n",
       "    <tr>\n",
       "      <th>100054.0</th>\n",
       "      <td>13376.0</td>\n",
       "      <td>3.0</td>\n",
       "      <td>3.0</td>\n",
       "      <td>11.0</td>\n",
       "      <td>110.0</td>\n",
       "      <td>1.0</td>\n",
       "      <td>2.0</td>\n",
       "      <td>2.0</td>\n",
       "      <td>1.0</td>\n",
       "      <td>2.0</td>\n",
       "      <td>...</td>\n",
       "      <td>6.0</td>\n",
       "      <td>5.0</td>\n",
       "      <td>3.0</td>\n",
       "      <td>0.0</td>\n",
       "      <td>0.0</td>\n",
       "      <td>0.0</td>\n",
       "      <td>-1.0</td>\n",
       "      <td>81.0</td>\n",
       "      <td>12.3</td>\n",
       "      <td>5.0</td>\n",
       "    </tr>\n",
       "    <tr>\n",
       "      <th>100068.0</th>\n",
       "      <td>16718.0</td>\n",
       "      <td>2.0</td>\n",
       "      <td>3.0</td>\n",
       "      <td>11.0</td>\n",
       "      <td>110.0</td>\n",
       "      <td>1.0</td>\n",
       "      <td>1.0</td>\n",
       "      <td>2.0</td>\n",
       "      <td>1.0</td>\n",
       "      <td>2.0</td>\n",
       "      <td>...</td>\n",
       "      <td>1.0</td>\n",
       "      <td>1.0</td>\n",
       "      <td>1.0</td>\n",
       "      <td>0.0</td>\n",
       "      <td>0.0</td>\n",
       "      <td>0.0</td>\n",
       "      <td>-1.0</td>\n",
       "      <td>23.0</td>\n",
       "      <td>3.1</td>\n",
       "      <td>5.0</td>\n",
       "    </tr>\n",
       "    <tr>\n",
       "      <th>100071.0</th>\n",
       "      <td>10720.0</td>\n",
       "      <td>2.0</td>\n",
       "      <td>3.0</td>\n",
       "      <td>11.0</td>\n",
       "      <td>110.0</td>\n",
       "      <td>1.0</td>\n",
       "      <td>1.0</td>\n",
       "      <td>2.0</td>\n",
       "      <td>1.0</td>\n",
       "      <td>2.0</td>\n",
       "      <td>...</td>\n",
       "      <td>1.0</td>\n",
       "      <td>1.0</td>\n",
       "      <td>1.0</td>\n",
       "      <td>0.0</td>\n",
       "      <td>0.0</td>\n",
       "      <td>0.0</td>\n",
       "      <td>-1.0</td>\n",
       "      <td>24.0</td>\n",
       "      <td>3.1</td>\n",
       "      <td>5.0</td>\n",
       "    </tr>\n",
       "    <tr>\n",
       "      <th>100082.0</th>\n",
       "      <td>11761.0</td>\n",
       "      <td>2.0</td>\n",
       "      <td>3.0</td>\n",
       "      <td>11.0</td>\n",
       "      <td>110.0</td>\n",
       "      <td>1.0</td>\n",
       "      <td>1.0</td>\n",
       "      <td>2.0</td>\n",
       "      <td>1.0</td>\n",
       "      <td>2.0</td>\n",
       "      <td>...</td>\n",
       "      <td>1.0</td>\n",
       "      <td>1.0</td>\n",
       "      <td>1.0</td>\n",
       "      <td>1.0</td>\n",
       "      <td>1.0</td>\n",
       "      <td>1.0</td>\n",
       "      <td>80.0</td>\n",
       "      <td>23.0</td>\n",
       "      <td>3.1</td>\n",
       "      <td>5.0</td>\n",
       "    </tr>\n",
       "    <tr>\n",
       "      <th>...</th>\n",
       "      <td>...</td>\n",
       "      <td>...</td>\n",
       "      <td>...</td>\n",
       "      <td>...</td>\n",
       "      <td>...</td>\n",
       "      <td>...</td>\n",
       "      <td>...</td>\n",
       "      <td>...</td>\n",
       "      <td>...</td>\n",
       "      <td>...</td>\n",
       "      <td>...</td>\n",
       "      <td>...</td>\n",
       "      <td>...</td>\n",
       "      <td>...</td>\n",
       "      <td>...</td>\n",
       "      <td>...</td>\n",
       "      <td>...</td>\n",
       "      <td>...</td>\n",
       "      <td>...</td>\n",
       "      <td>...</td>\n",
       "      <td>...</td>\n",
       "    </tr>\n",
       "    <tr>\n",
       "      <th>166166.0</th>\n",
       "      <td>16031.0</td>\n",
       "      <td>1.0</td>\n",
       "      <td>1.0</td>\n",
       "      <td>11.0</td>\n",
       "      <td>110.0</td>\n",
       "      <td>1.0</td>\n",
       "      <td>2.0</td>\n",
       "      <td>2.0</td>\n",
       "      <td>2.0</td>\n",
       "      <td>2.0</td>\n",
       "      <td>...</td>\n",
       "      <td>2.0</td>\n",
       "      <td>1.0</td>\n",
       "      <td>1.0</td>\n",
       "      <td>1.0</td>\n",
       "      <td>1.0</td>\n",
       "      <td>1.0</td>\n",
       "      <td>75.0</td>\n",
       "      <td>24.0</td>\n",
       "      <td>4.1</td>\n",
       "      <td>25.0</td>\n",
       "    </tr>\n",
       "    <tr>\n",
       "      <th>166173.0</th>\n",
       "      <td>16870.0</td>\n",
       "      <td>2.0</td>\n",
       "      <td>5.0</td>\n",
       "      <td>11.0</td>\n",
       "      <td>110.0</td>\n",
       "      <td>1.0</td>\n",
       "      <td>1.0</td>\n",
       "      <td>1.0</td>\n",
       "      <td>1.0</td>\n",
       "      <td>2.0</td>\n",
       "      <td>...</td>\n",
       "      <td>3.0</td>\n",
       "      <td>2.0</td>\n",
       "      <td>2.0</td>\n",
       "      <td>1.0</td>\n",
       "      <td>1.0</td>\n",
       "      <td>1.0</td>\n",
       "      <td>91.0</td>\n",
       "      <td>52.0</td>\n",
       "      <td>7.4</td>\n",
       "      <td>27.0</td>\n",
       "    </tr>\n",
       "    <tr>\n",
       "      <th>700754.0</th>\n",
       "      <td>13534.0</td>\n",
       "      <td>2.0</td>\n",
       "      <td>1.0</td>\n",
       "      <td>11.0</td>\n",
       "      <td>110.0</td>\n",
       "      <td>3.0</td>\n",
       "      <td>-1.0</td>\n",
       "      <td>2.0</td>\n",
       "      <td>2.0</td>\n",
       "      <td>2.0</td>\n",
       "      <td>...</td>\n",
       "      <td>2.0</td>\n",
       "      <td>1.0</td>\n",
       "      <td>1.0</td>\n",
       "      <td>0.0</td>\n",
       "      <td>0.0</td>\n",
       "      <td>0.0</td>\n",
       "      <td>-1.0</td>\n",
       "      <td>-3.0</td>\n",
       "      <td>4.1</td>\n",
       "      <td>7.0</td>\n",
       "    </tr>\n",
       "    <tr>\n",
       "      <th>701435.0</th>\n",
       "      <td>14994.0</td>\n",
       "      <td>2.0</td>\n",
       "      <td>2.0</td>\n",
       "      <td>11.0</td>\n",
       "      <td>110.0</td>\n",
       "      <td>1.0</td>\n",
       "      <td>1.0</td>\n",
       "      <td>2.0</td>\n",
       "      <td>1.0</td>\n",
       "      <td>2.0</td>\n",
       "      <td>...</td>\n",
       "      <td>2.0</td>\n",
       "      <td>1.0</td>\n",
       "      <td>1.0</td>\n",
       "      <td>1.0</td>\n",
       "      <td>1.0</td>\n",
       "      <td>1.0</td>\n",
       "      <td>74.0</td>\n",
       "      <td>35.0</td>\n",
       "      <td>4.3</td>\n",
       "      <td>8.0</td>\n",
       "    </tr>\n",
       "    <tr>\n",
       "      <th>701668.0</th>\n",
       "      <td>14994.0</td>\n",
       "      <td>1.0</td>\n",
       "      <td>1.0</td>\n",
       "      <td>11.0</td>\n",
       "      <td>110.0</td>\n",
       "      <td>1.0</td>\n",
       "      <td>2.0</td>\n",
       "      <td>2.0</td>\n",
       "      <td>1.0</td>\n",
       "      <td>2.0</td>\n",
       "      <td>...</td>\n",
       "      <td>1.0</td>\n",
       "      <td>1.0</td>\n",
       "      <td>1.0</td>\n",
       "      <td>0.0</td>\n",
       "      <td>0.0</td>\n",
       "      <td>0.0</td>\n",
       "      <td>-1.0</td>\n",
       "      <td>-3.0</td>\n",
       "      <td>3.2</td>\n",
       "      <td>7.0</td>\n",
       "    </tr>\n",
       "  </tbody>\n",
       "</table>\n",
       "<p>3263 rows × 6188 columns</p>\n",
       "</div>"
      ],
      "text/plain": [
       "          idahhw6  perid  samptyp  w6indout  W6hhout  couple  cpid  chinhh  \\\n",
       "idauniq                                                                      \n",
       "100009.0  11311.0    3.0      3.0      11.0    110.0     2.0   1.0     2.0   \n",
       "100054.0  13376.0    3.0      3.0      11.0    110.0     1.0   2.0     2.0   \n",
       "100068.0  16718.0    2.0      3.0      11.0    110.0     1.0   1.0     2.0   \n",
       "100071.0  10720.0    2.0      3.0      11.0    110.0     1.0   1.0     2.0   \n",
       "100082.0  11761.0    2.0      3.0      11.0    110.0     1.0   1.0     2.0   \n",
       "...           ...    ...      ...       ...      ...     ...   ...     ...   \n",
       "166166.0  16031.0    1.0      1.0      11.0    110.0     1.0   2.0     2.0   \n",
       "166173.0  16870.0    2.0      5.0      11.0    110.0     1.0   1.0     1.0   \n",
       "700754.0  13534.0    2.0      1.0      11.0    110.0     3.0  -1.0     2.0   \n",
       "701435.0  14994.0    2.0      2.0      11.0    110.0     1.0   1.0     2.0   \n",
       "701668.0  14994.0    1.0      1.0      11.0    110.0     1.0   2.0     2.0   \n",
       "\n",
       "          chouthh  gcinhh  ...  w6nssec8  w6nssec5  w6nssec3  W6SIC  w6soc  \\\n",
       "idauniq                    ...                                               \n",
       "100009.0      1.0     2.0  ...       7.0       5.0       3.0    0.0    0.0   \n",
       "100054.0      1.0     2.0  ...       6.0       5.0       3.0    0.0    0.0   \n",
       "100068.0      1.0     2.0  ...       1.0       1.0       1.0    0.0    0.0   \n",
       "100071.0      1.0     2.0  ...       1.0       1.0       1.0    0.0    0.0   \n",
       "100082.0      1.0     2.0  ...       1.0       1.0       1.0    1.0    1.0   \n",
       "...           ...     ...  ...       ...       ...       ...    ...    ...   \n",
       "166166.0      2.0     2.0  ...       2.0       1.0       1.0    1.0    1.0   \n",
       "166173.0      1.0     2.0  ...       3.0       2.0       2.0    1.0    1.0   \n",
       "700754.0      2.0     2.0  ...       2.0       1.0       1.0    0.0    0.0   \n",
       "701435.0      1.0     2.0  ...       2.0       1.0       1.0    1.0    1.0   \n",
       "701668.0      1.0     2.0  ...       1.0       1.0       1.0    0.0    0.0   \n",
       "\n",
       "          W6SEC  w6sic2003  w6soc2000  w6nssec13  finstatw6  \n",
       "idauniq                                                      \n",
       "100009.0    0.0       -1.0       81.0       13.4        5.0  \n",
       "100054.0    0.0       -1.0       81.0       12.3        5.0  \n",
       "100068.0    0.0       -1.0       23.0        3.1        5.0  \n",
       "100071.0    0.0       -1.0       24.0        3.1        5.0  \n",
       "100082.0    1.0       80.0       23.0        3.1        5.0  \n",
       "...         ...        ...        ...        ...        ...  \n",
       "166166.0    1.0       75.0       24.0        4.1       25.0  \n",
       "166173.0    1.0       91.0       52.0        7.4       27.0  \n",
       "700754.0    0.0       -1.0       -3.0        4.1        7.0  \n",
       "701435.0    1.0       74.0       35.0        4.3        8.0  \n",
       "701668.0    0.0       -1.0       -3.0        3.2        7.0  \n",
       "\n",
       "[3263 rows x 6188 columns]"
      ]
     },
     "execution_count": 128,
     "metadata": {},
     "output_type": "execute_result"
    }
   ],
   "source": [
    "w6_without_sbj_awr_no_q5_df"
   ]
  },
  {
   "cell_type": "markdown",
   "metadata": {},
   "source": [
    "* sexdissa:  -1 (item no aplicable) en sexdissa_w6_f y sexdissa_w6_m que no son aplicables porque se requiere ser de un sexo u otro para responder:"
   ]
  },
  {
   "cell_type": "markdown",
   "metadata": {},
   "source": [
    "Se tratarán en la construcción funcional de los cuestionarios sexdissa_w6_f y sexdissa_w6_m"
   ]
  },
  {
   "cell_type": "markdown",
   "metadata": {},
   "source": [
    "- mortalidad: eliminamos los sujetos no repetidos en las dos olas"
   ]
  },
  {
   "cell_type": "code",
   "execution_count": 129,
   "metadata": {},
   "outputs": [],
   "source": [
    "# indaunic"
   ]
  },
  {
   "cell_type": "markdown",
   "metadata": {},
   "source": [
    "### ( ! ) Base de datos tras la segunda limpieza valores perdidos"
   ]
  },
  {
   "cell_type": "code",
   "execution_count": 130,
   "metadata": {},
   "outputs": [],
   "source": [
    "w6_second_cleaned_df = w6_without_second_sbj_didnt_awr_df #sustituir por el nombre del df más reciente tras la limpieza"
   ]
  },
  {
   "cell_type": "markdown",
   "metadata": {},
   "source": [
    "## 8) Construcción funcional de los segundos cuestionarios"
   ]
  },
  {
   "cell_type": "markdown",
   "metadata": {},
   "source": [
    "* Sexual dissatisfaction"
   ]
  },
  {
   "cell_type": "markdown",
   "metadata": {},
   "source": [
    "#### Función que transforma el valor de q10"
   ]
  },
  {
   "cell_type": "markdown",
   "metadata": {},
   "source": [
    "El item q10 habla de insatisfacción tanto por exceso como por defecto por lo que sus puntuaciones deben ser transformadas de 1, 2 o 3 a 0 o 5. "
   ]
  },
  {
   "cell_type": "markdown",
   "metadata": {},
   "source": [
    "traducción: \n",
    " > define la función transform_q10_sexdissa_w6 devolviendo un 5 en las respuestas que se haya obtenido 1, un 5 en las que se haya obtenido un 3, un 0 si se ha obtenido un 2 o un 'nulo' para cualquier otra respuesta"
   ]
  },
  {
   "cell_type": "code",
   "execution_count": 131,
   "metadata": {},
   "outputs": [],
   "source": [
    "def transform_q10_sexdissa_w6(x: [1, 2, 3]) -> [0, 5]:\n",
    "     return 5 if x == 1 else 5 if x == 3 else 0 if x == 2  else None"
   ]
  },
  {
   "cell_type": "markdown",
   "metadata": {},
   "source": [
    "traducción:\n",
    "> define la función get_direct_items_sexdissa_w6, se ha de restar 1 al valor de entrada"
   ]
  },
  {
   "cell_type": "code",
   "execution_count": 132,
   "metadata": {},
   "outputs": [],
   "source": [
    "def get_direct_items_sexdissa_w6(x: [1, 2, 3, 4, 5]) -> [0, 1, 2, 3, 4]:\n",
    "    return 0 if x == 1 else 1 if x == 2 else 2 if x == 3 else 3 if x == 4 else 4 if x == 5 else None"
   ]
  },
  {
   "cell_type": "markdown",
   "metadata": {},
   "source": [
    "traducción: \n",
    ">define la función calc_items_sexdissa_w6_f en la que, para cada sujeto se obtenga una lista de enteros. Devuelve la lista que se compone de: aplicar la funcióm transform_q10_sexdissa_w6 a cada item_to_transform de cada sujeto para cada sujeto en sexdissa_item_to_transform Y aplicar la función get_direct_items_sexdissa_w6 a cada direct_item_sexdissa para cada direct_item_sexdissa en sexdissa_direct_items_f"
   ]
  },
  {
   "cell_type": "code",
   "execution_count": 133,
   "metadata": {},
   "outputs": [],
   "source": [
    "def calc_items_sexdissa_w6_f(sbj) -> List[int]:\n",
    "    return [transform_q10_sexdissa_w6(sbj[item_to_transform]) for item_to_transform in sexdissa_item_to_transform] + [\n",
    "              get_direct_items_sexdissa_w6(sbj[direct_item_sexdissa]) for direct_item_sexdissa in sexdissa_direct_items_f]"
   ]
  },
  {
   "cell_type": "markdown",
   "metadata": {},
   "source": [
    ">Exactamente igual pero con los items de hombres"
   ]
  },
  {
   "cell_type": "code",
   "execution_count": 134,
   "metadata": {},
   "outputs": [],
   "source": [
    "def calc_items_sexdissa_w6_m(sbj) -> List[int]:\n",
    "    return [transform_q10_sexdissa_w6(sbj[item_to_transform]) for item_to_transform in sexdissa_item_to_transform] + [ \n",
    "              get_direct_items_sexdissa_w6(sbj[direct_item_sexdissa]) for direct_item_sexdissa in sexdissa_direct_items_m]"
   ]
  },
  {
   "cell_type": "markdown",
   "metadata": {},
   "source": [
    "Los los valores perdidos \"-1 (item not applicable)\" debidos al sexo se disipan al construir los dataframes diferenciados en hombres y mujeres"
   ]
  },
  {
   "cell_type": "markdown",
   "metadata": {},
   "source": [
    "#### Construcción del cuestionario de mujeres"
   ]
  },
  {
   "cell_type": "code",
   "execution_count": 135,
   "metadata": {},
   "outputs": [],
   "source": [
    "f_w6_df = w6_second_cleaned_df.loc[(w6_second_cleaned_df['indsex'] == 2)]"
   ]
  },
  {
   "cell_type": "code",
   "execution_count": 136,
   "metadata": {},
   "outputs": [],
   "source": [
    "items_sexdissa_w6_f_df = f_w6_df.apply(calc_items_sexdissa_w6_f, axis=1, result_type='expand')"
   ]
  },
  {
   "cell_type": "code",
   "execution_count": 137,
   "metadata": {},
   "outputs": [
    {
     "data": {
      "text/html": [
       "<div>\n",
       "<style scoped>\n",
       "    .dataframe tbody tr th:only-of-type {\n",
       "        vertical-align: middle;\n",
       "    }\n",
       "\n",
       "    .dataframe tbody tr th {\n",
       "        vertical-align: top;\n",
       "    }\n",
       "\n",
       "    .dataframe thead th {\n",
       "        text-align: right;\n",
       "    }\n",
       "</style>\n",
       "<table border=\"1\" class=\"dataframe\">\n",
       "  <thead>\n",
       "    <tr style=\"text-align: right;\">\n",
       "      <th></th>\n",
       "      <th>0</th>\n",
       "      <th>1</th>\n",
       "      <th>2</th>\n",
       "      <th>3</th>\n",
       "      <th>4</th>\n",
       "      <th>5</th>\n",
       "      <th>6</th>\n",
       "      <th>7</th>\n",
       "    </tr>\n",
       "    <tr>\n",
       "      <th>idauniq</th>\n",
       "      <th></th>\n",
       "      <th></th>\n",
       "      <th></th>\n",
       "      <th></th>\n",
       "      <th></th>\n",
       "      <th></th>\n",
       "      <th></th>\n",
       "      <th></th>\n",
       "    </tr>\n",
       "  </thead>\n",
       "  <tbody>\n",
       "    <tr>\n",
       "      <th>100082.0</th>\n",
       "      <td>5.0</td>\n",
       "      <td>0.0</td>\n",
       "      <td>0.0</td>\n",
       "      <td>0.0</td>\n",
       "      <td>0.0</td>\n",
       "      <td>0.0</td>\n",
       "      <td>0.0</td>\n",
       "      <td>0.0</td>\n",
       "    </tr>\n",
       "    <tr>\n",
       "      <th>100101.0</th>\n",
       "      <td>0.0</td>\n",
       "      <td>2.0</td>\n",
       "      <td>1.0</td>\n",
       "      <td>0.0</td>\n",
       "      <td>0.0</td>\n",
       "      <td>0.0</td>\n",
       "      <td>0.0</td>\n",
       "      <td>0.0</td>\n",
       "    </tr>\n",
       "    <tr>\n",
       "      <th>100102.0</th>\n",
       "      <td>NaN</td>\n",
       "      <td>0.0</td>\n",
       "      <td>NaN</td>\n",
       "      <td>NaN</td>\n",
       "      <td>NaN</td>\n",
       "      <td>NaN</td>\n",
       "      <td>NaN</td>\n",
       "      <td>0.0</td>\n",
       "    </tr>\n",
       "    <tr>\n",
       "      <th>100105.0</th>\n",
       "      <td>0.0</td>\n",
       "      <td>0.0</td>\n",
       "      <td>0.0</td>\n",
       "      <td>0.0</td>\n",
       "      <td>0.0</td>\n",
       "      <td>0.0</td>\n",
       "      <td>0.0</td>\n",
       "      <td>0.0</td>\n",
       "    </tr>\n",
       "    <tr>\n",
       "      <th>100106.0</th>\n",
       "      <td>NaN</td>\n",
       "      <td>0.0</td>\n",
       "      <td>NaN</td>\n",
       "      <td>NaN</td>\n",
       "      <td>NaN</td>\n",
       "      <td>NaN</td>\n",
       "      <td>NaN</td>\n",
       "      <td>0.0</td>\n",
       "    </tr>\n",
       "    <tr>\n",
       "      <th>...</th>\n",
       "      <td>...</td>\n",
       "      <td>...</td>\n",
       "      <td>...</td>\n",
       "      <td>...</td>\n",
       "      <td>...</td>\n",
       "      <td>...</td>\n",
       "      <td>...</td>\n",
       "      <td>...</td>\n",
       "    </tr>\n",
       "    <tr>\n",
       "      <th>166171.0</th>\n",
       "      <td>NaN</td>\n",
       "      <td>2.0</td>\n",
       "      <td>NaN</td>\n",
       "      <td>NaN</td>\n",
       "      <td>NaN</td>\n",
       "      <td>NaN</td>\n",
       "      <td>NaN</td>\n",
       "      <td>3.0</td>\n",
       "    </tr>\n",
       "    <tr>\n",
       "      <th>700564.0</th>\n",
       "      <td>NaN</td>\n",
       "      <td>1.0</td>\n",
       "      <td>NaN</td>\n",
       "      <td>NaN</td>\n",
       "      <td>NaN</td>\n",
       "      <td>NaN</td>\n",
       "      <td>NaN</td>\n",
       "      <td>1.0</td>\n",
       "    </tr>\n",
       "    <tr>\n",
       "      <th>700754.0</th>\n",
       "      <td>0.0</td>\n",
       "      <td>0.0</td>\n",
       "      <td>0.0</td>\n",
       "      <td>0.0</td>\n",
       "      <td>0.0</td>\n",
       "      <td>0.0</td>\n",
       "      <td>NaN</td>\n",
       "      <td>0.0</td>\n",
       "    </tr>\n",
       "    <tr>\n",
       "      <th>701435.0</th>\n",
       "      <td>0.0</td>\n",
       "      <td>0.0</td>\n",
       "      <td>0.0</td>\n",
       "      <td>1.0</td>\n",
       "      <td>0.0</td>\n",
       "      <td>0.0</td>\n",
       "      <td>0.0</td>\n",
       "      <td>0.0</td>\n",
       "    </tr>\n",
       "    <tr>\n",
       "      <th>705927.0</th>\n",
       "      <td>NaN</td>\n",
       "      <td>0.0</td>\n",
       "      <td>NaN</td>\n",
       "      <td>NaN</td>\n",
       "      <td>NaN</td>\n",
       "      <td>NaN</td>\n",
       "      <td>NaN</td>\n",
       "      <td>0.0</td>\n",
       "    </tr>\n",
       "  </tbody>\n",
       "</table>\n",
       "<p>2515 rows × 8 columns</p>\n",
       "</div>"
      ],
      "text/plain": [
       "            0    1    2    3    4    5    6    7\n",
       "idauniq                                         \n",
       "100082.0  5.0  0.0  0.0  0.0  0.0  0.0  0.0  0.0\n",
       "100101.0  0.0  2.0  1.0  0.0  0.0  0.0  0.0  0.0\n",
       "100102.0  NaN  0.0  NaN  NaN  NaN  NaN  NaN  0.0\n",
       "100105.0  0.0  0.0  0.0  0.0  0.0  0.0  0.0  0.0\n",
       "100106.0  NaN  0.0  NaN  NaN  NaN  NaN  NaN  0.0\n",
       "...       ...  ...  ...  ...  ...  ...  ...  ...\n",
       "166171.0  NaN  2.0  NaN  NaN  NaN  NaN  NaN  3.0\n",
       "700564.0  NaN  1.0  NaN  NaN  NaN  NaN  NaN  1.0\n",
       "700754.0  0.0  0.0  0.0  0.0  0.0  0.0  NaN  0.0\n",
       "701435.0  0.0  0.0  0.0  1.0  0.0  0.0  0.0  0.0\n",
       "705927.0  NaN  0.0  NaN  NaN  NaN  NaN  NaN  0.0\n",
       "\n",
       "[2515 rows x 8 columns]"
      ]
     },
     "execution_count": 137,
     "metadata": {},
     "output_type": "execute_result"
    }
   ],
   "source": [
    "items_sexdissa_w6_f_df"
   ]
  },
  {
   "cell_type": "markdown",
   "metadata": {},
   "source": [
    "* Sexual dissatisfaction male"
   ]
  },
  {
   "cell_type": "code",
   "execution_count": 138,
   "metadata": {},
   "outputs": [],
   "source": [
    "m_w6_df = w6_second_cleaned_df.loc[(w6_second_cleaned_df['indsex'] == 1)]"
   ]
  },
  {
   "cell_type": "code",
   "execution_count": 139,
   "metadata": {},
   "outputs": [],
   "source": [
    "items_sexdissa_w6_m_df = m_w6_df.apply(calc_items_sexdissa_w6_m, axis=1, result_type='expand')"
   ]
  },
  {
   "cell_type": "code",
   "execution_count": 140,
   "metadata": {},
   "outputs": [
    {
     "data": {
      "text/html": [
       "<div>\n",
       "<style scoped>\n",
       "    .dataframe tbody tr th:only-of-type {\n",
       "        vertical-align: middle;\n",
       "    }\n",
       "\n",
       "    .dataframe tbody tr th {\n",
       "        vertical-align: top;\n",
       "    }\n",
       "\n",
       "    .dataframe thead th {\n",
       "        text-align: right;\n",
       "    }\n",
       "</style>\n",
       "<table border=\"1\" class=\"dataframe\">\n",
       "  <thead>\n",
       "    <tr style=\"text-align: right;\">\n",
       "      <th></th>\n",
       "      <th>0</th>\n",
       "      <th>1</th>\n",
       "      <th>2</th>\n",
       "      <th>3</th>\n",
       "      <th>4</th>\n",
       "      <th>5</th>\n",
       "      <th>6</th>\n",
       "      <th>7</th>\n",
       "      <th>8</th>\n",
       "    </tr>\n",
       "    <tr>\n",
       "      <th>idauniq</th>\n",
       "      <th></th>\n",
       "      <th></th>\n",
       "      <th></th>\n",
       "      <th></th>\n",
       "      <th></th>\n",
       "      <th></th>\n",
       "      <th></th>\n",
       "      <th></th>\n",
       "      <th></th>\n",
       "    </tr>\n",
       "  </thead>\n",
       "  <tbody>\n",
       "    <tr>\n",
       "      <th>100009.0</th>\n",
       "      <td>0.0</td>\n",
       "      <td>0.0</td>\n",
       "      <td>0.0</td>\n",
       "      <td>0.0</td>\n",
       "      <td>0.0</td>\n",
       "      <td>0.0</td>\n",
       "      <td>0.0</td>\n",
       "      <td>1.0</td>\n",
       "      <td>0.0</td>\n",
       "    </tr>\n",
       "    <tr>\n",
       "      <th>100054.0</th>\n",
       "      <td>5.0</td>\n",
       "      <td>0.0</td>\n",
       "      <td>2.0</td>\n",
       "      <td>0.0</td>\n",
       "      <td>4.0</td>\n",
       "      <td>3.0</td>\n",
       "      <td>0.0</td>\n",
       "      <td>4.0</td>\n",
       "      <td>2.0</td>\n",
       "    </tr>\n",
       "    <tr>\n",
       "      <th>100068.0</th>\n",
       "      <td>5.0</td>\n",
       "      <td>0.0</td>\n",
       "      <td>0.0</td>\n",
       "      <td>0.0</td>\n",
       "      <td>2.0</td>\n",
       "      <td>0.0</td>\n",
       "      <td>0.0</td>\n",
       "      <td>NaN</td>\n",
       "      <td>0.0</td>\n",
       "    </tr>\n",
       "    <tr>\n",
       "      <th>100071.0</th>\n",
       "      <td>5.0</td>\n",
       "      <td>0.0</td>\n",
       "      <td>4.0</td>\n",
       "      <td>2.0</td>\n",
       "      <td>3.0</td>\n",
       "      <td>2.0</td>\n",
       "      <td>0.0</td>\n",
       "      <td>NaN</td>\n",
       "      <td>4.0</td>\n",
       "    </tr>\n",
       "    <tr>\n",
       "      <th>101166.0</th>\n",
       "      <td>NaN</td>\n",
       "      <td>0.0</td>\n",
       "      <td>NaN</td>\n",
       "      <td>0.0</td>\n",
       "      <td>NaN</td>\n",
       "      <td>NaN</td>\n",
       "      <td>0.0</td>\n",
       "      <td>NaN</td>\n",
       "      <td>0.0</td>\n",
       "    </tr>\n",
       "    <tr>\n",
       "      <th>...</th>\n",
       "      <td>...</td>\n",
       "      <td>...</td>\n",
       "      <td>...</td>\n",
       "      <td>...</td>\n",
       "      <td>...</td>\n",
       "      <td>...</td>\n",
       "      <td>...</td>\n",
       "      <td>...</td>\n",
       "      <td>...</td>\n",
       "    </tr>\n",
       "    <tr>\n",
       "      <th>166161.0</th>\n",
       "      <td>NaN</td>\n",
       "      <td>0.0</td>\n",
       "      <td>NaN</td>\n",
       "      <td>0.0</td>\n",
       "      <td>NaN</td>\n",
       "      <td>NaN</td>\n",
       "      <td>0.0</td>\n",
       "      <td>NaN</td>\n",
       "      <td>0.0</td>\n",
       "    </tr>\n",
       "    <tr>\n",
       "      <th>166164.0</th>\n",
       "      <td>0.0</td>\n",
       "      <td>0.0</td>\n",
       "      <td>0.0</td>\n",
       "      <td>0.0</td>\n",
       "      <td>0.0</td>\n",
       "      <td>0.0</td>\n",
       "      <td>0.0</td>\n",
       "      <td>1.0</td>\n",
       "      <td>0.0</td>\n",
       "    </tr>\n",
       "    <tr>\n",
       "      <th>166165.0</th>\n",
       "      <td>5.0</td>\n",
       "      <td>0.0</td>\n",
       "      <td>1.0</td>\n",
       "      <td>0.0</td>\n",
       "      <td>3.0</td>\n",
       "      <td>1.0</td>\n",
       "      <td>0.0</td>\n",
       "      <td>4.0</td>\n",
       "      <td>3.0</td>\n",
       "    </tr>\n",
       "    <tr>\n",
       "      <th>166173.0</th>\n",
       "      <td>0.0</td>\n",
       "      <td>0.0</td>\n",
       "      <td>0.0</td>\n",
       "      <td>0.0</td>\n",
       "      <td>0.0</td>\n",
       "      <td>0.0</td>\n",
       "      <td>0.0</td>\n",
       "      <td>0.0</td>\n",
       "      <td>0.0</td>\n",
       "    </tr>\n",
       "    <tr>\n",
       "      <th>701668.0</th>\n",
       "      <td>0.0</td>\n",
       "      <td>0.0</td>\n",
       "      <td>0.0</td>\n",
       "      <td>0.0</td>\n",
       "      <td>1.0</td>\n",
       "      <td>0.0</td>\n",
       "      <td>0.0</td>\n",
       "      <td>0.0</td>\n",
       "      <td>0.0</td>\n",
       "    </tr>\n",
       "  </tbody>\n",
       "</table>\n",
       "<p>2255 rows × 9 columns</p>\n",
       "</div>"
      ],
      "text/plain": [
       "            0    1    2    3    4    5    6    7    8\n",
       "idauniq                                              \n",
       "100009.0  0.0  0.0  0.0  0.0  0.0  0.0  0.0  1.0  0.0\n",
       "100054.0  5.0  0.0  2.0  0.0  4.0  3.0  0.0  4.0  2.0\n",
       "100068.0  5.0  0.0  0.0  0.0  2.0  0.0  0.0  NaN  0.0\n",
       "100071.0  5.0  0.0  4.0  2.0  3.0  2.0  0.0  NaN  4.0\n",
       "101166.0  NaN  0.0  NaN  0.0  NaN  NaN  0.0  NaN  0.0\n",
       "...       ...  ...  ...  ...  ...  ...  ...  ...  ...\n",
       "166161.0  NaN  0.0  NaN  0.0  NaN  NaN  0.0  NaN  0.0\n",
       "166164.0  0.0  0.0  0.0  0.0  0.0  0.0  0.0  1.0  0.0\n",
       "166165.0  5.0  0.0  1.0  0.0  3.0  1.0  0.0  4.0  3.0\n",
       "166173.0  0.0  0.0  0.0  0.0  0.0  0.0  0.0  0.0  0.0\n",
       "701668.0  0.0  0.0  0.0  0.0  1.0  0.0  0.0  0.0  0.0\n",
       "\n",
       "[2255 rows x 9 columns]"
      ]
     },
     "execution_count": 140,
     "metadata": {},
     "output_type": "execute_result"
    }
   ],
   "source": [
    "items_sexdissa_w6_m_df"
   ]
  },
  {
   "cell_type": "markdown",
   "metadata": {},
   "source": [
    "## 9) Tercer tratamiento de valores perdidos Drop NaN. Preparación de la base de datos para la regresión"
   ]
  },
  {
   "cell_type": "markdown",
   "metadata": {},
   "source": [
    "* Eliminar los valores perdidos del dataframe sexdissa_w6 (female)"
   ]
  },
  {
   "cell_type": "code",
   "execution_count": 141,
   "metadata": {},
   "outputs": [],
   "source": [
    "items_sexdissa_without_nan_w6_f_df = items_sexdissa_w6_f_df.dropna()"
   ]
  },
  {
   "cell_type": "code",
   "execution_count": 142,
   "metadata": {},
   "outputs": [
    {
     "data": {
      "text/html": [
       "<div>\n",
       "<style scoped>\n",
       "    .dataframe tbody tr th:only-of-type {\n",
       "        vertical-align: middle;\n",
       "    }\n",
       "\n",
       "    .dataframe tbody tr th {\n",
       "        vertical-align: top;\n",
       "    }\n",
       "\n",
       "    .dataframe thead th {\n",
       "        text-align: right;\n",
       "    }\n",
       "</style>\n",
       "<table border=\"1\" class=\"dataframe\">\n",
       "  <thead>\n",
       "    <tr style=\"text-align: right;\">\n",
       "      <th></th>\n",
       "      <th>0</th>\n",
       "      <th>1</th>\n",
       "      <th>2</th>\n",
       "      <th>3</th>\n",
       "      <th>4</th>\n",
       "      <th>5</th>\n",
       "      <th>6</th>\n",
       "      <th>7</th>\n",
       "    </tr>\n",
       "    <tr>\n",
       "      <th>idauniq</th>\n",
       "      <th></th>\n",
       "      <th></th>\n",
       "      <th></th>\n",
       "      <th></th>\n",
       "      <th></th>\n",
       "      <th></th>\n",
       "      <th></th>\n",
       "      <th></th>\n",
       "    </tr>\n",
       "  </thead>\n",
       "  <tbody>\n",
       "    <tr>\n",
       "      <th>100082.0</th>\n",
       "      <td>5.0</td>\n",
       "      <td>0.0</td>\n",
       "      <td>0.0</td>\n",
       "      <td>0.0</td>\n",
       "      <td>0.0</td>\n",
       "      <td>0.0</td>\n",
       "      <td>0.0</td>\n",
       "      <td>0.0</td>\n",
       "    </tr>\n",
       "    <tr>\n",
       "      <th>100101.0</th>\n",
       "      <td>0.0</td>\n",
       "      <td>2.0</td>\n",
       "      <td>1.0</td>\n",
       "      <td>0.0</td>\n",
       "      <td>0.0</td>\n",
       "      <td>0.0</td>\n",
       "      <td>0.0</td>\n",
       "      <td>0.0</td>\n",
       "    </tr>\n",
       "    <tr>\n",
       "      <th>100105.0</th>\n",
       "      <td>0.0</td>\n",
       "      <td>0.0</td>\n",
       "      <td>0.0</td>\n",
       "      <td>0.0</td>\n",
       "      <td>0.0</td>\n",
       "      <td>0.0</td>\n",
       "      <td>0.0</td>\n",
       "      <td>0.0</td>\n",
       "    </tr>\n",
       "    <tr>\n",
       "      <th>101544.0</th>\n",
       "      <td>5.0</td>\n",
       "      <td>0.0</td>\n",
       "      <td>0.0</td>\n",
       "      <td>0.0</td>\n",
       "      <td>0.0</td>\n",
       "      <td>0.0</td>\n",
       "      <td>4.0</td>\n",
       "      <td>0.0</td>\n",
       "    </tr>\n",
       "    <tr>\n",
       "      <th>103753.0</th>\n",
       "      <td>0.0</td>\n",
       "      <td>0.0</td>\n",
       "      <td>0.0</td>\n",
       "      <td>0.0</td>\n",
       "      <td>0.0</td>\n",
       "      <td>0.0</td>\n",
       "      <td>4.0</td>\n",
       "      <td>0.0</td>\n",
       "    </tr>\n",
       "    <tr>\n",
       "      <th>...</th>\n",
       "      <td>...</td>\n",
       "      <td>...</td>\n",
       "      <td>...</td>\n",
       "      <td>...</td>\n",
       "      <td>...</td>\n",
       "      <td>...</td>\n",
       "      <td>...</td>\n",
       "      <td>...</td>\n",
       "    </tr>\n",
       "    <tr>\n",
       "      <th>166106.0</th>\n",
       "      <td>5.0</td>\n",
       "      <td>1.0</td>\n",
       "      <td>1.0</td>\n",
       "      <td>0.0</td>\n",
       "      <td>0.0</td>\n",
       "      <td>0.0</td>\n",
       "      <td>1.0</td>\n",
       "      <td>1.0</td>\n",
       "    </tr>\n",
       "    <tr>\n",
       "      <th>166111.0</th>\n",
       "      <td>0.0</td>\n",
       "      <td>0.0</td>\n",
       "      <td>0.0</td>\n",
       "      <td>1.0</td>\n",
       "      <td>0.0</td>\n",
       "      <td>0.0</td>\n",
       "      <td>0.0</td>\n",
       "      <td>0.0</td>\n",
       "    </tr>\n",
       "    <tr>\n",
       "      <th>166125.0</th>\n",
       "      <td>5.0</td>\n",
       "      <td>3.0</td>\n",
       "      <td>2.0</td>\n",
       "      <td>0.0</td>\n",
       "      <td>2.0</td>\n",
       "      <td>1.0</td>\n",
       "      <td>3.0</td>\n",
       "      <td>0.0</td>\n",
       "    </tr>\n",
       "    <tr>\n",
       "      <th>166131.0</th>\n",
       "      <td>0.0</td>\n",
       "      <td>0.0</td>\n",
       "      <td>0.0</td>\n",
       "      <td>0.0</td>\n",
       "      <td>0.0</td>\n",
       "      <td>0.0</td>\n",
       "      <td>0.0</td>\n",
       "      <td>0.0</td>\n",
       "    </tr>\n",
       "    <tr>\n",
       "      <th>701435.0</th>\n",
       "      <td>0.0</td>\n",
       "      <td>0.0</td>\n",
       "      <td>0.0</td>\n",
       "      <td>1.0</td>\n",
       "      <td>0.0</td>\n",
       "      <td>0.0</td>\n",
       "      <td>0.0</td>\n",
       "      <td>0.0</td>\n",
       "    </tr>\n",
       "  </tbody>\n",
       "</table>\n",
       "<p>1008 rows × 8 columns</p>\n",
       "</div>"
      ],
      "text/plain": [
       "            0    1    2    3    4    5    6    7\n",
       "idauniq                                         \n",
       "100082.0  5.0  0.0  0.0  0.0  0.0  0.0  0.0  0.0\n",
       "100101.0  0.0  2.0  1.0  0.0  0.0  0.0  0.0  0.0\n",
       "100105.0  0.0  0.0  0.0  0.0  0.0  0.0  0.0  0.0\n",
       "101544.0  5.0  0.0  0.0  0.0  0.0  0.0  4.0  0.0\n",
       "103753.0  0.0  0.0  0.0  0.0  0.0  0.0  4.0  0.0\n",
       "...       ...  ...  ...  ...  ...  ...  ...  ...\n",
       "166106.0  5.0  1.0  1.0  0.0  0.0  0.0  1.0  1.0\n",
       "166111.0  0.0  0.0  0.0  1.0  0.0  0.0  0.0  0.0\n",
       "166125.0  5.0  3.0  2.0  0.0  2.0  1.0  3.0  0.0\n",
       "166131.0  0.0  0.0  0.0  0.0  0.0  0.0  0.0  0.0\n",
       "701435.0  0.0  0.0  0.0  1.0  0.0  0.0  0.0  0.0\n",
       "\n",
       "[1008 rows x 8 columns]"
      ]
     },
     "execution_count": 142,
     "metadata": {},
     "output_type": "execute_result"
    }
   ],
   "source": [
    "items_sexdissa_without_nan_w6_f_df"
   ]
  },
  {
   "cell_type": "code",
   "execution_count": 143,
   "metadata": {},
   "outputs": [],
   "source": [
    "sexdissa_w6_f = items_sexdissa_without_nan_w6_f_df.sum(axis=1)"
   ]
  },
  {
   "cell_type": "markdown",
   "metadata": {},
   "source": [
    "* Eliminar los valores perdidos del dataframe sexdissa_w6 (male)"
   ]
  },
  {
   "cell_type": "code",
   "execution_count": 144,
   "metadata": {},
   "outputs": [],
   "source": [
    "items_sexdissa_without_nan_w6_m_df = items_sexdissa_w6_m_df.dropna()"
   ]
  },
  {
   "cell_type": "code",
   "execution_count": 145,
   "metadata": {},
   "outputs": [
    {
     "data": {
      "text/html": [
       "<div>\n",
       "<style scoped>\n",
       "    .dataframe tbody tr th:only-of-type {\n",
       "        vertical-align: middle;\n",
       "    }\n",
       "\n",
       "    .dataframe tbody tr th {\n",
       "        vertical-align: top;\n",
       "    }\n",
       "\n",
       "    .dataframe thead th {\n",
       "        text-align: right;\n",
       "    }\n",
       "</style>\n",
       "<table border=\"1\" class=\"dataframe\">\n",
       "  <thead>\n",
       "    <tr style=\"text-align: right;\">\n",
       "      <th></th>\n",
       "      <th>0</th>\n",
       "      <th>1</th>\n",
       "      <th>2</th>\n",
       "      <th>3</th>\n",
       "      <th>4</th>\n",
       "      <th>5</th>\n",
       "      <th>6</th>\n",
       "      <th>7</th>\n",
       "      <th>8</th>\n",
       "    </tr>\n",
       "    <tr>\n",
       "      <th>idauniq</th>\n",
       "      <th></th>\n",
       "      <th></th>\n",
       "      <th></th>\n",
       "      <th></th>\n",
       "      <th></th>\n",
       "      <th></th>\n",
       "      <th></th>\n",
       "      <th></th>\n",
       "      <th></th>\n",
       "    </tr>\n",
       "  </thead>\n",
       "  <tbody>\n",
       "    <tr>\n",
       "      <th>100009.0</th>\n",
       "      <td>0.0</td>\n",
       "      <td>0.0</td>\n",
       "      <td>0.0</td>\n",
       "      <td>0.0</td>\n",
       "      <td>0.0</td>\n",
       "      <td>0.0</td>\n",
       "      <td>0.0</td>\n",
       "      <td>1.0</td>\n",
       "      <td>0.0</td>\n",
       "    </tr>\n",
       "    <tr>\n",
       "      <th>100054.0</th>\n",
       "      <td>5.0</td>\n",
       "      <td>0.0</td>\n",
       "      <td>2.0</td>\n",
       "      <td>0.0</td>\n",
       "      <td>4.0</td>\n",
       "      <td>3.0</td>\n",
       "      <td>0.0</td>\n",
       "      <td>4.0</td>\n",
       "      <td>2.0</td>\n",
       "    </tr>\n",
       "    <tr>\n",
       "      <th>101579.0</th>\n",
       "      <td>0.0</td>\n",
       "      <td>0.0</td>\n",
       "      <td>1.0</td>\n",
       "      <td>0.0</td>\n",
       "      <td>1.0</td>\n",
       "      <td>1.0</td>\n",
       "      <td>0.0</td>\n",
       "      <td>3.0</td>\n",
       "      <td>1.0</td>\n",
       "    </tr>\n",
       "    <tr>\n",
       "      <th>101879.0</th>\n",
       "      <td>0.0</td>\n",
       "      <td>1.0</td>\n",
       "      <td>0.0</td>\n",
       "      <td>1.0</td>\n",
       "      <td>2.0</td>\n",
       "      <td>0.0</td>\n",
       "      <td>0.0</td>\n",
       "      <td>0.0</td>\n",
       "      <td>0.0</td>\n",
       "    </tr>\n",
       "    <tr>\n",
       "      <th>103699.0</th>\n",
       "      <td>0.0</td>\n",
       "      <td>0.0</td>\n",
       "      <td>0.0</td>\n",
       "      <td>0.0</td>\n",
       "      <td>1.0</td>\n",
       "      <td>0.0</td>\n",
       "      <td>0.0</td>\n",
       "      <td>0.0</td>\n",
       "      <td>0.0</td>\n",
       "    </tr>\n",
       "    <tr>\n",
       "      <th>...</th>\n",
       "      <td>...</td>\n",
       "      <td>...</td>\n",
       "      <td>...</td>\n",
       "      <td>...</td>\n",
       "      <td>...</td>\n",
       "      <td>...</td>\n",
       "      <td>...</td>\n",
       "      <td>...</td>\n",
       "      <td>...</td>\n",
       "    </tr>\n",
       "    <tr>\n",
       "      <th>166158.0</th>\n",
       "      <td>0.0</td>\n",
       "      <td>0.0</td>\n",
       "      <td>0.0</td>\n",
       "      <td>0.0</td>\n",
       "      <td>1.0</td>\n",
       "      <td>0.0</td>\n",
       "      <td>0.0</td>\n",
       "      <td>2.0</td>\n",
       "      <td>0.0</td>\n",
       "    </tr>\n",
       "    <tr>\n",
       "      <th>166164.0</th>\n",
       "      <td>0.0</td>\n",
       "      <td>0.0</td>\n",
       "      <td>0.0</td>\n",
       "      <td>0.0</td>\n",
       "      <td>0.0</td>\n",
       "      <td>0.0</td>\n",
       "      <td>0.0</td>\n",
       "      <td>1.0</td>\n",
       "      <td>0.0</td>\n",
       "    </tr>\n",
       "    <tr>\n",
       "      <th>166165.0</th>\n",
       "      <td>5.0</td>\n",
       "      <td>0.0</td>\n",
       "      <td>1.0</td>\n",
       "      <td>0.0</td>\n",
       "      <td>3.0</td>\n",
       "      <td>1.0</td>\n",
       "      <td>0.0</td>\n",
       "      <td>4.0</td>\n",
       "      <td>3.0</td>\n",
       "    </tr>\n",
       "    <tr>\n",
       "      <th>166173.0</th>\n",
       "      <td>0.0</td>\n",
       "      <td>0.0</td>\n",
       "      <td>0.0</td>\n",
       "      <td>0.0</td>\n",
       "      <td>0.0</td>\n",
       "      <td>0.0</td>\n",
       "      <td>0.0</td>\n",
       "      <td>0.0</td>\n",
       "      <td>0.0</td>\n",
       "    </tr>\n",
       "    <tr>\n",
       "      <th>701668.0</th>\n",
       "      <td>0.0</td>\n",
       "      <td>0.0</td>\n",
       "      <td>0.0</td>\n",
       "      <td>0.0</td>\n",
       "      <td>1.0</td>\n",
       "      <td>0.0</td>\n",
       "      <td>0.0</td>\n",
       "      <td>0.0</td>\n",
       "      <td>0.0</td>\n",
       "    </tr>\n",
       "  </tbody>\n",
       "</table>\n",
       "<p>1114 rows × 9 columns</p>\n",
       "</div>"
      ],
      "text/plain": [
       "            0    1    2    3    4    5    6    7    8\n",
       "idauniq                                              \n",
       "100009.0  0.0  0.0  0.0  0.0  0.0  0.0  0.0  1.0  0.0\n",
       "100054.0  5.0  0.0  2.0  0.0  4.0  3.0  0.0  4.0  2.0\n",
       "101579.0  0.0  0.0  1.0  0.0  1.0  1.0  0.0  3.0  1.0\n",
       "101879.0  0.0  1.0  0.0  1.0  2.0  0.0  0.0  0.0  0.0\n",
       "103699.0  0.0  0.0  0.0  0.0  1.0  0.0  0.0  0.0  0.0\n",
       "...       ...  ...  ...  ...  ...  ...  ...  ...  ...\n",
       "166158.0  0.0  0.0  0.0  0.0  1.0  0.0  0.0  2.0  0.0\n",
       "166164.0  0.0  0.0  0.0  0.0  0.0  0.0  0.0  1.0  0.0\n",
       "166165.0  5.0  0.0  1.0  0.0  3.0  1.0  0.0  4.0  3.0\n",
       "166173.0  0.0  0.0  0.0  0.0  0.0  0.0  0.0  0.0  0.0\n",
       "701668.0  0.0  0.0  0.0  0.0  1.0  0.0  0.0  0.0  0.0\n",
       "\n",
       "[1114 rows x 9 columns]"
      ]
     },
     "execution_count": 145,
     "metadata": {},
     "output_type": "execute_result"
    }
   ],
   "source": [
    "items_sexdissa_without_nan_w6_m_df"
   ]
  },
  {
   "cell_type": "code",
   "execution_count": 146,
   "metadata": {},
   "outputs": [],
   "source": [
    "sexdissa_w6_m = items_sexdissa_without_nan_w6_m_df.sum(axis=1)"
   ]
  },
  {
   "cell_type": "code",
   "execution_count": 147,
   "metadata": {},
   "outputs": [
    {
     "data": {
      "text/plain": [
       "idauniq\n",
       "100009.0     1.0\n",
       "100054.0    20.0\n",
       "101579.0     7.0\n",
       "101879.0     4.0\n",
       "103699.0     1.0\n",
       "            ... \n",
       "166158.0     3.0\n",
       "166164.0     1.0\n",
       "166165.0    17.0\n",
       "166173.0     0.0\n",
       "701668.0     1.0\n",
       "Length: 1114, dtype: float64"
      ]
     },
     "execution_count": 147,
     "metadata": {},
     "output_type": "execute_result"
    }
   ],
   "source": [
    "sexdissa_w6_m"
   ]
  },
  {
   "cell_type": "markdown",
   "metadata": {},
   "source": [
    ">Bartlett’s test of sphericity checks whether or not the observed variables intercorrelate at all using the observed correlation matrix against the identity matrix. If the test found statistically insignificant, you should not employ a factor analysis"
   ]
  },
  {
   "cell_type": "markdown",
   "metadata": {},
   "source": [
    "## 10) Análisis factoriales de los segundos cuestionarios"
   ]
  },
  {
   "cell_type": "markdown",
   "metadata": {},
   "source": [
    "### 10.1) Ola 6"
   ]
  },
  {
   "cell_type": "markdown",
   "metadata": {},
   "source": [
    "* sexdissa_w6_f"
   ]
  },
  {
   "cell_type": "markdown",
   "metadata": {},
   "source": [
    "#### Exploratorio"
   ]
  },
  {
   "cell_type": "markdown",
   "metadata": {},
   "source": [
    ">Bartlett’s test of sphericity checks whether or not the observed variables intercorrelate at all using the observed correlation matrix against the identity matrix. If the test found statistically insignificant, you should not employ a factor analysis"
   ]
  },
  {
   "cell_type": "code",
   "execution_count": 148,
   "metadata": {},
   "outputs": [],
   "source": [
    "chi_square_value_sexdissa_w6_f, p_value_sexdissa_w6_f = calculate_bartlett_sphericity(items_sexdissa_without_nan_w6_f_df)"
   ]
  },
  {
   "cell_type": "code",
   "execution_count": 149,
   "metadata": {},
   "outputs": [
    {
     "data": {
      "text/plain": [
       "(3593.020602825989, 0.0)"
      ]
     },
     "execution_count": 149,
     "metadata": {},
     "output_type": "execute_result"
    }
   ],
   "source": [
    "chi_square_value_sexdissa_w6_f, p_value_sexdissa_w6_f"
   ]
  },
  {
   "cell_type": "markdown",
   "metadata": {},
   "source": [
    "The test was statistically significant, indicating that the observed correlation matrix **is not** an identity matrix."
   ]
  },
  {
   "cell_type": "markdown",
   "metadata": {},
   "source": [
    ">Kaiser-Meyer-Olkin (KMO) Test measures the suitability of data for factor analysis. It determines the adequacy for each observed variable and for the complete model. KMO estimates the proportion of variance among all the observed variable. Lower proportion id more suitable for factor analysis. KMO values range between 0 and 1. Value of KMO less than 0.6 is considered inadequate."
   ]
  },
  {
   "cell_type": "code",
   "execution_count": 150,
   "metadata": {},
   "outputs": [],
   "source": [
    "kmo_all_value_sexdissa_w6_f, kmo_model_value_sexdissa_w6_f = calculate_kmo(items_sexdissa_without_nan_w6_f_df)"
   ]
  },
  {
   "cell_type": "code",
   "execution_count": 151,
   "metadata": {},
   "outputs": [
    {
     "data": {
      "text/plain": [
       "array([0.88807169, 0.88029089, 0.8783699 , 0.8831957 , 0.86722747,\n",
       "       0.91115298, 0.87165285, 0.87476099])"
      ]
     },
     "execution_count": 151,
     "metadata": {},
     "output_type": "execute_result"
    }
   ],
   "source": [
    "kmo_all_value_sexdissa_w6_f"
   ]
  },
  {
   "cell_type": "code",
   "execution_count": 152,
   "metadata": {},
   "outputs": [
    {
     "data": {
      "text/plain": [
       "0.879989953375853"
      ]
     },
     "execution_count": 152,
     "metadata": {},
     "output_type": "execute_result"
    }
   ],
   "source": [
    "kmo_model_value_sexdissa_w6_f"
   ]
  },
  {
   "cell_type": "code",
   "execution_count": 153,
   "metadata": {},
   "outputs": [],
   "source": [
    "fa_sexdissa_w6_f = FactorAnalyzer(bounds=(0.005, 1), impute='drop', is_corr_matrix=False,\n",
    "               method='minres', n_factors=2, rotation='promax',\n",
    "               rotation_kwargs={}, use_smc=True)"
   ]
  },
  {
   "cell_type": "code",
   "execution_count": 154,
   "metadata": {},
   "outputs": [
    {
     "data": {
      "text/plain": [
       "FactorAnalyzer(bounds=(0.005, 1), impute='drop', is_corr_matrix=False,\n",
       "               method='minres', n_factors=2, rotation='promax',\n",
       "               rotation_kwargs={}, use_smc=True)"
      ]
     },
     "execution_count": 154,
     "metadata": {},
     "output_type": "execute_result"
    }
   ],
   "source": [
    "fa_sexdissa_w6_f.fit(items_sexdissa_without_nan_w6_f_df)"
   ]
  },
  {
   "cell_type": "code",
   "execution_count": 155,
   "metadata": {},
   "outputs": [
    {
     "data": {
      "text/plain": [
       "array([4.17761695, 0.95282087, 0.86870661, 0.59190083, 0.48160204,\n",
       "       0.35131465, 0.33110005, 0.24493798])"
      ]
     },
     "execution_count": 155,
     "metadata": {},
     "output_type": "execute_result"
    }
   ],
   "source": [
    "ev_sexdissa_w6_f, v_sexdissa_w6_f = fa_sexdissa_w6_f.get_eigenvalues()\n",
    "ev_sexdissa_w6_f"
   ]
  },
  {
   "cell_type": "code",
   "execution_count": 156,
   "metadata": {},
   "outputs": [
    {
     "data": {
      "image/png": "[encoded data removed]",
      "text/plain": [
       "<Figure size 432x288 with 1 Axes>"
      ]
     },
     "metadata": {
      "needs_background": "light"
     },
     "output_type": "display_data"
    }
   ],
   "source": [
    "plt.scatter(range(1, items_sexdissa_without_nan_w6_f_df.shape[1]+1), ev_sexdissa_w6_f)\n",
    "plt.plot(range(1, items_sexdissa_without_nan_w6_f_df.shape[1]+1), ev_sexdissa_w6_f)\n",
    "plt.title('Scree Plot')\n",
    "plt.xlabel('Factors')\n",
    "plt.ylabel('Eigenvalue')\n",
    "plt.grid()\n",
    "plt.show()"
   ]
  },
  {
   "cell_type": "markdown",
   "metadata": {},
   "source": [
    "* sexdissa_w6_m"
   ]
  },
  {
   "cell_type": "markdown",
   "metadata": {},
   "source": [
    "#### Exploratorio"
   ]
  },
  {
   "cell_type": "markdown",
   "metadata": {},
   "source": [
    ">Bartlett’s test of sphericity checks whether or not the observed variables intercorrelate at all using the observed correlation matrix against the identity matrix. If the test found statistically insignificant, you should not employ a factor analysis"
   ]
  },
  {
   "cell_type": "code",
   "execution_count": 157,
   "metadata": {},
   "outputs": [],
   "source": [
    "chi_square_value_sexdissa_w6_m,p_value_sexdissa_w6_m = calculate_bartlett_sphericity(items_sexdissa_without_nan_w6_m_df)"
   ]
  },
  {
   "cell_type": "code",
   "execution_count": 158,
   "metadata": {},
   "outputs": [
    {
     "data": {
      "text/plain": [
       "(4119.885930316781, 0.0)"
      ]
     },
     "execution_count": 158,
     "metadata": {},
     "output_type": "execute_result"
    }
   ],
   "source": [
    "chi_square_value_sexdissa_w6_m,p_value_sexdissa_w6_m"
   ]
  },
  {
   "cell_type": "markdown",
   "metadata": {},
   "source": [
    "The test was statistically significant, indicating that the observed correlation matrix **is not** an identity matrix."
   ]
  },
  {
   "cell_type": "markdown",
   "metadata": {},
   "source": [
    ">Kaiser-Meyer-Olkin (KMO) Test measures the suitability of data for factor analysis. It determines the adequacy for each observed variable and for the complete model. KMO estimates the proportion of variance among all the observed variable. Lower proportion id more suitable for factor analysis. KMO values range between 0 and 1. Value of KMO less than 0.6 is considered inadequate."
   ]
  },
  {
   "cell_type": "code",
   "execution_count": 159,
   "metadata": {},
   "outputs": [],
   "source": [
    "kmo_all_sexdissa_w6_m, Kmo_model_sexdissa_w6_m = calculate_kmo(items_sexdissa_without_nan_w6_m_df)"
   ]
  },
  {
   "cell_type": "code",
   "execution_count": 160,
   "metadata": {},
   "outputs": [
    {
     "data": {
      "text/plain": [
       "array([0.83599007, 0.88546661, 0.86590756, 0.85817508, 0.89811555,\n",
       "       0.8873534 , 0.90397801, 0.86927345, 0.88822539])"
      ]
     },
     "execution_count": 160,
     "metadata": {},
     "output_type": "execute_result"
    }
   ],
   "source": [
    "kmo_all_sexdissa_w6_m"
   ]
  },
  {
   "cell_type": "code",
   "execution_count": 161,
   "metadata": {},
   "outputs": [
    {
     "data": {
      "text/plain": [
       "0.8777125078359397"
      ]
     },
     "execution_count": 161,
     "metadata": {},
     "output_type": "execute_result"
    }
   ],
   "source": [
    "Kmo_model_sexdissa_w6_m"
   ]
  },
  {
   "cell_type": "code",
   "execution_count": 162,
   "metadata": {},
   "outputs": [],
   "source": [
    "fa_sexdissa_w6_m = FactorAnalyzer(bounds=(0.005, 1), impute='drop', is_corr_matrix=False,\n",
    "               method='minres', n_factors=2, rotation='promax',\n",
    "               rotation_kwargs={}, use_smc=True)"
   ]
  },
  {
   "cell_type": "code",
   "execution_count": 163,
   "metadata": {},
   "outputs": [
    {
     "data": {
      "text/plain": [
       "FactorAnalyzer(bounds=(0.005, 1), impute='drop', is_corr_matrix=False,\n",
       "               method='minres', n_factors=2, rotation='promax',\n",
       "               rotation_kwargs={}, use_smc=True)"
      ]
     },
     "execution_count": 163,
     "metadata": {},
     "output_type": "execute_result"
    }
   ],
   "source": [
    "fa_sexdissa_w6_m.fit(items_sexdissa_without_nan_w6_m_df)"
   ]
  },
  {
   "cell_type": "code",
   "execution_count": 164,
   "metadata": {},
   "outputs": [],
   "source": [
    "ev_sexdissa_w6_m, v_sexdissa_w6_m = fa_sexdissa_w6_m.get_eigenvalues()"
   ]
  },
  {
   "cell_type": "code",
   "execution_count": 165,
   "metadata": {},
   "outputs": [
    {
     "data": {
      "text/plain": [
       "array([4.36119367, 1.23117005, 0.77732398, 0.59656571, 0.52108531,\n",
       "       0.48937191, 0.40329002, 0.32247313, 0.29752622])"
      ]
     },
     "execution_count": 165,
     "metadata": {},
     "output_type": "execute_result"
    }
   ],
   "source": [
    "ev_sexdissa_w6_m"
   ]
  },
  {
   "cell_type": "code",
   "execution_count": 166,
   "metadata": {},
   "outputs": [
    {
     "data": {
      "image/png": "[encoded data removed]",
      "text/plain": [
       "<Figure size 432x288 with 1 Axes>"
      ]
     },
     "metadata": {
      "needs_background": "light"
     },
     "output_type": "display_data"
    }
   ],
   "source": [
    "plt.scatter(range(1, items_sexdissa_without_nan_w6_m_df.shape[1]+1), ev_sexdissa_w6_m)\n",
    "plt.plot(range(1, items_sexdissa_without_nan_w6_m_df.shape[1]+1), ev_sexdissa_w6_m)\n",
    "plt.title('Scree Plot')\n",
    "plt.xlabel('Factors')\n",
    "plt.ylabel('Eigenvalue')\n",
    "plt.grid()\n",
    "plt.show()"
   ]
  },
  {
   "cell_type": "markdown",
   "metadata": {},
   "source": [
    "## 11) Normalizar"
   ]
  },
  {
   "cell_type": "code",
   "execution_count": 167,
   "metadata": {},
   "outputs": [],
   "source": [
    "# https://www.it-swarm.dev/es/python/normalizar-columnas-de-datos-de-pandas./1049023341/"
   ]
  },
  {
   "cell_type": "code",
   "execution_count": null,
   "metadata": {},
   "outputs": [],
   "source": [
    "min_max_scaler = preprocessing.scale()\n",
    "x_scaled = min_max_scaler.fit_transform(x)\n",
    "df = pandas.DataFrame(x_scaled)"
   ]
  },
  {
   "cell_type": "code",
   "execution_count": null,
   "metadata": {},
   "outputs": [],
   "source": [
    "x = df.values #returns a numpy array\n",
    "min_max_scaler = preprocessing.MinMaxScaler()\n",
    "x_scaled = min_max_scaler.fit_transform(x)\n",
    "df = pd.DataFrame(x_scaled)"
   ]
  },
  {
   "cell_type": "markdown",
   "metadata": {},
   "source": [
    "* Casp19 ola 6"
   ]
  },
  {
   "cell_type": "code",
   "execution_count": null,
   "metadata": {},
   "outputs": [],
   "source": [
    "n_casp19_w6 = "
   ]
  },
  {
   "cell_type": "markdown",
   "metadata": {},
   "source": [
    "* Insatisfacción sexual ola 6 mujeres"
   ]
  },
  {
   "cell_type": "code",
   "execution_count": 187,
   "metadata": {},
   "outputs": [
    {
     "ename": "AttributeError",
     "evalue": "'numpy.ndarray' object has no attribute 'min_max_scaler'",
     "output_type": "error",
     "traceback": [
      "\u001b[0;31m---------------------------------------------------------------------------\u001b[0m",
      "\u001b[0;31mAttributeError\u001b[0m                            Traceback (most recent call last)",
      "\u001b[0;32m<ipython-input-187-dd354548e7b1>\u001b[0m in \u001b[0;36m<module>\u001b[0;34m\u001b[0m\n\u001b[1;32m      1\u001b[0m \u001b[0mn_sexdissa_w6_f\u001b[0m \u001b[0;34m=\u001b[0m \u001b[0msexdissa_w6_f\u001b[0m\u001b[0;34m.\u001b[0m\u001b[0mvalues\u001b[0m\u001b[0;34m\u001b[0m\u001b[0;34m\u001b[0m\u001b[0m\n\u001b[0;32m----> 2\u001b[0;31m \u001b[0msexdissa_w6_f_scaled\u001b[0m \u001b[0;34m=\u001b[0m \u001b[0mn_sexdissa_w6_f\u001b[0m\u001b[0;34m.\u001b[0m\u001b[0mmin_max_scaler\u001b[0m\u001b[0;34m.\u001b[0m\u001b[0mfit_transform\u001b[0m\u001b[0;34m(\u001b[0m\u001b[0;34m)\u001b[0m\u001b[0;34m\u001b[0m\u001b[0;34m\u001b[0m\u001b[0m\n\u001b[0m\u001b[1;32m      3\u001b[0m \u001b[0msexdissa_w6_f_scaled_df\u001b[0m \u001b[0;34m=\u001b[0m \u001b[0mpd\u001b[0m\u001b[0;34m.\u001b[0m\u001b[0mDataFrame\u001b[0m\u001b[0;34m(\u001b[0m\u001b[0msexdissa_w6_f_scaled\u001b[0m\u001b[0;34m)\u001b[0m\u001b[0;34m\u001b[0m\u001b[0;34m\u001b[0m\u001b[0m\n",
      "\u001b[0;31mAttributeError\u001b[0m: 'numpy.ndarray' object has no attribute 'min_max_scaler'"
     ]
    }
   ],
   "source": [
    "n_sexdissa_w6_f = sexdissa_w6_f.values\n",
    "sexdissa_w6_f_scaled = n_sexdissa_w6_f.min_max_scaler.fit_transform()\n",
    "sexdissa_w6_f_scaled_df = pd.DataFrame(sexdissa_w6_f_scaled)"
   ]
  },
  {
   "cell_type": "markdown",
   "metadata": {},
   "source": [
    "* Insatisfacción sexual ola 6 hombres"
   ]
  },
  {
   "cell_type": "code",
   "execution_count": null,
   "metadata": {},
   "outputs": [],
   "source": [
    "n_sexdissa_w6_m ="
   ]
  },
  {
   "cell_type": "code",
   "execution_count": null,
   "metadata": {},
   "outputs": [],
   "source": []
  },
  {
   "cell_type": "markdown",
   "metadata": {},
   "source": [
    "* Multimorbilidad ola 6"
   ]
  },
  {
   "cell_type": "markdown",
   "metadata": {},
   "source": [
    "* ad ola 6"
   ]
  },
  {
   "cell_type": "markdown",
   "metadata": {},
   "source": [
    "* Casp19 ola 8"
   ]
  },
  {
   "cell_type": "code",
   "execution_count": null,
   "metadata": {},
   "outputs": [],
   "source": []
  },
  {
   "cell_type": "markdown",
   "metadata": {},
   "source": [
    "## ( ! ) Bases de datos juntadas"
   ]
  },
  {
   "cell_type": "code",
   "execution_count": 171,
   "metadata": {},
   "outputs": [],
   "source": [
    "indager_df = w6_second_cleaned_df['indager']"
   ]
  },
  {
   "cell_type": "markdown",
   "metadata": {},
   "source": [
    "* mujeres "
   ]
  },
  {
   "cell_type": "code",
   "execution_count": 172,
   "metadata": {},
   "outputs": [
    {
     "data": {
      "text/html": [
       "<div>\n",
       "<style scoped>\n",
       "    .dataframe tbody tr th:only-of-type {\n",
       "        vertical-align: middle;\n",
       "    }\n",
       "\n",
       "    .dataframe tbody tr th {\n",
       "        vertical-align: top;\n",
       "    }\n",
       "\n",
       "    .dataframe thead th {\n",
       "        text-align: right;\n",
       "    }\n",
       "</style>\n",
       "<table border=\"1\" class=\"dataframe\">\n",
       "  <thead>\n",
       "    <tr style=\"text-align: right;\">\n",
       "      <th></th>\n",
       "      <th>sexdissa_w6_f</th>\n",
       "      <th>casp19_w6</th>\n",
       "      <th>isolation_w6_df</th>\n",
       "      <th>indager_df</th>\n",
       "      <th>casp19_w8</th>\n",
       "    </tr>\n",
       "    <tr>\n",
       "      <th>idauniq</th>\n",
       "      <th></th>\n",
       "      <th></th>\n",
       "      <th></th>\n",
       "      <th></th>\n",
       "      <th></th>\n",
       "    </tr>\n",
       "  </thead>\n",
       "  <tbody>\n",
       "    <tr>\n",
       "      <th>100006.0</th>\n",
       "      <td>NaN</td>\n",
       "      <td>37.0</td>\n",
       "      <td>3.0</td>\n",
       "      <td>NaN</td>\n",
       "      <td>NaN</td>\n",
       "    </tr>\n",
       "    <tr>\n",
       "      <th>100007.0</th>\n",
       "      <td>NaN</td>\n",
       "      <td>50.0</td>\n",
       "      <td>1.0</td>\n",
       "      <td>NaN</td>\n",
       "      <td>36.0</td>\n",
       "    </tr>\n",
       "    <tr>\n",
       "      <th>100009.0</th>\n",
       "      <td>NaN</td>\n",
       "      <td>42.0</td>\n",
       "      <td>2.0</td>\n",
       "      <td>72.0</td>\n",
       "      <td>NaN</td>\n",
       "    </tr>\n",
       "    <tr>\n",
       "      <th>100012.0</th>\n",
       "      <td>NaN</td>\n",
       "      <td>NaN</td>\n",
       "      <td>NaN</td>\n",
       "      <td>NaN</td>\n",
       "      <td>51.0</td>\n",
       "    </tr>\n",
       "    <tr>\n",
       "      <th>100023.0</th>\n",
       "      <td>NaN</td>\n",
       "      <td>NaN</td>\n",
       "      <td>NaN</td>\n",
       "      <td>NaN</td>\n",
       "      <td>37.0</td>\n",
       "    </tr>\n",
       "    <tr>\n",
       "      <th>...</th>\n",
       "      <td>...</td>\n",
       "      <td>...</td>\n",
       "      <td>...</td>\n",
       "      <td>...</td>\n",
       "      <td>...</td>\n",
       "    </tr>\n",
       "    <tr>\n",
       "      <th>908465.0</th>\n",
       "      <td>NaN</td>\n",
       "      <td>NaN</td>\n",
       "      <td>NaN</td>\n",
       "      <td>NaN</td>\n",
       "      <td>54.0</td>\n",
       "    </tr>\n",
       "    <tr>\n",
       "      <th>908466.0</th>\n",
       "      <td>NaN</td>\n",
       "      <td>NaN</td>\n",
       "      <td>NaN</td>\n",
       "      <td>NaN</td>\n",
       "      <td>47.0</td>\n",
       "    </tr>\n",
       "    <tr>\n",
       "      <th>908468.0</th>\n",
       "      <td>NaN</td>\n",
       "      <td>NaN</td>\n",
       "      <td>NaN</td>\n",
       "      <td>NaN</td>\n",
       "      <td>46.0</td>\n",
       "    </tr>\n",
       "    <tr>\n",
       "      <th>908473.0</th>\n",
       "      <td>NaN</td>\n",
       "      <td>NaN</td>\n",
       "      <td>NaN</td>\n",
       "      <td>NaN</td>\n",
       "      <td>33.0</td>\n",
       "    </tr>\n",
       "    <tr>\n",
       "      <th>908474.0</th>\n",
       "      <td>NaN</td>\n",
       "      <td>NaN</td>\n",
       "      <td>NaN</td>\n",
       "      <td>NaN</td>\n",
       "      <td>40.0</td>\n",
       "    </tr>\n",
       "  </tbody>\n",
       "</table>\n",
       "<p>9811 rows × 5 columns</p>\n",
       "</div>"
      ],
      "text/plain": [
       "          sexdissa_w6_f  casp19_w6  isolation_w6_df  indager_df  casp19_w8\n",
       "idauniq                                                                   \n",
       "100006.0            NaN       37.0              3.0         NaN        NaN\n",
       "100007.0            NaN       50.0              1.0         NaN       36.0\n",
       "100009.0            NaN       42.0              2.0        72.0        NaN\n",
       "100012.0            NaN        NaN              NaN         NaN       51.0\n",
       "100023.0            NaN        NaN              NaN         NaN       37.0\n",
       "...                 ...        ...              ...         ...        ...\n",
       "908465.0            NaN        NaN              NaN         NaN       54.0\n",
       "908466.0            NaN        NaN              NaN         NaN       47.0\n",
       "908468.0            NaN        NaN              NaN         NaN       46.0\n",
       "908473.0            NaN        NaN              NaN         NaN       33.0\n",
       "908474.0            NaN        NaN              NaN         NaN       40.0\n",
       "\n",
       "[9811 rows x 5 columns]"
      ]
     },
     "execution_count": 172,
     "metadata": {},
     "output_type": "execute_result"
    }
   ],
   "source": [
    "w8_w6_f_df = pd.DataFrame([sexdissa_w6_f, casp19_w6, isolation_w6_df, indager_df, casp19_w8])\n",
    "w8_w6_f_df_t = w8_w6_f_df.transpose()\n",
    "w8_w6_f_df_t.columns = ['sexdissa_w6_f', 'casp19_w6', 'isolation_w6_df', 'indager_df', 'casp19_w8']\n",
    "w8_w6_f_df_t"
   ]
  },
  {
   "cell_type": "markdown",
   "metadata": {},
   "source": [
    "* hombres"
   ]
  },
  {
   "cell_type": "code",
   "execution_count": 174,
   "metadata": {},
   "outputs": [
    {
     "data": {
      "text/html": [
       "<div>\n",
       "<style scoped>\n",
       "    .dataframe tbody tr th:only-of-type {\n",
       "        vertical-align: middle;\n",
       "    }\n",
       "\n",
       "    .dataframe tbody tr th {\n",
       "        vertical-align: top;\n",
       "    }\n",
       "\n",
       "    .dataframe thead th {\n",
       "        text-align: right;\n",
       "    }\n",
       "</style>\n",
       "<table border=\"1\" class=\"dataframe\">\n",
       "  <thead>\n",
       "    <tr style=\"text-align: right;\">\n",
       "      <th></th>\n",
       "      <th>sexdissa_w6_m</th>\n",
       "      <th>casp19_w6</th>\n",
       "      <th>isolation_w6_df</th>\n",
       "      <th>indager_df</th>\n",
       "      <th>casp19_w8</th>\n",
       "    </tr>\n",
       "    <tr>\n",
       "      <th>idauniq</th>\n",
       "      <th></th>\n",
       "      <th></th>\n",
       "      <th></th>\n",
       "      <th></th>\n",
       "      <th></th>\n",
       "    </tr>\n",
       "  </thead>\n",
       "  <tbody>\n",
       "    <tr>\n",
       "      <th>100006.0</th>\n",
       "      <td>NaN</td>\n",
       "      <td>37.0</td>\n",
       "      <td>3.0</td>\n",
       "      <td>NaN</td>\n",
       "      <td>NaN</td>\n",
       "    </tr>\n",
       "    <tr>\n",
       "      <th>100007.0</th>\n",
       "      <td>NaN</td>\n",
       "      <td>50.0</td>\n",
       "      <td>1.0</td>\n",
       "      <td>NaN</td>\n",
       "      <td>36.0</td>\n",
       "    </tr>\n",
       "    <tr>\n",
       "      <th>100009.0</th>\n",
       "      <td>1.0</td>\n",
       "      <td>42.0</td>\n",
       "      <td>2.0</td>\n",
       "      <td>72.0</td>\n",
       "      <td>NaN</td>\n",
       "    </tr>\n",
       "    <tr>\n",
       "      <th>100012.0</th>\n",
       "      <td>NaN</td>\n",
       "      <td>NaN</td>\n",
       "      <td>NaN</td>\n",
       "      <td>NaN</td>\n",
       "      <td>51.0</td>\n",
       "    </tr>\n",
       "    <tr>\n",
       "      <th>100023.0</th>\n",
       "      <td>NaN</td>\n",
       "      <td>NaN</td>\n",
       "      <td>NaN</td>\n",
       "      <td>NaN</td>\n",
       "      <td>37.0</td>\n",
       "    </tr>\n",
       "    <tr>\n",
       "      <th>...</th>\n",
       "      <td>...</td>\n",
       "      <td>...</td>\n",
       "      <td>...</td>\n",
       "      <td>...</td>\n",
       "      <td>...</td>\n",
       "    </tr>\n",
       "    <tr>\n",
       "      <th>908465.0</th>\n",
       "      <td>NaN</td>\n",
       "      <td>NaN</td>\n",
       "      <td>NaN</td>\n",
       "      <td>NaN</td>\n",
       "      <td>54.0</td>\n",
       "    </tr>\n",
       "    <tr>\n",
       "      <th>908466.0</th>\n",
       "      <td>NaN</td>\n",
       "      <td>NaN</td>\n",
       "      <td>NaN</td>\n",
       "      <td>NaN</td>\n",
       "      <td>47.0</td>\n",
       "    </tr>\n",
       "    <tr>\n",
       "      <th>908468.0</th>\n",
       "      <td>NaN</td>\n",
       "      <td>NaN</td>\n",
       "      <td>NaN</td>\n",
       "      <td>NaN</td>\n",
       "      <td>46.0</td>\n",
       "    </tr>\n",
       "    <tr>\n",
       "      <th>908473.0</th>\n",
       "      <td>NaN</td>\n",
       "      <td>NaN</td>\n",
       "      <td>NaN</td>\n",
       "      <td>NaN</td>\n",
       "      <td>33.0</td>\n",
       "    </tr>\n",
       "    <tr>\n",
       "      <th>908474.0</th>\n",
       "      <td>NaN</td>\n",
       "      <td>NaN</td>\n",
       "      <td>NaN</td>\n",
       "      <td>NaN</td>\n",
       "      <td>40.0</td>\n",
       "    </tr>\n",
       "  </tbody>\n",
       "</table>\n",
       "<p>9811 rows × 5 columns</p>\n",
       "</div>"
      ],
      "text/plain": [
       "          sexdissa_w6_m  casp19_w6  isolation_w6_df  indager_df  casp19_w8\n",
       "idauniq                                                                   \n",
       "100006.0            NaN       37.0              3.0         NaN        NaN\n",
       "100007.0            NaN       50.0              1.0         NaN       36.0\n",
       "100009.0            1.0       42.0              2.0        72.0        NaN\n",
       "100012.0            NaN        NaN              NaN         NaN       51.0\n",
       "100023.0            NaN        NaN              NaN         NaN       37.0\n",
       "...                 ...        ...              ...         ...        ...\n",
       "908465.0            NaN        NaN              NaN         NaN       54.0\n",
       "908466.0            NaN        NaN              NaN         NaN       47.0\n",
       "908468.0            NaN        NaN              NaN         NaN       46.0\n",
       "908473.0            NaN        NaN              NaN         NaN       33.0\n",
       "908474.0            NaN        NaN              NaN         NaN       40.0\n",
       "\n",
       "[9811 rows x 5 columns]"
      ]
     },
     "execution_count": 174,
     "metadata": {},
     "output_type": "execute_result"
    }
   ],
   "source": [
    "w8_w6_m_df = pd.DataFrame([sexdissa_w6_m, casp19_w6, isolation_w6_df, indager_df, casp19_w8])\n",
    "w8_w6_m_df_t = w8_w6_m_df.transpose()\n",
    "w8_w6_m_df_t.columns = ['sexdissa_w6_m', 'casp19_w6', 'isolation_w6_df', 'indager_df', 'casp19_w8']\n",
    "w8_w6_m_df_t"
   ]
  },
  {
   "cell_type": "markdown",
   "metadata": {},
   "source": [
    "### Eliminamos los nuevos de la ola 8 y los de la ola 6 que no se repiten en la ola 8"
   ]
  },
  {
   "cell_type": "code",
   "execution_count": 191,
   "metadata": {},
   "outputs": [
    {
     "data": {
      "text/html": [
       "<div>\n",
       "<style scoped>\n",
       "    .dataframe tbody tr th:only-of-type {\n",
       "        vertical-align: middle;\n",
       "    }\n",
       "\n",
       "    .dataframe tbody tr th {\n",
       "        vertical-align: top;\n",
       "    }\n",
       "\n",
       "    .dataframe thead th {\n",
       "        text-align: right;\n",
       "    }\n",
       "</style>\n",
       "<table border=\"1\" class=\"dataframe\">\n",
       "  <thead>\n",
       "    <tr style=\"text-align: right;\">\n",
       "      <th></th>\n",
       "      <th>sexdissa_w6_f</th>\n",
       "      <th>casp19_w6</th>\n",
       "      <th>isolation_w6_df</th>\n",
       "      <th>indager_df</th>\n",
       "      <th>casp19_w8</th>\n",
       "    </tr>\n",
       "    <tr>\n",
       "      <th>idauniq</th>\n",
       "      <th></th>\n",
       "      <th></th>\n",
       "      <th></th>\n",
       "      <th></th>\n",
       "      <th></th>\n",
       "    </tr>\n",
       "  </thead>\n",
       "  <tbody>\n",
       "    <tr>\n",
       "      <th>100082.0</th>\n",
       "      <td>5.0</td>\n",
       "      <td>56.0</td>\n",
       "      <td>1.0</td>\n",
       "      <td>60.0</td>\n",
       "      <td>56.0</td>\n",
       "    </tr>\n",
       "    <tr>\n",
       "      <th>101544.0</th>\n",
       "      <td>9.0</td>\n",
       "      <td>36.0</td>\n",
       "      <td>1.0</td>\n",
       "      <td>68.0</td>\n",
       "      <td>32.0</td>\n",
       "    </tr>\n",
       "    <tr>\n",
       "      <th>103783.0</th>\n",
       "      <td>4.0</td>\n",
       "      <td>46.0</td>\n",
       "      <td>0.0</td>\n",
       "      <td>74.0</td>\n",
       "      <td>47.0</td>\n",
       "    </tr>\n",
       "    <tr>\n",
       "      <th>103801.0</th>\n",
       "      <td>6.0</td>\n",
       "      <td>46.0</td>\n",
       "      <td>1.0</td>\n",
       "      <td>61.0</td>\n",
       "      <td>49.0</td>\n",
       "    </tr>\n",
       "    <tr>\n",
       "      <th>103818.0</th>\n",
       "      <td>7.0</td>\n",
       "      <td>48.0</td>\n",
       "      <td>1.0</td>\n",
       "      <td>62.0</td>\n",
       "      <td>51.0</td>\n",
       "    </tr>\n",
       "    <tr>\n",
       "      <th>...</th>\n",
       "      <td>...</td>\n",
       "      <td>...</td>\n",
       "      <td>...</td>\n",
       "      <td>...</td>\n",
       "      <td>...</td>\n",
       "    </tr>\n",
       "    <tr>\n",
       "      <th>166081.0</th>\n",
       "      <td>0.0</td>\n",
       "      <td>51.0</td>\n",
       "      <td>1.0</td>\n",
       "      <td>51.0</td>\n",
       "      <td>50.0</td>\n",
       "    </tr>\n",
       "    <tr>\n",
       "      <th>166106.0</th>\n",
       "      <td>9.0</td>\n",
       "      <td>42.0</td>\n",
       "      <td>1.0</td>\n",
       "      <td>56.0</td>\n",
       "      <td>50.0</td>\n",
       "    </tr>\n",
       "    <tr>\n",
       "      <th>166111.0</th>\n",
       "      <td>1.0</td>\n",
       "      <td>38.0</td>\n",
       "      <td>2.0</td>\n",
       "      <td>52.0</td>\n",
       "      <td>37.0</td>\n",
       "    </tr>\n",
       "    <tr>\n",
       "      <th>166131.0</th>\n",
       "      <td>0.0</td>\n",
       "      <td>44.0</td>\n",
       "      <td>1.0</td>\n",
       "      <td>55.0</td>\n",
       "      <td>50.0</td>\n",
       "    </tr>\n",
       "    <tr>\n",
       "      <th>701435.0</th>\n",
       "      <td>1.0</td>\n",
       "      <td>48.0</td>\n",
       "      <td>1.0</td>\n",
       "      <td>58.0</td>\n",
       "      <td>49.0</td>\n",
       "    </tr>\n",
       "  </tbody>\n",
       "</table>\n",
       "<p>772 rows × 5 columns</p>\n",
       "</div>"
      ],
      "text/plain": [
       "          sexdissa_w6_f  casp19_w6  isolation_w6_df  indager_df  casp19_w8\n",
       "idauniq                                                                   \n",
       "100082.0            5.0       56.0              1.0        60.0       56.0\n",
       "101544.0            9.0       36.0              1.0        68.0       32.0\n",
       "103783.0            4.0       46.0              0.0        74.0       47.0\n",
       "103801.0            6.0       46.0              1.0        61.0       49.0\n",
       "103818.0            7.0       48.0              1.0        62.0       51.0\n",
       "...                 ...        ...              ...         ...        ...\n",
       "166081.0            0.0       51.0              1.0        51.0       50.0\n",
       "166106.0            9.0       42.0              1.0        56.0       50.0\n",
       "166111.0            1.0       38.0              2.0        52.0       37.0\n",
       "166131.0            0.0       44.0              1.0        55.0       50.0\n",
       "701435.0            1.0       48.0              1.0        58.0       49.0\n",
       "\n",
       "[772 rows x 5 columns]"
      ]
     },
     "execution_count": 191,
     "metadata": {},
     "output_type": "execute_result"
    }
   ],
   "source": [
    "w8_w6_f_df_t.dropna()"
   ]
  },
  {
   "cell_type": "code",
   "execution_count": 192,
   "metadata": {},
   "outputs": [],
   "source": [
    "w8_w6_f_df_t_without_nan = w8_w6_f_df_t.dropna()"
   ]
  },
  {
   "cell_type": "code",
   "execution_count": 193,
   "metadata": {},
   "outputs": [
    {
     "data": {
      "text/html": [
       "<div>\n",
       "<style scoped>\n",
       "    .dataframe tbody tr th:only-of-type {\n",
       "        vertical-align: middle;\n",
       "    }\n",
       "\n",
       "    .dataframe tbody tr th {\n",
       "        vertical-align: top;\n",
       "    }\n",
       "\n",
       "    .dataframe thead th {\n",
       "        text-align: right;\n",
       "    }\n",
       "</style>\n",
       "<table border=\"1\" class=\"dataframe\">\n",
       "  <thead>\n",
       "    <tr style=\"text-align: right;\">\n",
       "      <th></th>\n",
       "      <th>sexdissa_w6_m</th>\n",
       "      <th>casp19_w6</th>\n",
       "      <th>isolation_w6_df</th>\n",
       "      <th>indager_df</th>\n",
       "      <th>casp19_w8</th>\n",
       "    </tr>\n",
       "    <tr>\n",
       "      <th>idauniq</th>\n",
       "      <th></th>\n",
       "      <th></th>\n",
       "      <th></th>\n",
       "      <th></th>\n",
       "      <th></th>\n",
       "    </tr>\n",
       "  </thead>\n",
       "  <tbody>\n",
       "    <tr>\n",
       "      <th>100054.0</th>\n",
       "      <td>20.0</td>\n",
       "      <td>17.0</td>\n",
       "      <td>3.0</td>\n",
       "      <td>64.0</td>\n",
       "      <td>28.0</td>\n",
       "    </tr>\n",
       "    <tr>\n",
       "      <th>101879.0</th>\n",
       "      <td>4.0</td>\n",
       "      <td>40.0</td>\n",
       "      <td>2.0</td>\n",
       "      <td>74.0</td>\n",
       "      <td>41.0</td>\n",
       "    </tr>\n",
       "    <tr>\n",
       "      <th>103699.0</th>\n",
       "      <td>1.0</td>\n",
       "      <td>48.0</td>\n",
       "      <td>1.0</td>\n",
       "      <td>64.0</td>\n",
       "      <td>44.0</td>\n",
       "    </tr>\n",
       "    <tr>\n",
       "      <th>103716.0</th>\n",
       "      <td>4.0</td>\n",
       "      <td>44.0</td>\n",
       "      <td>1.0</td>\n",
       "      <td>80.0</td>\n",
       "      <td>44.0</td>\n",
       "    </tr>\n",
       "    <tr>\n",
       "      <th>103769.0</th>\n",
       "      <td>10.0</td>\n",
       "      <td>27.0</td>\n",
       "      <td>1.0</td>\n",
       "      <td>80.0</td>\n",
       "      <td>31.0</td>\n",
       "    </tr>\n",
       "    <tr>\n",
       "      <th>...</th>\n",
       "      <td>...</td>\n",
       "      <td>...</td>\n",
       "      <td>...</td>\n",
       "      <td>...</td>\n",
       "      <td>...</td>\n",
       "    </tr>\n",
       "    <tr>\n",
       "      <th>166158.0</th>\n",
       "      <td>3.0</td>\n",
       "      <td>26.0</td>\n",
       "      <td>0.0</td>\n",
       "      <td>54.0</td>\n",
       "      <td>40.0</td>\n",
       "    </tr>\n",
       "    <tr>\n",
       "      <th>166164.0</th>\n",
       "      <td>1.0</td>\n",
       "      <td>40.0</td>\n",
       "      <td>2.0</td>\n",
       "      <td>61.0</td>\n",
       "      <td>32.0</td>\n",
       "    </tr>\n",
       "    <tr>\n",
       "      <th>166165.0</th>\n",
       "      <td>17.0</td>\n",
       "      <td>22.0</td>\n",
       "      <td>3.0</td>\n",
       "      <td>54.0</td>\n",
       "      <td>37.0</td>\n",
       "    </tr>\n",
       "    <tr>\n",
       "      <th>166173.0</th>\n",
       "      <td>0.0</td>\n",
       "      <td>38.0</td>\n",
       "      <td>2.0</td>\n",
       "      <td>59.0</td>\n",
       "      <td>36.0</td>\n",
       "    </tr>\n",
       "    <tr>\n",
       "      <th>701668.0</th>\n",
       "      <td>1.0</td>\n",
       "      <td>50.0</td>\n",
       "      <td>2.0</td>\n",
       "      <td>57.0</td>\n",
       "      <td>52.0</td>\n",
       "    </tr>\n",
       "  </tbody>\n",
       "</table>\n",
       "<p>865 rows × 5 columns</p>\n",
       "</div>"
      ],
      "text/plain": [
       "          sexdissa_w6_m  casp19_w6  isolation_w6_df  indager_df  casp19_w8\n",
       "idauniq                                                                   \n",
       "100054.0           20.0       17.0              3.0        64.0       28.0\n",
       "101879.0            4.0       40.0              2.0        74.0       41.0\n",
       "103699.0            1.0       48.0              1.0        64.0       44.0\n",
       "103716.0            4.0       44.0              1.0        80.0       44.0\n",
       "103769.0           10.0       27.0              1.0        80.0       31.0\n",
       "...                 ...        ...              ...         ...        ...\n",
       "166158.0            3.0       26.0              0.0        54.0       40.0\n",
       "166164.0            1.0       40.0              2.0        61.0       32.0\n",
       "166165.0           17.0       22.0              3.0        54.0       37.0\n",
       "166173.0            0.0       38.0              2.0        59.0       36.0\n",
       "701668.0            1.0       50.0              2.0        57.0       52.0\n",
       "\n",
       "[865 rows x 5 columns]"
      ]
     },
     "execution_count": 193,
     "metadata": {},
     "output_type": "execute_result"
    }
   ],
   "source": [
    "w8_w6_m_df_t.dropna()"
   ]
  },
  {
   "cell_type": "code",
   "execution_count": 194,
   "metadata": {},
   "outputs": [],
   "source": [
    "w8_w6_m_df_t_without_nan = w8_w6_m_df_t.dropna()"
   ]
  },
  {
   "cell_type": "markdown",
   "metadata": {},
   "source": [
    "## 12) Regresión lineal múltiple"
   ]
  },
  {
   "cell_type": "code",
   "execution_count": 177,
   "metadata": {},
   "outputs": [],
   "source": [
    "# https://scikit-learn.org/stable/modules/generated/sklearn.linear_model.LinearRegression.html"
   ]
  },
  {
   "cell_type": "code",
   "execution_count": 202,
   "metadata": {},
   "outputs": [],
   "source": [
    "x1f = w8_w6_f_df_t_without_nan['sexdissa_w6_f']\n",
    "x2f = w8_w6_f_df_t_without_nan['casp19_w6']\n",
    "x3f = w8_w6_f_df_t_without_nan['isolation_w6_df']\n",
    "x4f = w8_w6_f_df_t_without_nan['indager_df']\n",
    "yf = w8_w6_f_df_t_without_nan['casp19_w8']"
   ]
  },
  {
   "cell_type": "markdown",
   "metadata": {},
   "source": [
    "* mujeres"
   ]
  },
  {
   "cell_type": "code",
   "execution_count": 203,
   "metadata": {},
   "outputs": [],
   "source": [
    "modf = smf.ols('yf ~ x1f +x2f + x3f + x4f', data=w8_w6_f_df_t_without_nan).fit()"
   ]
  },
  {
   "cell_type": "code",
   "execution_count": 204,
   "metadata": {},
   "outputs": [
    {
     "name": "stdout",
     "output_type": "stream",
     "text": [
      "                            OLS Regression Results                            \n",
      "==============================================================================\n",
      "Dep. Variable:                     yf   R-squared:                       0.501\n",
      "Model:                            OLS   Adj. R-squared:                  0.498\n",
      "Method:                 Least Squares   F-statistic:                     192.5\n",
      "Date:                Thu, 03 Sep 2020   Prob (F-statistic):          3.23e-114\n",
      "Time:                        12:46:24   Log-Likelihood:                -2417.1\n",
      "No. Observations:                 772   AIC:                             4844.\n",
      "Df Residuals:                     767   BIC:                             4867.\n",
      "Df Model:                           4                                         \n",
      "Covariance Type:            nonrobust                                         \n",
      "==============================================================================\n",
      "                 coef    std err          t      P>|t|      [0.025      0.975]\n",
      "------------------------------------------------------------------------------\n",
      "Intercept     21.8767      2.308      9.479      0.000      17.346      26.407\n",
      "x1f           -0.0724      0.037     -1.954      0.051      -0.145       0.000\n",
      "x2f            0.6970      0.026     26.774      0.000       0.646       0.748\n",
      "x3f           -0.3937      0.259     -1.519      0.129      -0.902       0.115\n",
      "x4f           -0.1095      0.031     -3.563      0.000      -0.170      -0.049\n",
      "==============================================================================\n",
      "Omnibus:                       59.175   Durbin-Watson:                   1.838\n",
      "Prob(Omnibus):                  0.000   Jarque-Bera (JB):              211.275\n",
      "Skew:                          -0.272   Prob(JB):                     1.33e-46\n",
      "Kurtosis:                       5.504   Cond. No.                         877.\n",
      "==============================================================================\n",
      "\n",
      "Warnings:\n",
      "[1] Standard Errors assume that the covariance matrix of the errors is correctly specified.\n"
     ]
    }
   ],
   "source": [
    "print(modf.summary())"
   ]
  },
  {
   "cell_type": "markdown",
   "metadata": {},
   "source": [
    "### Extraer los β estimados:"
   ]
  },
  {
   "cell_type": "code",
   "execution_count": 209,
   "metadata": {},
   "outputs": [
    {
     "data": {
      "text/plain": [
       "Intercept    21.876725\n",
       "x1f          -0.072409\n",
       "x2f           0.696962\n",
       "x3f          -0.393705\n",
       "x4f          -0.109519\n",
       "dtype: float64"
      ]
     },
     "execution_count": 209,
     "metadata": {},
     "output_type": "execute_result"
    }
   ],
   "source": [
    "modf.params"
   ]
  },
  {
   "cell_type": "markdown",
   "metadata": {},
   "source": [
    "#### Extraer el σ2 estimado:"
   ]
  },
  {
   "cell_type": "code",
   "execution_count": 211,
   "metadata": {},
   "outputs": [
    {
     "data": {
      "text/plain": [
       "30.894421265242524"
      ]
     },
     "execution_count": 211,
     "metadata": {},
     "output_type": "execute_result"
    }
   ],
   "source": [
    "modf.mse_resid"
   ]
  },
  {
   "cell_type": "markdown",
   "metadata": {},
   "source": [
    "* hombres"
   ]
  },
  {
   "cell_type": "code",
   "execution_count": 205,
   "metadata": {},
   "outputs": [],
   "source": [
    "ym = w8_w6_m_df_t_without_nan['casp19_w8']\n",
    "\n",
    "x1m = w8_w6_m_df_t_without_nan['sexdissa_w6_m']\n",
    "x2m = w8_w6_m_df_t_without_nan['casp19_w6']\n",
    "x3m = w8_w6_m_df_t_without_nan['isolation_w6_df']\n",
    "x4m = w8_w6_m_df_t_without_nan['indager_df']"
   ]
  },
  {
   "cell_type": "code",
   "execution_count": 207,
   "metadata": {},
   "outputs": [],
   "source": [
    "modm = smf.ols('ym ~ x1m +x2m + x3m + x4m', data=w8_w6_m_df_t_without_nan).fit()"
   ]
  },
  {
   "cell_type": "code",
   "execution_count": 208,
   "metadata": {},
   "outputs": [
    {
     "name": "stdout",
     "output_type": "stream",
     "text": [
      "                            OLS Regression Results                            \n",
      "==============================================================================\n",
      "Dep. Variable:                     ym   R-squared:                       0.465\n",
      "Model:                            OLS   Adj. R-squared:                  0.462\n",
      "Method:                 Least Squares   F-statistic:                     186.5\n",
      "Date:                Thu, 03 Sep 2020   Prob (F-statistic):          4.60e-115\n",
      "Time:                        12:47:05   Log-Likelihood:                -2710.6\n",
      "No. Observations:                 865   AIC:                             5431.\n",
      "Df Residuals:                     860   BIC:                             5455.\n",
      "Df Model:                           4                                         \n",
      "Covariance Type:            nonrobust                                         \n",
      "==============================================================================\n",
      "                 coef    std err          t      P>|t|      [0.025      0.975]\n",
      "------------------------------------------------------------------------------\n",
      "Intercept     21.9748      2.116     10.386      0.000      17.822      26.128\n",
      "x1m           -0.0221      0.032     -0.690      0.490      -0.085       0.041\n",
      "x2m            0.6642      0.026     25.275      0.000       0.613       0.716\n",
      "x3m           -0.2218      0.206     -1.077      0.282      -0.626       0.183\n",
      "x4m           -0.0932      0.028     -3.385      0.001      -0.147      -0.039\n",
      "==============================================================================\n",
      "Omnibus:                      102.618   Durbin-Watson:                   1.946\n",
      "Prob(Omnibus):                  0.000   Jarque-Bera (JB):              867.861\n",
      "Skew:                          -0.101   Prob(JB):                    3.52e-189\n",
      "Kurtosis:                       7.903   Cond. No.                         867.\n",
      "==============================================================================\n",
      "\n",
      "Warnings:\n",
      "[1] Standard Errors assume that the covariance matrix of the errors is correctly specified.\n"
     ]
    }
   ],
   "source": [
    "print(modm.summary())"
   ]
  },
  {
   "cell_type": "markdown",
   "metadata": {},
   "source": [
    "### Extraer los β estimados:"
   ]
  },
  {
   "cell_type": "code",
   "execution_count": 212,
   "metadata": {},
   "outputs": [
    {
     "data": {
      "text/plain": [
       "Intercept    21.974840\n",
       "x1m          -0.022149\n",
       "x2m           0.664185\n",
       "x3m          -0.221833\n",
       "x4m          -0.093237\n",
       "dtype: float64"
      ]
     },
     "execution_count": 212,
     "metadata": {},
     "output_type": "execute_result"
    }
   ],
   "source": [
    "modm.params"
   ]
  },
  {
   "cell_type": "markdown",
   "metadata": {},
   "source": [
    "#### Extraer el σ2 estimado:"
   ]
  },
  {
   "cell_type": "code",
   "execution_count": 213,
   "metadata": {},
   "outputs": [
    {
     "data": {
      "text/plain": [
       "31.034430823253505"
      ]
     },
     "execution_count": 213,
     "metadata": {},
     "output_type": "execute_result"
    }
   ],
   "source": [
    "modm.mse_resid"
   ]
  },
  {
   "cell_type": "code",
   "execution_count": null,
   "metadata": {},
   "outputs": [],
   "source": []
  }
 ],
 "metadata": {
  "kernelspec": {
   "display_name": "Python 3",
   "language": "python",
   "name": "python3"
  },
  "language_info": {
   "codemirror_mode": {
    "name": "ipython",
    "version": 3
   },
   "file_extension": ".py",
   "mimetype": "text/x-python",
   "name": "python",
   "nbconvert_exporter": "python",
   "pygments_lexer": "ipython3",
   "version": "3.7.6"
  }
 },
 "nbformat": 4,
 "nbformat_minor": 4
}
