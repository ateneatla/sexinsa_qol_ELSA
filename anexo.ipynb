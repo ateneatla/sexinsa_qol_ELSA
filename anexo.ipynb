{
 "cells": [
  {
   "cell_type": "markdown",
   "metadata": {},
   "source": [
    "# ANEXO 1: CÓDIGO EN PYTHON PARA REPLICAR, CORREGIR, ADAPTAR..."
   ]
  },
  {
   "cell_type": "markdown",
   "metadata": {},
   "source": [
    "## 1) Instalaciones e Importaciones de Librerías Previas:"
   ]
  },
  {
   "cell_type": "markdown",
   "metadata": {},
   "source": [
    "- Instalamos el módulo necesario para leer la base de datos, que se proporcionan en SPSS"
   ]
  },
  {
   "cell_type": "code",
   "execution_count": 1,
   "metadata": {},
   "outputs": [
    {
     "name": "stdout",
     "output_type": "stream",
     "text": [
      "Requirement already satisfied: pyreadstat in /opt/conda/lib/python3.7/site-packages (1.0.1)\n",
      "Requirement already satisfied: pandas>0.24.0 in /opt/conda/lib/python3.7/site-packages (from pyreadstat) (1.0.3)\n",
      "Requirement already satisfied: numpy>=1.13.3 in /opt/conda/lib/python3.7/site-packages (from pandas>0.24.0->pyreadstat) (1.18.1)\n",
      "Requirement already satisfied: pytz>=2017.2 in /opt/conda/lib/python3.7/site-packages (from pandas>0.24.0->pyreadstat) (2019.3)\n",
      "Requirement already satisfied: python-dateutil>=2.6.1 in /opt/conda/lib/python3.7/site-packages (from pandas>0.24.0->pyreadstat) (2.8.1)\n",
      "Requirement already satisfied: six>=1.5 in /opt/conda/lib/python3.7/site-packages (from python-dateutil>=2.6.1->pandas>0.24.0->pyreadstat) (1.14.0)\n"
     ]
    }
   ],
   "source": [
    "!pip install pyreadstat"
   ]
  },
  {
   "cell_type": "markdown",
   "metadata": {},
   "source": [
    "- Instalamos el módulo necesario para hacer el análisis factorial"
   ]
  },
  {
   "cell_type": "code",
   "execution_count": 2,
   "metadata": {},
   "outputs": [
    {
     "name": "stdout",
     "output_type": "stream",
     "text": [
      "Requirement already satisfied: factor-analyzer==0.3.2 in /opt/conda/lib/python3.7/site-packages (0.3.2)\n",
      "Requirement already satisfied: numpy in /opt/conda/lib/python3.7/site-packages (from factor-analyzer==0.3.2) (1.18.1)\n",
      "Requirement already satisfied: scipy in /opt/conda/lib/python3.7/site-packages (from factor-analyzer==0.3.2) (1.4.1)\n",
      "Requirement already satisfied: scikit-learn in /opt/conda/lib/python3.7/site-packages (from factor-analyzer==0.3.2) (0.22.2.post1)\n",
      "Requirement already satisfied: pandas in /opt/conda/lib/python3.7/site-packages (from factor-analyzer==0.3.2) (1.0.3)\n",
      "Requirement already satisfied: joblib>=0.11 in /opt/conda/lib/python3.7/site-packages (from scikit-learn->factor-analyzer==0.3.2) (0.14.1)\n",
      "Requirement already satisfied: pytz>=2017.2 in /opt/conda/lib/python3.7/site-packages (from pandas->factor-analyzer==0.3.2) (2019.3)\n",
      "Requirement already satisfied: python-dateutil>=2.6.1 in /opt/conda/lib/python3.7/site-packages (from pandas->factor-analyzer==0.3.2) (2.8.1)\n",
      "Requirement already satisfied: six>=1.5 in /opt/conda/lib/python3.7/site-packages (from python-dateutil>=2.6.1->pandas->factor-analyzer==0.3.2) (1.14.0)\n"
     ]
    }
   ],
   "source": [
    "!pip install factor-analyzer==0.3.2"
   ]
  },
  {
   "cell_type": "code",
   "execution_count": 3,
   "metadata": {},
   "outputs": [
    {
     "name": "stdout",
     "output_type": "stream",
     "text": [
      "Requirement already satisfied: semopy in /opt/conda/lib/python3.7/site-packages (1.3.7)\n",
      "Requirement already satisfied: scipy in /opt/conda/lib/python3.7/site-packages (from semopy) (1.4.1)\n",
      "Requirement already satisfied: numpy in /opt/conda/lib/python3.7/site-packages (from semopy) (1.18.1)\n",
      "Requirement already satisfied: pandas in /opt/conda/lib/python3.7/site-packages (from semopy) (1.0.3)\n",
      "Requirement already satisfied: python-dateutil>=2.6.1 in /opt/conda/lib/python3.7/site-packages (from pandas->semopy) (2.8.1)\n",
      "Requirement already satisfied: pytz>=2017.2 in /opt/conda/lib/python3.7/site-packages (from pandas->semopy) (2019.3)\n",
      "Requirement already satisfied: six>=1.5 in /opt/conda/lib/python3.7/site-packages (from python-dateutil>=2.6.1->pandas->semopy) (1.14.0)\n"
     ]
    }
   ],
   "source": [
    "!pip install semopy"
   ]
  },
  {
   "cell_type": "code",
   "execution_count": 4,
   "metadata": {},
   "outputs": [
    {
     "name": "stdout",
     "output_type": "stream",
     "text": [
      "Requirement already satisfied: graphviz in /opt/conda/lib/python3.7/site-packages (0.14.1)\n",
      "Note: you may need to restart the kernel to use updated packages.\n"
     ]
    }
   ],
   "source": [
    "pip install graphviz"
   ]
  },
  {
   "cell_type": "markdown",
   "metadata": {},
   "source": [
    "- Importamos las librerías necesarias:"
   ]
  },
  {
   "cell_type": "code",
   "execution_count": 106,
   "metadata": {},
   "outputs": [],
   "source": [
    "import pandas as pd\n",
    "import numpy as np\n",
    "import scipy as sp\n",
    "import sklearn\n",
    "import matplotlib.pyplot as plt\n",
    "import sklearn.preprocessing\n",
    "from sklearn.linear_model import LinearRegression\n",
    "from typing import List\n",
    "from factor_analyzer.factor_analyzer import calculate_bartlett_sphericity\n",
    "from factor_analyzer.factor_analyzer import FactorAnalyzer\n",
    "from factor_analyzer.factor_analyzer import calculate_kmo\n",
    "from factor_analyzer import (ConfirmatoryFactorAnalyzer, ModelSpecificationParser)\n",
    "from scipy.stats import chi2, pearsonr\n",
    "from scipy.optimize import minimize\n",
    "from sklearn.base import BaseEstimator, TransformerMixin\n",
    "from factor_analyzer.rotator import Rotator\n",
    "from factor_analyzer.rotator import POSSIBLE_ROTATIONS, OBLIQUE_ROTATIONS\n",
    "from sklearn.utils.extmath import randomized_svd\n",
    "from sklearn.utils import check_array\n",
    "from sklearn.utils.validation import check_is_fitted\n",
    "from typing import List\n",
    "from semopy import Model\n",
    "from semopy import Optimizer\n",
    "from semopy.inspector import inspect\n",
    "import statsmodels.api as sm           \n",
    "import statsmodels.formula.api as smf\n",
    "from matplotlib import pyplot             # Permite la generación de gráficos\n",
    "from mpl_toolkits.mplot3d import Axes3D"
   ]
  },
  {
   "cell_type": "code",
   "execution_count": 6,
   "metadata": {},
   "outputs": [],
   "source": [
    "import graphviz as gv"
   ]
  },
  {
   "cell_type": "code",
   "execution_count": 7,
   "metadata": {},
   "outputs": [],
   "source": [
    "import semopy.visualization as sv"
   ]
  },
  {
   "cell_type": "markdown",
   "metadata": {},
   "source": [
    "## 2) Cargamos bases de datos de la ola 6 y la ola 8 de ELSA"
   ]
  },
  {
   "cell_type": "markdown",
   "metadata": {},
   "source": [
    "- Ola 6"
   ]
  },
  {
   "cell_type": "code",
   "execution_count": 8,
   "metadata": {},
   "outputs": [],
   "source": [
    "w6_df: pd.core.frame.DataFrame = pd.read_spss('data/wave_6_elsa_data_v2_mediumfortest.sav', convert_categoricals = False)"
   ]
  },
  {
   "cell_type": "markdown",
   "metadata": {},
   "source": [
    "- Ola 8"
   ]
  },
  {
   "cell_type": "code",
   "execution_count": 9,
   "metadata": {},
   "outputs": [],
   "source": [
    "w8_df: pd.core.frame.DataFrame = pd.read_spss('data/wave_8_elsa_data_eul_v2_mediumfortest.sav', convert_categoricals = False)"
   ]
  },
  {
   "cell_type": "markdown",
   "metadata": {},
   "source": [
    "## 3) Construcción teórica de Cuestionarios"
   ]
  },
  {
   "cell_type": "markdown",
   "metadata": {},
   "source": [
    "Estructura y columnas de la base de datos general que los componen"
   ]
  },
  {
   "cell_type": "markdown",
   "metadata": {},
   "source": [
    "### 3.1) Ola 6"
   ]
  },
  {
   "cell_type": "markdown",
   "metadata": {},
   "source": [
    "- Casp-19 para la ola 6 -> casp19_w6"
   ]
  },
  {
   "cell_type": "code",
   "execution_count": 10,
   "metadata": {},
   "outputs": [],
   "source": [
    "casp19_w6_control = ['scqola', 'scqolb', 'scqolc', 'scqold']\n",
    "casp19_w6_autonomy = ['scqole', 'scqolf', 'scqolg', 'scqolh', 'scqoli']\n",
    "casp19_w6_pleasure = [ 'scqolj', 'scqolk', 'scqoll', 'scqolm', 'scqoln']\n",
    "casp19_w6_self_realization = ['scqolo', 'scqolp', 'scqolq', 'scqolr', 'scqols']\n",
    "\n",
    "casp19_w6_scales = [casp19_w6_control, casp19_w6_autonomy, casp19_w6_pleasure, casp19_w6_self_realization]\n",
    "\n",
    "casp19_original_values = [1, 2, 3, 4]\n",
    "casp19_reverse_items_values = [0, 1, 2, 3]\n",
    "casp19_direct_items_values = [3, 2, 1, 0]"
   ]
  },
  {
   "cell_type": "markdown",
   "metadata": {},
   "source": [
    "* Insatisfacción sexual para la ola 6 (mujeres) -> sexdissa_w6_f"
   ]
  },
  {
   "cell_type": "code",
   "execution_count": 11,
   "metadata": {},
   "outputs": [],
   "source": [
    "sexdissa_w6_f_cols = ['q3', 'q9', 'q10', 'q14f', 'q15f', 'q19m19f', 'q28m25f', 'q32m26f']\n",
    "sexdissa_w6_q10_original_values = [1, 2, 3]\n",
    "sexdissa_w6_q10_transformed_values = [5, 0, 5]"
   ]
  },
  {
   "cell_type": "markdown",
   "metadata": {},
   "source": [
    "* Insatisfacción sexual para la ola 6 (hombres) -> sexdissa_w6_m"
   ]
  },
  {
   "cell_type": "code",
   "execution_count": 12,
   "metadata": {},
   "outputs": [],
   "source": [
    "sexdissa_w6_m_cols = ['q3', 'q9', 'q10', 'q13m', 'q17m', 'q19m19f', 'q21m', 'q28m25f', 'q32m26f']"
   ]
  },
  {
   "cell_type": "markdown",
   "metadata": {},
   "source": [
    "- Isolation para la ola 6 -> isolation_w6_df"
   ]
  },
  {
   "cell_type": "markdown",
   "metadata": {},
   "source": [
    "Nomenclatura: \n",
    ">`vip`: persona/s importantes: children, family y friends.\n",
    "\n",
    ">`has_vip`: tiene a esa persona/personas importantes. Es decir, tiene niños, familia, amigos."
   ]
  },
  {
   "cell_type": "code",
   "execution_count": 13,
   "metadata": {},
   "outputs": [],
   "source": [
    "isolation_w6_chd_items = {\n",
    "    'has_vip': ['scchd'],\n",
    "    'kind_of_contact': ['scchdg', 'scchdh', 'scchdi', 'scchdt'],\n",
    "}\n",
    "isolation_w6_fam_items = {\n",
    "    'has_vip': ['scfam'],\n",
    "    'kind_of_contact': ['scfamg', 'scfamh', 'scfami', 'scfamt'],\n",
    "}\n",
    "isolation_w6_frd_items = {\n",
    "    'has_vip': ['scfrd'],\n",
    "    'kind_of_contact': ['scfrdg', 'scfrdh', 'scfrdi', 'scfrdt'],\n",
    "}\n",
    "\n",
    "isolation_w6_org_contact = 'scorg09'\n",
    "isolation_w6_prt_contact = 'scprtr'\n",
    "\n",
    "isolation_w6_relatives = [isolation_w6_chd_items, isolation_w6_fam_items, isolation_w6_frd_items]"
   ]
  },
  {
   "cell_type": "markdown",
   "metadata": {},
   "source": [
    "* multimorbidity"
   ]
  },
  {
   "cell_type": "markdown",
   "metadata": {},
   "source": [
    "Si la persona confirma que la enfermedad registrada en el pasado está correctamente registrada (hedac-/hedbd- = yes) y que aún la tiene (hedas-/hedbs- = yes) o bien desmiente que le tuviera (hedac-/hedbd- = No) pero dice tenerla ahora ((hedan-/hedbm- = 3) o la reporta ahora (hedia-/hedib- = 1 \"mentioned\") entonces se imputará un uno sobre esa enfermedad. Si, en suma, hay más de un uno se asignará un uno a la variable de comorbilidad. "
   ]
  },
  {
   "cell_type": "code",
   "execution_count": 14,
   "metadata": {},
   "outputs": [],
   "source": [
    "cvd = ['bp', 'an', 'mi', 'hf', 'hm', 'ar', 'di', 'st', 'ch', '95']\n",
    "chr_ = ['lu', 'as', 'ar', 'os', 'ca', 'pd', 'ps', 'ad', 'de', 'bl'] # ps: psychiatric\n",
    "psy = ['ha', 'an', 'de', 'em', 'sc', 'ps', 'mo', 'ma']\n",
    "\n",
    "lex_diagnosed_fedforward_cvd = 'hedaw' \n",
    "lex_diagnosed_fedforward_chr = 'hedbw'\n",
    "# hedaw- y hedbw- puede que no las necesite\n",
    "\n",
    "lex_what_psy = 'hepsy'\n",
    "\n",
    "lex_confirm_cvd = 'hedac'\n",
    "lex_confirm_chr = 'hedbd'\n",
    "\n",
    "lex_still_has_cvd = 'hedas'\n",
    "lex_still_has_chr = 'hedbs'\n",
    "\n",
    "lex_dispute_cvd = 'hedan'\n",
    "lex_dispute_chr = 'hedbm'\n",
    "       \n",
    "lex_new_cvd = 'hedia'\n",
    "lex_new_chr = 'hedib'"
   ]
  },
  {
   "cell_type": "code",
   "execution_count": 15,
   "metadata": {},
   "outputs": [],
   "source": [
    "diagnosed_fedforward_cvd = [lex_diagnosed_fedforward_cvd + i for i in cvd]\n",
    "diagnosed_fedforward_chr = [lex_diagnosed_fedforward_chr + i for i in chr_]\n",
    "\n",
    "what_psy = [lex_what_psy + i for i in psy]\n",
    "\n",
    "still_has_cvd = [lex_still_has_cvd + i for i in cvd]\n",
    "still_has_chr = [lex_still_has_chr + i for i in chr_]\n",
    "\n",
    "\n",
    "confirm_cvd = [lex_confirm_cvd + i for i in cvd]\n",
    "confirm_chr = [lex_confirm_chr + i for i in chr_]\n",
    "\n",
    "\n",
    "dispute_cvd = [lex_dispute_cvd + i for i in cvd]\n",
    "dispute_chr = [lex_dispute_chr + i for i in chr_]\n",
    "       \n",
    "new_cvd = [lex_new_cvd + i for i in cvd]\n",
    "new_chr = [lex_new_chr + i for i in chr_]"
   ]
  },
  {
   "cell_type": "markdown",
   "metadata": {},
   "source": [
    "### 3.2) Ola 8"
   ]
  },
  {
   "cell_type": "markdown",
   "metadata": {},
   "source": [
    "- Casp-19 para la ola 8 -> casp19_w8"
   ]
  },
  {
   "cell_type": "code",
   "execution_count": 16,
   "metadata": {},
   "outputs": [],
   "source": [
    "casp19_w8_control = ['scqola', 'scqolb', 'scqolc', 'scqold']\n",
    "casp19_w8_autonomy = ['scqole', 'scqolf', 'scqolg', 'scqolh', 'scqoli']\n",
    "casp19_w8_pleasure = [ 'scqolj', 'scqolk', 'scqoll', 'scqolm', 'scqoln']\n",
    "casp19_w8_self_realization = ['scqolo', 'scqolp', 'scqolq', 'scqolr', 'scqols']\n",
    "\n",
    "casp19_w8_scales = [casp19_w6_control, casp19_w6_autonomy, casp19_w6_pleasure, casp19_w6_self_realization]\n",
    "\n",
    "casp19_original_values = [1, 2, 3, 4]\n",
    "casp19_reverse_items_values = [0, 1, 2, 3]\n",
    "casp19_w8_direct_items_values = [3, 2, 1, 0]"
   ]
  },
  {
   "cell_type": "markdown",
   "metadata": {},
   "source": [
    "* Insatisfacción sexual para la ola 8 (mujeres) -> sexdissa_w8_f"
   ]
  },
  {
   "cell_type": "code",
   "execution_count": 17,
   "metadata": {},
   "outputs": [],
   "source": [
    "sexdissa_w8_f_cols = ['sxwdy', 'sxwofy', 'sxhaf', 'sxfpdy', 'sxfway', 'sxwoey', 'sxsosy', 'sxwsty']"
   ]
  },
  {
   "cell_type": "markdown",
   "metadata": {},
   "source": [
    "* Insatisfacción sexual para la ola 8 (hombres) -> sexdissa_w8_m"
   ]
  },
  {
   "cell_type": "code",
   "execution_count": 18,
   "metadata": {},
   "outputs": [],
   "source": [
    "sexdissa_w8_m_cols = ['sxwdy', 'sxwofy', 'sxhsaf', 'sxmwey', 'sxmcoy', 'sxwoey', 'sxsosy', 'sxwsty']"
   ]
  },
  {
   "cell_type": "markdown",
   "metadata": {},
   "source": [
    "* multimorbidity"
   ]
  },
  {
   "cell_type": "markdown",
   "metadata": {},
   "source": [
    "Las variables se llaman igual que en la ola 6"
   ]
  },
  {
   "cell_type": "markdown",
   "metadata": {},
   "source": [
    "## 4) Tratamiento de valores perdidos de los primeros cuestionarios:"
   ]
  },
  {
   "cell_type": "markdown",
   "metadata": {},
   "source": [
    "Lo hacemos de esta manera para teneer la mayor cantidad de sujetos posible a la hora de hacer los análisis factoriales "
   ]
  },
  {
   "cell_type": "markdown",
   "metadata": {},
   "source": [
    "### 4.1) Ola 6"
   ]
  },
  {
   "cell_type": "markdown",
   "metadata": {},
   "source": [
    "- Casp19 e Isolation: **\"-2\": \"schedule not aplicable\"** :  *Cuestionarios, compuestos por sus ítems, que van a ser revisados para eliminar sujetos que no formaban parte de la muestra en estos módulos de ELSA. 1604 sujetos no han recibido este módulo del cuestionario* "
   ]
  },
  {
   "cell_type": "markdown",
   "metadata": {},
   "source": [
    "#### Columnas, pertenecientes a cuestionarios, que van a ser limpiadas"
   ]
  },
  {
   "cell_type": "code",
   "execution_count": 19,
   "metadata": {},
   "outputs": [],
   "source": [
    "isolation_w6_cols = ['scchdg', 'scchdh', 'scchdi', 'scchdt', \n",
    "                     'scfamg', 'scfamh', 'scfami', 'scfamt', \n",
    "                     'scfrdg', 'scfrdh', 'scfrdi', 'scfrdt', \n",
    "                     'scorg09', \n",
    "                     'scprtr']\n",
    "casp19_w6_cols = ['scqola', 'scqolb', 'scqolc', 'scqold', 'scqole', \n",
    "               'scqolf', 'scqolg', 'scqolh', 'scqoli', 'scqolj', \n",
    "               'scqolk', 'scqoll', 'scqolm', 'scqoln', 'scqolo', \n",
    "               'scqolp', 'scqolq', 'scqolr', 'scqols']"
   ]
  },
  {
   "cell_type": "code",
   "execution_count": 20,
   "metadata": {},
   "outputs": [],
   "source": [
    "cols_to_clean_out_of_sample_w6 = isolation_w6_cols + casp19_w6_cols"
   ]
  },
  {
   "cell_type": "markdown",
   "metadata": {},
   "source": [
    "#### sujetos seleccionados para ser eliminados \n",
    "\n",
    "traducción: \n",
    "> Constrúyeme una variable (llamada sbj_out_of_sample) que sea igual a: me localizas en el dataframe w6_df `w6_df.loc` lo que te voy a decir: `[` construye un pandas dataframe `pd.DataFrame` con lo siguiente `(`: mira cuales cumplen `==` que son un elemento del w6_df igual a -2 `)` (eso devuelve un True o False) y hazlo para `for` cada elemento `col` en `in` la variable cols_to_clean_out_of_sample (ya definida). Hazlo si en esta lista `[]` lo hay en ALGUNA (de las columnas)`any()`. Bien, cuando lo tengas localizado `]`, coge el índice `.index()`."
   ]
  },
  {
   "cell_type": "code",
   "execution_count": 21,
   "metadata": {},
   "outputs": [
    {
     "data": {
      "text/plain": [
       "Int64Index([5, 9, 16, 17, 18, 19, 62, 65, 71, 89, 91, 93, 96], dtype='int64')"
      ]
     },
     "execution_count": 21,
     "metadata": {},
     "output_type": "execute_result"
    }
   ],
   "source": [
    "sbj_out_of_sample_w6 = w6_df.loc[pd.DataFrame([(w6_df[col] == -2) for col in cols_to_clean_out_of_sample_w6]).any()].index\n",
    "sbj_out_of_sample_w6 # Resultado: Int64Index([5, 9, 16, 17, 18, 19, 62, 65, 71, 89, 91, 93, 96], dtype='int64')"
   ]
  },
  {
   "cell_type": "markdown",
   "metadata": {},
   "source": [
    "#### Construimos el dataframe sin los sujetos\n",
    "traducción:\n",
    ">Construye una variable (tipo df por cómo se compone) que sea: el dataframe w6_df quitándole `.drop` los sujetos seleccionados."
   ]
  },
  {
   "cell_type": "code",
   "execution_count": 22,
   "metadata": {},
   "outputs": [
    {
     "data": {
      "text/html": [
       "<div>\n",
       "<style scoped>\n",
       "    .dataframe tbody tr th:only-of-type {\n",
       "        vertical-align: middle;\n",
       "    }\n",
       "\n",
       "    .dataframe tbody tr th {\n",
       "        vertical-align: top;\n",
       "    }\n",
       "\n",
       "    .dataframe thead th {\n",
       "        text-align: right;\n",
       "    }\n",
       "</style>\n",
       "<table border=\"1\" class=\"dataframe\">\n",
       "  <thead>\n",
       "    <tr style=\"text-align: right;\">\n",
       "      <th></th>\n",
       "      <th>idauniq</th>\n",
       "      <th>idahhw6</th>\n",
       "      <th>perid</th>\n",
       "      <th>samptyp</th>\n",
       "      <th>w6indout</th>\n",
       "      <th>W6hhout</th>\n",
       "      <th>couple</th>\n",
       "      <th>cpid</th>\n",
       "      <th>chinhh</th>\n",
       "      <th>chouthh</th>\n",
       "      <th>...</th>\n",
       "      <th>w6nssec8</th>\n",
       "      <th>w6nssec5</th>\n",
       "      <th>w6nssec3</th>\n",
       "      <th>W6SIC</th>\n",
       "      <th>w6soc</th>\n",
       "      <th>W6SEC</th>\n",
       "      <th>w6sic2003</th>\n",
       "      <th>w6soc2000</th>\n",
       "      <th>w6nssec13</th>\n",
       "      <th>finstatw6</th>\n",
       "    </tr>\n",
       "  </thead>\n",
       "  <tbody>\n",
       "    <tr>\n",
       "      <th>0</th>\n",
       "      <td>103890.0</td>\n",
       "      <td>11743.0</td>\n",
       "      <td>1.0</td>\n",
       "      <td>1.0</td>\n",
       "      <td>11.0</td>\n",
       "      <td>120.0</td>\n",
       "      <td>1.0</td>\n",
       "      <td>2.0</td>\n",
       "      <td>2.0</td>\n",
       "      <td>1.0</td>\n",
       "      <td>...</td>\n",
       "      <td>2.0</td>\n",
       "      <td>1.0</td>\n",
       "      <td>1.0</td>\n",
       "      <td>0.0</td>\n",
       "      <td>0.0</td>\n",
       "      <td>0.0</td>\n",
       "      <td>-1.0</td>\n",
       "      <td>35.0</td>\n",
       "      <td>4.3</td>\n",
       "      <td>1.0</td>\n",
       "    </tr>\n",
       "    <tr>\n",
       "      <th>1</th>\n",
       "      <td>103895.0</td>\n",
       "      <td>16260.0</td>\n",
       "      <td>1.0</td>\n",
       "      <td>1.0</td>\n",
       "      <td>11.0</td>\n",
       "      <td>110.0</td>\n",
       "      <td>1.0</td>\n",
       "      <td>2.0</td>\n",
       "      <td>1.0</td>\n",
       "      <td>1.0</td>\n",
       "      <td>...</td>\n",
       "      <td>5.0</td>\n",
       "      <td>4.0</td>\n",
       "      <td>3.0</td>\n",
       "      <td>0.0</td>\n",
       "      <td>0.0</td>\n",
       "      <td>0.0</td>\n",
       "      <td>-1.0</td>\n",
       "      <td>92.0</td>\n",
       "      <td>10.0</td>\n",
       "      <td>1.0</td>\n",
       "    </tr>\n",
       "    <tr>\n",
       "      <th>2</th>\n",
       "      <td>103960.0</td>\n",
       "      <td>14747.0</td>\n",
       "      <td>1.0</td>\n",
       "      <td>1.0</td>\n",
       "      <td>11.0</td>\n",
       "      <td>110.0</td>\n",
       "      <td>1.0</td>\n",
       "      <td>2.0</td>\n",
       "      <td>2.0</td>\n",
       "      <td>1.0</td>\n",
       "      <td>...</td>\n",
       "      <td>7.0</td>\n",
       "      <td>5.0</td>\n",
       "      <td>3.0</td>\n",
       "      <td>0.0</td>\n",
       "      <td>0.0</td>\n",
       "      <td>0.0</td>\n",
       "      <td>-1.0</td>\n",
       "      <td>62.0</td>\n",
       "      <td>13.3</td>\n",
       "      <td>1.0</td>\n",
       "    </tr>\n",
       "    <tr>\n",
       "      <th>3</th>\n",
       "      <td>104192.0</td>\n",
       "      <td>15705.0</td>\n",
       "      <td>1.0</td>\n",
       "      <td>1.0</td>\n",
       "      <td>11.0</td>\n",
       "      <td>110.0</td>\n",
       "      <td>1.0</td>\n",
       "      <td>2.0</td>\n",
       "      <td>2.0</td>\n",
       "      <td>1.0</td>\n",
       "      <td>...</td>\n",
       "      <td>4.0</td>\n",
       "      <td>3.0</td>\n",
       "      <td>2.0</td>\n",
       "      <td>0.0</td>\n",
       "      <td>0.0</td>\n",
       "      <td>0.0</td>\n",
       "      <td>-1.0</td>\n",
       "      <td>51.0</td>\n",
       "      <td>9.2</td>\n",
       "      <td>1.0</td>\n",
       "    </tr>\n",
       "    <tr>\n",
       "      <th>4</th>\n",
       "      <td>104194.0</td>\n",
       "      <td>16507.0</td>\n",
       "      <td>1.0</td>\n",
       "      <td>1.0</td>\n",
       "      <td>11.0</td>\n",
       "      <td>110.0</td>\n",
       "      <td>1.0</td>\n",
       "      <td>2.0</td>\n",
       "      <td>2.0</td>\n",
       "      <td>2.0</td>\n",
       "      <td>...</td>\n",
       "      <td>6.0</td>\n",
       "      <td>5.0</td>\n",
       "      <td>3.0</td>\n",
       "      <td>0.0</td>\n",
       "      <td>0.0</td>\n",
       "      <td>0.0</td>\n",
       "      <td>-1.0</td>\n",
       "      <td>41.0</td>\n",
       "      <td>12.6</td>\n",
       "      <td>1.0</td>\n",
       "    </tr>\n",
       "    <tr>\n",
       "      <th>...</th>\n",
       "      <td>...</td>\n",
       "      <td>...</td>\n",
       "      <td>...</td>\n",
       "      <td>...</td>\n",
       "      <td>...</td>\n",
       "      <td>...</td>\n",
       "      <td>...</td>\n",
       "      <td>...</td>\n",
       "      <td>...</td>\n",
       "      <td>...</td>\n",
       "      <td>...</td>\n",
       "      <td>...</td>\n",
       "      <td>...</td>\n",
       "      <td>...</td>\n",
       "      <td>...</td>\n",
       "      <td>...</td>\n",
       "      <td>...</td>\n",
       "      <td>...</td>\n",
       "      <td>...</td>\n",
       "      <td>...</td>\n",
       "      <td>...</td>\n",
       "    </tr>\n",
       "    <tr>\n",
       "      <th>88</th>\n",
       "      <td>165305.0</td>\n",
       "      <td>11882.0</td>\n",
       "      <td>1.0</td>\n",
       "      <td>1.0</td>\n",
       "      <td>11.0</td>\n",
       "      <td>110.0</td>\n",
       "      <td>1.0</td>\n",
       "      <td>2.0</td>\n",
       "      <td>2.0</td>\n",
       "      <td>1.0</td>\n",
       "      <td>...</td>\n",
       "      <td>5.0</td>\n",
       "      <td>4.0</td>\n",
       "      <td>3.0</td>\n",
       "      <td>1.0</td>\n",
       "      <td>1.0</td>\n",
       "      <td>1.0</td>\n",
       "      <td>63.0</td>\n",
       "      <td>91.0</td>\n",
       "      <td>10.0</td>\n",
       "      <td>25.0</td>\n",
       "    </tr>\n",
       "    <tr>\n",
       "      <th>90</th>\n",
       "      <td>165365.0</td>\n",
       "      <td>14517.0</td>\n",
       "      <td>1.0</td>\n",
       "      <td>1.0</td>\n",
       "      <td>11.0</td>\n",
       "      <td>110.0</td>\n",
       "      <td>3.0</td>\n",
       "      <td>-1.0</td>\n",
       "      <td>1.0</td>\n",
       "      <td>2.0</td>\n",
       "      <td>...</td>\n",
       "      <td>6.0</td>\n",
       "      <td>5.0</td>\n",
       "      <td>3.0</td>\n",
       "      <td>1.0</td>\n",
       "      <td>1.0</td>\n",
       "      <td>1.0</td>\n",
       "      <td>80.0</td>\n",
       "      <td>61.0</td>\n",
       "      <td>12.7</td>\n",
       "      <td>25.0</td>\n",
       "    </tr>\n",
       "    <tr>\n",
       "      <th>92</th>\n",
       "      <td>165537.0</td>\n",
       "      <td>11512.0</td>\n",
       "      <td>2.0</td>\n",
       "      <td>1.0</td>\n",
       "      <td>11.0</td>\n",
       "      <td>110.0</td>\n",
       "      <td>1.0</td>\n",
       "      <td>1.0</td>\n",
       "      <td>2.0</td>\n",
       "      <td>1.0</td>\n",
       "      <td>...</td>\n",
       "      <td>1.0</td>\n",
       "      <td>1.0</td>\n",
       "      <td>1.0</td>\n",
       "      <td>0.0</td>\n",
       "      <td>0.0</td>\n",
       "      <td>0.0</td>\n",
       "      <td>-1.0</td>\n",
       "      <td>11.0</td>\n",
       "      <td>2.0</td>\n",
       "      <td>25.0</td>\n",
       "    </tr>\n",
       "    <tr>\n",
       "      <th>94</th>\n",
       "      <td>165858.0</td>\n",
       "      <td>10999.0</td>\n",
       "      <td>3.0</td>\n",
       "      <td>-1.0</td>\n",
       "      <td>11.0</td>\n",
       "      <td>110.0</td>\n",
       "      <td>1.0</td>\n",
       "      <td>1.0</td>\n",
       "      <td>2.0</td>\n",
       "      <td>1.0</td>\n",
       "      <td>...</td>\n",
       "      <td>2.0</td>\n",
       "      <td>1.0</td>\n",
       "      <td>1.0</td>\n",
       "      <td>1.0</td>\n",
       "      <td>1.0</td>\n",
       "      <td>1.0</td>\n",
       "      <td>74.0</td>\n",
       "      <td>35.0</td>\n",
       "      <td>4.3</td>\n",
       "      <td>29.0</td>\n",
       "    </tr>\n",
       "    <tr>\n",
       "      <th>95</th>\n",
       "      <td>166036.0</td>\n",
       "      <td>15735.0</td>\n",
       "      <td>2.0</td>\n",
       "      <td>5.0</td>\n",
       "      <td>11.0</td>\n",
       "      <td>110.0</td>\n",
       "      <td>1.0</td>\n",
       "      <td>1.0</td>\n",
       "      <td>1.0</td>\n",
       "      <td>1.0</td>\n",
       "      <td>...</td>\n",
       "      <td>7.0</td>\n",
       "      <td>5.0</td>\n",
       "      <td>3.0</td>\n",
       "      <td>0.0</td>\n",
       "      <td>0.0</td>\n",
       "      <td>0.0</td>\n",
       "      <td>-1.0</td>\n",
       "      <td>91.0</td>\n",
       "      <td>13.4</td>\n",
       "      <td>27.0</td>\n",
       "    </tr>\n",
       "  </tbody>\n",
       "</table>\n",
       "<p>84 rows × 6189 columns</p>\n",
       "</div>"
      ],
      "text/plain": [
       "     idauniq  idahhw6  perid  samptyp  w6indout  W6hhout  couple  cpid  \\\n",
       "0   103890.0  11743.0    1.0      1.0      11.0    120.0     1.0   2.0   \n",
       "1   103895.0  16260.0    1.0      1.0      11.0    110.0     1.0   2.0   \n",
       "2   103960.0  14747.0    1.0      1.0      11.0    110.0     1.0   2.0   \n",
       "3   104192.0  15705.0    1.0      1.0      11.0    110.0     1.0   2.0   \n",
       "4   104194.0  16507.0    1.0      1.0      11.0    110.0     1.0   2.0   \n",
       "..       ...      ...    ...      ...       ...      ...     ...   ...   \n",
       "88  165305.0  11882.0    1.0      1.0      11.0    110.0     1.0   2.0   \n",
       "90  165365.0  14517.0    1.0      1.0      11.0    110.0     3.0  -1.0   \n",
       "92  165537.0  11512.0    2.0      1.0      11.0    110.0     1.0   1.0   \n",
       "94  165858.0  10999.0    3.0     -1.0      11.0    110.0     1.0   1.0   \n",
       "95  166036.0  15735.0    2.0      5.0      11.0    110.0     1.0   1.0   \n",
       "\n",
       "    chinhh  chouthh  ...  w6nssec8  w6nssec5  w6nssec3  W6SIC  w6soc  W6SEC  \\\n",
       "0      2.0      1.0  ...       2.0       1.0       1.0    0.0    0.0    0.0   \n",
       "1      1.0      1.0  ...       5.0       4.0       3.0    0.0    0.0    0.0   \n",
       "2      2.0      1.0  ...       7.0       5.0       3.0    0.0    0.0    0.0   \n",
       "3      2.0      1.0  ...       4.0       3.0       2.0    0.0    0.0    0.0   \n",
       "4      2.0      2.0  ...       6.0       5.0       3.0    0.0    0.0    0.0   \n",
       "..     ...      ...  ...       ...       ...       ...    ...    ...    ...   \n",
       "88     2.0      1.0  ...       5.0       4.0       3.0    1.0    1.0    1.0   \n",
       "90     1.0      2.0  ...       6.0       5.0       3.0    1.0    1.0    1.0   \n",
       "92     2.0      1.0  ...       1.0       1.0       1.0    0.0    0.0    0.0   \n",
       "94     2.0      1.0  ...       2.0       1.0       1.0    1.0    1.0    1.0   \n",
       "95     1.0      1.0  ...       7.0       5.0       3.0    0.0    0.0    0.0   \n",
       "\n",
       "    w6sic2003  w6soc2000  w6nssec13  finstatw6  \n",
       "0        -1.0       35.0        4.3        1.0  \n",
       "1        -1.0       92.0       10.0        1.0  \n",
       "2        -1.0       62.0       13.3        1.0  \n",
       "3        -1.0       51.0        9.2        1.0  \n",
       "4        -1.0       41.0       12.6        1.0  \n",
       "..        ...        ...        ...        ...  \n",
       "88       63.0       91.0       10.0       25.0  \n",
       "90       80.0       61.0       12.7       25.0  \n",
       "92       -1.0       11.0        2.0       25.0  \n",
       "94       74.0       35.0        4.3       29.0  \n",
       "95       -1.0       91.0       13.4       27.0  \n",
       "\n",
       "[84 rows x 6189 columns]"
      ]
     },
     "execution_count": 22,
     "metadata": {},
     "output_type": "execute_result"
    }
   ],
   "source": [
    "w6_without_sbj_out_of_sample_df =  w6_df.drop(sbj_out_of_sample_w6)\n",
    "w6_without_sbj_out_of_sample_df #del 88 pasa al 90 y luego al 92 porque el 89 y el 91 se eliminaron"
   ]
  },
  {
   "cell_type": "markdown",
   "metadata": {},
   "source": [
    "- Isolation: **kind_of_contact = \"-1\" \"item not applicable\" y has_vip = \"-9\" \"not answered\"**: *sujetos que van a ser eliminados porque no contestaron a si tenían VIP y el ítem de tipo de contacto no es aplicable*"
   ]
  },
  {
   "cell_type": "markdown",
   "metadata": {},
   "source": [
    "#### Columnas que se van a inspeccionar para ver qué sujetos cumplen las condiciones para ser eliminados:"
   ]
  },
  {
   "cell_type": "code",
   "execution_count": 23,
   "metadata": {},
   "outputs": [],
   "source": [
    "cols_to_clean_didnt_awr_hasvip_w6 = ['scchd', 'scfam', 'scfrd']\n",
    "cols_to_clean_kind_of_contact_not_applicable_w6 = [['scchdg', 'scchdh', 'scchdi', 'scchdt'], \n",
    "                                                ['scfamg', 'scfamh', 'scfami', 'scfamt'], \n",
    "                                                ['scfrdg', 'scfrdh', 'scfrdi', 'scfrdt']]"
   ]
  },
  {
   "cell_type": "markdown",
   "metadata": {},
   "source": [
    "#### Función que vamos a utilizar para eliminar sujetos\n",
    "Traducción: \n",
    "> Define `def` la función (llamada *delete_sbj_didnt_awr_kind_of_contact_not_applicable*) que para cada sujeto devuelva un buleano `bool` (True o False). Hazlo (devolver True) si se cumple que en algún `any` caso el sujeto no contesta (-9) a si tiene personas importantes (vip: friends, children, family) `sbj[has_vip] == -9` y a la vez `and` si alguno `any` de los sujetos tiene en la *columna* un valor de -1, lo haces para cada `[i]` lista de columnas de las *cols_to_clean_kind_of_contact_not_applicable_w6*. Y ahora, hazme todo eso que te he dicho con cada elemento `i` de has_vip y con cada elemento de *cols_to_clean_didnt_awr_hasvip_w6* dándome indice y el elemento de la lista (esto es lo que hace *enumerate*: te asocia cada i de has_vip con cada elemento de la lista a la que se refiere enumerate) "
   ]
  },
  {
   "cell_type": "code",
   "execution_count": 24,
   "metadata": {},
   "outputs": [],
   "source": [
    "def is_sbj_didnt_awr_kind_of_contact_not_applicable(sbj) -> bool:\n",
    "    return any([\n",
    "        sbj[has_vip] == -9 and any([\n",
    "            sbj[col] == -1 for col in cols_to_clean_kind_of_contact_not_applicable_w6[i]])\n",
    "        for i, has_vip in enumerate(cols_to_clean_didnt_awr_hasvip_w6)])"
   ]
  },
  {
   "cell_type": "markdown",
   "metadata": {},
   "source": [
    "reducimos de nuevo el dataframe, sobre el que ya estaba reducido, esta vez para eliminar los nuevos sujetos seleccionados:"
   ]
  },
  {
   "cell_type": "markdown",
   "metadata": {},
   "source": [
    "#### Construimos El data frame is_sbj_didnt_awr_kind_of_contact_not_applicable_w6_df aplicando \n",
    "Traducción: \n",
    "> "
   ]
  },
  {
   "cell_type": "code",
   "execution_count": 25,
   "metadata": {},
   "outputs": [],
   "source": [
    "is_sbj_didnt_awr_kind_of_contact_not_applicable_w6_df = w6_without_sbj_out_of_sample_df.apply(\n",
    "                                                            is_sbj_didnt_awr_kind_of_contact_not_applicable\n",
    "                                                            ,\n",
    "                                                            axis=1)\n",
    "w6_without_sbj_didnt_awr_kind_of_contact_not_applicable_df = w6_without_sbj_out_of_sample_df.loc[\n",
    "    is_sbj_didnt_awr_kind_of_contact_not_applicable_w6_df == False]"
   ]
  },
  {
   "cell_type": "code",
   "execution_count": 26,
   "metadata": {},
   "outputs": [],
   "source": [
    "# w6_without_sbj_didnt_awr_kind_of_contact_not_applicable_df"
   ]
  },
  {
   "cell_type": "markdown",
   "metadata": {},
   "source": [
    "- Isolation: **has_vip = \"1\" \"yes\" y kind_of_contact = \"-9\" \"not answered\"**: *sujetos que tienen vip pero no contestan a alguna de las preguntas. Tenemos que calcular su puntuación basándonos en el resto de respuestas.*"
   ]
  },
  {
   "cell_type": "code",
   "execution_count": 27,
   "metadata": {},
   "outputs": [],
   "source": [
    "def sustitution_missing_kind_of_contact(sbj,scale: dict) -> [0, 1]: \n",
    "    return 0 if (any([\n",
    "        sbj[scale['kind_of_contact']] == -9 and any([\n",
    "            sbj[col] == 0 for col in kind_of_contact])])) else 1 if any([\n",
    "                sbj[scale['kind_of_contact']] == -9 and all([\n",
    "                    sbj[col] == 1 for col in kind_of_contact])\n",
    "                ]) else 0 #16"
   ]
  },
  {
   "cell_type": "markdown",
   "metadata": {},
   "source": [
    "- Isolation: **Has_vip = \"2\" \"No\" y kind_of_contact = \"-1\" \"item not applicable\"**: *sujetos que no tienen vip y lógicamente no tienen ningún tipo de contacto con ese vip. Debemos imputar directamente un punto de isolation para esta subescala. El tratamiento se hace directamente en la construcción del cuestionario.* "
   ]
  },
  {
   "cell_type": "markdown",
   "metadata": {},
   "source": [
    "- Eliminamos a los sujetos menores de 50 años"
   ]
  },
  {
   "cell_type": "code",
   "execution_count": 28,
   "metadata": {},
   "outputs": [],
   "source": [
    "#18"
   ]
  },
  {
   "cell_type": "markdown",
   "metadata": {},
   "source": [
    "- En CASP-19 no han contestado a alguna de las preguntas (-9) dentro de las subescalas"
   ]
  },
  {
   "cell_type": "code",
   "execution_count": 29,
   "metadata": {},
   "outputs": [],
   "source": [
    "#19"
   ]
  },
  {
   "cell_type": "markdown",
   "metadata": {},
   "source": [
    "#### ( ! )  Base de datos limpiada de valores perdidos de los primeros cuestionarios de ola 6"
   ]
  },
  {
   "cell_type": "code",
   "execution_count": 30,
   "metadata": {},
   "outputs": [],
   "source": [
    "w6_first_cleaned_df = w6_without_sbj_didnt_awr_kind_of_contact_not_applicable_df  #20"
   ]
  },
  {
   "cell_type": "code",
   "execution_count": 31,
   "metadata": {},
   "outputs": [
    {
     "data": {
      "text/plain": [
       "84"
      ]
     },
     "execution_count": 31,
     "metadata": {},
     "output_type": "execute_result"
    }
   ],
   "source": [
    "len(w6_first_cleaned_df)"
   ]
  },
  {
   "cell_type": "markdown",
   "metadata": {},
   "source": [
    "### 4.2) Ola 8 "
   ]
  },
  {
   "cell_type": "markdown",
   "metadata": {},
   "source": [
    "- Casp-19: **\"-2\": \"Self-completion instrument not completed\"** :  *Cuestionarios, compuestos por sus ítems, que van a ser revisados para eliminar sujetos que no formaban parte de la muestra en estos módulos de ELSA. 1223 sujetos no han recibido este módulo del cuestionario* "
   ]
  },
  {
   "cell_type": "markdown",
   "metadata": {},
   "source": [
    "#### Columnas, pertenecientes al cuestionario, que van a ser limpiadas"
   ]
  },
  {
   "cell_type": "code",
   "execution_count": 32,
   "metadata": {},
   "outputs": [],
   "source": [
    "casp19_w8_cols = ['scqola', 'scqolb', 'scqolc', 'scqold', 'scqole', \n",
    "               'scqolf', 'scqolg', 'scqolh', 'scqoli', 'scqolj', \n",
    "               'scqolk', 'scqoll', 'scqolm', 'scqoln', 'scqolo', \n",
    "               'scqolp', 'scqolq', 'scqolr', 'scqols']"
   ]
  },
  {
   "cell_type": "code",
   "execution_count": 33,
   "metadata": {},
   "outputs": [],
   "source": [
    "cols_to_clean_out_of_sample_w8 = casp19_w8_cols"
   ]
  },
  {
   "cell_type": "markdown",
   "metadata": {},
   "source": [
    "#### sujetos seleccionados para ser eliminados \n",
    "\n",
    "traducción: \n",
    "> Constrúyeme una variable (llamada sbj_out_of_sample) que sea igual a: me localizas en el dataframe w8_df `w8_df.loc` lo que te voy a decir: `[` construye un pandas dataframe `pd.DataFrame` con lo siguiente `(`: mira cuales cumplen `==` que son un elemento del w8_df igual a -2 `)` (eso devuelve un True o False) y hazlo para `for` cada elemento `col` en `in` la variable cols_to_clean_out_of_sample_w8 (ya definida). Hazlo si en esta lista `[]` lo hay en ALGUNA (de las columnas)`any()`. Bien, cuando lo tengas localizado `]`, coge el índice `.index()`."
   ]
  },
  {
   "cell_type": "code",
   "execution_count": 34,
   "metadata": {},
   "outputs": [
    {
     "data": {
      "text/plain": [
       "Int64Index([9, 20, 23, 28, 35, 39, 47, 50, 51, 52, 57, 62, 63, 64, 66, 68, 75,\n",
       "            76],\n",
       "           dtype='int64')"
      ]
     },
     "execution_count": 34,
     "metadata": {},
     "output_type": "execute_result"
    }
   ],
   "source": [
    "sbj_out_of_sample_w8 = w8_df.loc[pd.DataFrame([(w8_df[col] == -2) for col in cols_to_clean_out_of_sample_w8]).any()].index\n",
    "sbj_out_of_sample_w8 "
   ]
  },
  {
   "cell_type": "markdown",
   "metadata": {},
   "source": [
    "#### Construimos el dataframe sin los sujetos\n",
    "traducción:\n",
    ">Construye una variable (tipo df por cómo se compone) que sea: el dataframe w8_df quitándole `.drop` los sujetos seleccionados."
   ]
  },
  {
   "cell_type": "code",
   "execution_count": 35,
   "metadata": {},
   "outputs": [
    {
     "data": {
      "text/html": [
       "<div>\n",
       "<style scoped>\n",
       "    .dataframe tbody tr th:only-of-type {\n",
       "        vertical-align: middle;\n",
       "    }\n",
       "\n",
       "    .dataframe tbody tr th {\n",
       "        vertical-align: top;\n",
       "    }\n",
       "\n",
       "    .dataframe thead th {\n",
       "        text-align: right;\n",
       "    }\n",
       "</style>\n",
       "<table border=\"1\" class=\"dataframe\">\n",
       "  <thead>\n",
       "    <tr style=\"text-align: right;\">\n",
       "      <th></th>\n",
       "      <th>idauniq</th>\n",
       "      <th>idahhw8</th>\n",
       "      <th>perid</th>\n",
       "      <th>samptyp</th>\n",
       "      <th>finstat</th>\n",
       "      <th>w8indout</th>\n",
       "      <th>w8hhout</th>\n",
       "      <th>w8scout</th>\n",
       "      <th>w8sscout</th>\n",
       "      <th>w8nurout</th>\n",
       "      <th>...</th>\n",
       "      <th>w8nssec5</th>\n",
       "      <th>w8nssec3</th>\n",
       "      <th>w8soc2000r</th>\n",
       "      <th>w8sic2003r</th>\n",
       "      <th>gor</th>\n",
       "      <th>w8w1lwgt</th>\n",
       "      <th>w8w4lwgt</th>\n",
       "      <th>w8xwgt</th>\n",
       "      <th>w8scwt</th>\n",
       "      <th>w8sscwt</th>\n",
       "    </tr>\n",
       "  </thead>\n",
       "  <tbody>\n",
       "    <tr>\n",
       "      <th>0</th>\n",
       "      <td>117573.0</td>\n",
       "      <td>10116.0</td>\n",
       "      <td>1.0</td>\n",
       "      <td>1.0</td>\n",
       "      <td>1.0</td>\n",
       "      <td>11.0</td>\n",
       "      <td>110.0</td>\n",
       "      <td>1.0</td>\n",
       "      <td>1.0</td>\n",
       "      <td>81.0</td>\n",
       "      <td>...</td>\n",
       "      <td>1.0</td>\n",
       "      <td>1.0</td>\n",
       "      <td>35.0</td>\n",
       "      <td>-1.0</td>\n",
       "      <td>E12000008</td>\n",
       "      <td>1.736654</td>\n",
       "      <td>2.036621</td>\n",
       "      <td>1.362483</td>\n",
       "      <td>1.589579</td>\n",
       "      <td>1.885873</td>\n",
       "    </tr>\n",
       "    <tr>\n",
       "      <th>1</th>\n",
       "      <td>161881.0</td>\n",
       "      <td>10118.0</td>\n",
       "      <td>2.0</td>\n",
       "      <td>1.0</td>\n",
       "      <td>14.0</td>\n",
       "      <td>11.0</td>\n",
       "      <td>110.0</td>\n",
       "      <td>1.0</td>\n",
       "      <td>1.0</td>\n",
       "      <td>81.0</td>\n",
       "      <td>...</td>\n",
       "      <td>5.0</td>\n",
       "      <td>3.0</td>\n",
       "      <td>62.0</td>\n",
       "      <td>-1.0</td>\n",
       "      <td>E12000006</td>\n",
       "      <td>NaN</td>\n",
       "      <td>1.274136</td>\n",
       "      <td>6.554409</td>\n",
       "      <td>6.735195</td>\n",
       "      <td>5.763463</td>\n",
       "    </tr>\n",
       "    <tr>\n",
       "      <th>2</th>\n",
       "      <td>151416.0</td>\n",
       "      <td>10134.0</td>\n",
       "      <td>1.0</td>\n",
       "      <td>1.0</td>\n",
       "      <td>7.0</td>\n",
       "      <td>11.0</td>\n",
       "      <td>110.0</td>\n",
       "      <td>1.0</td>\n",
       "      <td>1.0</td>\n",
       "      <td>81.0</td>\n",
       "      <td>...</td>\n",
       "      <td>4.0</td>\n",
       "      <td>3.0</td>\n",
       "      <td>62.0</td>\n",
       "      <td>-1.0</td>\n",
       "      <td>E12000007</td>\n",
       "      <td>NaN</td>\n",
       "      <td>1.559035</td>\n",
       "      <td>1.590436</td>\n",
       "      <td>1.631708</td>\n",
       "      <td>1.316570</td>\n",
       "    </tr>\n",
       "    <tr>\n",
       "      <th>3</th>\n",
       "      <td>120968.0</td>\n",
       "      <td>10219.0</td>\n",
       "      <td>2.0</td>\n",
       "      <td>1.0</td>\n",
       "      <td>1.0</td>\n",
       "      <td>11.0</td>\n",
       "      <td>110.0</td>\n",
       "      <td>1.0</td>\n",
       "      <td>3.0</td>\n",
       "      <td>81.0</td>\n",
       "      <td>...</td>\n",
       "      <td>5.0</td>\n",
       "      <td>3.0</td>\n",
       "      <td>71.0</td>\n",
       "      <td>-1.0</td>\n",
       "      <td>E12000001</td>\n",
       "      <td>1.030250</td>\n",
       "      <td>0.793539</td>\n",
       "      <td>0.670783</td>\n",
       "      <td>0.627842</td>\n",
       "      <td>NaN</td>\n",
       "    </tr>\n",
       "    <tr>\n",
       "      <th>4</th>\n",
       "      <td>160230.0</td>\n",
       "      <td>10220.0</td>\n",
       "      <td>1.0</td>\n",
       "      <td>1.0</td>\n",
       "      <td>14.0</td>\n",
       "      <td>11.0</td>\n",
       "      <td>110.0</td>\n",
       "      <td>1.0</td>\n",
       "      <td>1.0</td>\n",
       "      <td>-1.0</td>\n",
       "      <td>...</td>\n",
       "      <td>1.0</td>\n",
       "      <td>1.0</td>\n",
       "      <td>32.0</td>\n",
       "      <td>-1.0</td>\n",
       "      <td>E12000005</td>\n",
       "      <td>NaN</td>\n",
       "      <td>1.050260</td>\n",
       "      <td>0.436357</td>\n",
       "      <td>0.410924</td>\n",
       "      <td>0.374231</td>\n",
       "    </tr>\n",
       "  </tbody>\n",
       "</table>\n",
       "<p>5 rows × 6392 columns</p>\n",
       "</div>"
      ],
      "text/plain": [
       "    idauniq  idahhw8  perid  samptyp  finstat  w8indout  w8hhout  w8scout  \\\n",
       "0  117573.0  10116.0    1.0      1.0      1.0      11.0    110.0      1.0   \n",
       "1  161881.0  10118.0    2.0      1.0     14.0      11.0    110.0      1.0   \n",
       "2  151416.0  10134.0    1.0      1.0      7.0      11.0    110.0      1.0   \n",
       "3  120968.0  10219.0    2.0      1.0      1.0      11.0    110.0      1.0   \n",
       "4  160230.0  10220.0    1.0      1.0     14.0      11.0    110.0      1.0   \n",
       "\n",
       "   w8sscout  w8nurout  ...  w8nssec5  w8nssec3  w8soc2000r  w8sic2003r  \\\n",
       "0       1.0      81.0  ...       1.0       1.0        35.0        -1.0   \n",
       "1       1.0      81.0  ...       5.0       3.0        62.0        -1.0   \n",
       "2       1.0      81.0  ...       4.0       3.0        62.0        -1.0   \n",
       "3       3.0      81.0  ...       5.0       3.0        71.0        -1.0   \n",
       "4       1.0      -1.0  ...       1.0       1.0        32.0        -1.0   \n",
       "\n",
       "         gor  w8w1lwgt  w8w4lwgt    w8xwgt    w8scwt   w8sscwt  \n",
       "0  E12000008  1.736654  2.036621  1.362483  1.589579  1.885873  \n",
       "1  E12000006       NaN  1.274136  6.554409  6.735195  5.763463  \n",
       "2  E12000007       NaN  1.559035  1.590436  1.631708  1.316570  \n",
       "3  E12000001  1.030250  0.793539  0.670783  0.627842       NaN  \n",
       "4  E12000005       NaN  1.050260  0.436357  0.410924  0.374231  \n",
       "\n",
       "[5 rows x 6392 columns]"
      ]
     },
     "execution_count": 35,
     "metadata": {},
     "output_type": "execute_result"
    }
   ],
   "source": [
    "w8_without_sbj_out_of_sample_df =  w8_df.drop(sbj_out_of_sample_w8)\n",
    "w8_without_sbj_out_of_sample_df.head()"
   ]
  },
  {
   "cell_type": "markdown",
   "metadata": {},
   "source": [
    "- Eliminamos a los sujetos menores de 50 años"
   ]
  },
  {
   "cell_type": "code",
   "execution_count": 36,
   "metadata": {},
   "outputs": [],
   "source": [
    "#27"
   ]
  },
  {
   "cell_type": "markdown",
   "metadata": {},
   "source": [
    "- En CASP-19 no han contestado a alguna de las preguntas (-9) dentro de las subescalas"
   ]
  },
  {
   "cell_type": "code",
   "execution_count": 37,
   "metadata": {},
   "outputs": [],
   "source": [
    "#28"
   ]
  },
  {
   "cell_type": "markdown",
   "metadata": {},
   "source": [
    "#### ( ! )  Base de datos limpiada de valores perdidos de los primeros cuestionarios de ola 8"
   ]
  },
  {
   "cell_type": "code",
   "execution_count": 39,
   "metadata": {},
   "outputs": [],
   "source": [
    "w8_first_cleaned_df = w8_without_sbj_out_of_sample_df  # sustituir por la última reducción del dataframe"
   ]
  },
  {
   "cell_type": "code",
   "execution_count": 40,
   "metadata": {},
   "outputs": [
    {
     "data": {
      "text/plain": [
       "59"
      ]
     },
     "execution_count": 40,
     "metadata": {},
     "output_type": "execute_result"
    }
   ],
   "source": [
    "len(w8_first_cleaned_df)"
   ]
  },
  {
   "cell_type": "markdown",
   "metadata": {},
   "source": [
    " ## 5) Construcción funcional de los cuestionarios Casp-19, isolation y multimorbidity."
   ]
  },
  {
   "cell_type": "markdown",
   "metadata": {},
   "source": [
    "### 5.1) Ola 6"
   ]
  },
  {
   "cell_type": "markdown",
   "metadata": {},
   "source": [
    "- Cuestionario CASP-19 en ola 6"
   ]
  },
  {
   "cell_type": "markdown",
   "metadata": {},
   "source": [
    "#### Especificamos los ítems directos e inversos"
   ]
  },
  {
   "cell_type": "code",
   "execution_count": 41,
   "metadata": {},
   "outputs": [],
   "source": [
    "casp19_reverse_items = [\n",
    "    'scqola', \n",
    "    'scqolb',\n",
    "    'scqold', \n",
    "    'scqolf',\n",
    "    'scqolh', \n",
    "    'scqoli',\n",
    "]\n",
    "casp19_direct_items = [\n",
    "    'scqolc', \n",
    "    'scqole', \n",
    "    'scqolg',\n",
    "    'scqolj',\n",
    "    'scqolk',\n",
    "    'scqoll',\n",
    "    'scqolm',\n",
    "    'scqoln', \n",
    "    'scqolo', \n",
    "    'scqolp',\n",
    "    'scqolq', \n",
    "    'scqolr',\n",
    "    'scqols',\n",
    "]"
   ]
  },
  {
   "cell_type": "markdown",
   "metadata": {},
   "source": [
    "#### Construinmos las funciones que aplicaremos a los sujetos para crear el cuestionario"
   ]
  },
  {
   "cell_type": "markdown",
   "metadata": {},
   "source": [
    "Debe tenerse en cuenta que los valores originales en la base de datos están codificados como 1 = often, 2 = Sometimes, 3 = No often y 4 = Never; y el cuestionario debe ofrecer una puntuación mayor cuanto mayor sea la calidad de vida del sujeto. De tal manera que un ítem inverso como *I feel that what happens to me is out of my control* (calificado como inverso) si es respondido con *often* se le ha asignado un valor de 1 en la base de datos. "
   ]
  },
  {
   "cell_type": "markdown",
   "metadata": {},
   "source": [
    "Traducción\n",
    "> Definimos la función que obtiene las puntuaciones para los ítems inversos cuando ofrecemos un valor `x` que podrá ser un 1, 2, 3 o 4 `:[1, 2, 3, 4]` y obtendremos en su lugar '->' una puntuación para el ítem de 0, 1, 2 o 3 `:`. devolverá `return` ese valor menos uno. "
   ]
  },
  {
   "cell_type": "code",
   "execution_count": 42,
   "metadata": {},
   "outputs": [],
   "source": [
    "def get_reverse_item(x: [1, 2, 3, 4]) -> [0, 1, 2, 3]:\n",
    "    return x - 1"
   ]
  },
  {
   "cell_type": "markdown",
   "metadata": {},
   "source": [
    "Traducción\n",
    "> Definimos la función que obtiene las puntuaciones para los ítems directos cuando ofrecemos un valor `x` que podrá ser un 1, 2, 3 o 4 `:[1, 2, 3, 4]` y obtendremos en su lugar '->' una puntuación para el ítem de 0, 1, 2 o 3 `:`. En este caso devolverá un 0 donde había un 4, un 1 donde había un 3, etc. "
   ]
  },
  {
   "cell_type": "code",
   "execution_count": 43,
   "metadata": {},
   "outputs": [],
   "source": [
    "def get_direct_item(x: [1, 2, 3, 4]) -> [3, 2, 1, 0]:\n",
    "    return (x - 4) * (-1)"
   ]
  },
  {
   "cell_type": "markdown",
   "metadata": {},
   "source": [
    "Traducción\n",
    "> Definimos la función que calculará la puntuación del cuestionario CASP-19 para la ola 6 que dará como resultado un único valor entero comprendido entre cero y 57. \n",
    "Esta función devuelve `return` la suma de dos elementos: El primero se obtiene de aplicar la función get_reverse_ item a cada valor *reverse_item* de cada sujeto para cada valor de item reverso de la lista de items inversos. El segundo elemento de la suma se obtiene de aplicar la función get_direct_item a cada valor *direct_item* de cada sujeto para cada ítem directo de la lista de ítems directos del CASP-19 de la ola 6"
   ]
  },
  {
   "cell_type": "markdown",
   "metadata": {},
   "source": [
    "Función para obtener los tems transformados del cuestionario CASP-19_w6"
   ]
  },
  {
   "cell_type": "code",
   "execution_count": 44,
   "metadata": {},
   "outputs": [],
   "source": [
    "def transform_casp19_items(sbj) -> List[int]:  # int -> [0, 1, 2, 3]\n",
    "    return ([get_reverse_item(sbj[reverse_item]) for reverse_item in casp19_reverse_items] +\n",
    "     [get_direct_item(sbj[direct_item]) for direct_item in casp19_direct_items])"
   ]
  },
  {
   "cell_type": "markdown",
   "metadata": {},
   "source": [
    "Función para calcular el valor del cuestionario CASP-19"
   ]
  },
  {
   "cell_type": "code",
   "execution_count": 45,
   "metadata": {},
   "outputs": [],
   "source": [
    "def calc_casp19(sbj) -> list(range(57)):\n",
    "    return sum([get_reverse_item(sbj[reverse_item]) for reverse_item in casp19_reverse_items] +\n",
    "     [get_direct_item(sbj[direct_item]) for direct_item in casp19_direct_items])"
   ]
  },
  {
   "cell_type": "markdown",
   "metadata": {},
   "source": [
    "#### Obtenemos los items del cuestionario CASP-19"
   ]
  },
  {
   "cell_type": "code",
   "execution_count": 46,
   "metadata": {},
   "outputs": [],
   "source": [
    "items_casp19_w6_df = w6_first_cleaned_df.apply(transform_casp19_items, axis=1, result_type='expand')"
   ]
  },
  {
   "cell_type": "markdown",
   "metadata": {},
   "source": [
    "#### Creamos el cuestionario aplicando las funciones para su creación"
   ]
  },
  {
   "cell_type": "code",
   "execution_count": 47,
   "metadata": {},
   "outputs": [],
   "source": [
    "casp19_w6 = w6_first_cleaned_df.apply(calc_casp19, axis=1)"
   ]
  },
  {
   "cell_type": "code",
   "execution_count": 48,
   "metadata": {},
   "outputs": [
    {
     "data": {
      "text/plain": [
       "0     53.0\n",
       "1     35.0\n",
       "2     49.0\n",
       "3     48.0\n",
       "4     41.0\n",
       "      ... \n",
       "88    40.0\n",
       "90    53.0\n",
       "92    42.0\n",
       "94    45.0\n",
       "95    38.0\n",
       "Length: 84, dtype: float64"
      ]
     },
     "execution_count": 48,
     "metadata": {},
     "output_type": "execute_result"
    }
   ],
   "source": [
    "casp19_w6"
   ]
  },
  {
   "cell_type": "markdown",
   "metadata": {},
   "source": [
    "- Isolation para la ola 6 -> isolation_w6_df   "
   ]
  },
  {
   "cell_type": "code",
   "execution_count": 49,
   "metadata": {},
   "outputs": [],
   "source": [
    "#59"
   ]
  },
  {
   "cell_type": "markdown",
   "metadata": {},
   "source": [
    "#### Función que dicotomiza una respuesta likert "
   ]
  },
  {
   "cell_type": "code",
   "execution_count": 50,
   "metadata": {},
   "outputs": [],
   "source": [
    "def dichotomize_item(likert_answer: int) -> [0, 1]: \n",
    "       return 0 if likert_answer in range(1, 3 + 1) \\\n",
    "        else 1 if likert_answer in range(4, 6 + 1) else 0 #29"
   ]
  },
  {
   "cell_type": "markdown",
   "metadata": {},
   "source": [
    "#### Funcion que reduce las subescalas con múltiples items a subescalas con un solo item y además es dicotómica"
   ]
  },
  {
   "cell_type": "code",
   "execution_count": 51,
   "metadata": {},
   "outputs": [],
   "source": [
    "def reduce_scale_to_one_item(sbj, scale: dict) -> [0, 1]: \n",
    "    if sbj[scale['has_vip']][0] == 2: #17\n",
    "        return 1\n",
    "    else:\n",
    "        relative_inters = [dichotomize_item(sbj[item]) for item in scale['kind_of_contact']]  \n",
    "        relative = 1 if all([relative_inter == 1 for relative_inter in relative_inters]) else 0\n",
    "    return relative"
   ]
  },
  {
   "cell_type": "markdown",
   "metadata": {},
   "source": [
    "#### Funcion que dicotomiza una respuesta simple, dicotómica, a una respuesta dicotomica (añadiendo un \"y si encuentras otra cosa dame un cero\")"
   ]
  },
  {
   "cell_type": "code",
   "execution_count": 52,
   "metadata": {},
   "outputs": [],
   "source": [
    "def reduce_simple_subscale(sbj, item) -> [0, 1]: \n",
    "    return sbj[item] if sbj[item] in [0, 1] else 0 #29"
   ]
  },
  {
   "cell_type": "markdown",
   "metadata": {},
   "source": [
    "Traducción: \n",
    "> Define la función llamada calc_isolation_w6 para cada sujeto `sbj`. El resultado será 0, 1, 2, 3, 4 o 5. \n",
    "> Relatives será el resultado de aplicar la función reduce_scale_to_one_item a cada sujeto `sbj` de cada elemento de isolation_w6_relatives `x` en `for` cada \n",
    "> elemento `x` de `in` isolation_w6_relatives\n",
    "> Isolation será la suma de "
   ]
  },
  {
   "cell_type": "markdown",
   "metadata": {},
   "source": [
    "#### Función que calcula el valor de isolation"
   ]
  },
  {
   "cell_type": "markdown",
   "metadata": {},
   "source": [
    "Traducción:\n",
    "> Definimos `relatives` como _lista que resulta de que apliques esta función_: aplica _reduce_scale_to_one_item_ a cada sujeto `sbj` para cada elemento `x` de _isolation_w6_relatives_ \n",
    "> _isolation_w6_relatives_ es la _scale_ que te estoy dando como parámetro de la función _reduce_scale_to_one_item_ (más arriba)\n",
    "    "
   ]
  },
  {
   "cell_type": "code",
   "execution_count": 53,
   "metadata": {},
   "outputs": [],
   "source": [
    "def calc_items_isolation_w6(sbj):\n",
    "    relatives = [reduce_scale_to_one_item(sbj, x) for x in isolation_w6_relatives] \n",
    "    return relatives + [reduce_simple_subscale(sbj, isolation_w6_org_contact)] + [reduce_simple_subscale(sbj, isolation_w6_prt_contact)]"
   ]
  },
  {
   "cell_type": "code",
   "execution_count": 54,
   "metadata": {},
   "outputs": [],
   "source": [
    "def calc_isolation_w6(sbj) -> [0, 1, 2, 3, 4, 5]:\n",
    "    isolation = sum(calc_items_isolation_w6(sbj))\n",
    "    return isolation"
   ]
  },
  {
   "cell_type": "markdown",
   "metadata": {},
   "source": []
  },
  {
   "cell_type": "code",
   "execution_count": 55,
   "metadata": {},
   "outputs": [],
   "source": [
    "items_isolation_w6_df = w6_first_cleaned_df.loc[(w6_first_cleaned_df['indager'] >= 50)].apply(calc_items_isolation_w6, axis=1, result_type='expand')"
   ]
  },
  {
   "cell_type": "code",
   "execution_count": 56,
   "metadata": {},
   "outputs": [],
   "source": [
    "isolation_w6_df = w6_first_cleaned_df.loc[(w6_first_cleaned_df['indager'] >= 50)].apply(calc_isolation_w6, axis=1)"
   ]
  },
  {
   "cell_type": "code",
   "execution_count": 57,
   "metadata": {},
   "outputs": [
    {
     "data": {
      "text/html": [
       "<div>\n",
       "<style scoped>\n",
       "    .dataframe tbody tr th:only-of-type {\n",
       "        vertical-align: middle;\n",
       "    }\n",
       "\n",
       "    .dataframe tbody tr th {\n",
       "        vertical-align: top;\n",
       "    }\n",
       "\n",
       "    .dataframe thead th {\n",
       "        text-align: right;\n",
       "    }\n",
       "</style>\n",
       "<table border=\"1\" class=\"dataframe\">\n",
       "  <thead>\n",
       "    <tr style=\"text-align: right;\">\n",
       "      <th></th>\n",
       "      <th>0</th>\n",
       "      <th>1</th>\n",
       "      <th>2</th>\n",
       "      <th>3</th>\n",
       "      <th>4</th>\n",
       "    </tr>\n",
       "  </thead>\n",
       "  <tbody>\n",
       "    <tr>\n",
       "      <th>0</th>\n",
       "      <td>0.0</td>\n",
       "      <td>0.0</td>\n",
       "      <td>0.0</td>\n",
       "      <td>0.0</td>\n",
       "      <td>1.0</td>\n",
       "    </tr>\n",
       "    <tr>\n",
       "      <th>1</th>\n",
       "      <td>0.0</td>\n",
       "      <td>0.0</td>\n",
       "      <td>0.0</td>\n",
       "      <td>0.0</td>\n",
       "      <td>1.0</td>\n",
       "    </tr>\n",
       "    <tr>\n",
       "      <th>2</th>\n",
       "      <td>0.0</td>\n",
       "      <td>0.0</td>\n",
       "      <td>0.0</td>\n",
       "      <td>0.0</td>\n",
       "      <td>1.0</td>\n",
       "    </tr>\n",
       "    <tr>\n",
       "      <th>3</th>\n",
       "      <td>0.0</td>\n",
       "      <td>0.0</td>\n",
       "      <td>0.0</td>\n",
       "      <td>0.0</td>\n",
       "      <td>1.0</td>\n",
       "    </tr>\n",
       "    <tr>\n",
       "      <th>4</th>\n",
       "      <td>1.0</td>\n",
       "      <td>1.0</td>\n",
       "      <td>0.0</td>\n",
       "      <td>0.0</td>\n",
       "      <td>1.0</td>\n",
       "    </tr>\n",
       "    <tr>\n",
       "      <th>...</th>\n",
       "      <td>...</td>\n",
       "      <td>...</td>\n",
       "      <td>...</td>\n",
       "      <td>...</td>\n",
       "      <td>...</td>\n",
       "    </tr>\n",
       "    <tr>\n",
       "      <th>88</th>\n",
       "      <td>0.0</td>\n",
       "      <td>0.0</td>\n",
       "      <td>0.0</td>\n",
       "      <td>1.0</td>\n",
       "      <td>1.0</td>\n",
       "    </tr>\n",
       "    <tr>\n",
       "      <th>90</th>\n",
       "      <td>0.0</td>\n",
       "      <td>1.0</td>\n",
       "      <td>0.0</td>\n",
       "      <td>1.0</td>\n",
       "      <td>0.0</td>\n",
       "    </tr>\n",
       "    <tr>\n",
       "      <th>92</th>\n",
       "      <td>0.0</td>\n",
       "      <td>0.0</td>\n",
       "      <td>0.0</td>\n",
       "      <td>0.0</td>\n",
       "      <td>1.0</td>\n",
       "    </tr>\n",
       "    <tr>\n",
       "      <th>94</th>\n",
       "      <td>0.0</td>\n",
       "      <td>1.0</td>\n",
       "      <td>0.0</td>\n",
       "      <td>1.0</td>\n",
       "      <td>1.0</td>\n",
       "    </tr>\n",
       "    <tr>\n",
       "      <th>95</th>\n",
       "      <td>0.0</td>\n",
       "      <td>0.0</td>\n",
       "      <td>0.0</td>\n",
       "      <td>0.0</td>\n",
       "      <td>1.0</td>\n",
       "    </tr>\n",
       "  </tbody>\n",
       "</table>\n",
       "<p>83 rows × 5 columns</p>\n",
       "</div>"
      ],
      "text/plain": [
       "      0    1    2    3    4\n",
       "0   0.0  0.0  0.0  0.0  1.0\n",
       "1   0.0  0.0  0.0  0.0  1.0\n",
       "2   0.0  0.0  0.0  0.0  1.0\n",
       "3   0.0  0.0  0.0  0.0  1.0\n",
       "4   1.0  1.0  0.0  0.0  1.0\n",
       "..  ...  ...  ...  ...  ...\n",
       "88  0.0  0.0  0.0  1.0  1.0\n",
       "90  0.0  1.0  0.0  1.0  0.0\n",
       "92  0.0  0.0  0.0  0.0  1.0\n",
       "94  0.0  1.0  0.0  1.0  1.0\n",
       "95  0.0  0.0  0.0  0.0  1.0\n",
       "\n",
       "[83 rows x 5 columns]"
      ]
     },
     "execution_count": 57,
     "metadata": {},
     "output_type": "execute_result"
    }
   ],
   "source": [
    "items_isolation_w6_df"
   ]
  },
  {
   "cell_type": "code",
   "execution_count": 58,
   "metadata": {},
   "outputs": [
    {
     "data": {
      "text/plain": [
       "0    1.0\n",
       "1    1.0\n",
       "2    1.0\n",
       "3    1.0\n",
       "4    3.0\n",
       "dtype: float64"
      ]
     },
     "execution_count": 58,
     "metadata": {},
     "output_type": "execute_result"
    }
   ],
   "source": [
    "isolation_w6_df.head()"
   ]
  },
  {
   "cell_type": "markdown",
   "metadata": {},
   "source": [
    "* multimorbidity"
   ]
  },
  {
   "cell_type": "code",
   "execution_count": 59,
   "metadata": {},
   "outputs": [],
   "source": [
    "def calc_morbidity_cvd (sbj) -> [0, 1]:\n",
    "    return 1 if ((i == 1 for i in enumerate[confirm_cvd]) and (i == 1 for i in enumerate[still_has_cvd])) or ((i == 2 for i in enumerate[confirm_cvd]) and (i == 3 for i in enumerate[dispute_cvd])) or ((i == 2 for i in enumerate[confirm_cvd]) and (i == 2 for i in enumerate[dispute_cvd])) or (i == 1 for i in enumerate[new_cvdelse]) else 0"
   ]
  },
  {
   "cell_type": "markdown",
   "metadata": {},
   "source": [
    "CVD"
   ]
  },
  {
   "cell_type": "code",
   "execution_count": 60,
   "metadata": {},
   "outputs": [],
   "source": [
    "def calc_morbidity_cvd_bp (sbj) -> [0, 1]:\n",
    "    return 1 if (('hedacbp' == 1) and ('hedasbp' == 1)) or (('hedacbp' == 2) and ('hedanbp' == 2)) or (('hedacbp' == 2) and ('hedanbp' == 3)) or ('hediabp' == 1) else 0"
   ]
  },
  {
   "cell_type": "code",
   "execution_count": 61,
   "metadata": {},
   "outputs": [],
   "source": [
    "def calc_morbidity_cvd_an (sbj) -> [0, 1]:\n",
    "    return 1 if (('hedacan' == 1) and ('hedasan' == 1)) or (('hedacan' == 2) and ('hedanan' == 2)) or (('hedacan' == 2) and ('hedanan' == 3)) or ('hediaan' == 1) else 0"
   ]
  },
  {
   "cell_type": "code",
   "execution_count": 62,
   "metadata": {},
   "outputs": [],
   "source": [
    "def calc_morbidity_cvd_mi (sbj) -> [0, 1]:\n",
    "    return 1 if (('hedacmi' == 1) and ('hedasmi' == 1)) or (('hedacmi' == 2) and ('hedanmi' == 2)) or (('hedacmi' == 2) and ('hedanmi' == 3)) or ('hediami' == 1) else 0"
   ]
  },
  {
   "cell_type": "code",
   "execution_count": 63,
   "metadata": {},
   "outputs": [],
   "source": [
    "def calc_morbidity_cvd_hf (sbj) -> [0, 1]:\n",
    "    return 1 if (('hedachf' == 1) and ('hedashf' == 1)) or (('hedachf' == 2) and ('hedanhf' == 2)) or (('hedachf' == 2) and ('hedanhf' == 3)) or ('hediahf' == 1) else 0"
   ]
  },
  {
   "cell_type": "code",
   "execution_count": 64,
   "metadata": {},
   "outputs": [],
   "source": [
    "def calc_morbidity_cvd_hm (sbj) -> [0, 1]:\n",
    "    return 1 if (('hedachm' == 1) and ('hedashm' == 1)) or (('hedachm' == 2) and ('hedanhm' == 2)) or (('hedachm' == 2) and ('hedanhm' == 3)) or ('hediahm' == 1) else 0"
   ]
  },
  {
   "cell_type": "code",
   "execution_count": 65,
   "metadata": {},
   "outputs": [],
   "source": [
    "def calc_morbidity_cvd_ar (sbj) -> [0, 1]:\n",
    "    return 1 if (('hedacar' == 1) and ('hedasar' == 1)) or (('hedacar' == 2) and ('hedanar' == 2)) or (('hedacar' == 2) and ('hedanar' == 3)) or ('hediaar' == 1) else 0"
   ]
  },
  {
   "cell_type": "code",
   "execution_count": 66,
   "metadata": {},
   "outputs": [],
   "source": [
    "def calc_morbidity_cvd_di (sbj) -> [0, 1]:\n",
    "    return 1 if (('hedacdi' == 1) and ('hedasdi' == 1)) or (('hedacdi' == 2) and ('hedandi' == 2)) or (('hedacdi' == 2) and ('hedandi' == 3)) or ('hediadi' == 1) else 0"
   ]
  },
  {
   "cell_type": "code",
   "execution_count": 67,
   "metadata": {},
   "outputs": [],
   "source": [
    "def calc_morbidity_cvd_st (sbj) -> [0, 1]:\n",
    "    return 1 if (('hedacst' == 1) and ('hedasst' == 1)) or (('hedacst' == 2) and ('hedanst' == 2)) or (('hedacst' == 2) and ('hedanst' == 3)) or ('hediast' == 1) else 0"
   ]
  },
  {
   "cell_type": "code",
   "execution_count": 68,
   "metadata": {},
   "outputs": [],
   "source": [
    "def calc_morbidity_cvd_ch (sbj) -> [0, 1]:\n",
    "    return 1 if (('hedacch' == 1) and ('hedasch' == 1)) or (('hedacch' == 2) and ('hedanch' == 2)) or (('hedacch' == 2) and ('hedanch' == 3)) or ('hediach' == 1) else 0"
   ]
  },
  {
   "cell_type": "code",
   "execution_count": 69,
   "metadata": {},
   "outputs": [],
   "source": [
    "def calc_morbidity_cvd_95 (sbj) -> [0, 1]:\n",
    "    return 1 if (('hedac95' == 1) and ('hedas95' == 1)) or (('hedac95' == 2) and ('hedan95' == 2)) or (('hedac95' == 2) and ('hedan95' == 3)) or ('hedia95' == 1) else 0"
   ]
  },
  {
   "cell_type": "markdown",
   "metadata": {},
   "source": [
    "Chronic"
   ]
  },
  {
   "cell_type": "code",
   "execution_count": 70,
   "metadata": {},
   "outputs": [],
   "source": [
    "def calc_morbidity_chr_lu (sbj) -> [0, 1]:\n",
    "    return 1 if (('hedaclu' == 1) and ('hedbslu' == 1)) or (('hedaclu' == 2) and ('hedbmlu' == 2)) or (('hedaclu' == 2) and ('hedbmlu' == 3)) or ('hediblu' == 1) else 0"
   ]
  },
  {
   "cell_type": "code",
   "execution_count": 71,
   "metadata": {},
   "outputs": [],
   "source": [
    "def calc_morbidity_chr_as (sbj) -> [0, 1]:\n",
    "    return 1 if (('hedacas' == 1) and ('hedbsas' == 1)) or (('hedacas' == 2) and ('hedbmas' == 2)) or (('hedacas' == 2) and ('hedbmas' == 3)) or ('hedibas' == 1) else 0"
   ]
  },
  {
   "cell_type": "code",
   "execution_count": 72,
   "metadata": {},
   "outputs": [],
   "source": [
    "def calc_morbidity_chr_ar (sbj) -> [0, 1]:\n",
    "    return 1 if (('hedacar' == 1) and ('hedbsar' == 1)) or (('hedacar' == 2) and ('hedbmar' == 2)) or (('hedacar' == 2) and ('hedbmar' == 3)) or ('hedibar' == 1) else 0"
   ]
  },
  {
   "cell_type": "code",
   "execution_count": 73,
   "metadata": {},
   "outputs": [],
   "source": [
    "def calc_morbidity_chr_os (sbj) -> [0, 1]:\n",
    "    return 1 if (('hedacos' == 1) and ('hedbsos' == 1)) or (('hedacos' == 2) and ('hedbmos' == 2)) or (('hedacos' == 2) and ('hedbmos' == 3)) or ('hedibos' == 1) else 0"
   ]
  },
  {
   "cell_type": "code",
   "execution_count": 74,
   "metadata": {},
   "outputs": [],
   "source": [
    "def calc_morbidity_chr_ca (sbj) -> [0, 1]:\n",
    "    return 1 if (('hedacca' == 1) and ('hedbsca' == 1)) or (('hedacca' == 2) and ('hedbmca' == 2)) or (('hedacca' == 2) and ('hedbmca' == 3)) or ('hedibca' == 1) else 0"
   ]
  },
  {
   "cell_type": "code",
   "execution_count": 75,
   "metadata": {},
   "outputs": [],
   "source": [
    "def calc_morbidity_chr_pd (sbj) -> [0, 1]:\n",
    "    return 1 if (('hedacpd' == 1) and ('hedbspd' == 1)) or (('hedacpd' == 2) and ('hedbmpd' == 2)) or (('hedacpd' == 2) and ('hedbmpd' == 3)) or ('hedibpd' == 1) else 0"
   ]
  },
  {
   "cell_type": "code",
   "execution_count": 76,
   "metadata": {},
   "outputs": [],
   "source": [
    "def calc_morbidity_chr_ps (sbj) -> [0, 1]:\n",
    "    return 1 if (('hedacps' == 1) and ('hedbsps' == 1)) or (('hedacps' == 2) and ('hedbmps' == 2)) or (('hedacps' == 2) and ('hedbmps' == 3)) or ('hedibps' == 1) else 0"
   ]
  },
  {
   "cell_type": "code",
   "execution_count": 77,
   "metadata": {},
   "outputs": [],
   "source": [
    "def calc_morbidity_chr_ad (sbj) -> [0, 1]:\n",
    "    return 1 if (('hedacad' == 1) and ('hedbsad' == 1)) or (('hedacad' == 2) and ('hedbmad' == 2)) or (('hedacad' == 2) and ('hedbmad' == 3)) or ('hedibad' == 1) else 0"
   ]
  },
  {
   "cell_type": "code",
   "execution_count": 78,
   "metadata": {},
   "outputs": [],
   "source": [
    "def calc_morbidity_chr_de (sbj) -> [0, 1]:\n",
    "    return 1 if (('hedacde' == 1) and ('hedbsde' == 1)) or (('hedacde' == 2) and ('hedbmde' == 2)) or (('hedacde' == 2) and ('hedbmde' == 3)) or ('hedibde' == 1) else 0"
   ]
  },
  {
   "cell_type": "code",
   "execution_count": 79,
   "metadata": {},
   "outputs": [],
   "source": [
    "def calc_morbidity_chr_bl (sbj) -> [0, 1]:\n",
    "    return 1 if (('hedacbl' == 1) and ('hedbsbl' == 1)) or (('hedacbl' == 2) and ('hedbmbl' == 2)) or (('hedacbl' == 2) and ('hedbmbl' == 3)) or ('hedibbl' == 1) else 0"
   ]
  },
  {
   "cell_type": "code",
   "execution_count": 80,
   "metadata": {},
   "outputs": [],
   "source": [
    "# def calc_morbidity_cvd_w6 (sbj, item) -> List[int]\n",
    "#    calc_morbidity[col] for col[sbj] in "
   ]
  },
  {
   "cell_type": "code",
   "execution_count": 81,
   "metadata": {},
   "outputs": [
    {
     "data": {
      "text/html": [
       "<div>\n",
       "<style scoped>\n",
       "    .dataframe tbody tr th:only-of-type {\n",
       "        vertical-align: middle;\n",
       "    }\n",
       "\n",
       "    .dataframe tbody tr th {\n",
       "        vertical-align: top;\n",
       "    }\n",
       "\n",
       "    .dataframe thead th {\n",
       "        text-align: right;\n",
       "    }\n",
       "</style>\n",
       "<table border=\"1\" class=\"dataframe\">\n",
       "  <thead>\n",
       "    <tr style=\"text-align: right;\">\n",
       "      <th></th>\n",
       "      <th>0</th>\n",
       "      <th>1</th>\n",
       "      <th>2</th>\n",
       "      <th>3</th>\n",
       "      <th>4</th>\n",
       "      <th>5</th>\n",
       "      <th>6</th>\n",
       "      <th>7</th>\n",
       "      <th>8</th>\n",
       "      <th>9</th>\n",
       "    </tr>\n",
       "  </thead>\n",
       "  <tbody>\n",
       "    <tr>\n",
       "      <th>0</th>\n",
       "      <td>0</td>\n",
       "      <td>0</td>\n",
       "      <td>0</td>\n",
       "      <td>0</td>\n",
       "      <td>0</td>\n",
       "      <td>0</td>\n",
       "      <td>0</td>\n",
       "      <td>0</td>\n",
       "      <td>0</td>\n",
       "      <td>0</td>\n",
       "    </tr>\n",
       "    <tr>\n",
       "      <th>1</th>\n",
       "      <td>0</td>\n",
       "      <td>0</td>\n",
       "      <td>0</td>\n",
       "      <td>0</td>\n",
       "      <td>0</td>\n",
       "      <td>0</td>\n",
       "      <td>0</td>\n",
       "      <td>0</td>\n",
       "      <td>0</td>\n",
       "      <td>0</td>\n",
       "    </tr>\n",
       "    <tr>\n",
       "      <th>2</th>\n",
       "      <td>0</td>\n",
       "      <td>0</td>\n",
       "      <td>0</td>\n",
       "      <td>0</td>\n",
       "      <td>0</td>\n",
       "      <td>0</td>\n",
       "      <td>0</td>\n",
       "      <td>0</td>\n",
       "      <td>0</td>\n",
       "      <td>0</td>\n",
       "    </tr>\n",
       "    <tr>\n",
       "      <th>3</th>\n",
       "      <td>0</td>\n",
       "      <td>0</td>\n",
       "      <td>0</td>\n",
       "      <td>0</td>\n",
       "      <td>0</td>\n",
       "      <td>0</td>\n",
       "      <td>0</td>\n",
       "      <td>0</td>\n",
       "      <td>0</td>\n",
       "      <td>0</td>\n",
       "    </tr>\n",
       "    <tr>\n",
       "      <th>4</th>\n",
       "      <td>0</td>\n",
       "      <td>0</td>\n",
       "      <td>0</td>\n",
       "      <td>0</td>\n",
       "      <td>0</td>\n",
       "      <td>0</td>\n",
       "      <td>0</td>\n",
       "      <td>0</td>\n",
       "      <td>0</td>\n",
       "      <td>0</td>\n",
       "    </tr>\n",
       "    <tr>\n",
       "      <th>...</th>\n",
       "      <td>...</td>\n",
       "      <td>...</td>\n",
       "      <td>...</td>\n",
       "      <td>...</td>\n",
       "      <td>...</td>\n",
       "      <td>...</td>\n",
       "      <td>...</td>\n",
       "      <td>...</td>\n",
       "      <td>...</td>\n",
       "      <td>...</td>\n",
       "    </tr>\n",
       "    <tr>\n",
       "      <th>88</th>\n",
       "      <td>0</td>\n",
       "      <td>0</td>\n",
       "      <td>0</td>\n",
       "      <td>0</td>\n",
       "      <td>0</td>\n",
       "      <td>0</td>\n",
       "      <td>0</td>\n",
       "      <td>0</td>\n",
       "      <td>0</td>\n",
       "      <td>0</td>\n",
       "    </tr>\n",
       "    <tr>\n",
       "      <th>90</th>\n",
       "      <td>0</td>\n",
       "      <td>0</td>\n",
       "      <td>0</td>\n",
       "      <td>0</td>\n",
       "      <td>0</td>\n",
       "      <td>0</td>\n",
       "      <td>0</td>\n",
       "      <td>0</td>\n",
       "      <td>0</td>\n",
       "      <td>0</td>\n",
       "    </tr>\n",
       "    <tr>\n",
       "      <th>92</th>\n",
       "      <td>0</td>\n",
       "      <td>0</td>\n",
       "      <td>0</td>\n",
       "      <td>0</td>\n",
       "      <td>0</td>\n",
       "      <td>0</td>\n",
       "      <td>0</td>\n",
       "      <td>0</td>\n",
       "      <td>0</td>\n",
       "      <td>0</td>\n",
       "    </tr>\n",
       "    <tr>\n",
       "      <th>94</th>\n",
       "      <td>0</td>\n",
       "      <td>0</td>\n",
       "      <td>0</td>\n",
       "      <td>0</td>\n",
       "      <td>0</td>\n",
       "      <td>0</td>\n",
       "      <td>0</td>\n",
       "      <td>0</td>\n",
       "      <td>0</td>\n",
       "      <td>0</td>\n",
       "    </tr>\n",
       "    <tr>\n",
       "      <th>95</th>\n",
       "      <td>0</td>\n",
       "      <td>0</td>\n",
       "      <td>0</td>\n",
       "      <td>0</td>\n",
       "      <td>0</td>\n",
       "      <td>0</td>\n",
       "      <td>0</td>\n",
       "      <td>0</td>\n",
       "      <td>0</td>\n",
       "      <td>0</td>\n",
       "    </tr>\n",
       "  </tbody>\n",
       "</table>\n",
       "<p>84 rows × 10 columns</p>\n",
       "</div>"
      ],
      "text/plain": [
       "    0  1  2  3  4  5  6  7  8  9\n",
       "0   0  0  0  0  0  0  0  0  0  0\n",
       "1   0  0  0  0  0  0  0  0  0  0\n",
       "2   0  0  0  0  0  0  0  0  0  0\n",
       "3   0  0  0  0  0  0  0  0  0  0\n",
       "4   0  0  0  0  0  0  0  0  0  0\n",
       ".. .. .. .. .. .. .. .. .. .. ..\n",
       "88  0  0  0  0  0  0  0  0  0  0\n",
       "90  0  0  0  0  0  0  0  0  0  0\n",
       "92  0  0  0  0  0  0  0  0  0  0\n",
       "94  0  0  0  0  0  0  0  0  0  0\n",
       "95  0  0  0  0  0  0  0  0  0  0\n",
       "\n",
       "[84 rows x 10 columns]"
      ]
     },
     "execution_count": 81,
     "metadata": {},
     "output_type": "execute_result"
    }
   ],
   "source": [
    "morbidity_cvd_bp_w6 = w6_first_cleaned_df.apply(calc_morbidity_cvd_bp, axis=1)\n",
    "morbidity_cvd_an_w6 = w6_first_cleaned_df.apply(calc_morbidity_cvd_an, axis=1)\n",
    "morbidity_cvd_mi_w6 = w6_first_cleaned_df.apply(calc_morbidity_cvd_mi, axis=1)\n",
    "morbidity_cvd_hf_w6 = w6_first_cleaned_df.apply(calc_morbidity_cvd_hf, axis=1)\n",
    "morbidity_cvd_hm_w6 = w6_first_cleaned_df.apply(calc_morbidity_cvd_hm, axis=1)\n",
    "morbidity_cvd_ar_w6 = w6_first_cleaned_df.apply(calc_morbidity_cvd_ar, axis=1)\n",
    "morbidity_cvd_di_w6 = w6_first_cleaned_df.apply(calc_morbidity_cvd_di, axis=1)\n",
    "morbidity_cvd_st_w6 = w6_first_cleaned_df.apply(calc_morbidity_cvd_st, axis=1)\n",
    "morbidity_cvd_ch_w6 = w6_first_cleaned_df.apply(calc_morbidity_cvd_ch, axis=1)\n",
    "morbidity_cvd_95_w6 = w6_first_cleaned_df.apply(calc_morbidity_cvd_95, axis=1)\n",
    "\n",
    "morbidity_cvd_w6_df = pd.DataFrame([morbidity_cvd_bp_w6, \n",
    "                             morbidity_cvd_an_w6,\n",
    "                             morbidity_cvd_mi_w6,\n",
    "                             morbidity_cvd_hf_w6,\n",
    "                             morbidity_cvd_hm_w6,\n",
    "                             morbidity_cvd_ar_w6,\n",
    "                             morbidity_cvd_di_w6,\n",
    "                             morbidity_cvd_st_w6,\n",
    "                             morbidity_cvd_ch_w6,\n",
    "                             morbidity_cvd_95_w6]).transpose()\n",
    "\n",
    "morbidity_cvd_w6_df"
   ]
  },
  {
   "cell_type": "code",
   "execution_count": 82,
   "metadata": {},
   "outputs": [
    {
     "data": {
      "text/html": [
       "<div>\n",
       "<style scoped>\n",
       "    .dataframe tbody tr th:only-of-type {\n",
       "        vertical-align: middle;\n",
       "    }\n",
       "\n",
       "    .dataframe tbody tr th {\n",
       "        vertical-align: top;\n",
       "    }\n",
       "\n",
       "    .dataframe thead th {\n",
       "        text-align: right;\n",
       "    }\n",
       "</style>\n",
       "<table border=\"1\" class=\"dataframe\">\n",
       "  <thead>\n",
       "    <tr style=\"text-align: right;\">\n",
       "      <th></th>\n",
       "      <th>0</th>\n",
       "      <th>1</th>\n",
       "      <th>2</th>\n",
       "      <th>3</th>\n",
       "      <th>4</th>\n",
       "      <th>5</th>\n",
       "      <th>6</th>\n",
       "      <th>7</th>\n",
       "      <th>8</th>\n",
       "      <th>9</th>\n",
       "    </tr>\n",
       "  </thead>\n",
       "  <tbody>\n",
       "    <tr>\n",
       "      <th>0</th>\n",
       "      <td>0</td>\n",
       "      <td>0</td>\n",
       "      <td>0</td>\n",
       "      <td>0</td>\n",
       "      <td>0</td>\n",
       "      <td>0</td>\n",
       "      <td>0</td>\n",
       "      <td>0</td>\n",
       "      <td>0</td>\n",
       "      <td>0</td>\n",
       "    </tr>\n",
       "    <tr>\n",
       "      <th>1</th>\n",
       "      <td>0</td>\n",
       "      <td>0</td>\n",
       "      <td>0</td>\n",
       "      <td>0</td>\n",
       "      <td>0</td>\n",
       "      <td>0</td>\n",
       "      <td>0</td>\n",
       "      <td>0</td>\n",
       "      <td>0</td>\n",
       "      <td>0</td>\n",
       "    </tr>\n",
       "    <tr>\n",
       "      <th>2</th>\n",
       "      <td>0</td>\n",
       "      <td>0</td>\n",
       "      <td>0</td>\n",
       "      <td>0</td>\n",
       "      <td>0</td>\n",
       "      <td>0</td>\n",
       "      <td>0</td>\n",
       "      <td>0</td>\n",
       "      <td>0</td>\n",
       "      <td>0</td>\n",
       "    </tr>\n",
       "    <tr>\n",
       "      <th>3</th>\n",
       "      <td>0</td>\n",
       "      <td>0</td>\n",
       "      <td>0</td>\n",
       "      <td>0</td>\n",
       "      <td>0</td>\n",
       "      <td>0</td>\n",
       "      <td>0</td>\n",
       "      <td>0</td>\n",
       "      <td>0</td>\n",
       "      <td>0</td>\n",
       "    </tr>\n",
       "    <tr>\n",
       "      <th>4</th>\n",
       "      <td>0</td>\n",
       "      <td>0</td>\n",
       "      <td>0</td>\n",
       "      <td>0</td>\n",
       "      <td>0</td>\n",
       "      <td>0</td>\n",
       "      <td>0</td>\n",
       "      <td>0</td>\n",
       "      <td>0</td>\n",
       "      <td>0</td>\n",
       "    </tr>\n",
       "    <tr>\n",
       "      <th>...</th>\n",
       "      <td>...</td>\n",
       "      <td>...</td>\n",
       "      <td>...</td>\n",
       "      <td>...</td>\n",
       "      <td>...</td>\n",
       "      <td>...</td>\n",
       "      <td>...</td>\n",
       "      <td>...</td>\n",
       "      <td>...</td>\n",
       "      <td>...</td>\n",
       "    </tr>\n",
       "    <tr>\n",
       "      <th>88</th>\n",
       "      <td>0</td>\n",
       "      <td>0</td>\n",
       "      <td>0</td>\n",
       "      <td>0</td>\n",
       "      <td>0</td>\n",
       "      <td>0</td>\n",
       "      <td>0</td>\n",
       "      <td>0</td>\n",
       "      <td>0</td>\n",
       "      <td>0</td>\n",
       "    </tr>\n",
       "    <tr>\n",
       "      <th>90</th>\n",
       "      <td>0</td>\n",
       "      <td>0</td>\n",
       "      <td>0</td>\n",
       "      <td>0</td>\n",
       "      <td>0</td>\n",
       "      <td>0</td>\n",
       "      <td>0</td>\n",
       "      <td>0</td>\n",
       "      <td>0</td>\n",
       "      <td>0</td>\n",
       "    </tr>\n",
       "    <tr>\n",
       "      <th>92</th>\n",
       "      <td>0</td>\n",
       "      <td>0</td>\n",
       "      <td>0</td>\n",
       "      <td>0</td>\n",
       "      <td>0</td>\n",
       "      <td>0</td>\n",
       "      <td>0</td>\n",
       "      <td>0</td>\n",
       "      <td>0</td>\n",
       "      <td>0</td>\n",
       "    </tr>\n",
       "    <tr>\n",
       "      <th>94</th>\n",
       "      <td>0</td>\n",
       "      <td>0</td>\n",
       "      <td>0</td>\n",
       "      <td>0</td>\n",
       "      <td>0</td>\n",
       "      <td>0</td>\n",
       "      <td>0</td>\n",
       "      <td>0</td>\n",
       "      <td>0</td>\n",
       "      <td>0</td>\n",
       "    </tr>\n",
       "    <tr>\n",
       "      <th>95</th>\n",
       "      <td>0</td>\n",
       "      <td>0</td>\n",
       "      <td>0</td>\n",
       "      <td>0</td>\n",
       "      <td>0</td>\n",
       "      <td>0</td>\n",
       "      <td>0</td>\n",
       "      <td>0</td>\n",
       "      <td>0</td>\n",
       "      <td>0</td>\n",
       "    </tr>\n",
       "  </tbody>\n",
       "</table>\n",
       "<p>84 rows × 10 columns</p>\n",
       "</div>"
      ],
      "text/plain": [
       "    0  1  2  3  4  5  6  7  8  9\n",
       "0   0  0  0  0  0  0  0  0  0  0\n",
       "1   0  0  0  0  0  0  0  0  0  0\n",
       "2   0  0  0  0  0  0  0  0  0  0\n",
       "3   0  0  0  0  0  0  0  0  0  0\n",
       "4   0  0  0  0  0  0  0  0  0  0\n",
       ".. .. .. .. .. .. .. .. .. .. ..\n",
       "88  0  0  0  0  0  0  0  0  0  0\n",
       "90  0  0  0  0  0  0  0  0  0  0\n",
       "92  0  0  0  0  0  0  0  0  0  0\n",
       "94  0  0  0  0  0  0  0  0  0  0\n",
       "95  0  0  0  0  0  0  0  0  0  0\n",
       "\n",
       "[84 rows x 10 columns]"
      ]
     },
     "execution_count": 82,
     "metadata": {},
     "output_type": "execute_result"
    }
   ],
   "source": [
    "morbidity_chr_lu_w6 = w6_first_cleaned_df.apply(calc_morbidity_chr_lu, axis=1)\n",
    "morbidity_chr_as_w6 = w6_first_cleaned_df.apply(calc_morbidity_chr_as, axis=1)\n",
    "morbidity_chr_ar_w6 = w6_first_cleaned_df.apply(calc_morbidity_chr_ar, axis=1)\n",
    "morbidity_chr_os_w6 = w6_first_cleaned_df.apply(calc_morbidity_chr_os, axis=1)\n",
    "morbidity_chr_ca_w6 = w6_first_cleaned_df.apply(calc_morbidity_chr_ca, axis=1)\n",
    "morbidity_chr_pd_w6 = w6_first_cleaned_df.apply(calc_morbidity_chr_pd, axis=1)\n",
    "morbidity_chr_ps_w6 = w6_first_cleaned_df.apply(calc_morbidity_chr_ps, axis=1)\n",
    "morbidity_chr_ad_w6 = w6_first_cleaned_df.apply(calc_morbidity_chr_ad, axis=1)\n",
    "morbidity_chr_de_w6 = w6_first_cleaned_df.apply(calc_morbidity_chr_de, axis=1)\n",
    "morbidity_chr_bl_w6 = w6_first_cleaned_df.apply(calc_morbidity_chr_bl, axis=1)\n",
    "\n",
    "morbidity_chr_w6_df = pd.DataFrame([morbidity_chr_lu_w6,\n",
    "                             morbidity_chr_as_w6,\n",
    "                             morbidity_chr_ar_w6,\n",
    "                             morbidity_chr_os_w6,\n",
    "                             morbidity_chr_ca_w6,\n",
    "                             morbidity_chr_pd_w6,\n",
    "                             morbidity_chr_ps_w6,\n",
    "                             morbidity_chr_ad_w6,\n",
    "                             morbidity_chr_de_w6,       \n",
    "                             morbidity_chr_bl_w6]).transpose()\n",
    "\n",
    "morbidity_chr_w6_df"
   ]
  },
  {
   "cell_type": "code",
   "execution_count": 83,
   "metadata": {},
   "outputs": [],
   "source": [
    "def calc_multimorbidity (sbj) -> [0, 1]:\n",
    "    return 1 if sbj.sum() > 1 else 0"
   ]
  },
  {
   "cell_type": "code",
   "execution_count": 84,
   "metadata": {},
   "outputs": [],
   "source": [
    "multimorbidity_cvd_w6_df = morbidity_cvd_w6_df.apply(calc_multimorbidity, axis=1)"
   ]
  },
  {
   "cell_type": "code",
   "execution_count": 85,
   "metadata": {},
   "outputs": [
    {
     "data": {
      "text/plain": [
       "0     0\n",
       "1     0\n",
       "2     0\n",
       "3     0\n",
       "4     0\n",
       "     ..\n",
       "88    0\n",
       "90    0\n",
       "92    0\n",
       "94    0\n",
       "95    0\n",
       "Length: 84, dtype: int64"
      ]
     },
     "execution_count": 85,
     "metadata": {},
     "output_type": "execute_result"
    }
   ],
   "source": [
    "multimorbidity_cvd_w6_df"
   ]
  },
  {
   "cell_type": "code",
   "execution_count": 86,
   "metadata": {},
   "outputs": [
    {
     "data": {
      "text/plain": [
       "0"
      ]
     },
     "execution_count": 86,
     "metadata": {},
     "output_type": "execute_result"
    }
   ],
   "source": [
    "sbj = morbidity_cvd_w6_df.iloc[0]\n",
    "sbj\n",
    "calc_multimorbidity(sbj)"
   ]
  },
  {
   "cell_type": "code",
   "execution_count": 87,
   "metadata": {},
   "outputs": [],
   "source": [
    "multimorbidity_chr_w6_df = morbidity_chr_w6_df.apply(calc_multimorbidity, axis=1)"
   ]
  },
  {
   "cell_type": "code",
   "execution_count": 88,
   "metadata": {},
   "outputs": [
    {
     "data": {
      "text/plain": [
       "0"
      ]
     },
     "execution_count": 88,
     "metadata": {},
     "output_type": "execute_result"
    }
   ],
   "source": [
    "sbj = morbidity_chr_w6_df.iloc[0]\n",
    "sbj\n",
    "calc_multimorbidity(sbj)"
   ]
  },
  {
   "cell_type": "markdown",
   "metadata": {},
   "source": [
    "### 5.2) Ola 8"
   ]
  },
  {
   "cell_type": "markdown",
   "metadata": {},
   "source": [
    "- Cuestionario CASP-19 en ola 8"
   ]
  },
  {
   "cell_type": "code",
   "execution_count": 89,
   "metadata": {},
   "outputs": [],
   "source": [
    "items_casp19_w8_df = w8_first_cleaned_df.apply(transform_casp19_items, axis=1, result_type='expand')"
   ]
  },
  {
   "cell_type": "code",
   "execution_count": 90,
   "metadata": {},
   "outputs": [],
   "source": [
    "casp19_w8 = w8_first_cleaned_df.apply(calc_casp19, axis=1)"
   ]
  },
  {
   "cell_type": "code",
   "execution_count": 91,
   "metadata": {},
   "outputs": [
    {
     "data": {
      "text/plain": [
       "0     31.0\n",
       "1     28.0\n",
       "2     44.0\n",
       "3     41.0\n",
       "4     54.0\n",
       "5     48.0\n",
       "6     49.0\n",
       "7     40.0\n",
       "8     48.0\n",
       "10    44.0\n",
       "11    39.0\n",
       "12    36.0\n",
       "13    42.0\n",
       "14    44.0\n",
       "15    38.0\n",
       "16    45.0\n",
       "17    46.0\n",
       "18    67.0\n",
       "19    54.0\n",
       "21    36.0\n",
       "22    45.0\n",
       "24    36.0\n",
       "25    44.0\n",
       "26    33.0\n",
       "27    33.0\n",
       "29    26.0\n",
       "30    47.0\n",
       "31    55.0\n",
       "32    48.0\n",
       "33    47.0\n",
       "34    37.0\n",
       "36    37.0\n",
       "37    34.0\n",
       "38    44.0\n",
       "40    38.0\n",
       "41    20.0\n",
       "42    14.0\n",
       "43    45.0\n",
       "44    43.0\n",
       "45    29.0\n",
       "46    54.0\n",
       "48    20.0\n",
       "49    56.0\n",
       "53    46.0\n",
       "54    44.0\n",
       "55    52.0\n",
       "56    54.0\n",
       "58    50.0\n",
       "59    49.0\n",
       "60    44.0\n",
       "61    43.0\n",
       "65    48.0\n",
       "67    26.0\n",
       "69    55.0\n",
       "70    52.0\n",
       "71    33.0\n",
       "72    51.0\n",
       "73    49.0\n",
       "74    55.0\n",
       "dtype: float64"
      ]
     },
     "execution_count": 91,
     "metadata": {},
     "output_type": "execute_result"
    }
   ],
   "source": [
    "casp19_w8"
   ]
  },
  {
   "cell_type": "markdown",
   "metadata": {},
   "source": [
    "## 6) Análisis factoriales de los primeros cuestionarios (*Casp-19* e *Isolation*)"
   ]
  },
  {
   "cell_type": "markdown",
   "metadata": {},
   "source": [
    "### 6.1) Ola 6"
   ]
  },
  {
   "cell_type": "markdown",
   "metadata": {},
   "source": [
    "- Casp-19 "
   ]
  },
  {
   "cell_type": "markdown",
   "metadata": {},
   "source": [
    "#### Confirmatorio con Semopy"
   ]
  },
  {
   "cell_type": "markdown",
   "metadata": {},
   "source": [
    "##### Especificación del modelo "
   ]
  },
  {
   "cell_type": "code",
   "execution_count": 92,
   "metadata": {},
   "outputs": [],
   "source": [
    "casp19_mod = \"\"\" control ~~ autonomy \n",
    "                 control ~~ pleasure\n",
    "                 control ~~ self_realization\n",
    "                 autonomy ~~ pleasure\n",
    "                 autonomy ~~ self_realization \n",
    "                 pleasure ~~ self_realization\n",
    "    \n",
    "                 control =~ scqola + scqolb + scqolc + scqold \n",
    "                 autonomy =~ scqole + scqolf + scqolg + scqolh + scqoli\n",
    "                 pleasure =~ scqolj + scqolk + scqoll + scqolm + scqoln\n",
    "                 self_realization =~ scqolo + scqolp + scqolq + scqolr + scqols\n",
    "             \"\"\""
   ]
  },
  {
   "cell_type": "code",
   "execution_count": 93,
   "metadata": {},
   "outputs": [],
   "source": [
    "casp19_sem_w6 = Model(casp19_mod)"
   ]
  },
  {
   "cell_type": "code",
   "execution_count": 94,
   "metadata": {},
   "outputs": [],
   "source": [
    "casp19_sem_w6.load_dataset(w6_first_cleaned_df)"
   ]
  },
  {
   "cell_type": "markdown",
   "metadata": {},
   "source": [
    "Estimar los parámetros"
   ]
  },
  {
   "cell_type": "code",
   "execution_count": 95,
   "metadata": {},
   "outputs": [],
   "source": [
    "opt_casp19_sem_w6 = Optimizer(casp19_sem_w6)\n",
    "casp19_sem_w6_objective_function_value = opt_casp19_sem_w6.optimize()\n",
    "# opt_casp19_sem_w6.optimize(objective='ULS')\n",
    "# opt_casp19_sem_w6.optimize(objective='GLS')\n",
    "# opt_casp19_sem_w6.optimize(objective='MLW')"
   ]
  },
  {
   "cell_type": "code",
   "execution_count": 96,
   "metadata": {},
   "outputs": [
    {
     "data": {
      "text/html": [
       "<div>\n",
       "<style scoped>\n",
       "    .dataframe tbody tr th:only-of-type {\n",
       "        vertical-align: middle;\n",
       "    }\n",
       "\n",
       "    .dataframe tbody tr th {\n",
       "        vertical-align: top;\n",
       "    }\n",
       "\n",
       "    .dataframe thead th {\n",
       "        text-align: right;\n",
       "    }\n",
       "</style>\n",
       "<table border=\"1\" class=\"dataframe\">\n",
       "  <thead>\n",
       "    <tr style=\"text-align: right;\">\n",
       "      <th></th>\n",
       "      <th>lval</th>\n",
       "      <th>op</th>\n",
       "      <th>rval</th>\n",
       "      <th>Value</th>\n",
       "      <th>SE</th>\n",
       "      <th>Z-score</th>\n",
       "      <th>P-value</th>\n",
       "    </tr>\n",
       "  </thead>\n",
       "  <tbody>\n",
       "    <tr>\n",
       "      <th>3</th>\n",
       "      <td>autonomy</td>\n",
       "      <td>=~</td>\n",
       "      <td>scqolf</td>\n",
       "      <td>-0.252532</td>\n",
       "      <td>0.417626</td>\n",
       "      <td>-0.604686</td>\n",
       "      <td>5.453878e-01</td>\n",
       "    </tr>\n",
       "    <tr>\n",
       "      <th>4</th>\n",
       "      <td>autonomy</td>\n",
       "      <td>=~</td>\n",
       "      <td>scqolg</td>\n",
       "      <td>1.276919</td>\n",
       "      <td>0.981818</td>\n",
       "      <td>1.300566</td>\n",
       "      <td>1.934071e-01</td>\n",
       "    </tr>\n",
       "    <tr>\n",
       "      <th>5</th>\n",
       "      <td>autonomy</td>\n",
       "      <td>=~</td>\n",
       "      <td>scqolh</td>\n",
       "      <td>-2.748239</td>\n",
       "      <td>1.738773</td>\n",
       "      <td>-1.580562</td>\n",
       "      <td>1.139781e-01</td>\n",
       "    </tr>\n",
       "    <tr>\n",
       "      <th>6</th>\n",
       "      <td>autonomy</td>\n",
       "      <td>=~</td>\n",
       "      <td>scqoli</td>\n",
       "      <td>-1.023782</td>\n",
       "      <td>0.762897</td>\n",
       "      <td>-1.341966</td>\n",
       "      <td>1.796070e-01</td>\n",
       "    </tr>\n",
       "    <tr>\n",
       "      <th>0</th>\n",
       "      <td>control</td>\n",
       "      <td>=~</td>\n",
       "      <td>scqolb</td>\n",
       "      <td>0.777992</td>\n",
       "      <td>0.311266</td>\n",
       "      <td>2.499441</td>\n",
       "      <td>1.243892e-02</td>\n",
       "    </tr>\n",
       "    <tr>\n",
       "      <th>1</th>\n",
       "      <td>control</td>\n",
       "      <td>=~</td>\n",
       "      <td>scqolc</td>\n",
       "      <td>-1.160867</td>\n",
       "      <td>0.215950</td>\n",
       "      <td>-5.375628</td>\n",
       "      <td>7.631603e-08</td>\n",
       "    </tr>\n",
       "    <tr>\n",
       "      <th>2</th>\n",
       "      <td>control</td>\n",
       "      <td>=~</td>\n",
       "      <td>scqold</td>\n",
       "      <td>0.930487</td>\n",
       "      <td>0.199499</td>\n",
       "      <td>4.664116</td>\n",
       "      <td>3.099471e-06</td>\n",
       "    </tr>\n",
       "    <tr>\n",
       "      <th>7</th>\n",
       "      <td>pleasure</td>\n",
       "      <td>=~</td>\n",
       "      <td>scqolk</td>\n",
       "      <td>0.973957</td>\n",
       "      <td>0.102083</td>\n",
       "      <td>9.540822</td>\n",
       "      <td>0.000000e+00</td>\n",
       "    </tr>\n",
       "    <tr>\n",
       "      <th>8</th>\n",
       "      <td>pleasure</td>\n",
       "      <td>=~</td>\n",
       "      <td>scqoll</td>\n",
       "      <td>0.537483</td>\n",
       "      <td>0.074628</td>\n",
       "      <td>7.202153</td>\n",
       "      <td>5.926371e-13</td>\n",
       "    </tr>\n",
       "    <tr>\n",
       "      <th>9</th>\n",
       "      <td>pleasure</td>\n",
       "      <td>=~</td>\n",
       "      <td>scqolm</td>\n",
       "      <td>0.360850</td>\n",
       "      <td>0.082767</td>\n",
       "      <td>4.359824</td>\n",
       "      <td>1.301668e-05</td>\n",
       "    </tr>\n",
       "    <tr>\n",
       "      <th>10</th>\n",
       "      <td>pleasure</td>\n",
       "      <td>=~</td>\n",
       "      <td>scqoln</td>\n",
       "      <td>0.861123</td>\n",
       "      <td>0.105561</td>\n",
       "      <td>8.157590</td>\n",
       "      <td>4.440892e-16</td>\n",
       "    </tr>\n",
       "    <tr>\n",
       "      <th>11</th>\n",
       "      <td>self_realization</td>\n",
       "      <td>=~</td>\n",
       "      <td>scqolp</td>\n",
       "      <td>0.665375</td>\n",
       "      <td>0.128927</td>\n",
       "      <td>5.160851</td>\n",
       "      <td>2.458301e-07</td>\n",
       "    </tr>\n",
       "    <tr>\n",
       "      <th>12</th>\n",
       "      <td>self_realization</td>\n",
       "      <td>=~</td>\n",
       "      <td>scqolq</td>\n",
       "      <td>0.804547</td>\n",
       "      <td>0.120255</td>\n",
       "      <td>6.690347</td>\n",
       "      <td>2.226419e-11</td>\n",
       "    </tr>\n",
       "    <tr>\n",
       "      <th>13</th>\n",
       "      <td>self_realization</td>\n",
       "      <td>=~</td>\n",
       "      <td>scqolr</td>\n",
       "      <td>0.965619</td>\n",
       "      <td>0.131633</td>\n",
       "      <td>7.335694</td>\n",
       "      <td>2.204903e-13</td>\n",
       "    </tr>\n",
       "    <tr>\n",
       "      <th>14</th>\n",
       "      <td>self_realization</td>\n",
       "      <td>=~</td>\n",
       "      <td>scqols</td>\n",
       "      <td>1.044136</td>\n",
       "      <td>0.233941</td>\n",
       "      <td>4.463241</td>\n",
       "      <td>8.072931e-06</td>\n",
       "    </tr>\n",
       "    <tr>\n",
       "      <th>15</th>\n",
       "      <td>autonomy</td>\n",
       "      <td>~~</td>\n",
       "      <td>autonomy</td>\n",
       "      <td>0.046490</td>\n",
       "      <td>0.061921</td>\n",
       "      <td>0.750793</td>\n",
       "      <td>4.527775e-01</td>\n",
       "    </tr>\n",
       "    <tr>\n",
       "      <th>16</th>\n",
       "      <td>autonomy</td>\n",
       "      <td>~~</td>\n",
       "      <td>pleasure</td>\n",
       "      <td>0.097581</td>\n",
       "      <td>0.065219</td>\n",
       "      <td>1.496193</td>\n",
       "      <td>1.346033e-01</td>\n",
       "    </tr>\n",
       "    <tr>\n",
       "      <th>17</th>\n",
       "      <td>autonomy</td>\n",
       "      <td>~~</td>\n",
       "      <td>self_realization</td>\n",
       "      <td>0.159472</td>\n",
       "      <td>0.102378</td>\n",
       "      <td>1.557670</td>\n",
       "      <td>1.193115e-01</td>\n",
       "    </tr>\n",
       "    <tr>\n",
       "      <th>18</th>\n",
       "      <td>control</td>\n",
       "      <td>~~</td>\n",
       "      <td>autonomy</td>\n",
       "      <td>-0.155446</td>\n",
       "      <td>0.100901</td>\n",
       "      <td>-1.540573</td>\n",
       "      <td>1.234208e-01</td>\n",
       "    </tr>\n",
       "    <tr>\n",
       "      <th>19</th>\n",
       "      <td>control</td>\n",
       "      <td>~~</td>\n",
       "      <td>control</td>\n",
       "      <td>0.350670</td>\n",
       "      <td>0.122029</td>\n",
       "      <td>2.873658</td>\n",
       "      <td>4.057478e-03</td>\n",
       "    </tr>\n",
       "    <tr>\n",
       "      <th>20</th>\n",
       "      <td>control</td>\n",
       "      <td>~~</td>\n",
       "      <td>pleasure</td>\n",
       "      <td>-0.261317</td>\n",
       "      <td>0.070096</td>\n",
       "      <td>-3.727998</td>\n",
       "      <td>1.930069e-04</td>\n",
       "    </tr>\n",
       "    <tr>\n",
       "      <th>21</th>\n",
       "      <td>control</td>\n",
       "      <td>~~</td>\n",
       "      <td>self_realization</td>\n",
       "      <td>-0.380345</td>\n",
       "      <td>0.092755</td>\n",
       "      <td>-4.100528</td>\n",
       "      <td>4.122079e-05</td>\n",
       "    </tr>\n",
       "    <tr>\n",
       "      <th>22</th>\n",
       "      <td>pleasure</td>\n",
       "      <td>~~</td>\n",
       "      <td>pleasure</td>\n",
       "      <td>0.389472</td>\n",
       "      <td>0.085235</td>\n",
       "      <td>4.569360</td>\n",
       "      <td>4.892150e-06</td>\n",
       "    </tr>\n",
       "    <tr>\n",
       "      <th>23</th>\n",
       "      <td>pleasure</td>\n",
       "      <td>~~</td>\n",
       "      <td>self_realization</td>\n",
       "      <td>0.370416</td>\n",
       "      <td>0.077693</td>\n",
       "      <td>4.767668</td>\n",
       "      <td>1.863704e-06</td>\n",
       "    </tr>\n",
       "    <tr>\n",
       "      <th>25</th>\n",
       "      <td>scqola</td>\n",
       "      <td>~~</td>\n",
       "      <td>scqola</td>\n",
       "      <td>0.604510</td>\n",
       "      <td>0.102808</td>\n",
       "      <td>5.879968</td>\n",
       "      <td>4.103449e-09</td>\n",
       "    </tr>\n",
       "    <tr>\n",
       "      <th>26</th>\n",
       "      <td>scqolb</td>\n",
       "      <td>~~</td>\n",
       "      <td>scqolb</td>\n",
       "      <td>2.115893</td>\n",
       "      <td>0.331310</td>\n",
       "      <td>6.386448</td>\n",
       "      <td>1.697833e-10</td>\n",
       "    </tr>\n",
       "    <tr>\n",
       "      <th>27</th>\n",
       "      <td>scqolc</td>\n",
       "      <td>~~</td>\n",
       "      <td>scqolc</td>\n",
       "      <td>0.338669</td>\n",
       "      <td>0.071056</td>\n",
       "      <td>4.766257</td>\n",
       "      <td>1.876802e-06</td>\n",
       "    </tr>\n",
       "    <tr>\n",
       "      <th>28</th>\n",
       "      <td>scqold</td>\n",
       "      <td>~~</td>\n",
       "      <td>scqold</td>\n",
       "      <td>0.477010</td>\n",
       "      <td>0.082047</td>\n",
       "      <td>5.813857</td>\n",
       "      <td>6.104967e-09</td>\n",
       "    </tr>\n",
       "    <tr>\n",
       "      <th>29</th>\n",
       "      <td>scqole</td>\n",
       "      <td>~~</td>\n",
       "      <td>scqole</td>\n",
       "      <td>1.796440</td>\n",
       "      <td>0.276846</td>\n",
       "      <td>6.488946</td>\n",
       "      <td>8.643886e-11</td>\n",
       "    </tr>\n",
       "    <tr>\n",
       "      <th>30</th>\n",
       "      <td>scqolf</td>\n",
       "      <td>~~</td>\n",
       "      <td>scqolf</td>\n",
       "      <td>0.719675</td>\n",
       "      <td>0.110974</td>\n",
       "      <td>6.485075</td>\n",
       "      <td>8.868772e-11</td>\n",
       "    </tr>\n",
       "    <tr>\n",
       "      <th>31</th>\n",
       "      <td>scqolg</td>\n",
       "      <td>~~</td>\n",
       "      <td>scqolg</td>\n",
       "      <td>1.671943</td>\n",
       "      <td>0.258565</td>\n",
       "      <td>6.466236</td>\n",
       "      <td>1.004745e-10</td>\n",
       "    </tr>\n",
       "    <tr>\n",
       "      <th>32</th>\n",
       "      <td>scqolh</td>\n",
       "      <td>~~</td>\n",
       "      <td>scqolh</td>\n",
       "      <td>0.810265</td>\n",
       "      <td>0.190879</td>\n",
       "      <td>4.244904</td>\n",
       "      <td>2.186872e-05</td>\n",
       "    </tr>\n",
       "    <tr>\n",
       "      <th>33</th>\n",
       "      <td>scqoli</td>\n",
       "      <td>~~</td>\n",
       "      <td>scqoli</td>\n",
       "      <td>0.894590</td>\n",
       "      <td>0.138749</td>\n",
       "      <td>6.447554</td>\n",
       "      <td>1.136695e-10</td>\n",
       "    </tr>\n",
       "    <tr>\n",
       "      <th>34</th>\n",
       "      <td>scqolj</td>\n",
       "      <td>~~</td>\n",
       "      <td>scqolj</td>\n",
       "      <td>0.169923</td>\n",
       "      <td>0.034489</td>\n",
       "      <td>4.926874</td>\n",
       "      <td>8.355572e-07</td>\n",
       "    </tr>\n",
       "    <tr>\n",
       "      <th>35</th>\n",
       "      <td>scqolk</td>\n",
       "      <td>~~</td>\n",
       "      <td>scqolk</td>\n",
       "      <td>0.118514</td>\n",
       "      <td>0.027103</td>\n",
       "      <td>4.372734</td>\n",
       "      <td>1.227001e-05</td>\n",
       "    </tr>\n",
       "    <tr>\n",
       "      <th>36</th>\n",
       "      <td>scqoll</td>\n",
       "      <td>~~</td>\n",
       "      <td>scqoll</td>\n",
       "      <td>0.110137</td>\n",
       "      <td>0.018980</td>\n",
       "      <td>5.802860</td>\n",
       "      <td>6.519339e-09</td>\n",
       "    </tr>\n",
       "    <tr>\n",
       "      <th>37</th>\n",
       "      <td>scqolm</td>\n",
       "      <td>~~</td>\n",
       "      <td>scqolm</td>\n",
       "      <td>0.178879</td>\n",
       "      <td>0.028416</td>\n",
       "      <td>6.295015</td>\n",
       "      <td>3.073708e-10</td>\n",
       "    </tr>\n",
       "    <tr>\n",
       "      <th>38</th>\n",
       "      <td>scqoln</td>\n",
       "      <td>~~</td>\n",
       "      <td>scqoln</td>\n",
       "      <td>0.187816</td>\n",
       "      <td>0.034457</td>\n",
       "      <td>5.450763</td>\n",
       "      <td>5.015431e-08</td>\n",
       "    </tr>\n",
       "    <tr>\n",
       "      <th>39</th>\n",
       "      <td>scqolo</td>\n",
       "      <td>~~</td>\n",
       "      <td>scqolo</td>\n",
       "      <td>0.316282</td>\n",
       "      <td>0.057605</td>\n",
       "      <td>5.490519</td>\n",
       "      <td>4.007544e-08</td>\n",
       "    </tr>\n",
       "    <tr>\n",
       "      <th>40</th>\n",
       "      <td>scqolp</td>\n",
       "      <td>~~</td>\n",
       "      <td>scqolp</td>\n",
       "      <td>0.448540</td>\n",
       "      <td>0.072338</td>\n",
       "      <td>6.200638</td>\n",
       "      <td>5.623457e-10</td>\n",
       "    </tr>\n",
       "    <tr>\n",
       "      <th>41</th>\n",
       "      <td>scqolq</td>\n",
       "      <td>~~</td>\n",
       "      <td>scqolq</td>\n",
       "      <td>0.302295</td>\n",
       "      <td>0.051752</td>\n",
       "      <td>5.841248</td>\n",
       "      <td>5.181109e-09</td>\n",
       "    </tr>\n",
       "    <tr>\n",
       "      <th>42</th>\n",
       "      <td>scqolr</td>\n",
       "      <td>~~</td>\n",
       "      <td>scqolr</td>\n",
       "      <td>0.309031</td>\n",
       "      <td>0.055759</td>\n",
       "      <td>5.542250</td>\n",
       "      <td>2.986097e-08</td>\n",
       "    </tr>\n",
       "    <tr>\n",
       "      <th>43</th>\n",
       "      <td>scqols</td>\n",
       "      <td>~~</td>\n",
       "      <td>scqols</td>\n",
       "      <td>1.599524</td>\n",
       "      <td>0.254303</td>\n",
       "      <td>6.289830</td>\n",
       "      <td>3.178133e-10</td>\n",
       "    </tr>\n",
       "    <tr>\n",
       "      <th>24</th>\n",
       "      <td>self_realization</td>\n",
       "      <td>~~</td>\n",
       "      <td>self_realization</td>\n",
       "      <td>0.465498</td>\n",
       "      <td>0.114485</td>\n",
       "      <td>4.066034</td>\n",
       "      <td>4.782005e-05</td>\n",
       "    </tr>\n",
       "  </tbody>\n",
       "</table>\n",
       "</div>"
      ],
      "text/plain": [
       "                lval  op              rval     Value        SE   Z-score  \\\n",
       "3           autonomy  =~            scqolf -0.252532  0.417626 -0.604686   \n",
       "4           autonomy  =~            scqolg  1.276919  0.981818  1.300566   \n",
       "5           autonomy  =~            scqolh -2.748239  1.738773 -1.580562   \n",
       "6           autonomy  =~            scqoli -1.023782  0.762897 -1.341966   \n",
       "0            control  =~            scqolb  0.777992  0.311266  2.499441   \n",
       "1            control  =~            scqolc -1.160867  0.215950 -5.375628   \n",
       "2            control  =~            scqold  0.930487  0.199499  4.664116   \n",
       "7           pleasure  =~            scqolk  0.973957  0.102083  9.540822   \n",
       "8           pleasure  =~            scqoll  0.537483  0.074628  7.202153   \n",
       "9           pleasure  =~            scqolm  0.360850  0.082767  4.359824   \n",
       "10          pleasure  =~            scqoln  0.861123  0.105561  8.157590   \n",
       "11  self_realization  =~            scqolp  0.665375  0.128927  5.160851   \n",
       "12  self_realization  =~            scqolq  0.804547  0.120255  6.690347   \n",
       "13  self_realization  =~            scqolr  0.965619  0.131633  7.335694   \n",
       "14  self_realization  =~            scqols  1.044136  0.233941  4.463241   \n",
       "15          autonomy  ~~          autonomy  0.046490  0.061921  0.750793   \n",
       "16          autonomy  ~~          pleasure  0.097581  0.065219  1.496193   \n",
       "17          autonomy  ~~  self_realization  0.159472  0.102378  1.557670   \n",
       "18           control  ~~          autonomy -0.155446  0.100901 -1.540573   \n",
       "19           control  ~~           control  0.350670  0.122029  2.873658   \n",
       "20           control  ~~          pleasure -0.261317  0.070096 -3.727998   \n",
       "21           control  ~~  self_realization -0.380345  0.092755 -4.100528   \n",
       "22          pleasure  ~~          pleasure  0.389472  0.085235  4.569360   \n",
       "23          pleasure  ~~  self_realization  0.370416  0.077693  4.767668   \n",
       "25            scqola  ~~            scqola  0.604510  0.102808  5.879968   \n",
       "26            scqolb  ~~            scqolb  2.115893  0.331310  6.386448   \n",
       "27            scqolc  ~~            scqolc  0.338669  0.071056  4.766257   \n",
       "28            scqold  ~~            scqold  0.477010  0.082047  5.813857   \n",
       "29            scqole  ~~            scqole  1.796440  0.276846  6.488946   \n",
       "30            scqolf  ~~            scqolf  0.719675  0.110974  6.485075   \n",
       "31            scqolg  ~~            scqolg  1.671943  0.258565  6.466236   \n",
       "32            scqolh  ~~            scqolh  0.810265  0.190879  4.244904   \n",
       "33            scqoli  ~~            scqoli  0.894590  0.138749  6.447554   \n",
       "34            scqolj  ~~            scqolj  0.169923  0.034489  4.926874   \n",
       "35            scqolk  ~~            scqolk  0.118514  0.027103  4.372734   \n",
       "36            scqoll  ~~            scqoll  0.110137  0.018980  5.802860   \n",
       "37            scqolm  ~~            scqolm  0.178879  0.028416  6.295015   \n",
       "38            scqoln  ~~            scqoln  0.187816  0.034457  5.450763   \n",
       "39            scqolo  ~~            scqolo  0.316282  0.057605  5.490519   \n",
       "40            scqolp  ~~            scqolp  0.448540  0.072338  6.200638   \n",
       "41            scqolq  ~~            scqolq  0.302295  0.051752  5.841248   \n",
       "42            scqolr  ~~            scqolr  0.309031  0.055759  5.542250   \n",
       "43            scqols  ~~            scqols  1.599524  0.254303  6.289830   \n",
       "24  self_realization  ~~  self_realization  0.465498  0.114485  4.066034   \n",
       "\n",
       "         P-value  \n",
       "3   5.453878e-01  \n",
       "4   1.934071e-01  \n",
       "5   1.139781e-01  \n",
       "6   1.796070e-01  \n",
       "0   1.243892e-02  \n",
       "1   7.631603e-08  \n",
       "2   3.099471e-06  \n",
       "7   0.000000e+00  \n",
       "8   5.926371e-13  \n",
       "9   1.301668e-05  \n",
       "10  4.440892e-16  \n",
       "11  2.458301e-07  \n",
       "12  2.226419e-11  \n",
       "13  2.204903e-13  \n",
       "14  8.072931e-06  \n",
       "15  4.527775e-01  \n",
       "16  1.346033e-01  \n",
       "17  1.193115e-01  \n",
       "18  1.234208e-01  \n",
       "19  4.057478e-03  \n",
       "20  1.930069e-04  \n",
       "21  4.122079e-05  \n",
       "22  4.892150e-06  \n",
       "23  1.863704e-06  \n",
       "25  4.103449e-09  \n",
       "26  1.697833e-10  \n",
       "27  1.876802e-06  \n",
       "28  6.104967e-09  \n",
       "29  8.643886e-11  \n",
       "30  8.868772e-11  \n",
       "31  1.004745e-10  \n",
       "32  2.186872e-05  \n",
       "33  1.136695e-10  \n",
       "34  8.355572e-07  \n",
       "35  1.227001e-05  \n",
       "36  6.519339e-09  \n",
       "37  3.073708e-10  \n",
       "38  5.015431e-08  \n",
       "39  4.007544e-08  \n",
       "40  5.623457e-10  \n",
       "41  5.181109e-09  \n",
       "42  2.986097e-08  \n",
       "43  3.178133e-10  \n",
       "24  4.782005e-05  "
      ]
     },
     "execution_count": 96,
     "metadata": {},
     "output_type": "execute_result"
    }
   ],
   "source": [
    "inspect(opt_casp19_sem_w6)"
   ]
  },
  {
   "cell_type": "code",
   "execution_count": 97,
   "metadata": {},
   "outputs": [],
   "source": [
    "#sv.visualize()"
   ]
  },
  {
   "cell_type": "markdown",
   "metadata": {},
   "source": [
    "CONFIRMATORIO con Factor Analyzer"
   ]
  },
  {
   "cell_type": "markdown",
   "metadata": {},
   "source": [
    "> El tipo de análisis que viene en el paquete de Factor Analyzer"
   ]
  },
  {
   "cell_type": "code",
   "execution_count": 98,
   "metadata": {},
   "outputs": [],
   "source": [
    "casp_19_w6_dict = {'control': ['scqola', 'scqolb', 'scqolc', 'scqold'],\n",
    "                   'autonomy': ['scqole', 'scqolf', 'scqolg', 'scqolh', 'scqoli'],\n",
    "                   'pleasure': ['scqolj', 'scqolk', 'scqoll', 'scqolm', 'scqoln'],\n",
    "                   'self_realization': ['scqolo', 'scqolp', 'scqolq', 'scqolr', 'scqols']}"
   ]
  },
  {
   "cell_type": "code",
   "execution_count": 99,
   "metadata": {},
   "outputs": [],
   "source": [
    "casp_19_w6_spec = ModelSpecificationParser.parse_model_specification_from_dict(items_casp19_w6_df, casp_19_w6_dict)"
   ]
  },
  {
   "cell_type": "code",
   "execution_count": 100,
   "metadata": {},
   "outputs": [],
   "source": [
    "cfa_casp_19_w6_spec = ConfirmatoryFactorAnalyzer(casp_19_w6_spec, disp=False)"
   ]
  },
  {
   "cell_type": "code",
   "execution_count": 101,
   "metadata": {},
   "outputs": [
    {
     "name": "stderr",
     "output_type": "stream",
     "text": [
      "/opt/conda/lib/python3.7/site-packages/factor_analyzer/confirmatory_factor_analyzer.py:733: UserWarning: The optimization routine failed to converge: b'ABNORMAL_TERMINATION_IN_LNSRCH'\n",
      "  'to converge: {}'.format(str(res.message)))\n"
     ]
    },
    {
     "data": {
      "text/plain": [
       "ConfirmatoryFactorAnalyzer(bounds=None, disp=False, impute='median',\n",
       "                           is_cov_matrix=False, max_iter=200, n_obs=84,\n",
       "                           specification=<factor_analyzer.confirmatory_factor_analyzer.ModelSpecification object at 0x7fe31c9dcb10>,\n",
       "                           tol=None)"
      ]
     },
     "execution_count": 101,
     "metadata": {},
     "output_type": "execute_result"
    }
   ],
   "source": [
    "cfa_casp_19_w6_spec.fit(items_casp19_w6_df.values)"
   ]
  },
  {
   "cell_type": "code",
   "execution_count": 102,
   "metadata": {},
   "outputs": [
    {
     "data": {
      "text/plain": [
       "array([[0.94492227, 0.        , 0.        , 0.        ],\n",
       "       [1.13459   , 0.        , 0.        , 0.        ],\n",
       "       [0.92230621, 0.        , 0.        , 0.        ],\n",
       "       [0.85529699, 0.        , 0.        , 0.        ],\n",
       "       [0.        , 0.94986215, 0.        , 0.        ],\n",
       "       [0.        , 0.94297686, 0.        , 0.        ],\n",
       "       [0.        , 0.94837738, 0.        , 0.        ],\n",
       "       [0.        , 1.02358932, 0.        , 0.        ],\n",
       "       [0.        , 0.98726218, 0.        , 0.        ],\n",
       "       [0.        , 0.        , 0.99849893, 0.        ],\n",
       "       [0.        , 0.        , 0.99126419, 0.        ],\n",
       "       [0.        , 0.        , 0.9326037 , 0.        ],\n",
       "       [0.        , 0.        , 0.91059808, 0.        ],\n",
       "       [0.        , 0.        , 0.98147499, 0.        ],\n",
       "       [0.        , 0.        , 0.        , 0.96594766],\n",
       "       [0.        , 0.        , 0.        , 0.91232989],\n",
       "       [0.        , 0.        , 0.        , 0.92085726],\n",
       "       [0.        , 0.        , 0.        , 0.97071212],\n",
       "       [0.        , 0.        , 0.        , 1.09568486]])"
      ]
     },
     "execution_count": 102,
     "metadata": {},
     "output_type": "execute_result"
    }
   ],
   "source": [
    "cfa_casp_19_w6_spec.loadings_"
   ]
  },
  {
   "cell_type": "code",
   "execution_count": 103,
   "metadata": {},
   "outputs": [
    {
     "data": {
      "text/plain": [
       "array([[1.        , 0.09173813, 0.07426923, 0.08752234],\n",
       "       [0.09173813, 1.        , 0.0795434 , 0.10128656],\n",
       "       [0.07426923, 0.0795434 , 1.        , 0.10329269],\n",
       "       [0.08752234, 0.10128656, 0.10329269, 1.        ]])"
      ]
     },
     "execution_count": 103,
     "metadata": {},
     "output_type": "execute_result"
    }
   ],
   "source": [
    "cfa_casp_19_w6_spec.factor_varcovs_"
   ]
  },
  {
   "cell_type": "code",
   "execution_count": 104,
   "metadata": {},
   "outputs": [
    {
     "data": {
      "text/plain": [
       "<bound method ConfirmatoryFactorAnalyzer.get_standard_errors of ConfirmatoryFactorAnalyzer(bounds=None, disp=False, impute='median',\n",
       "                           is_cov_matrix=False, max_iter=200, n_obs=84,\n",
       "                           specification=<factor_analyzer.confirmatory_factor_analyzer.ModelSpecification object at 0x7fe31c9dcb10>,\n",
       "                           tol=None)>"
      ]
     },
     "execution_count": 104,
     "metadata": {},
     "output_type": "execute_result"
    }
   ],
   "source": [
    "cfa_casp_19_w6_spec.get_standard_errors"
   ]
  },
  {
   "cell_type": "markdown",
   "metadata": {},
   "source": [
    "### 6.2) Ola 8"
   ]
  },
  {
   "cell_type": "markdown",
   "metadata": {},
   "source": [
    "* Casp-19"
   ]
  },
  {
   "cell_type": "code",
   "execution_count": null,
   "metadata": {},
   "outputs": [],
   "source": [
    "#42"
   ]
  },
  {
   "cell_type": "code",
   "execution_count": 105,
   "metadata": {},
   "outputs": [
    {
     "ename": "NameError",
     "evalue": "name 'fa_casp19_w6' is not defined",
     "output_type": "error",
     "traceback": [
      "\u001b[0;31m---------------------------------------------------------------------------\u001b[0m",
      "\u001b[0;31mNameError\u001b[0m                                 Traceback (most recent call last)",
      "\u001b[0;32m<ipython-input-105-c083215af01d>\u001b[0m in \u001b[0;36m<module>\u001b[0;34m\u001b[0m\n\u001b[0;32m----> 1\u001b[0;31m \u001b[0mfa_casp19_w8\u001b[0m \u001b[0;34m=\u001b[0m \u001b[0mfa_casp19_w6\u001b[0m\u001b[0;34m\u001b[0m\u001b[0;34m\u001b[0m\u001b[0m\n\u001b[0m",
      "\u001b[0;31mNameError\u001b[0m: name 'fa_casp19_w6' is not defined"
     ]
    }
   ],
   "source": [
    "fa_casp19_w8 = fa_casp19_w6"
   ]
  },
  {
   "cell_type": "code",
   "execution_count": null,
   "metadata": {},
   "outputs": [],
   "source": [
    "casp19_sem_w8 = Model(casp19_mod)"
   ]
  },
  {
   "cell_type": "code",
   "execution_count": null,
   "metadata": {},
   "outputs": [],
   "source": [
    "casp19_sem_w8.load_dataset(w8_first_cleaned_df)"
   ]
  },
  {
   "cell_type": "markdown",
   "metadata": {},
   "source": [
    "Escimar los parámetros"
   ]
  },
  {
   "cell_type": "code",
   "execution_count": null,
   "metadata": {},
   "outputs": [],
   "source": [
    "opt_casp19_sem_w8 = Optimizer(casp19_sem_w8)\n",
    "casp19_sem_w8_objective_function_value = opt_casp19_sem_w8.optimize()\n",
    "# opt_casp19_sem_w6.optimize(objective='ULS')\n",
    "# opt_casp19_sem_w6.optimize(objective='GLS')\n",
    "# opt_casp19_sem_w6.optimize(objective='MLW')"
   ]
  },
  {
   "cell_type": "code",
   "execution_count": null,
   "metadata": {},
   "outputs": [],
   "source": [
    "inspect(opt_casp19_sem_w6)"
   ]
  },
  {
   "cell_type": "markdown",
   "metadata": {},
   "source": [
    "## 7) Segundo tratamiento de valores perdidos"
   ]
  },
  {
   "cell_type": "markdown",
   "metadata": {},
   "source": [
    "### 7.1) Ola 6"
   ]
  },
  {
   "cell_type": "code",
   "execution_count": 109,
   "metadata": {},
   "outputs": [],
   "source": [
    "second_cols_to_clean_out_of_sample_w6 = isolation_w6_cols + casp19_w6_cols + sexdissa_w6_m_cols + sexdissa_w6_f_cols"
   ]
  },
  {
   "cell_type": "markdown",
   "metadata": {},
   "source": [
    "- Casp-19, Isolation, sexual dissatisfaction for female and male and multimorbidity: **\"-2\": \"schedule not aplicable\"** : *Cuestionarios, compuestos por sus ítems, que van a ser revisados para eliminar sujetos que no formaban parte de la muestra en estos módulos de ELSA. 1902 mujeres y 1620 hombres no han recibido módulo de sexualidad del cuestionario* "
   ]
  },
  {
   "cell_type": "code",
   "execution_count": 110,
   "metadata": {},
   "outputs": [],
   "source": [
    "second_sbj_out_of_sample_w6 = w6_first_cleaned_df.loc[pd.DataFrame([(w6_first_cleaned_df[col] == -2) for col in second_cols_to_clean_out_of_sample_w6]).any()].index"
   ]
  },
  {
   "cell_type": "code",
   "execution_count": 111,
   "metadata": {},
   "outputs": [
    {
     "data": {
      "text/plain": [
       "Int64Index([0, 35, 38, 39, 45, 52, 56, 61, 66, 70, 86], dtype='int64')"
      ]
     },
     "execution_count": 111,
     "metadata": {},
     "output_type": "execute_result"
    }
   ],
   "source": [
    "second_sbj_out_of_sample_w6"
   ]
  },
  {
   "cell_type": "code",
   "execution_count": 112,
   "metadata": {},
   "outputs": [],
   "source": [
    "w6_without_second_sbj_out_of_sample_df = w6_first_cleaned_df.drop(second_sbj_out_of_sample_w6)\n",
    "#w6_without_second_sbj_out_of_sample_df"
   ]
  },
  {
   "cell_type": "markdown",
   "metadata": {},
   "source": [
    " * Sexdissa: -9 Sujetos que no contestan a si han mantenido relaciones en el úiltimo año"
   ]
  },
  {
   "cell_type": "code",
   "execution_count": 113,
   "metadata": {},
   "outputs": [],
   "source": [
    "sbj_didnt_awr_q5 = w6_without_second_sbj_out_of_sample_df.loc[pd.DataFrame([w6_without_second_sbj_out_of_sample_df['q5'] == -9]).any()].index"
   ]
  },
  {
   "cell_type": "code",
   "execution_count": 114,
   "metadata": {},
   "outputs": [],
   "source": [
    "w6_without_sbj_didnt_awr_q5_df = w6_without_second_sbj_out_of_sample_df.drop(sbj_didnt_awr_q5)"
   ]
  },
  {
   "cell_type": "code",
   "execution_count": 115,
   "metadata": {},
   "outputs": [
    {
     "data": {
      "text/html": [
       "<div>\n",
       "<style scoped>\n",
       "    .dataframe tbody tr th:only-of-type {\n",
       "        vertical-align: middle;\n",
       "    }\n",
       "\n",
       "    .dataframe tbody tr th {\n",
       "        vertical-align: top;\n",
       "    }\n",
       "\n",
       "    .dataframe thead th {\n",
       "        text-align: right;\n",
       "    }\n",
       "</style>\n",
       "<table border=\"1\" class=\"dataframe\">\n",
       "  <thead>\n",
       "    <tr style=\"text-align: right;\">\n",
       "      <th></th>\n",
       "      <th>idauniq</th>\n",
       "      <th>idahhw6</th>\n",
       "      <th>perid</th>\n",
       "      <th>samptyp</th>\n",
       "      <th>w6indout</th>\n",
       "      <th>W6hhout</th>\n",
       "      <th>couple</th>\n",
       "      <th>cpid</th>\n",
       "      <th>chinhh</th>\n",
       "      <th>chouthh</th>\n",
       "      <th>...</th>\n",
       "      <th>w6nssec8</th>\n",
       "      <th>w6nssec5</th>\n",
       "      <th>w6nssec3</th>\n",
       "      <th>W6SIC</th>\n",
       "      <th>w6soc</th>\n",
       "      <th>W6SEC</th>\n",
       "      <th>w6sic2003</th>\n",
       "      <th>w6soc2000</th>\n",
       "      <th>w6nssec13</th>\n",
       "      <th>finstatw6</th>\n",
       "    </tr>\n",
       "  </thead>\n",
       "  <tbody>\n",
       "    <tr>\n",
       "      <th>1</th>\n",
       "      <td>103895.0</td>\n",
       "      <td>16260.0</td>\n",
       "      <td>1.0</td>\n",
       "      <td>1.0</td>\n",
       "      <td>11.0</td>\n",
       "      <td>110.0</td>\n",
       "      <td>1.0</td>\n",
       "      <td>2.0</td>\n",
       "      <td>1.0</td>\n",
       "      <td>1.0</td>\n",
       "      <td>...</td>\n",
       "      <td>5.0</td>\n",
       "      <td>4.0</td>\n",
       "      <td>3.0</td>\n",
       "      <td>0.0</td>\n",
       "      <td>0.0</td>\n",
       "      <td>0.0</td>\n",
       "      <td>-1.0</td>\n",
       "      <td>92.0</td>\n",
       "      <td>10.0</td>\n",
       "      <td>1.0</td>\n",
       "    </tr>\n",
       "    <tr>\n",
       "      <th>2</th>\n",
       "      <td>103960.0</td>\n",
       "      <td>14747.0</td>\n",
       "      <td>1.0</td>\n",
       "      <td>1.0</td>\n",
       "      <td>11.0</td>\n",
       "      <td>110.0</td>\n",
       "      <td>1.0</td>\n",
       "      <td>2.0</td>\n",
       "      <td>2.0</td>\n",
       "      <td>1.0</td>\n",
       "      <td>...</td>\n",
       "      <td>7.0</td>\n",
       "      <td>5.0</td>\n",
       "      <td>3.0</td>\n",
       "      <td>0.0</td>\n",
       "      <td>0.0</td>\n",
       "      <td>0.0</td>\n",
       "      <td>-1.0</td>\n",
       "      <td>62.0</td>\n",
       "      <td>13.3</td>\n",
       "      <td>1.0</td>\n",
       "    </tr>\n",
       "    <tr>\n",
       "      <th>3</th>\n",
       "      <td>104192.0</td>\n",
       "      <td>15705.0</td>\n",
       "      <td>1.0</td>\n",
       "      <td>1.0</td>\n",
       "      <td>11.0</td>\n",
       "      <td>110.0</td>\n",
       "      <td>1.0</td>\n",
       "      <td>2.0</td>\n",
       "      <td>2.0</td>\n",
       "      <td>1.0</td>\n",
       "      <td>...</td>\n",
       "      <td>4.0</td>\n",
       "      <td>3.0</td>\n",
       "      <td>2.0</td>\n",
       "      <td>0.0</td>\n",
       "      <td>0.0</td>\n",
       "      <td>0.0</td>\n",
       "      <td>-1.0</td>\n",
       "      <td>51.0</td>\n",
       "      <td>9.2</td>\n",
       "      <td>1.0</td>\n",
       "    </tr>\n",
       "    <tr>\n",
       "      <th>4</th>\n",
       "      <td>104194.0</td>\n",
       "      <td>16507.0</td>\n",
       "      <td>1.0</td>\n",
       "      <td>1.0</td>\n",
       "      <td>11.0</td>\n",
       "      <td>110.0</td>\n",
       "      <td>1.0</td>\n",
       "      <td>2.0</td>\n",
       "      <td>2.0</td>\n",
       "      <td>2.0</td>\n",
       "      <td>...</td>\n",
       "      <td>6.0</td>\n",
       "      <td>5.0</td>\n",
       "      <td>3.0</td>\n",
       "      <td>0.0</td>\n",
       "      <td>0.0</td>\n",
       "      <td>0.0</td>\n",
       "      <td>-1.0</td>\n",
       "      <td>41.0</td>\n",
       "      <td>12.6</td>\n",
       "      <td>1.0</td>\n",
       "    </tr>\n",
       "    <tr>\n",
       "      <th>6</th>\n",
       "      <td>104510.0</td>\n",
       "      <td>15552.0</td>\n",
       "      <td>1.0</td>\n",
       "      <td>1.0</td>\n",
       "      <td>11.0</td>\n",
       "      <td>110.0</td>\n",
       "      <td>3.0</td>\n",
       "      <td>-1.0</td>\n",
       "      <td>2.0</td>\n",
       "      <td>1.0</td>\n",
       "      <td>...</td>\n",
       "      <td>5.0</td>\n",
       "      <td>4.0</td>\n",
       "      <td>3.0</td>\n",
       "      <td>0.0</td>\n",
       "      <td>0.0</td>\n",
       "      <td>0.0</td>\n",
       "      <td>-1.0</td>\n",
       "      <td>71.0</td>\n",
       "      <td>10.0</td>\n",
       "      <td>1.0</td>\n",
       "    </tr>\n",
       "    <tr>\n",
       "      <th>...</th>\n",
       "      <td>...</td>\n",
       "      <td>...</td>\n",
       "      <td>...</td>\n",
       "      <td>...</td>\n",
       "      <td>...</td>\n",
       "      <td>...</td>\n",
       "      <td>...</td>\n",
       "      <td>...</td>\n",
       "      <td>...</td>\n",
       "      <td>...</td>\n",
       "      <td>...</td>\n",
       "      <td>...</td>\n",
       "      <td>...</td>\n",
       "      <td>...</td>\n",
       "      <td>...</td>\n",
       "      <td>...</td>\n",
       "      <td>...</td>\n",
       "      <td>...</td>\n",
       "      <td>...</td>\n",
       "      <td>...</td>\n",
       "      <td>...</td>\n",
       "    </tr>\n",
       "    <tr>\n",
       "      <th>88</th>\n",
       "      <td>165305.0</td>\n",
       "      <td>11882.0</td>\n",
       "      <td>1.0</td>\n",
       "      <td>1.0</td>\n",
       "      <td>11.0</td>\n",
       "      <td>110.0</td>\n",
       "      <td>1.0</td>\n",
       "      <td>2.0</td>\n",
       "      <td>2.0</td>\n",
       "      <td>1.0</td>\n",
       "      <td>...</td>\n",
       "      <td>5.0</td>\n",
       "      <td>4.0</td>\n",
       "      <td>3.0</td>\n",
       "      <td>1.0</td>\n",
       "      <td>1.0</td>\n",
       "      <td>1.0</td>\n",
       "      <td>63.0</td>\n",
       "      <td>91.0</td>\n",
       "      <td>10.0</td>\n",
       "      <td>25.0</td>\n",
       "    </tr>\n",
       "    <tr>\n",
       "      <th>90</th>\n",
       "      <td>165365.0</td>\n",
       "      <td>14517.0</td>\n",
       "      <td>1.0</td>\n",
       "      <td>1.0</td>\n",
       "      <td>11.0</td>\n",
       "      <td>110.0</td>\n",
       "      <td>3.0</td>\n",
       "      <td>-1.0</td>\n",
       "      <td>1.0</td>\n",
       "      <td>2.0</td>\n",
       "      <td>...</td>\n",
       "      <td>6.0</td>\n",
       "      <td>5.0</td>\n",
       "      <td>3.0</td>\n",
       "      <td>1.0</td>\n",
       "      <td>1.0</td>\n",
       "      <td>1.0</td>\n",
       "      <td>80.0</td>\n",
       "      <td>61.0</td>\n",
       "      <td>12.7</td>\n",
       "      <td>25.0</td>\n",
       "    </tr>\n",
       "    <tr>\n",
       "      <th>92</th>\n",
       "      <td>165537.0</td>\n",
       "      <td>11512.0</td>\n",
       "      <td>2.0</td>\n",
       "      <td>1.0</td>\n",
       "      <td>11.0</td>\n",
       "      <td>110.0</td>\n",
       "      <td>1.0</td>\n",
       "      <td>1.0</td>\n",
       "      <td>2.0</td>\n",
       "      <td>1.0</td>\n",
       "      <td>...</td>\n",
       "      <td>1.0</td>\n",
       "      <td>1.0</td>\n",
       "      <td>1.0</td>\n",
       "      <td>0.0</td>\n",
       "      <td>0.0</td>\n",
       "      <td>0.0</td>\n",
       "      <td>-1.0</td>\n",
       "      <td>11.0</td>\n",
       "      <td>2.0</td>\n",
       "      <td>25.0</td>\n",
       "    </tr>\n",
       "    <tr>\n",
       "      <th>94</th>\n",
       "      <td>165858.0</td>\n",
       "      <td>10999.0</td>\n",
       "      <td>3.0</td>\n",
       "      <td>-1.0</td>\n",
       "      <td>11.0</td>\n",
       "      <td>110.0</td>\n",
       "      <td>1.0</td>\n",
       "      <td>1.0</td>\n",
       "      <td>2.0</td>\n",
       "      <td>1.0</td>\n",
       "      <td>...</td>\n",
       "      <td>2.0</td>\n",
       "      <td>1.0</td>\n",
       "      <td>1.0</td>\n",
       "      <td>1.0</td>\n",
       "      <td>1.0</td>\n",
       "      <td>1.0</td>\n",
       "      <td>74.0</td>\n",
       "      <td>35.0</td>\n",
       "      <td>4.3</td>\n",
       "      <td>29.0</td>\n",
       "    </tr>\n",
       "    <tr>\n",
       "      <th>95</th>\n",
       "      <td>166036.0</td>\n",
       "      <td>15735.0</td>\n",
       "      <td>2.0</td>\n",
       "      <td>5.0</td>\n",
       "      <td>11.0</td>\n",
       "      <td>110.0</td>\n",
       "      <td>1.0</td>\n",
       "      <td>1.0</td>\n",
       "      <td>1.0</td>\n",
       "      <td>1.0</td>\n",
       "      <td>...</td>\n",
       "      <td>7.0</td>\n",
       "      <td>5.0</td>\n",
       "      <td>3.0</td>\n",
       "      <td>0.0</td>\n",
       "      <td>0.0</td>\n",
       "      <td>0.0</td>\n",
       "      <td>-1.0</td>\n",
       "      <td>91.0</td>\n",
       "      <td>13.4</td>\n",
       "      <td>27.0</td>\n",
       "    </tr>\n",
       "  </tbody>\n",
       "</table>\n",
       "<p>72 rows × 6189 columns</p>\n",
       "</div>"
      ],
      "text/plain": [
       "     idauniq  idahhw6  perid  samptyp  w6indout  W6hhout  couple  cpid  \\\n",
       "1   103895.0  16260.0    1.0      1.0      11.0    110.0     1.0   2.0   \n",
       "2   103960.0  14747.0    1.0      1.0      11.0    110.0     1.0   2.0   \n",
       "3   104192.0  15705.0    1.0      1.0      11.0    110.0     1.0   2.0   \n",
       "4   104194.0  16507.0    1.0      1.0      11.0    110.0     1.0   2.0   \n",
       "6   104510.0  15552.0    1.0      1.0      11.0    110.0     3.0  -1.0   \n",
       "..       ...      ...    ...      ...       ...      ...     ...   ...   \n",
       "88  165305.0  11882.0    1.0      1.0      11.0    110.0     1.0   2.0   \n",
       "90  165365.0  14517.0    1.0      1.0      11.0    110.0     3.0  -1.0   \n",
       "92  165537.0  11512.0    2.0      1.0      11.0    110.0     1.0   1.0   \n",
       "94  165858.0  10999.0    3.0     -1.0      11.0    110.0     1.0   1.0   \n",
       "95  166036.0  15735.0    2.0      5.0      11.0    110.0     1.0   1.0   \n",
       "\n",
       "    chinhh  chouthh  ...  w6nssec8  w6nssec5  w6nssec3  W6SIC  w6soc  W6SEC  \\\n",
       "1      1.0      1.0  ...       5.0       4.0       3.0    0.0    0.0    0.0   \n",
       "2      2.0      1.0  ...       7.0       5.0       3.0    0.0    0.0    0.0   \n",
       "3      2.0      1.0  ...       4.0       3.0       2.0    0.0    0.0    0.0   \n",
       "4      2.0      2.0  ...       6.0       5.0       3.0    0.0    0.0    0.0   \n",
       "6      2.0      1.0  ...       5.0       4.0       3.0    0.0    0.0    0.0   \n",
       "..     ...      ...  ...       ...       ...       ...    ...    ...    ...   \n",
       "88     2.0      1.0  ...       5.0       4.0       3.0    1.0    1.0    1.0   \n",
       "90     1.0      2.0  ...       6.0       5.0       3.0    1.0    1.0    1.0   \n",
       "92     2.0      1.0  ...       1.0       1.0       1.0    0.0    0.0    0.0   \n",
       "94     2.0      1.0  ...       2.0       1.0       1.0    1.0    1.0    1.0   \n",
       "95     1.0      1.0  ...       7.0       5.0       3.0    0.0    0.0    0.0   \n",
       "\n",
       "    w6sic2003  w6soc2000  w6nssec13  finstatw6  \n",
       "1        -1.0       92.0       10.0        1.0  \n",
       "2        -1.0       62.0       13.3        1.0  \n",
       "3        -1.0       51.0        9.2        1.0  \n",
       "4        -1.0       41.0       12.6        1.0  \n",
       "6        -1.0       71.0       10.0        1.0  \n",
       "..        ...        ...        ...        ...  \n",
       "88       63.0       91.0       10.0       25.0  \n",
       "90       80.0       61.0       12.7       25.0  \n",
       "92       -1.0       11.0        2.0       25.0  \n",
       "94       74.0       35.0        4.3       29.0  \n",
       "95       -1.0       91.0       13.4       27.0  \n",
       "\n",
       "[72 rows x 6189 columns]"
      ]
     },
     "execution_count": 115,
     "metadata": {},
     "output_type": "execute_result"
    }
   ],
   "source": [
    "w6_without_sbj_didnt_awr_q5_df"
   ]
  },
  {
   "cell_type": "markdown",
   "metadata": {},
   "source": [
    " * -9 Sujetos que no contestan a alguna de las preguntas del cuestionario de satisfacción sexual"
   ]
  },
  {
   "cell_type": "markdown",
   "metadata": {},
   "source": [
    "## ( ! ) Ayuda:"
   ]
  },
  {
   "cell_type": "markdown",
   "metadata": {},
   "source": [
    "quiero sustituir por la media de puntuaciones en el cuestionario de satisfacción sexual (de todos los items mayores que cero, es importante que no se cuelen en esa media valores negativos, valores perdidos)"
   ]
  },
  {
   "cell_type": "code",
   "execution_count": null,
   "metadata": {},
   "outputs": [],
   "source": [
    "mean_sexdissa_w6 =df[sexdissa_w6_f_cols]"
   ]
  },
  {
   "cell_type": "code",
   "execution_count": null,
   "metadata": {},
   "outputs": [],
   "source": [
    "second_sbj_didnt_awr_w6 = w6_without_second_sbj_out_of_sample_df.loc[pd.DataFrame([(w6_without_second_sbj_out_of_sample_df[col] == -9) for col in second_cols_to_clean_out_of_sample_w6]).any()].index"
   ]
  },
  {
   "cell_type": "code",
   "execution_count": null,
   "metadata": {},
   "outputs": [],
   "source": [
    "w6_without_second_sbj_didnt_awr_df = w6_without_second_sbj_out_of_sample_df.drop(second_sbj_didnt_awr_w6)\n",
    "# w6_without_second_sbj_didnt_awr_df"
   ]
  },
  {
   "cell_type": "code",
   "execution_count": null,
   "metadata": {},
   "outputs": [],
   "source": [
    "len(w6_without_second_sbj_didnt_awr_df)"
   ]
  },
  {
   "cell_type": "markdown",
   "metadata": {},
   "source": [
    "* sexdissa:  -1 (item no aplicable) en sexdissa_w6_f y sexdissa_w6_m que no son aplicables porque se requiere ser de un sexo u otro para responder:"
   ]
  },
  {
   "cell_type": "markdown",
   "metadata": {},
   "source": [
    "Se tratarán en la construcción funcional de los cuestionarios sexdissa_w6_f y sexdissa_w6_m"
   ]
  },
  {
   "cell_type": "markdown",
   "metadata": {},
   "source": [
    "* sexdissa: q5 = -1 (item no aplicable) por no haber mantenido relaciones sexuales en el último año"
   ]
  },
  {
   "cell_type": "markdown",
   "metadata": {},
   "source": [
    "## Test cutres"
   ]
  },
  {
   "cell_type": "code",
   "execution_count": null,
   "metadata": {},
   "outputs": [],
   "source": [
    "w6_second_cleaned_df.loc[w6_second_cleaned_df['q3'] < 0, ['q3']]"
   ]
  },
  {
   "cell_type": "code",
   "execution_count": null,
   "metadata": {},
   "outputs": [],
   "source": [
    "w6_second_cleaned_df.loc[w6_second_cleaned_df['q9'] < 0, ['q9']]"
   ]
  },
  {
   "cell_type": "code",
   "execution_count": null,
   "metadata": {},
   "outputs": [],
   "source": []
  },
  {
   "cell_type": "markdown",
   "metadata": {},
   "source": [
    "- mortalidad: eliminamos los sujetos no repetidos en las dos olas"
   ]
  },
  {
   "cell_type": "code",
   "execution_count": null,
   "metadata": {},
   "outputs": [],
   "source": [
    "indaunic"
   ]
  },
  {
   "cell_type": "markdown",
   "metadata": {},
   "source": [
    "### ( ! ) Base de datos tras la segunda limpieza valores perdidos"
   ]
  },
  {
   "cell_type": "code",
   "execution_count": 117,
   "metadata": {},
   "outputs": [],
   "source": [
    "w6_second_cleaned_df = w6_without_sbj_didnt_awr_q5_df #sustituir por el nombre del df más reciente tras la limpieza"
   ]
  },
  {
   "cell_type": "markdown",
   "metadata": {},
   "source": [
    "## 8) Construcción funcional de los segundos cuestionarios"
   ]
  },
  {
   "cell_type": "markdown",
   "metadata": {},
   "source": [
    "* Sexual dissatisfaction female"
   ]
  },
  {
   "cell_type": "code",
   "execution_count": null,
   "metadata": {},
   "outputs": [],
   "source": [
    "casp19_original_values = [1, 2, 3, 4]\n",
    "casp19_reverse_items_values = [0, 1, 2, 3]\n",
    "casp19_direct_items_values = [3, 2, 1, 0]\n",
    "\n",
    "# eliminar esta celda repetida (está en el apartado \"construcción teórica de questionarios\")\n",
    "sexdissa_w6_f_cols = ['q3', 'q9', 'q10', 'q14f', 'q15f', 'q19m19f', 'q28m25f', 'q32m26f']\n",
    "sexdissa_w6_q10_original_values = [1, 2, 3]\n",
    "sexdissa_w6_q10_transformed_values = [5, 0, 5]"
   ]
  },
  {
   "cell_type": "code",
   "execution_count": 135,
   "metadata": {},
   "outputs": [],
   "source": [
    "sexdissa_item_to_transform = ['q10']\n",
    "sexdissa_direct_items_f = ['q3', 'q9', 'q14f', 'q15f', 'q19m19f', 'q28m25f', 'q32m26f']\n",
    "sexdissa_direct_items_m =  ['q3', 'q9', 'q13m', 'q17m', 'q19m19f', 'q21m', 'q28m25f', 'q32m26f']"
   ]
  },
  {
   "cell_type": "markdown",
   "metadata": {},
   "source": [
    "# ( ! ) Ayuda:"
   ]
  },
  {
   "cell_type": "markdown",
   "metadata": {},
   "source": [
    "#### Función que transforma el valor de q10"
   ]
  },
  {
   "cell_type": "markdown",
   "metadata": {},
   "source": [
    "Lo que estoy intentando es por un lado cambiar el valor de q10 y luego el resto de items de sexdissa transformarlos de [1, 2, 3, 4, 5] a [0, 1, 2, 3, 4]"
   ]
  },
  {
   "cell_type": "markdown",
   "metadata": {},
   "source": [
    "Después tengo que crear los items de mujeres y de hombres aplicando las funciones para construir dataframes con las puntuacioens de los items sueltas y luego el dataframe de la puntuación del cuestionario con la suma.\n",
    "al construir el dataframe se manejan los -1 de los hombres por las preguntas que requieren ser mujer y viceversa. Eso es lo que he intentado."
   ]
  },
  {
   "cell_type": "code",
   "execution_count": 122,
   "metadata": {},
   "outputs": [],
   "source": [
    "def transform_q10_sexdissa_w6(x: [1, 2, 3]) -> [5, 0, 5]:\n",
    "     return 5 if x == 1 else 5 if x == 3 else 0 if x == 2  else None"
   ]
  },
  {
   "cell_type": "code",
   "execution_count": 123,
   "metadata": {},
   "outputs": [],
   "source": [
    "def get_direct_items_sexdissa_w6(x: [1, 2, 3, 4, 5]) -> [0, 1, 2, 3, 4]:\n",
    "    return x - 1"
   ]
  },
  {
   "cell_type": "code",
   "execution_count": 124,
   "metadata": {},
   "outputs": [],
   "source": [
    "def calc_items_sexdissa_w6_f(sbj) -> List[int]:\n",
    "    return ([transform_q10_sexdissa_w6(sbj[item_to_transform]) for item_to_transform in sexdissa_item_to_transform] + \n",
    "              [sexdissa_direct_items_f])"
   ]
  },
  {
   "cell_type": "code",
   "execution_count": 125,
   "metadata": {},
   "outputs": [],
   "source": [
    "def calc_items_sexdissa_w6_m(sbj) -> List[int]:\n",
    "    return ([transform_q10_sexdissa_w6(sbj[item_to_transform]) for item_to_transform in sexdissa_item_to_transform] + \n",
    "              [sexdissa_direct_items_m])"
   ]
  },
  {
   "cell_type": "code",
   "execution_count": 126,
   "metadata": {},
   "outputs": [],
   "source": [
    "def calc_sexdissa_w6_f(sbj) -> list(range(40)):\n",
    "    return sum([transform_q10_sexdissa_w6(sbj[item_to_transform]) for item_to_transform in sexdissa_item_to_transform] + \n",
    "              [sexdissa_direct_items_f])"
   ]
  },
  {
   "cell_type": "code",
   "execution_count": 127,
   "metadata": {},
   "outputs": [],
   "source": [
    "def calc_sexdissa_w6_m(sbj) -> list(range(40)):\n",
    "    return sum([transform_q10_sexdissa_w6(sbj[item_to_transform]) for item_to_transform in sexdissa_item_to_transform] + \n",
    "              [sexdissa_direct_items_m])"
   ]
  },
  {
   "cell_type": "markdown",
   "metadata": {},
   "source": [
    "Los los valores perdidos \"-1 (item not applicable)\" debidos al sexo se disipan al construir los dataframes diferenciados en hombres y mujeres"
   ]
  },
  {
   "cell_type": "code",
   "execution_count": 139,
   "metadata": {},
   "outputs": [],
   "source": [
    "f_w6_df = w6_second_cleaned_df.loc[(w6_second_cleaned_df['indsex'] == 2)].index"
   ]
  },
  {
   "cell_type": "code",
   "execution_count": 129,
   "metadata": {},
   "outputs": [],
   "source": [
    "m_w6_df = w6_second_cleaned_df.loc[(w6_second_cleaned_df['indsex'] == 1)].index"
   ]
  },
  {
   "cell_type": "code",
   "execution_count": 140,
   "metadata": {},
   "outputs": [
    {
     "ename": "AttributeError",
     "evalue": "'Int64Index' object has no attribute 'apply'",
     "output_type": "error",
     "traceback": [
      "\u001b[0;31m---------------------------------------------------------------------------\u001b[0m",
      "\u001b[0;31mAttributeError\u001b[0m                            Traceback (most recent call last)",
      "\u001b[0;32m<ipython-input-140-93665baf7c87>\u001b[0m in \u001b[0;36m<module>\u001b[0;34m\u001b[0m\n\u001b[0;32m----> 1\u001b[0;31m \u001b[0mitems_sexdissa_w6_f_df\u001b[0m \u001b[0;34m=\u001b[0m \u001b[0mf_w6_df\u001b[0m\u001b[0;34m.\u001b[0m\u001b[0mapply\u001b[0m\u001b[0;34m(\u001b[0m\u001b[0mcalc_items_sexdissa_w6_f\u001b[0m\u001b[0;34m,\u001b[0m \u001b[0maxis\u001b[0m\u001b[0;34m=\u001b[0m\u001b[0;36m1\u001b[0m\u001b[0;34m,\u001b[0m \u001b[0mresult_type\u001b[0m\u001b[0;34m=\u001b[0m\u001b[0;34m'expand'\u001b[0m\u001b[0;34m)\u001b[0m\u001b[0;34m\u001b[0m\u001b[0;34m\u001b[0m\u001b[0m\n\u001b[0m",
      "\u001b[0;31mAttributeError\u001b[0m: 'Int64Index' object has no attribute 'apply'"
     ]
    }
   ],
   "source": [
    "items_sexdissa_w6_f_df = f_w6_df.apply(calc_items_sexdissa_w6_f, axis=1, result_type='expand')"
   ]
  },
  {
   "cell_type": "code",
   "execution_count": 138,
   "metadata": {},
   "outputs": [
    {
     "data": {
      "text/html": [
       "<div>\n",
       "<style scoped>\n",
       "    .dataframe tbody tr th:only-of-type {\n",
       "        vertical-align: middle;\n",
       "    }\n",
       "\n",
       "    .dataframe tbody tr th {\n",
       "        vertical-align: top;\n",
       "    }\n",
       "\n",
       "    .dataframe thead th {\n",
       "        text-align: right;\n",
       "    }\n",
       "</style>\n",
       "<table border=\"1\" class=\"dataframe\">\n",
       "  <thead>\n",
       "    <tr style=\"text-align: right;\">\n",
       "      <th></th>\n",
       "      <th>0</th>\n",
       "      <th>1</th>\n",
       "    </tr>\n",
       "  </thead>\n",
       "  <tbody>\n",
       "    <tr>\n",
       "      <th>2</th>\n",
       "      <td>5.0</td>\n",
       "      <td>[q3, q9, q14f, q15f, q19m19f, q28m25f, q32m26f]</td>\n",
       "    </tr>\n",
       "    <tr>\n",
       "      <th>6</th>\n",
       "      <td>5.0</td>\n",
       "      <td>[q3, q9, q14f, q15f, q19m19f, q28m25f, q32m26f]</td>\n",
       "    </tr>\n",
       "    <tr>\n",
       "      <th>8</th>\n",
       "      <td>0.0</td>\n",
       "      <td>[q3, q9, q14f, q15f, q19m19f, q28m25f, q32m26f]</td>\n",
       "    </tr>\n",
       "    <tr>\n",
       "      <th>11</th>\n",
       "      <td>NaN</td>\n",
       "      <td>[q3, q9, q14f, q15f, q19m19f, q28m25f, q32m26f]</td>\n",
       "    </tr>\n",
       "    <tr>\n",
       "      <th>15</th>\n",
       "      <td>NaN</td>\n",
       "      <td>[q3, q9, q14f, q15f, q19m19f, q28m25f, q32m26f]</td>\n",
       "    </tr>\n",
       "    <tr>\n",
       "      <th>20</th>\n",
       "      <td>NaN</td>\n",
       "      <td>[q3, q9, q14f, q15f, q19m19f, q28m25f, q32m26f]</td>\n",
       "    </tr>\n",
       "    <tr>\n",
       "      <th>23</th>\n",
       "      <td>NaN</td>\n",
       "      <td>[q3, q9, q14f, q15f, q19m19f, q28m25f, q32m26f]</td>\n",
       "    </tr>\n",
       "    <tr>\n",
       "      <th>25</th>\n",
       "      <td>0.0</td>\n",
       "      <td>[q3, q9, q14f, q15f, q19m19f, q28m25f, q32m26f]</td>\n",
       "    </tr>\n",
       "    <tr>\n",
       "      <th>26</th>\n",
       "      <td>0.0</td>\n",
       "      <td>[q3, q9, q14f, q15f, q19m19f, q28m25f, q32m26f]</td>\n",
       "    </tr>\n",
       "    <tr>\n",
       "      <th>30</th>\n",
       "      <td>NaN</td>\n",
       "      <td>[q3, q9, q14f, q15f, q19m19f, q28m25f, q32m26f]</td>\n",
       "    </tr>\n",
       "    <tr>\n",
       "      <th>31</th>\n",
       "      <td>0.0</td>\n",
       "      <td>[q3, q9, q14f, q15f, q19m19f, q28m25f, q32m26f]</td>\n",
       "    </tr>\n",
       "    <tr>\n",
       "      <th>32</th>\n",
       "      <td>NaN</td>\n",
       "      <td>[q3, q9, q14f, q15f, q19m19f, q28m25f, q32m26f]</td>\n",
       "    </tr>\n",
       "    <tr>\n",
       "      <th>33</th>\n",
       "      <td>0.0</td>\n",
       "      <td>[q3, q9, q14f, q15f, q19m19f, q28m25f, q32m26f]</td>\n",
       "    </tr>\n",
       "    <tr>\n",
       "      <th>34</th>\n",
       "      <td>NaN</td>\n",
       "      <td>[q3, q9, q14f, q15f, q19m19f, q28m25f, q32m26f]</td>\n",
       "    </tr>\n",
       "    <tr>\n",
       "      <th>36</th>\n",
       "      <td>NaN</td>\n",
       "      <td>[q3, q9, q14f, q15f, q19m19f, q28m25f, q32m26f]</td>\n",
       "    </tr>\n",
       "    <tr>\n",
       "      <th>37</th>\n",
       "      <td>0.0</td>\n",
       "      <td>[q3, q9, q14f, q15f, q19m19f, q28m25f, q32m26f]</td>\n",
       "    </tr>\n",
       "    <tr>\n",
       "      <th>41</th>\n",
       "      <td>0.0</td>\n",
       "      <td>[q3, q9, q14f, q15f, q19m19f, q28m25f, q32m26f]</td>\n",
       "    </tr>\n",
       "    <tr>\n",
       "      <th>42</th>\n",
       "      <td>NaN</td>\n",
       "      <td>[q3, q9, q14f, q15f, q19m19f, q28m25f, q32m26f]</td>\n",
       "    </tr>\n",
       "    <tr>\n",
       "      <th>44</th>\n",
       "      <td>0.0</td>\n",
       "      <td>[q3, q9, q14f, q15f, q19m19f, q28m25f, q32m26f]</td>\n",
       "    </tr>\n",
       "    <tr>\n",
       "      <th>47</th>\n",
       "      <td>NaN</td>\n",
       "      <td>[q3, q9, q14f, q15f, q19m19f, q28m25f, q32m26f]</td>\n",
       "    </tr>\n",
       "    <tr>\n",
       "      <th>49</th>\n",
       "      <td>0.0</td>\n",
       "      <td>[q3, q9, q14f, q15f, q19m19f, q28m25f, q32m26f]</td>\n",
       "    </tr>\n",
       "    <tr>\n",
       "      <th>51</th>\n",
       "      <td>NaN</td>\n",
       "      <td>[q3, q9, q14f, q15f, q19m19f, q28m25f, q32m26f]</td>\n",
       "    </tr>\n",
       "    <tr>\n",
       "      <th>53</th>\n",
       "      <td>5.0</td>\n",
       "      <td>[q3, q9, q14f, q15f, q19m19f, q28m25f, q32m26f]</td>\n",
       "    </tr>\n",
       "    <tr>\n",
       "      <th>54</th>\n",
       "      <td>5.0</td>\n",
       "      <td>[q3, q9, q14f, q15f, q19m19f, q28m25f, q32m26f]</td>\n",
       "    </tr>\n",
       "    <tr>\n",
       "      <th>55</th>\n",
       "      <td>5.0</td>\n",
       "      <td>[q3, q9, q14f, q15f, q19m19f, q28m25f, q32m26f]</td>\n",
       "    </tr>\n",
       "    <tr>\n",
       "      <th>57</th>\n",
       "      <td>5.0</td>\n",
       "      <td>[q3, q9, q14f, q15f, q19m19f, q28m25f, q32m26f]</td>\n",
       "    </tr>\n",
       "    <tr>\n",
       "      <th>58</th>\n",
       "      <td>NaN</td>\n",
       "      <td>[q3, q9, q14f, q15f, q19m19f, q28m25f, q32m26f]</td>\n",
       "    </tr>\n",
       "    <tr>\n",
       "      <th>60</th>\n",
       "      <td>NaN</td>\n",
       "      <td>[q3, q9, q14f, q15f, q19m19f, q28m25f, q32m26f]</td>\n",
       "    </tr>\n",
       "    <tr>\n",
       "      <th>63</th>\n",
       "      <td>0.0</td>\n",
       "      <td>[q3, q9, q14f, q15f, q19m19f, q28m25f, q32m26f]</td>\n",
       "    </tr>\n",
       "    <tr>\n",
       "      <th>67</th>\n",
       "      <td>NaN</td>\n",
       "      <td>[q3, q9, q14f, q15f, q19m19f, q28m25f, q32m26f]</td>\n",
       "    </tr>\n",
       "    <tr>\n",
       "      <th>68</th>\n",
       "      <td>5.0</td>\n",
       "      <td>[q3, q9, q14f, q15f, q19m19f, q28m25f, q32m26f]</td>\n",
       "    </tr>\n",
       "    <tr>\n",
       "      <th>76</th>\n",
       "      <td>NaN</td>\n",
       "      <td>[q3, q9, q14f, q15f, q19m19f, q28m25f, q32m26f]</td>\n",
       "    </tr>\n",
       "    <tr>\n",
       "      <th>77</th>\n",
       "      <td>5.0</td>\n",
       "      <td>[q3, q9, q14f, q15f, q19m19f, q28m25f, q32m26f]</td>\n",
       "    </tr>\n",
       "    <tr>\n",
       "      <th>78</th>\n",
       "      <td>NaN</td>\n",
       "      <td>[q3, q9, q14f, q15f, q19m19f, q28m25f, q32m26f]</td>\n",
       "    </tr>\n",
       "    <tr>\n",
       "      <th>79</th>\n",
       "      <td>0.0</td>\n",
       "      <td>[q3, q9, q14f, q15f, q19m19f, q28m25f, q32m26f]</td>\n",
       "    </tr>\n",
       "    <tr>\n",
       "      <th>80</th>\n",
       "      <td>NaN</td>\n",
       "      <td>[q3, q9, q14f, q15f, q19m19f, q28m25f, q32m26f]</td>\n",
       "    </tr>\n",
       "    <tr>\n",
       "      <th>81</th>\n",
       "      <td>NaN</td>\n",
       "      <td>[q3, q9, q14f, q15f, q19m19f, q28m25f, q32m26f]</td>\n",
       "    </tr>\n",
       "    <tr>\n",
       "      <th>83</th>\n",
       "      <td>NaN</td>\n",
       "      <td>[q3, q9, q14f, q15f, q19m19f, q28m25f, q32m26f]</td>\n",
       "    </tr>\n",
       "    <tr>\n",
       "      <th>85</th>\n",
       "      <td>NaN</td>\n",
       "      <td>[q3, q9, q14f, q15f, q19m19f, q28m25f, q32m26f]</td>\n",
       "    </tr>\n",
       "    <tr>\n",
       "      <th>87</th>\n",
       "      <td>0.0</td>\n",
       "      <td>[q3, q9, q14f, q15f, q19m19f, q28m25f, q32m26f]</td>\n",
       "    </tr>\n",
       "    <tr>\n",
       "      <th>88</th>\n",
       "      <td>5.0</td>\n",
       "      <td>[q3, q9, q14f, q15f, q19m19f, q28m25f, q32m26f]</td>\n",
       "    </tr>\n",
       "    <tr>\n",
       "      <th>90</th>\n",
       "      <td>NaN</td>\n",
       "      <td>[q3, q9, q14f, q15f, q19m19f, q28m25f, q32m26f]</td>\n",
       "    </tr>\n",
       "    <tr>\n",
       "      <th>92</th>\n",
       "      <td>0.0</td>\n",
       "      <td>[q3, q9, q14f, q15f, q19m19f, q28m25f, q32m26f]</td>\n",
       "    </tr>\n",
       "  </tbody>\n",
       "</table>\n",
       "</div>"
      ],
      "text/plain": [
       "      0                                                1\n",
       "2   5.0  [q3, q9, q14f, q15f, q19m19f, q28m25f, q32m26f]\n",
       "6   5.0  [q3, q9, q14f, q15f, q19m19f, q28m25f, q32m26f]\n",
       "8   0.0  [q3, q9, q14f, q15f, q19m19f, q28m25f, q32m26f]\n",
       "11  NaN  [q3, q9, q14f, q15f, q19m19f, q28m25f, q32m26f]\n",
       "15  NaN  [q3, q9, q14f, q15f, q19m19f, q28m25f, q32m26f]\n",
       "20  NaN  [q3, q9, q14f, q15f, q19m19f, q28m25f, q32m26f]\n",
       "23  NaN  [q3, q9, q14f, q15f, q19m19f, q28m25f, q32m26f]\n",
       "25  0.0  [q3, q9, q14f, q15f, q19m19f, q28m25f, q32m26f]\n",
       "26  0.0  [q3, q9, q14f, q15f, q19m19f, q28m25f, q32m26f]\n",
       "30  NaN  [q3, q9, q14f, q15f, q19m19f, q28m25f, q32m26f]\n",
       "31  0.0  [q3, q9, q14f, q15f, q19m19f, q28m25f, q32m26f]\n",
       "32  NaN  [q3, q9, q14f, q15f, q19m19f, q28m25f, q32m26f]\n",
       "33  0.0  [q3, q9, q14f, q15f, q19m19f, q28m25f, q32m26f]\n",
       "34  NaN  [q3, q9, q14f, q15f, q19m19f, q28m25f, q32m26f]\n",
       "36  NaN  [q3, q9, q14f, q15f, q19m19f, q28m25f, q32m26f]\n",
       "37  0.0  [q3, q9, q14f, q15f, q19m19f, q28m25f, q32m26f]\n",
       "41  0.0  [q3, q9, q14f, q15f, q19m19f, q28m25f, q32m26f]\n",
       "42  NaN  [q3, q9, q14f, q15f, q19m19f, q28m25f, q32m26f]\n",
       "44  0.0  [q3, q9, q14f, q15f, q19m19f, q28m25f, q32m26f]\n",
       "47  NaN  [q3, q9, q14f, q15f, q19m19f, q28m25f, q32m26f]\n",
       "49  0.0  [q3, q9, q14f, q15f, q19m19f, q28m25f, q32m26f]\n",
       "51  NaN  [q3, q9, q14f, q15f, q19m19f, q28m25f, q32m26f]\n",
       "53  5.0  [q3, q9, q14f, q15f, q19m19f, q28m25f, q32m26f]\n",
       "54  5.0  [q3, q9, q14f, q15f, q19m19f, q28m25f, q32m26f]\n",
       "55  5.0  [q3, q9, q14f, q15f, q19m19f, q28m25f, q32m26f]\n",
       "57  5.0  [q3, q9, q14f, q15f, q19m19f, q28m25f, q32m26f]\n",
       "58  NaN  [q3, q9, q14f, q15f, q19m19f, q28m25f, q32m26f]\n",
       "60  NaN  [q3, q9, q14f, q15f, q19m19f, q28m25f, q32m26f]\n",
       "63  0.0  [q3, q9, q14f, q15f, q19m19f, q28m25f, q32m26f]\n",
       "67  NaN  [q3, q9, q14f, q15f, q19m19f, q28m25f, q32m26f]\n",
       "68  5.0  [q3, q9, q14f, q15f, q19m19f, q28m25f, q32m26f]\n",
       "76  NaN  [q3, q9, q14f, q15f, q19m19f, q28m25f, q32m26f]\n",
       "77  5.0  [q3, q9, q14f, q15f, q19m19f, q28m25f, q32m26f]\n",
       "78  NaN  [q3, q9, q14f, q15f, q19m19f, q28m25f, q32m26f]\n",
       "79  0.0  [q3, q9, q14f, q15f, q19m19f, q28m25f, q32m26f]\n",
       "80  NaN  [q3, q9, q14f, q15f, q19m19f, q28m25f, q32m26f]\n",
       "81  NaN  [q3, q9, q14f, q15f, q19m19f, q28m25f, q32m26f]\n",
       "83  NaN  [q3, q9, q14f, q15f, q19m19f, q28m25f, q32m26f]\n",
       "85  NaN  [q3, q9, q14f, q15f, q19m19f, q28m25f, q32m26f]\n",
       "87  0.0  [q3, q9, q14f, q15f, q19m19f, q28m25f, q32m26f]\n",
       "88  5.0  [q3, q9, q14f, q15f, q19m19f, q28m25f, q32m26f]\n",
       "90  NaN  [q3, q9, q14f, q15f, q19m19f, q28m25f, q32m26f]\n",
       "92  0.0  [q3, q9, q14f, q15f, q19m19f, q28m25f, q32m26f]"
      ]
     },
     "execution_count": 138,
     "metadata": {},
     "output_type": "execute_result"
    }
   ],
   "source": [
    "items_sexdissa_w6_f_df"
   ]
  },
  {
   "cell_type": "code",
   "execution_count": null,
   "metadata": {},
   "outputs": [],
   "source": [
    "sexdissa_w6_df = w6_second_cleaned_df.loc[(w6_second_cleaned_df['indsex'] == 1)].apply(calc_sexdissa_w6, axis=1)"
   ]
  },
  {
   "cell_type": "markdown",
   "metadata": {},
   "source": [
    "* Sexual dissatisfaction male"
   ]
  },
  {
   "cell_type": "markdown",
   "metadata": {},
   "source": [
    "en cuanto tenga female, sé hacer male"
   ]
  },
  {
   "cell_type": "markdown",
   "metadata": {},
   "source": [
    "## 9) Análisis factoriales de los segundos cuestionarios"
   ]
  },
  {
   "cell_type": "markdown",
   "metadata": {},
   "source": [
    "### 9.1) Ola 6"
   ]
  },
  {
   "cell_type": "markdown",
   "metadata": {},
   "source": [
    "* sexdissa_w6_f"
   ]
  },
  {
   "cell_type": "markdown",
   "metadata": {},
   "source": [
    "#### Exploratorio"
   ]
  },
  {
   "cell_type": "code",
   "execution_count": null,
   "metadata": {},
   "outputs": [],
   "source": [
    "chi_square_value_sexdissa_w6_f, p_value_value_sexdissa_w6_f = calculate_bartlett_sphericity(sexdissa_w6_f)"
   ]
  },
  {
   "cell_type": "code",
   "execution_count": null,
   "metadata": {},
   "outputs": [],
   "source": [
    "chi_square_value_value_sexdissa_w6_f, p_value_value_sexdissa_w6_f"
   ]
  },
  {
   "cell_type": "code",
   "execution_count": null,
   "metadata": {},
   "outputs": [],
   "source": [
    "kmo_all_value_sexdissa_w6_f, kmo_model_value_sexdissa_w6_f = calculate_kmo(sexdissa_w6_f)"
   ]
  },
  {
   "cell_type": "code",
   "execution_count": null,
   "metadata": {},
   "outputs": [],
   "source": [
    "kmo_all_value_sexdissa_w6_f"
   ]
  },
  {
   "cell_type": "code",
   "execution_count": null,
   "metadata": {},
   "outputs": [],
   "source": [
    "kmo_model_value_sexdissa_w6_f"
   ]
  },
  {
   "cell_type": "code",
   "execution_count": null,
   "metadata": {},
   "outputs": [],
   "source": [
    "fa_sexdissa_w6_f= FactorAnalyzer(bounds=(0.005, 1), impute='drop', is_corr_matrix=False,\n",
    "               method='minres', n_factors=3, rotation='promax',\n",
    "               rotation_kwargs={}, use_smc=True)"
   ]
  },
  {
   "cell_type": "code",
   "execution_count": null,
   "metadata": {},
   "outputs": [],
   "source": [
    "fa_sexdissa_w6_f.fit(sexdissa_w6_f)"
   ]
  },
  {
   "cell_type": "code",
   "execution_count": null,
   "metadata": {},
   "outputs": [],
   "source": [
    "ev_sexdissa_w6_f, v_sexdissa_w6_f = fa_sexdissa_w6_f.get_eigenvalues()"
   ]
  },
  {
   "cell_type": "code",
   "execution_count": null,
   "metadata": {},
   "outputs": [],
   "source": [
    "plt.scatter(range(1, sexdissa_w6_f.shape[1]+1), ev_sexdissa_w6_f)\n",
    "plt.plot(range(1, sexdissa_w6_f.shape[1]+1), ev_sexdissa_w6_f)\n",
    "plt.title('Scree Plot')\n",
    "plt.xlabel('Factors')\n",
    "plt.ylabel('Eigenvalue')\n",
    "plt.grid()\n",
    "plt.show()"
   ]
  },
  {
   "cell_type": "markdown",
   "metadata": {},
   "source": [
    "* sexdissa_w6_m"
   ]
  },
  {
   "cell_type": "markdown",
   "metadata": {},
   "source": [
    "#### Exploratorio"
   ]
  },
  {
   "cell_type": "code",
   "execution_count": null,
   "metadata": {},
   "outputs": [],
   "source": [
    "chi_square_value_sexdissa_w6_m,p_value_sexdissa_w6_m = calculate_bartlett_sphericity(sexdissa_w6_m)"
   ]
  },
  {
   "cell_type": "code",
   "execution_count": null,
   "metadata": {},
   "outputs": [],
   "source": [
    "chi_square_value_sexdissa_w6_m,p_value_sexdissa_w6_m"
   ]
  },
  {
   "cell_type": "code",
   "execution_count": null,
   "metadata": {},
   "outputs": [],
   "source": [
    "kmo_all_sexdissa_w6_m, Kmo_model_sexdissa_w6_m = calculate_kmo(sexdissa_w6_m)"
   ]
  },
  {
   "cell_type": "code",
   "execution_count": null,
   "metadata": {},
   "outputs": [],
   "source": [
    "kmo_all_sexdissa_w6_m"
   ]
  },
  {
   "cell_type": "code",
   "execution_count": null,
   "metadata": {},
   "outputs": [],
   "source": [
    "Kmo_model_sexdissa_w6_m"
   ]
  },
  {
   "cell_type": "code",
   "execution_count": null,
   "metadata": {},
   "outputs": [],
   "source": [
    "fa_sexdissa_w6_m = FactorAnalyzer(bounds=(0.005, 1), impute='drop', is_corr_matrix=False,\n",
    "               method='minres', n_factors=3, rotation='promax',\n",
    "               rotation_kwargs={}, use_smc=True)"
   ]
  },
  {
   "cell_type": "code",
   "execution_count": null,
   "metadata": {},
   "outputs": [],
   "source": [
    "fa_sexdissa_w6_m.fit(sexdissa_w6_m)"
   ]
  },
  {
   "cell_type": "code",
   "execution_count": null,
   "metadata": {},
   "outputs": [],
   "source": [
    "ev_sexdissa_w6_m, v_sexdissa_w6_m = fa_sexdissa_w6_m.get_eigenvalues()"
   ]
  },
  {
   "cell_type": "code",
   "execution_count": null,
   "metadata": {},
   "outputs": [],
   "source": [
    "plt.scatter(range(1, sexdissa_w6_m.shape[1]+1), ev_sexdissa_w6_m)\n",
    "plt.plot(range(1, sexdissa_w6_m.shape[1]+1), ev_sexdissa_w6_m)\n",
    "plt.title('Scree Plot')\n",
    "plt.xlabel('Factors')\n",
    "plt.ylabel('Eigenvalue')\n",
    "plt.grid()\n",
    "plt.show()"
   ]
  },
  {
   "cell_type": "markdown",
   "metadata": {},
   "source": [
    "## 10) Normalizar"
   ]
  },
  {
   "cell_type": "markdown",
   "metadata": {},
   "source": [
    "## 11) Regresión lineal múltiple"
   ]
  },
  {
   "cell_type": "code",
   "execution_count": null,
   "metadata": {},
   "outputs": [],
   "source": [
    "# https://scikit-learn.org/stable/modules/generated/sklearn.linear_model.LinearRegression.html"
   ]
  },
  {
   "cell_type": "code",
   "execution_count": 119,
   "metadata": {},
   "outputs": [
    {
     "ename": "NameError",
     "evalue": "name 'sexdissa_w6_f' is not defined",
     "output_type": "error",
     "traceback": [
      "\u001b[0;31m---------------------------------------------------------------------------\u001b[0m",
      "\u001b[0;31mNameError\u001b[0m                                 Traceback (most recent call last)",
      "\u001b[0;32m<ipython-input-119-e6aee4609269>\u001b[0m in \u001b[0;36m<module>\u001b[0;34m\u001b[0m\n\u001b[0;32m----> 1\u001b[0;31m \u001b[0mxf1\u001b[0m \u001b[0;34m=\u001b[0m \u001b[0mw6_second_cleaned_df\u001b[0m\u001b[0;34m[\u001b[0m\u001b[0msexdissa_w6_f\u001b[0m\u001b[0;34m]\u001b[0m\u001b[0;34m\u001b[0m\u001b[0;34m\u001b[0m\u001b[0m\n\u001b[0m\u001b[1;32m      2\u001b[0m \u001b[0mxf2\u001b[0m \u001b[0;34m=\u001b[0m \u001b[0mw6_second_cleaned_df\u001b[0m\u001b[0;34m[\u001b[0m\u001b[0mcasp19_w6\u001b[0m\u001b[0;34m]\u001b[0m\u001b[0;34m\u001b[0m\u001b[0;34m\u001b[0m\u001b[0m\n\u001b[1;32m      3\u001b[0m \u001b[0mxf3\u001b[0m \u001b[0;34m=\u001b[0m \u001b[0mw6_second_cleaned_df\u001b[0m\u001b[0;34m[\u001b[0m\u001b[0misolation_w6_df\u001b[0m\u001b[0;34m]\u001b[0m\u001b[0;34m\u001b[0m\u001b[0;34m\u001b[0m\u001b[0m\n\u001b[1;32m      4\u001b[0m \u001b[0mxf4\u001b[0m \u001b[0;34m=\u001b[0m \u001b[0mw6_second_cleaned_df\u001b[0m\u001b[0;34m[\u001b[0m\u001b[0;34m'indager'\u001b[0m\u001b[0;34m]\u001b[0m\u001b[0;34m\u001b[0m\u001b[0;34m\u001b[0m\u001b[0m\n\u001b[1;32m      5\u001b[0m \u001b[0myf\u001b[0m \u001b[0;34m=\u001b[0m \u001b[0mw6_second_cleaned_df\u001b[0m\u001b[0;34m[\u001b[0m\u001b[0mcasp19_w8\u001b[0m\u001b[0;34m]\u001b[0m\u001b[0;34m\u001b[0m\u001b[0;34m\u001b[0m\u001b[0m\n",
      "\u001b[0;31mNameError\u001b[0m: name 'sexdissa_w6_f' is not defined"
     ]
    }
   ],
   "source": [
    "x1f = w6_second_cleaned_df[sexdissa_w6_f]\n",
    "x2 = w6_second_cleaned_df[casp19_w6]\n",
    "x3 = w6_second_cleaned_df[isolation_w6_df]\n",
    "x4 = w6_second_cleaned_df['indager']\n",
    "yf = w6_second_cleaned_df[casp19_w8]\n",
    "\n",
    "x1m = w6_second_cleaned_df[sexdissa_w6_m]\n",
    "ym = w6_second_cleaned_df[casp19_w8]"
   ]
  },
  {
   "cell_type": "markdown",
   "metadata": {},
   "source": [
    "* mujeres"
   ]
  },
  {
   "cell_type": "code",
   "execution_count": null,
   "metadata": {},
   "outputs": [],
   "source": [
    "modf = smf.ols('yf ~ x1f +x2 + x3 + x4')"
   ]
  },
  {
   "cell_type": "markdown",
   "metadata": {},
   "source": [
    "* hombres"
   ]
  },
  {
   "cell_type": "code",
   "execution_count": null,
   "metadata": {},
   "outputs": [],
   "source": [
    "modf = smf.ols('yf ~ x1f +x2 + x3 + x4')"
   ]
  }
 ],
 "metadata": {
  "kernelspec": {
   "display_name": "Python 3",
   "language": "python",
   "name": "python3"
  },
  "language_info": {
   "codemirror_mode": {
    "name": "ipython",
    "version": 3
   },
   "file_extension": ".py",
   "mimetype": "text/x-python",
   "name": "python",
   "nbconvert_exporter": "python",
   "pygments_lexer": "ipython3",
   "version": "3.7.6"
  }
 },
 "nbformat": 4,
 "nbformat_minor": 4
}
